{
 "cells": [
  {
   "cell_type": "markdown",
   "metadata": {},
   "source": [
    "# <a href=\"https://en.wikipedia.org/wiki/Selection_sort\">Selection Sort</a>\n",
    "\n",
    "###### <a href=\"https://www.geeksforgeeks.org/selection-sort/\">geeksforgeeks</a>\n",
    "The selection sort algorithm sorts an array by repeatedly finding the minimum element (considering ascending order) from unsorted part and putting it at the beginning. The algorithm maintains two subarrays in a given array.\n",
    "\n",
    "1. The subarray which is already sorted.  \n",
    "2. Remaining subarray which is unsorted.\n",
    "\n",
    "In every iteration of selection sort, the minimum element (considering ascending order) from the unsorted subarray is picked and moved to the sorted subarray.  \n",
    "<br>\n",
    "\n",
    "###### <a href=\"https://ko.wikipedia.org/wiki/%EC%84%A0%ED%83%9D_%EC%A0%95%EB%A0%AC\">Korean Wikipedia</a>\n",
    "선택 정렬(選擇整列, selection sort)은 제자리 정렬 알고리즘의 하나로, 다음과 같은 순서로 이루어진다.  \n",
    "\n",
    "1. 주어진 리스트 중에 최소값을 찾는다.\n",
    "2. 그 값을 맨 앞에 위치한 값과 교체한다(패스(pass)).\n",
    "3. 맨 처음 위치를 뺀 나머지 리스트를 같은 방법으로 교체한다.\n",
    "\n",
    "비교하는 것이 상수 시간에 이루어진다는 가정 아래, n개의 주어진 리스트를 이와 같은 방법으로 정렬하는 데에는 Θ(n2) 만큼의 시간이 걸린다.  \n",
    "선택 정렬은 알고리즘이 단순하며 사용할 수 있는 메모리가 제한적인 경우에 사용시 성능 상의 이점이 있다.  \n",
    "<br><br>\n",
    "<table>\n",
    "    <tr>\n",
    "        <th></th>\n",
    "        <th>Best</th>\n",
    "        <th>Average</th>\n",
    "        <th>Worst</th>\n",
    "        <th>Memory</th>\n",
    "        <th>Stable</th>\n",
    "        <th>Method</th>\n",
    "        <th>Other Notes</th>\n",
    "    </tr>\n",
    "    <tr>\n",
    "        <td>Selection sort</td>\n",
    "        <td>$n^2$</td>\n",
    "        <td>$n^2$</td>\n",
    "        <td>$n^2$</td>\n",
    "        <td>1</td>\n",
    "        <td>No</td>\n",
    "        <td>Selection</td>\n",
    "        <td>Stable with $O(n)$ extra space or when using linked lists.</td>\n",
    "    </tr>\n",
    "</table><br><br>\n",
    "<img src=\"https://user-images.githubusercontent.com/41245985/71685393-81621d00-2ddb-11ea-8d03-3958393e35f0.gif\"><br><br>\n",
    "\n",
    "## Complexity\n",
    "Selecting the minimum requires scanning $n$ elements (taking $n-1$ comparisons) and then swapping it into the first position.  \n",
    "Finding the next lowest element requires scanning the remaining $n-1$ elements and so on.  \n",
    "Therefore, the total number of comparisons is\n",
    "\n",
    "$$(n-1)+(n-2)+...+1=\\sum_{i=1}^{n-1}i=\\frac{n(n-1)}{2}=O(n^2)$$"
   ]
  },
  {
   "cell_type": "code",
   "execution_count": 1,
   "metadata": {},
   "outputs": [],
   "source": [
    "def selection_sort(array, reverse=False):\n",
    "    n = len(array)\n",
    "    if not reverse:\n",
    "        for i in range(n-1):\n",
    "            min_idx = i\n",
    "            for j in range(i+1, n):\n",
    "                if array[j] < array[min_idx]:\n",
    "                    min_idx = j\n",
    "            array[i], array[min_idx] = array[min_idx], array[i]\n",
    "    else:\n",
    "        for i in range(n-1):\n",
    "            max_idx = i\n",
    "            for j in range(i+1, n):\n",
    "                if array[j] > array[max_idx]:\n",
    "                    max_idx = j\n",
    "            array[i], array[max_idx] = array[max_idx], array[i]\n",
    "    return array"
   ]
  },
  {
   "cell_type": "code",
   "execution_count": 2,
   "metadata": {},
   "outputs": [
    {
     "data": {
      "text/plain": [
       "[[55, 91, 22, 95, 26, 74, 3, 31, 33, 88],\n",
       " [66, 39, 52, 56, 92, 39, 4, 8, 52, 27],\n",
       " [35, 66, 36, 96, 58, 3, 17, 92, 97, 79],\n",
       " [49, 50, 74, 85, 6, 70, 8, 36, 32, 81],\n",
       " [12, 15, 98, 96, 61, 46, 84, 19, 45, 63],\n",
       " [6, 98, 15, 96, 82, 30, 80, 29, 39, 22],\n",
       " [12, 1, 82, 54, 87, 81, 8, 54, 63, 77],\n",
       " [19, 70, 10, 5, 31, 76, 14, 87, 5, 32],\n",
       " [0, 10, 38, 1, 1, 16, 20, 71, 1, 30],\n",
       " [62, 11, 20, 39, 52, 59, 70, 9, 84, 65]]"
      ]
     },
     "execution_count": 2,
     "metadata": {},
     "output_type": "execute_result"
    }
   ],
   "source": [
    "def make_test(row=10, column=10):\n",
    "    import numpy as np\n",
    "    return np.random.randint(0, 100, row*column).reshape(row, column).tolist()\n",
    "\n",
    "test_case = make_test(10, 10)\n",
    "test_case"
   ]
  },
  {
   "cell_type": "code",
   "execution_count": 3,
   "metadata": {},
   "outputs": [
    {
     "data": {
      "text/plain": [
       "[[3, 22, 26, 31, 33, 55, 74, 88, 91, 95],\n",
       " [4, 8, 27, 39, 39, 52, 52, 56, 66, 92],\n",
       " [3, 17, 35, 36, 58, 66, 79, 92, 96, 97],\n",
       " [6, 8, 32, 36, 49, 50, 70, 74, 81, 85],\n",
       " [12, 15, 19, 45, 46, 61, 63, 84, 96, 98],\n",
       " [6, 15, 22, 29, 30, 39, 80, 82, 96, 98],\n",
       " [1, 8, 12, 54, 54, 63, 77, 81, 82, 87],\n",
       " [5, 5, 10, 14, 19, 31, 32, 70, 76, 87],\n",
       " [0, 1, 1, 1, 10, 16, 20, 30, 38, 71],\n",
       " [9, 11, 20, 39, 52, 59, 62, 65, 70, 84]]"
      ]
     },
     "execution_count": 3,
     "metadata": {},
     "output_type": "execute_result"
    }
   ],
   "source": [
    "# 오름차순 정렬\n",
    "[selection_sort(i, False) for i in test_case]"
   ]
  },
  {
   "cell_type": "code",
   "execution_count": 4,
   "metadata": {},
   "outputs": [
    {
     "data": {
      "text/plain": [
       "[[95, 91, 88, 74, 55, 33, 31, 26, 22, 3],\n",
       " [92, 66, 56, 52, 52, 39, 39, 27, 8, 4],\n",
       " [97, 96, 92, 79, 66, 58, 36, 35, 17, 3],\n",
       " [85, 81, 74, 70, 50, 49, 36, 32, 8, 6],\n",
       " [98, 96, 84, 63, 61, 46, 45, 19, 15, 12],\n",
       " [98, 96, 82, 80, 39, 30, 29, 22, 15, 6],\n",
       " [87, 82, 81, 77, 63, 54, 54, 12, 8, 1],\n",
       " [87, 76, 70, 32, 31, 19, 14, 10, 5, 5],\n",
       " [71, 38, 30, 20, 16, 10, 1, 1, 1, 0],\n",
       " [84, 70, 65, 62, 59, 52, 39, 20, 11, 9]]"
      ]
     },
     "execution_count": 4,
     "metadata": {},
     "output_type": "execute_result"
    }
   ],
   "source": [
    "# 내림차순 정렬\n",
    "[selection_sort(i, True) for i in test_case]"
   ]
  }
 ],
 "metadata": {
  "kernelspec": {
   "display_name": "Python 3",
   "language": "python",
   "name": "python3"
  },
  "language_info": {
   "codemirror_mode": {
    "name": "ipython",
    "version": 3
   },
   "file_extension": ".py",
   "mimetype": "text/x-python",
   "name": "python",
   "nbconvert_exporter": "python",
   "pygments_lexer": "ipython3",
   "version": "3.7.3"
  }
 },
 "nbformat": 4,
 "nbformat_minor": 2
}
