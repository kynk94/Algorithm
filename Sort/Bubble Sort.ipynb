{
 "cells": [
  {
   "cell_type": "markdown",
   "metadata": {},
   "source": [
    "# <a href=\"https://en.wikipedia.org/wiki/Bubble_sort\">Bubble Sort</a>\n",
    "\n",
    "###### <a href=\"https://www.geeksforgeeks.org/bubble-sort/\">geeksforgeeks</a>\n",
    "Bubble Sort is the simplest sorting algorithm that works by repeatedly swapping the adjacent elements if they are in wrong order.\n",
    "\n",
    "###### Example:\n",
    "First Pass:  \n",
    "( **5 1** 4 2 8 ) –> ( **1 5** 4 2 8 ), Here, algorithm compares the first two elements, and swaps since 5 > 1.  \n",
    "( 1 **5 4** 2 8 ) –>  ( 1 **4 5** 2 8 ), Swap since 5 > 4  \n",
    "( 1 4 **5 2** 8 ) –>  ( 1 4 **2 5** 8 ), Swap since 5 > 2  \n",
    "( 1 4 2 **5 8** ) –> ( 1 4 2 **5 8** ), Now, since these elements are already in order (8 > 5), algorithm does not swap them.\n",
    "\n",
    "Second Pass:  \n",
    "( **1 4** 2 5 8 ) –> ( **1 4** 2 5 8 )  \n",
    "( 1 **4 2** 5 8 ) –> ( 1 **2 4** 5 8 ), Swap since 4 > 2  \n",
    "( 1 2 **4 5** 8 ) –> ( 1 2 **4 5** 8 )  \n",
    "( 1 2 4 **5 8** ) –>  ( 1 2 4 **5 8** )  \n",
    "Now, the array is already sorted, but our algorithm does not know if it is completed.  \n",
    "The algorithm needs one whole pass without any swap to know it is sorted.\n",
    "\n",
    "Third Pass:  \n",
    "( **1 2** 4 5 8 ) –> ( **1 2** 4 5 8 )  \n",
    "( 1 **2 4** 5 8 ) –> ( 1 **2 4** 5 8 )  \n",
    "( 1 2 **4 5** 8 ) –> ( 1 2 **4 5** 8 )  \n",
    "( 1 2 4 **5 8** ) –> ( 1 2 4 **5 8** )  \n",
    "<br>\n",
    "\n",
    "###### <a href=\"https://ko.wikipedia.org/wiki/%EA%B1%B0%ED%92%88_%EC%A0%95%EB%A0%AC\">Korean Wikipedia</a>\n",
    "서로 인접한 두 원소를 검사하여 정렬하는 방법.  \n",
    "시간 복잡도가 $O(n^2)$으로 상당히 느리지만, 코드가 단순하기 때문에 자주 사용된다.  \n",
    "원소의 이동이 거품이 수면으로 올라오는 듯한 모습을 보이기 때문에 지어진 이름이다.\n",
    "\n",
    "<br><br>\n",
    "<table>\n",
    "    <tr>\n",
    "        <th></th>\n",
    "        <th>Best</th>\n",
    "        <th>Average</th>\n",
    "        <th>Worst</th>\n",
    "        <th>Memory</th>\n",
    "        <th>Stable</th>\n",
    "        <th>Method</th>\n",
    "        <th>Other Notes</th>\n",
    "    </tr>\n",
    "    <tr>\n",
    "        <td>Bubble sort</td>\n",
    "        <td>$n$</td>\n",
    "        <td>$n^2$</td>\n",
    "        <td>$n^2$</td>\n",
    "        <td>1</td>\n",
    "        <td>Yes</td>\n",
    "        <td>Exchanging</td>\n",
    "        <td>Tiny code size.</td>\n",
    "    </tr>\n",
    "</table><br><br>\n",
    "<img src=\"https://user-images.githubusercontent.com/41245985/71685325-52e44200-2ddb-11ea-9f06-437bb232ddca.gif\"><br><br>\n",
    "\n",
    "## Complexity\n",
    "1회전 수행할 때마다 비교 대상이 하나씩 줄어들기 때문에 최악의 경우 총 $n-1$번 수행하면 정렬이 종료된다.\n",
    "$$(n-1)+(n-2)+...+1=\\sum_{i=1}^{n-1}i=\\frac{n(n-1)}{2}=O(n^2)$$\n",
    "\n",
    "# 정리\n",
    "서로 인접한 두 원소를 검사하여 정리하는 방법이다.  \n",
    "1회전을 수행하면 가장 큰 원소가 가장 마지막에 위치하게 된다. 따라서 2회전에서는 마지막 원소는 정렬에서 제외된다.  \n",
    "이러한 방식으로 1회전 수행할 때마다 정렬에서 제외되는 원소가 하나씩 늘어난다."
   ]
  },
  {
   "cell_type": "code",
   "execution_count": 1,
   "metadata": {},
   "outputs": [],
   "source": [
    "def bubble_sort(array, reverse=False):\n",
    "    if not reverse:\n",
    "        for i in range(len(array)-1, 0, -1):\n",
    "            for j in range(i):\n",
    "                if array[j] > array[j+1]:\n",
    "                    array[j], array[j+1] = array[j+1], array[j]\n",
    "    else:\n",
    "        for i in range(len(array)-1, 0, -1):\n",
    "            for j in range(i):\n",
    "                if array[j] < array[j+1]:\n",
    "                    array[j], array[j+1] = array[j+1], array[j]\n",
    "    return array"
   ]
  },
  {
   "cell_type": "code",
   "execution_count": 2,
   "metadata": {},
   "outputs": [
    {
     "data": {
      "text/plain": [
       "[[50, 67, 41, 14, 65, 8, 38, 51, 31, 99],\n",
       " [42, 7, 61, 51, 71, 3, 53, 13, 23, 78],\n",
       " [56, 63, 40, 92, 13, 46, 78, 19, 47, 50],\n",
       " [60, 24, 54, 92, 38, 57, 86, 50, 64, 12],\n",
       " [41, 55, 87, 23, 75, 91, 4, 58, 68, 3],\n",
       " [55, 23, 27, 6, 66, 73, 62, 55, 54, 88],\n",
       " [20, 38, 0, 43, 20, 54, 4, 30, 61, 29],\n",
       " [99, 91, 70, 4, 82, 13, 37, 99, 73, 89],\n",
       " [21, 16, 14, 70, 59, 17, 87, 5, 83, 78],\n",
       " [30, 10, 58, 6, 38, 19, 81, 94, 48, 70]]"
      ]
     },
     "execution_count": 2,
     "metadata": {},
     "output_type": "execute_result"
    }
   ],
   "source": [
    "def make_test(row=10, column=10):\n",
    "    import numpy as np\n",
    "    return np.random.randint(0, 100, row*column).reshape(row, column).tolist()\n",
    "\n",
    "test_case = make_test(10, 10)\n",
    "test_case"
   ]
  },
  {
   "cell_type": "code",
   "execution_count": 3,
   "metadata": {},
   "outputs": [
    {
     "data": {
      "text/plain": [
       "[[8, 14, 31, 38, 41, 50, 51, 65, 67, 99],\n",
       " [3, 7, 13, 23, 42, 51, 53, 61, 71, 78],\n",
       " [13, 19, 40, 46, 47, 50, 56, 63, 78, 92],\n",
       " [12, 24, 38, 50, 54, 57, 60, 64, 86, 92],\n",
       " [3, 4, 23, 41, 55, 58, 68, 75, 87, 91],\n",
       " [6, 23, 27, 54, 55, 55, 62, 66, 73, 88],\n",
       " [0, 4, 20, 20, 29, 30, 38, 43, 54, 61],\n",
       " [4, 13, 37, 70, 73, 82, 89, 91, 99, 99],\n",
       " [5, 14, 16, 17, 21, 59, 70, 78, 83, 87],\n",
       " [6, 10, 19, 30, 38, 48, 58, 70, 81, 94]]"
      ]
     },
     "execution_count": 3,
     "metadata": {},
     "output_type": "execute_result"
    }
   ],
   "source": [
    "# 오름차순 정렬\n",
    "[bubble_sort(i, False) for i in test_case]"
   ]
  },
  {
   "cell_type": "code",
   "execution_count": 4,
   "metadata": {},
   "outputs": [
    {
     "data": {
      "text/plain": [
       "[[99, 67, 65, 51, 50, 41, 38, 31, 14, 8],\n",
       " [78, 71, 61, 53, 51, 42, 23, 13, 7, 3],\n",
       " [92, 78, 63, 56, 50, 47, 46, 40, 19, 13],\n",
       " [92, 86, 64, 60, 57, 54, 50, 38, 24, 12],\n",
       " [91, 87, 75, 68, 58, 55, 41, 23, 4, 3],\n",
       " [88, 73, 66, 62, 55, 55, 54, 27, 23, 6],\n",
       " [61, 54, 43, 38, 30, 29, 20, 20, 4, 0],\n",
       " [99, 99, 91, 89, 82, 73, 70, 37, 13, 4],\n",
       " [87, 83, 78, 70, 59, 21, 17, 16, 14, 5],\n",
       " [94, 81, 70, 58, 48, 38, 30, 19, 10, 6]]"
      ]
     },
     "execution_count": 4,
     "metadata": {},
     "output_type": "execute_result"
    }
   ],
   "source": [
    "# 오름차순 정렬\n",
    "[bubble_sort(i, True) for i in test_case]"
   ]
  }
 ],
 "metadata": {
  "kernelspec": {
   "display_name": "Python 3",
   "language": "python",
   "name": "python3"
  },
  "language_info": {
   "codemirror_mode": {
    "name": "ipython",
    "version": 3
   },
   "file_extension": ".py",
   "mimetype": "text/x-python",
   "name": "python",
   "nbconvert_exporter": "python",
   "pygments_lexer": "ipython3",
   "version": "3.7.3"
  }
 },
 "nbformat": 4,
 "nbformat_minor": 2
}
