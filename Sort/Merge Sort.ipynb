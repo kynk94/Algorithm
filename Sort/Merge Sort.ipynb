{
 "cells": [
  {
   "cell_type": "markdown",
   "metadata": {},
   "source": [
    "# <a href=\"https://en.wikipedia.org/wiki/Merge_sort\">Merge Sort</a>\n",
    "\n",
    "###### <a href=\"https://www.geeksforgeeks.org/merge-sort/\">geeksforgeeks</a>\n",
    "Merge Sort is a Divide and Conquer algorithm. It divides input array in two halves, calls itself for the two halves and then merges the two sorted halves. The merge() function is used for merging two halves. The merge(arr, l, m, r) is key process that assumes that arr[l..m] and arr[m+1..r] are sorted and merges the two sorted sub-arrays into one. See following C implementation for details.\n",
    "\n",
    "```\n",
    "MergeSort(arr[], l,  r)\n",
    "If r > l\n",
    "     1. Find the middle point to divide the array into two halves:  \n",
    "             middle m = (l+r)/2\n",
    "     2. Call mergeSort for first half:   \n",
    "             Call mergeSort(arr, l, m)\n",
    "     3. Call mergeSort for second half:\n",
    "             Call mergeSort(arr, m+1, r)\n",
    "     4. Merge the two halves sorted in step 2 and 3:\n",
    "             Call merge(arr, l, m, r)\n",
    "```\n",
    "<br>\n",
    "\n",
    "###### <a href=\"https://ko.wikipedia.org/wiki/%ED%95%A9%EB%B3%91_%EC%A0%95%EB%A0%AC\">Korean Wikipedia</a>\n",
    "합병 정렬 또는 병합 정렬(merge sort)은 O(n log n) 비교 기반 정렬 알고리즘이다.  \n",
    "일반적인 방법으로 구현했을 때 이 정렬은 안정 정렬에 속하며, 분할 정복 알고리즘의 하나이다.\n",
    "\n",
    "합병 정렬은 다음과 같이 작동한다.  \n",
    "리스트의 길이가 1 이하이면 이미 정렬된 것으로 본다. 그렇지 않은 경우에는\n",
    "1. 분할(divide) : 정렬되지 않은 리스트를 절반으로 잘라 비슷한 크기의 두 부분 리스트로 나눈다.\n",
    "2. 정복(conquer) : 각 부분 리스트를 재귀적으로 합병 정렬을 이용해 정렬한다.\n",
    "3. 결합(combine) : 두 부분 리스트를 다시 하나의 정렬된 리스트로 합병한다. 이때 정렬 결과가 임시배열에 저장된다.\n",
    "4. 복사(copy) : 임시 배열에 저장된 결과를 원래 배열에 복사한다.\n",
    "<br><br>\n",
    "\n",
    "<table>\n",
    "    <tr>\n",
    "        <th></th>\n",
    "        <th>Best</th>\n",
    "        <th>Average</th>\n",
    "        <th>Worst</th>\n",
    "        <th>Memory</th>\n",
    "        <th>Stable</th>\n",
    "        <th>Method</th>\n",
    "        <th>Other Notes</th>\n",
    "    </tr>\n",
    "    <tr>\n",
    "        <td>Merge sort</td>\n",
    "        <td>$$n\\log n$$</td>\n",
    "        <td>$$n\\log n$$</td>\n",
    "        <td>$$n\\log n$$</td>\n",
    "        <td>$$n$$<br>A hybrid block merge sort is $O(1)$ mem.</td>\n",
    "        <td>Yes</td>\n",
    "        <td>Merging</td>\n",
    "        <td>Highly parallelizable (up to $O(\\log n)$ using the Three Hungarians' Algorithm or, more practically, Cole's parallel merge sort) for processing large amounts of data.</td>\n",
    "    </tr>\n",
    "</table><br><br>\n",
    "<img src=\"https://user-images.githubusercontent.com/41245985/71685293-3811cd80-2ddb-11ea-8de7-6bbf09f31abd.gif\"><br><br>\n",
    "\n",
    "## Complexity\n",
    "1회 분할 시 $n/2$ 가 2개가 생기고 2회 분할 시 $n/4$가 4개가 생긴다.  \n",
    "이렇게 분할과정은 매번 반씩 감소하므로 $\\log_2{n}$ 회 반복하여야 길이가 1인 배열로 분할 할 수 있다.  \n",
    "따라서 길이가 1인 배열끼리 비교할 때 시간 복잡도는 $O(\\log n)$이다.  \n",
    "각 분할을 병합하는 과정에서의 시간복잡도는 $O(n)$이므로 전체 시간 복잡도는 $O(n\\log n)$이 된다.\n",
    "\n",
    "# 정리\n",
    "서로 인접한 두 원소를 검사하여 정리하는 방법이다.  \n",
    "1회전을 수행하면 가장 큰 원소가 가장 마지막에 위치하게 된다. 따라서 2회전에서는 마지막 원소는 정렬에서 제외된다.  \n",
    "이러한 방식으로 1회전 수행할 때마다 정렬에서 제외되는 원소가 하나씩 늘어난다."
   ]
  },
  {
   "cell_type": "code",
   "execution_count": 1,
   "metadata": {},
   "outputs": [],
   "source": [
    "def merge_sort(array, reverse=False):\n",
    "    if len(array) <= 1:\n",
    "        return array\n",
    "    left = merge_sort(array[:len(array)//2], reverse)\n",
    "    right = merge_sort(array[len(array)//2:], reverse)\n",
    "    \n",
    "    i, j = 0, 0\n",
    "    result = []\n",
    "    if not reverse:\n",
    "        while i < len(left) and j < len(right):\n",
    "            if left[i] < right[j]:\n",
    "                result.append(left[i])\n",
    "                i += 1\n",
    "            else:\n",
    "                result.append(right[j])\n",
    "                j += 1\n",
    "    else:\n",
    "        while i < len(left) and j < len(right):\n",
    "            if left[i] > right[j]:\n",
    "                result.append(left[i])\n",
    "                i += 1\n",
    "            else:\n",
    "                result.append(right[j])\n",
    "                j += 1\n",
    "    # left와 right 둘 중 하나는 남은 길이가 0이다.\n",
    "    result += left[i:]\n",
    "    result += right[j:]\n",
    "    return result"
   ]
  },
  {
   "cell_type": "code",
   "execution_count": 2,
   "metadata": {},
   "outputs": [
    {
     "data": {
      "text/plain": [
       "[[96, 96, 56, 36, 83, 80, 5, 13, 76, 78],\n",
       " [94, 21, 14, 61, 96, 70, 72, 83, 81, 90],\n",
       " [32, 60, 33, 81, 33, 82, 6, 64, 28, 61],\n",
       " [89, 2, 30, 82, 23, 14, 12, 55, 96, 27],\n",
       " [77, 5, 64, 30, 56, 81, 90, 61, 13, 93],\n",
       " [51, 16, 30, 32, 51, 45, 20, 65, 25, 89],\n",
       " [13, 0, 89, 76, 96, 87, 15, 23, 4, 83],\n",
       " [77, 32, 23, 59, 59, 73, 66, 89, 20, 9],\n",
       " [73, 9, 86, 9, 8, 67, 2, 2, 66, 96],\n",
       " [41, 79, 29, 62, 63, 76, 99, 35, 78, 47]]"
      ]
     },
     "execution_count": 2,
     "metadata": {},
     "output_type": "execute_result"
    }
   ],
   "source": [
    "def make_test(row=10, column=10):\n",
    "    import numpy as np\n",
    "    return np.random.randint(0, 100, row*column).reshape(row, column).tolist()\n",
    "\n",
    "test_case = make_test(10, 10)\n",
    "test_case"
   ]
  },
  {
   "cell_type": "code",
   "execution_count": 3,
   "metadata": {},
   "outputs": [
    {
     "data": {
      "text/plain": [
       "[[5, 13, 36, 56, 76, 78, 80, 83, 96, 96],\n",
       " [14, 21, 61, 70, 72, 81, 83, 90, 94, 96],\n",
       " [6, 28, 32, 33, 33, 60, 61, 64, 81, 82],\n",
       " [2, 12, 14, 23, 27, 30, 55, 82, 89, 96],\n",
       " [5, 13, 30, 56, 61, 64, 77, 81, 90, 93],\n",
       " [16, 20, 25, 30, 32, 45, 51, 51, 65, 89],\n",
       " [0, 4, 13, 15, 23, 76, 83, 87, 89, 96],\n",
       " [9, 20, 23, 32, 59, 59, 66, 73, 77, 89],\n",
       " [2, 2, 8, 9, 9, 66, 67, 73, 86, 96],\n",
       " [29, 35, 41, 47, 62, 63, 76, 78, 79, 99]]"
      ]
     },
     "execution_count": 3,
     "metadata": {},
     "output_type": "execute_result"
    }
   ],
   "source": [
    "# 오름차순 정렬\n",
    "[merge_sort(i, False) for i in test_case]"
   ]
  },
  {
   "cell_type": "code",
   "execution_count": 4,
   "metadata": {},
   "outputs": [
    {
     "data": {
      "text/plain": [
       "[[96, 96, 83, 80, 78, 76, 56, 36, 13, 5],\n",
       " [96, 94, 90, 83, 81, 72, 70, 61, 21, 14],\n",
       " [82, 81, 64, 61, 60, 33, 33, 32, 28, 6],\n",
       " [96, 89, 82, 55, 30, 27, 23, 14, 12, 2],\n",
       " [93, 90, 81, 77, 64, 61, 56, 30, 13, 5],\n",
       " [89, 65, 51, 51, 45, 32, 30, 25, 20, 16],\n",
       " [96, 89, 87, 83, 76, 23, 15, 13, 4, 0],\n",
       " [89, 77, 73, 66, 59, 59, 32, 23, 20, 9],\n",
       " [96, 86, 73, 67, 66, 9, 9, 8, 2, 2],\n",
       " [99, 79, 78, 76, 63, 62, 47, 41, 35, 29]]"
      ]
     },
     "execution_count": 4,
     "metadata": {},
     "output_type": "execute_result"
    }
   ],
   "source": [
    "# 내림차순 정렬\n",
    "[merge_sort(i, True) for i in test_case]"
   ]
  }
 ],
 "metadata": {
  "kernelspec": {
   "display_name": "Python 3",
   "language": "python",
   "name": "python3"
  },
  "language_info": {
   "codemirror_mode": {
    "name": "ipython",
    "version": 3
   },
   "file_extension": ".py",
   "mimetype": "text/x-python",
   "name": "python",
   "nbconvert_exporter": "python",
   "pygments_lexer": "ipython3",
   "version": "3.7.3"
  }
 },
 "nbformat": 4,
 "nbformat_minor": 2
}
