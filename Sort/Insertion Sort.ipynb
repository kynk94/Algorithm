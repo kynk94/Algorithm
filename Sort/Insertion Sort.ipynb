{
 "cells": [
  {
   "cell_type": "markdown",
   "metadata": {},
   "source": [
    "# <a href=\"https://en.wikipedia.org/wiki/Insertion_sort\">Insertion Sort</a>\n",
    "\n",
    "###### <a href=\"https://www.geeksforgeeks.org/insertion-sort/\">geeksforgeeks</a>\n",
    "Insertion sort is a simple sorting algorithm that works the way we sort playing cards in our hands.\n",
    "\n",
    "###### Algorithm  \n",
    "// Sort an arr[] of size n  \n",
    "insertionSort(arr, n)  \n",
    "Loop from i = 1 to n-1.  \n",
    "……a) Pick element arr[i] and insert it into sorted sequence arr[0…i-1]  \n",
    "<br>\n",
    "\n",
    "###### <a href=\"https://ko.wikipedia.org/wiki/%EC%82%BD%EC%9E%85_%EC%A0%95%EB%A0%AC\">Korean Wikipedia</a>\n",
    "자료 배열의 모든 요소를 앞에서부터 차례대로 이미 정렬된 배열 부분과 비교하여, 자신의 위치를 찾아 삽입하는 알고리즘.\n",
    "\n",
    "k번째 반복 후의 결과 배열은, 앞쪽 k + 1 항목이 정렬된 상태이다.\n",
    "\n",
    "<img src=\"https://upload.wikimedia.org/wikipedia/commons/3/32/Insertionsort-before.png\">\n",
    "\n",
    "각 반복에서 정렬되지 않은 나머지 부분 중 첫 번째 항목은 제거되어 정확한 위치에 삽입된다.  \n",
    "그러므로 다음과 같은 결과가 된다.\n",
    "\n",
    "<img src=\"https://upload.wikimedia.org/wikipedia/commons/d/d9/Insertionsort-after.png\">\n",
    "\n",
    "배열이 길어질수록 효율이 떨어진다. 다만, 구현이 간단하다는 장점이 있다.\n",
    "\n",
    "선택 정렬이나 거품 정렬과 같은 $O(n^2)$ 알고리즘에 비교하여 빠르며, 안정 정렬이고 in-place 알고리즘이다.\n",
    "\n",
    "<br><br>\n",
    "<table>\n",
    "    <tr>\n",
    "        <th></th>\n",
    "        <th>Best</th>\n",
    "        <th>Average</th>\n",
    "        <th>Worst</th>\n",
    "        <th>Memory</th>\n",
    "        <th>Stable</th>\n",
    "        <th>Method</th>\n",
    "        <th>Other Notes</th>\n",
    "    </tr>\n",
    "    <tr>\n",
    "        <td>Insertion sort</td>\n",
    "        <td>$n$</td>\n",
    "        <td>$n^2$</td>\n",
    "        <td>$n^2$</td>\n",
    "        <td>1</td>\n",
    "        <td>Yes</td>\n",
    "        <td>Insertion</td>\n",
    "        <td>$O(n+d)$, in the worst case over sequences that have $d$ inversions.</td>\n",
    "    </tr>\n",
    "</table><br><br>\n",
    "<img src=\"https://user-images.githubusercontent.com/41245985/71685359-67283f00-2ddb-11ea-9f88-92a54ae2ba36.gif\" width=500><br><br>\n",
    "\n",
    "## Complexity\n",
    "\n",
    "In worst case,\n",
    "$$1+...+(n-2)+(n-1)=\\sum_{i=1}^{n-1}i=\\frac{n(n-1)}{2}=O(n^2)$$"
   ]
  },
  {
   "cell_type": "code",
   "execution_count": 1,
   "metadata": {},
   "outputs": [],
   "source": [
    "def insertion_sort(array, reverse=False):\n",
    "    if not reverse:\n",
    "        for i in range(1, len(array)):\n",
    "            j = i - 1\n",
    "            key = array[i]\n",
    "            while array[j] > key and j >= 0:\n",
    "                array[j+1] = array[j]\n",
    "                j -= 1\n",
    "            array[j+1] = key\n",
    "    else:\n",
    "        for i in range(1, len(array)):\n",
    "            j = i - 1\n",
    "            key = array[i]\n",
    "            while array[j] < key and j >= 0:\n",
    "                array[j+1] = array[j]\n",
    "                j -= 1\n",
    "            array[j+1] = key\n",
    "    return array"
   ]
  },
  {
   "cell_type": "code",
   "execution_count": 2,
   "metadata": {},
   "outputs": [
    {
     "data": {
      "text/plain": [
       "[[90, 65, 4, 48, 48, 58, 44, 1, 67, 65],\n",
       " [18, 70, 95, 39, 23, 10, 64, 72, 47, 78],\n",
       " [74, 28, 14, 51, 24, 95, 64, 30, 78, 38],\n",
       " [76, 30, 94, 30, 15, 29, 93, 87, 21, 9],\n",
       " [5, 22, 77, 43, 29, 59, 30, 65, 40, 89],\n",
       " [10, 69, 66, 19, 63, 78, 87, 57, 35, 37],\n",
       " [71, 18, 45, 48, 60, 65, 92, 38, 19, 62],\n",
       " [82, 47, 86, 21, 0, 59, 56, 63, 72, 94],\n",
       " [69, 40, 50, 39, 94, 64, 83, 58, 74, 78],\n",
       " [52, 62, 70, 11, 7, 18, 31, 83, 88, 97]]"
      ]
     },
     "execution_count": 2,
     "metadata": {},
     "output_type": "execute_result"
    }
   ],
   "source": [
    "def make_test(row=10, column=10):\n",
    "    import numpy as np\n",
    "    return np.random.randint(0, 100, row*column).reshape(row, column).tolist()\n",
    "\n",
    "test_case = make_test(10, 10)\n",
    "test_case"
   ]
  },
  {
   "cell_type": "code",
   "execution_count": 3,
   "metadata": {},
   "outputs": [
    {
     "data": {
      "text/plain": [
       "[[1, 4, 44, 48, 48, 58, 65, 65, 67, 90],\n",
       " [10, 18, 23, 39, 47, 64, 70, 72, 78, 95],\n",
       " [14, 24, 28, 30, 38, 51, 64, 74, 78, 95],\n",
       " [9, 15, 21, 29, 30, 30, 76, 87, 93, 94],\n",
       " [5, 22, 29, 30, 40, 43, 59, 65, 77, 89],\n",
       " [10, 19, 35, 37, 57, 63, 66, 69, 78, 87],\n",
       " [18, 19, 38, 45, 48, 60, 62, 65, 71, 92],\n",
       " [0, 21, 47, 56, 59, 63, 72, 82, 86, 94],\n",
       " [39, 40, 50, 58, 64, 69, 74, 78, 83, 94],\n",
       " [7, 11, 18, 31, 52, 62, 70, 83, 88, 97]]"
      ]
     },
     "execution_count": 3,
     "metadata": {},
     "output_type": "execute_result"
    }
   ],
   "source": [
    "# 오름차순 정렬\n",
    "[insertion_sort(i, False) for i in test_case]"
   ]
  },
  {
   "cell_type": "code",
   "execution_count": 4,
   "metadata": {},
   "outputs": [
    {
     "data": {
      "text/plain": [
       "[[90, 67, 65, 65, 58, 48, 48, 44, 4, 1],\n",
       " [95, 78, 72, 70, 64, 47, 39, 23, 18, 10],\n",
       " [95, 78, 74, 64, 51, 38, 30, 28, 24, 14],\n",
       " [94, 93, 87, 76, 30, 30, 29, 21, 15, 9],\n",
       " [89, 77, 65, 59, 43, 40, 30, 29, 22, 5],\n",
       " [87, 78, 69, 66, 63, 57, 37, 35, 19, 10],\n",
       " [92, 71, 65, 62, 60, 48, 45, 38, 19, 18],\n",
       " [94, 86, 82, 72, 63, 59, 56, 47, 21, 0],\n",
       " [94, 83, 78, 74, 69, 64, 58, 50, 40, 39],\n",
       " [97, 88, 83, 70, 62, 52, 31, 18, 11, 7]]"
      ]
     },
     "execution_count": 4,
     "metadata": {},
     "output_type": "execute_result"
    }
   ],
   "source": [
    "# 내림차순 정렬\n",
    "[insertion_sort(i, True) for i in test_case]"
   ]
  }
 ],
 "metadata": {
  "kernelspec": {
   "display_name": "Python 3",
   "language": "python",
   "name": "python3"
  },
  "language_info": {
   "codemirror_mode": {
    "name": "ipython",
    "version": 3
   },
   "file_extension": ".py",
   "mimetype": "text/x-python",
   "name": "python",
   "nbconvert_exporter": "python",
   "pygments_lexer": "ipython3",
   "version": "3.7.3"
  }
 },
 "nbformat": 4,
 "nbformat_minor": 2
}
