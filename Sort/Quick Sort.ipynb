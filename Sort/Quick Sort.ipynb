{
 "cells": [
  {
   "cell_type": "markdown",
   "metadata": {},
   "source": [
    "# <a href=\"https://en.wikipedia.org/wiki/Quicksort\">Quick Sort</a>\n",
    "\n",
    "###### <a href=\"https://www.geeksforgeeks.org/quick-sort/\">geeksforgeeks</a>\n",
    "QuickSort is a Divide and Conquer algorithm. It picks an element as pivot and partitions the given array around the picked pivot. There are many different versions of quickSort that pick pivot in different ways.\n",
    "\n",
    "* Always pick first element as pivot.\n",
    "* Always pick last element as pivot (implemented below)\n",
    "* Pick a random element as pivot.\n",
    "* Pick median as pivot.\n",
    "\n",
    "###### Algorithm  \n",
    "The key process in quickSort is partition().  \n",
    "Target of partitions is, given an array and an element x of array as pivot, put x at its correct position in sorted array and put all smaller elements (smaller than x) before x, and put all greater elements (greater than x) after x.  \n",
    "All this should be done in linear time.\n",
    "\n",
    "###### <a href=\"https://ko.wikipedia.org/wiki/%ED%80%B5_%EC%A0%95%EB%A0%AC\">Korean Wikipedia</a>\n",
    "다른 원소와의 비교만으로 정렬을 수행하는 비교 정렬에 속한다.\n",
    "\n",
    "매 단계에서 적어도 1개의 원소가 자기 자리를 찾게 되므로 이후 정렬할 개수가 줄어든다.  \n",
    "때문에 일반적인 경우 퀵 정렬은 다른 O(n log n) 알고리즘에 비해 훨씬 빠르게 동작한다.\n",
    "\n",
    "* 리스트 가운데서 하나의 원소를 고른다. 이렇게 고른 원소를 피벗이라고 한다.\n",
    "* 피벗 앞에는 피벗보다 값이 작은 모든 원소들이 오고, 피벗 뒤에는 피벗보다 값이 큰 모든 원소들이 오도록 피벗을 기준으로 리스트를 둘로 나눈다.  \n",
    "이렇게 리스트를 둘로 나누는 것을 분할이라고 한다. 분할을 마친 뒤에 피벗은 더 이상 움직이지 않는다.\n",
    "* 분할된 두 개의 작은 리스트에 대해 재귀(Recursion)적으로 이 과정을 반복한다. 재귀는 리스트의 크기가 0이나 1이 될 때까지 반복된다.\n",
    "\n",
    "<br><br>\n",
    "<table>\n",
    "    <tr>\n",
    "        <th></th>\n",
    "        <th>Best</th>\n",
    "        <th>Average</th>\n",
    "        <th>Worst</th>\n",
    "        <th>Memory</th>\n",
    "        <th>Stable</th>\n",
    "        <th>Method</th>\n",
    "        <th>Other Notes</th>\n",
    "    </tr>\n",
    "    <tr>\n",
    "        <td>Quick sort</td>\n",
    "        <td>$n$</td>\n",
    "        <td>$n\\log{n}$</td>\n",
    "        <td>$n^2$</td>\n",
    "        <td>$\\log{n}$</td>\n",
    "        <td>No</td>\n",
    "        <td>Partitioning</td>\n",
    "        <td>Quicksort is usually done in-place with $O(\\log{n})$ stack space.</td>\n",
    "    </tr>\n",
    "</table><br><br>\n",
    "\n",
    "![quick_sort](https://user-images.githubusercontent.com/41245985/75102149-6026eb80-562a-11ea-83be-a07e99c04e04.gif)\n",
    "\n",
    "## Complexity\n",
    "\n",
    "In worst case,\n",
    "$$1+...+(n-2)+(n-1)=\\sum_{i=1}^{n-1}i=\\frac{n(n-1)}{2}=O(n^2)$$"
   ]
  },
  {
   "cell_type": "code",
   "execution_count": 1,
   "metadata": {},
   "outputs": [],
   "source": [
    "def quicksort(x):\n",
    "    if len(x) <= 1:\n",
    "        return x\n",
    "\n",
    "    pivot = x[len(x) // 2]\n",
    "    less = []\n",
    "    more = []\n",
    "    equal = []\n",
    "    for a in x:\n",
    "        if a < pivot:\n",
    "            less.append(a)\n",
    "        elif a > pivot:\n",
    "            more.append(a)\n",
    "        else:\n",
    "            equal.append(a)\n",
    "\n",
    "    return quicksort(less) + equal + quicksort(more)"
   ]
  },
  {
   "cell_type": "code",
   "execution_count": 2,
   "metadata": {},
   "outputs": [],
   "source": [
    "# no-cache\n",
    "def partition(arr, start, end):\n",
    "    pivot = arr[start]\n",
    "    left = start + 1\n",
    "    right = end\n",
    "    done = False\n",
    "    while not done:\n",
    "        while left <= right and arr[left] <= pivot:\n",
    "            left += 1\n",
    "        while left <= right and pivot <= arr[right]:\n",
    "            right -= 1\n",
    "        if right < left:\n",
    "            done = True\n",
    "        else:\n",
    "            arr[left], arr[right] = arr[right], arr[left]\n",
    "    arr[start], arr[right] = arr[right], arr[start]\n",
    "    return right\n",
    "\n",
    "\n",
    "def quick_sort(arr, start, end):\n",
    "    if start < end:\n",
    "        pivot = partition(arr, start, end)\n",
    "        quick_sort(arr, start, pivot - 1)\n",
    "        quick_sort(arr, pivot + 1, end)\n",
    "    return arr"
   ]
  },
  {
   "cell_type": "code",
   "execution_count": 3,
   "metadata": {},
   "outputs": [
    {
     "data": {
      "text/plain": [
       "[[90, 4, 33, 28, 3, 45, 0, 0, 72, 6],\n",
       " [6, 35, 94, 94, 94, 4, 33, 48, 73, 71],\n",
       " [99, 12, 20, 35, 49, 7, 13, 9, 15, 18],\n",
       " [85, 17, 22, 23, 63, 74, 49, 19, 79, 9],\n",
       " [38, 43, 3, 89, 74, 44, 20, 11, 43, 94],\n",
       " [41, 40, 14, 49, 34, 11, 32, 65, 56, 12],\n",
       " [37, 74, 88, 65, 75, 40, 68, 69, 67, 48],\n",
       " [22, 38, 81, 14, 68, 48, 56, 8, 5, 64],\n",
       " [7, 84, 91, 63, 71, 34, 10, 5, 44, 98],\n",
       " [9, 74, 57, 18, 8, 3, 48, 85, 23, 77]]"
      ]
     },
     "execution_count": 3,
     "metadata": {},
     "output_type": "execute_result"
    }
   ],
   "source": [
    "def make_test(row=10, column=10):\n",
    "    import numpy as np\n",
    "    return np.random.randint(0, 100, row*column).reshape(row, column).tolist()\n",
    "\n",
    "test_case = make_test(10, 10)\n",
    "test_case"
   ]
  },
  {
   "cell_type": "code",
   "execution_count": 4,
   "metadata": {},
   "outputs": [
    {
     "data": {
      "text/plain": [
       "[[0, 0, 3, 4, 6, 28, 33, 45, 72, 90],\n",
       " [4, 6, 33, 35, 48, 71, 73, 94, 94, 94],\n",
       " [7, 9, 12, 13, 15, 18, 20, 35, 49, 99],\n",
       " [9, 17, 19, 22, 23, 49, 63, 74, 79, 85],\n",
       " [3, 11, 20, 38, 43, 43, 44, 74, 89, 94],\n",
       " [11, 12, 14, 32, 34, 40, 41, 49, 56, 65],\n",
       " [37, 40, 48, 65, 67, 68, 69, 74, 75, 88],\n",
       " [5, 8, 14, 22, 38, 48, 56, 64, 68, 81],\n",
       " [5, 7, 10, 34, 44, 63, 71, 84, 91, 98],\n",
       " [3, 8, 9, 18, 23, 48, 57, 74, 77, 85]]"
      ]
     },
     "execution_count": 4,
     "metadata": {},
     "output_type": "execute_result"
    }
   ],
   "source": [
    "[quicksort(i) for i in test_case]"
   ]
  },
  {
   "cell_type": "code",
   "execution_count": 5,
   "metadata": {},
   "outputs": [
    {
     "data": {
      "text/plain": [
       "[[0, 0, 3, 4, 6, 28, 33, 45, 72, 90],\n",
       " [4, 6, 33, 35, 48, 71, 73, 94, 94, 94],\n",
       " [7, 9, 12, 13, 15, 18, 20, 35, 49, 99],\n",
       " [9, 17, 19, 22, 23, 49, 63, 74, 79, 85],\n",
       " [3, 11, 20, 38, 43, 43, 44, 74, 89, 94],\n",
       " [11, 12, 14, 32, 34, 40, 41, 49, 56, 65],\n",
       " [37, 40, 48, 65, 67, 68, 69, 74, 75, 88],\n",
       " [5, 8, 14, 22, 38, 48, 56, 64, 68, 81],\n",
       " [5, 7, 10, 34, 44, 63, 71, 84, 91, 98],\n",
       " [3, 8, 9, 18, 23, 48, 57, 74, 77, 85]]"
      ]
     },
     "execution_count": 5,
     "metadata": {},
     "output_type": "execute_result"
    }
   ],
   "source": [
    "[quick_sort(i, 0, len(i)-1) for i in test_case]"
   ]
  }
 ],
 "metadata": {
  "kernelspec": {
   "display_name": "Python 3",
   "language": "python",
   "name": "python3"
  },
  "language_info": {
   "codemirror_mode": {
    "name": "ipython",
    "version": 3
   },
   "file_extension": ".py",
   "mimetype": "text/x-python",
   "name": "python",
   "nbconvert_exporter": "python",
   "pygments_lexer": "ipython3",
   "version": "3.7.3"
  }
 },
 "nbformat": 4,
 "nbformat_minor": 2
}
