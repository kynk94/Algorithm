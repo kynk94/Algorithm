{
 "cells": [
  {
   "cell_type": "markdown",
   "metadata": {},
   "source": [
    "Let's learn about list comprehensions! You are given three integers $X, Y$ and $Z$ representing the dimensions of a cuboid along with an integer $N$. You have to print a list of all possible coordinates given by $(i,j,k)$ on a 3D grid where the sum of $i + j + k$ is not equal to $N$.  \n",
    "Here, $0 \\le i \\le X; 0 \\le j \\le Y; 0 \\le k \\le Z$\n",
    "\n",
    "<strong>Input Format</strong>  \n",
    "Four integers $X, Y, Z$ and $N$ each on four separate lines, respectively.\n",
    "\n",
    "<strong>Constraints</strong>  \n",
    "Print the list in lexicographic increasing order.\n",
    "\n",
    "<strong>Sample Input 0</strong>  \n",
    "```\n",
    "1\n",
    "1\n",
    "1\n",
    "2\n",
    "```\n",
    "\n",
    "<strong>Sample Output 0</strong>  \n",
    "```\n",
    "[[0, 0, 0], [0, 0, 1], [0, 1, 0], [1, 0, 0], [1, 1, 1]]\n",
    "```\n",
    "\n",
    "<strong>Explanation 0</strong>  \n",
    "<strong>Concept</strong>  \n",
    "You have already used lists in previous hacks. List comprehensions are an elegant way to build a list without having to use different for loops to append values one by one. This example might help.\n",
    "\n",
    "<strong>Example:</strong> You are given two integers x and y . You need to find out the ordered pairs ( i , j ) , such that ( i + j ) is not equal to n and print them in lexicographic order.( 0 <= i <= x ) and ( 0 <= j <= y) This is the code if <strong>we dont use list comprehensions in Python.</strong>  \n",
    "Python  \n",
    "```\n",
    "x = int(raw_input())\n",
    "y = int(raw_input())\n",
    "n = int(raw_input())\n",
    "ar = []\n",
    "p = 0\n",
    "for i in range(x + 1):\n",
    "    for j in range(y + 1):\n",
    "        if i + j != n:\n",
    "            ar.append([])\n",
    "            ar[p] = [i, j]\n",
    "            p += 1\n",
    "print(ar)\n",
    "```\n",
    "\n",
    "Other smaller codes may also exist, but using list comprehensions is always a good option.  \n",
    "<strong>Code using list comprehensions:</strong>  \n",
    "Python  \n",
    "```\n",
    "x = int(raw_input())\n",
    "y = int(raw_input())\n",
    "n = int(raw_input())\n",
    "print([[i, j] for i in range(x+1) for j in range(y+1) if (i+j)!=n])\n",
    "```\n",
    "<strong>Sample Input 1</strong>      \n",
    "```\n",
    "2\n",
    "2\n",
    "2\n",
    "2\n",
    "```\n",
    "\n",
    "<strong>Sample Output 1</strong>  \n",
    "```\n",
    "[[0, 0, 0], [0, 0, 1], [0, 1, 0], [0, 1, 2], [0, 2, 1], [0, 2, 2], [1, 0, 0],\n",
    " [1, 0, 2], [1, 1, 1], [1, 1, 2], [1, 2, 0], [1, 2, 1], [1, 2, 2], [2, 0, 1],\n",
    " [2, 0, 2], [2, 1, 0], [2, 1, 1], [2, 1, 2], [2, 2, 0], [2, 2, 1], [2, 2, 2]]\n",
    "```"
   ]
  },
  {
   "cell_type": "code",
   "execution_count": 1,
   "metadata": {},
   "outputs": [
    {
     "name": "stdout",
     "output_type": "stream",
     "text": [
      "2\n",
      "2\n",
      "2\n",
      "2\n",
      "[[0, 0, 0], [0, 0, 1], [0, 1, 0], [0, 1, 2], [0, 2, 1], [0, 2, 2], [1, 0, 0], [1, 0, 2], [1, 1, 1], [1, 1, 2], [1, 2, 0], [1, 2, 1], [1, 2, 2], [2, 0, 1], [2, 0, 2], [2, 1, 0], [2, 1, 1], [2, 1, 2], [2, 2, 0], [2, 2, 1], [2, 2, 2]]\n"
     ]
    }
   ],
   "source": [
    "if __name__ == '__main__':\n",
    "    x = int(input())\n",
    "    y = int(input())\n",
    "    z = int(input())\n",
    "    n = int(input())\n",
    "    print([[i, j, k] for i in range(x+1)\n",
    "                     for j in range(y+1)\n",
    "                     for k in range(z+1) \n",
    "                     if i+j+k != n])"
   ]
  }
 ],
 "metadata": {
  "kernelspec": {
   "display_name": "Python 3",
   "language": "python",
   "name": "python3"
  },
  "language_info": {
   "codemirror_mode": {
    "name": "ipython",
    "version": 3
   },
   "file_extension": ".py",
   "mimetype": "text/x-python",
   "name": "python",
   "nbconvert_exporter": "python",
   "pygments_lexer": "ipython3",
   "version": "3.7.3"
  }
 },
 "nbformat": 4,
 "nbformat_minor": 2
}
