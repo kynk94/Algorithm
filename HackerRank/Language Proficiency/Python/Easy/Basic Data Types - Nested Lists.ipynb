{
 "cells": [
  {
   "cell_type": "markdown",
   "metadata": {},
   "source": [
    "Given the names and grades for each student in a Physics class of $N$ students, store them in a nested list and print the name(s) of any student(s) having the second lowest grade.\n",
    "\n",
    "<strong>Note:</strong> If there are multiple students with the same grade, order their names alphabetically and print each name on a new line.\n",
    "\n",
    "<strong>Input Format</strong>  \n",
    "The first line contains an integer, $N$, the number of students.\n",
    "The $2N$ subsequent lines describe each student over $2$ lines; the first line contains a student's name, and the second line contains their grade.\n",
    "\n",
    "<strong>Constraints</strong>  \n",
    "* $2 \\le N \\le 5$\n",
    "* There will always be one or more students having the second lowest grade.\n",
    "\n",
    "<strong>Output Format</strong>  \n",
    "Print the name(s) of any student(s) having the second lowest grade in Physics; if there are multiple students, order their names alphabetically and print each one on a new line.\n",
    "\n",
    "<strong>Sample Input 0</strong>  \n",
    "```\n",
    "5\n",
    "Harry\n",
    "37.21\n",
    "Berry\n",
    "37.21\n",
    "Tina\n",
    "37.2\n",
    "Akriti\n",
    "41\n",
    "Harsh\n",
    "39\n",
    "```\n",
    "\n",
    "<strong>Sample Output 0</strong>  \n",
    "```\n",
    "Berry\n",
    "Harry\n",
    "```\n",
    "\n",
    "<strong>Explanation 0</strong>  \n",
    "There are  students in this class whose names and grades are assembled to build the following list:  \n",
    "Python  \n",
    "```\n",
    "students = [['Harry', 37.21], ['Berry', 37.21], ['Tina', 37.2], ['Akriti', 41], ['Harsh', 39]]\n",
    "```\n",
    "\n",
    "The lowest grade of $37.2$ belongs to Tina. The second lowest grade of $37.21$ belongs to both Harry and Berry, so we order their names alphabetically and print each name on a new line."
   ]
  },
  {
   "cell_type": "code",
   "execution_count": 1,
   "metadata": {},
   "outputs": [
    {
     "name": "stdout",
     "output_type": "stream",
     "text": [
      "5\n",
      "Harry\n",
      "37.21\n",
      "Berry\n",
      "37.21\n",
      "Tina\n",
      "37.2\n",
      "Akriti\n",
      "41\n",
      "Harsh\n",
      "39\n",
      "Berry\n",
      "Harry\n"
     ]
    }
   ],
   "source": [
    "if __name__ == '__main__':\n",
    "    students = []\n",
    "    for _ in range(int(input())):\n",
    "        name = input()\n",
    "        score = float(input())\n",
    "        students.append([name, score])\n",
    "    sorted_students = sorted(students, key=lambda x: (x[1], x[0]))\n",
    "    second = sorted(set([r[1] for r in students]))[1]\n",
    "    for student in sorted_students:\n",
    "        if student[1] == second:\n",
    "            print(student[0])"
   ]
  }
 ],
 "metadata": {
  "kernelspec": {
   "display_name": "Python 3",
   "language": "python",
   "name": "python3"
  },
  "language_info": {
   "codemirror_mode": {
    "name": "ipython",
    "version": 3
   },
   "file_extension": ".py",
   "mimetype": "text/x-python",
   "name": "python",
   "nbconvert_exporter": "python",
   "pygments_lexer": "ipython3",
   "version": "3.7.3"
  }
 },
 "nbformat": 4,
 "nbformat_minor": 2
}
