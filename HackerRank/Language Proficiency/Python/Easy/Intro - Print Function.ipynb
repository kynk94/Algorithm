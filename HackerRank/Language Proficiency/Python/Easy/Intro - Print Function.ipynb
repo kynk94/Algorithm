{
 "cells": [
  {
   "cell_type": "markdown",
   "metadata": {},
   "source": [
    "Read an integer $N$.  \n",
    "Without using any string methods, try to print the following:  \n",
    "$123...N$  \n",
    "Note that \"...\" represents the values in between.\n",
    "\n",
    "<strong>Input Format</strong>  \n",
    "The first line contains an integer $N$.\n",
    "\n",
    "<strong>Output Format</strong>  \n",
    "Output the answer as explained in the task.\n",
    "\n",
    "<strong>Sample Input 0</strong>  \n",
    "```\n",
    "3\n",
    "```\n",
    "\n",
    "<strong>Output Format</strong>  \n",
    "```\n",
    "123\n",
    "```"
   ]
  },
  {
   "cell_type": "code",
   "execution_count": 1,
   "metadata": {},
   "outputs": [
    {
     "name": "stdout",
     "output_type": "stream",
     "text": [
      "10\n",
      "12345678910\n"
     ]
    }
   ],
   "source": [
    "if __name__ == '__main__':\n",
    "    n = int(input())\n",
    "    res = 0\n",
    "    j = 1\n",
    "    for i in range(0, n + 1):\n",
    "        if i == 10**j:\n",
    "            j += 1\n",
    "        res = res*(10**j) + i\n",
    "    print(res)"
   ]
  }
 ],
 "metadata": {
  "kernelspec": {
   "display_name": "Python 3",
   "language": "python",
   "name": "python3"
  },
  "language_info": {
   "codemirror_mode": {
    "name": "ipython",
    "version": 3
   },
   "file_extension": ".py",
   "mimetype": "text/x-python",
   "name": "python",
   "nbconvert_exporter": "python",
   "pygments_lexer": "ipython3",
   "version": "3.7.3"
  }
 },
 "nbformat": 4,
 "nbformat_minor": 2
}
