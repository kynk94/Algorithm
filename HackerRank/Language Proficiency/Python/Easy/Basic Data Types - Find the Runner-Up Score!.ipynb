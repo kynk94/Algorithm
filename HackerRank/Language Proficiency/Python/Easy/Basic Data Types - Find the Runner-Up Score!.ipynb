{
 "cells": [
  {
   "cell_type": "markdown",
   "metadata": {},
   "source": [
    "Given the participants' score sheet for your University Sports Day, you are required to find the runner-up score. You are given $n$ scores. Store them in a list and find the score of the runner-up.\n",
    "\n",
    "<strong>Input Format</strong>  \n",
    "The first line contains . The second line contains an array $A[]$ of $n$ integers each separated by a space.\n",
    "\n",
    "<strong>Constraints</strong>  \n",
    "$2 \\le n \\le 10$\n",
    "$-100 \\le A[i] \\le 100$\n",
    "\n",
    "<strong>Output Format</strong>  \n",
    "Print the runner-up score.\n",
    "\n",
    "<strong>Sample Input 0</strong>  \n",
    "```\n",
    "5\n",
    "2 3 6 6 5\n",
    "```\n",
    "\n",
    "<strong>Sample Output 0</strong>  \n",
    "```\n",
    "5\n",
    "```\n",
    "\n",
    "<strong>Explanation 0</strong>  \n",
    "Given list is $[2, 3, 6, 6, 5]$. The maximum score is $6$, second maximum is $5$. Hence, we print $5$ as the runner-up score."
   ]
  },
  {
   "cell_type": "code",
   "execution_count": 1,
   "metadata": {},
   "outputs": [
    {
     "name": "stdout",
     "output_type": "stream",
     "text": [
      "5\n",
      "2 3 6 6 5\n",
      "5\n"
     ]
    }
   ],
   "source": [
    "if __name__ == '__main__':\n",
    "    n = int(input())\n",
    "    arr = map(int, input().split())\n",
    "    print(sorted(set(arr))[-2])"
   ]
  }
 ],
 "metadata": {
  "kernelspec": {
   "display_name": "Python 3",
   "language": "python",
   "name": "python3"
  },
  "language_info": {
   "codemirror_mode": {
    "name": "ipython",
    "version": 3
   },
   "file_extension": ".py",
   "mimetype": "text/x-python",
   "name": "python",
   "nbconvert_exporter": "python",
   "pygments_lexer": "ipython3",
   "version": "3.7.3"
  }
 },
 "nbformat": 4,
 "nbformat_minor": 2
}
