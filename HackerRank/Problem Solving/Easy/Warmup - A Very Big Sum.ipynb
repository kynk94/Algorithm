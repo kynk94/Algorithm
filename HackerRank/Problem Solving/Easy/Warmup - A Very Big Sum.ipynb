{
 "cells": [
  {
   "cell_type": "markdown",
   "metadata": {},
   "source": [
    "Calculate and print the sum of the elements in an array, keeping in mind that some of those integers may be quite large.\n",
    "\n",
    "<strong>Function Description</strong>  \n",
    "Complete the aVeryBigSum function in the editor below. It must return the sum of all array elements.  \n",
    "aVeryBigSum has the following parameter(s):  \n",
    "* ar: an array of integers.\n",
    "\n",
    "<strong>Input Format</strong>  \n",
    "The first line of the input consists of an integer $n$.  \n",
    "The next line contains <strong>n</strong> space-separated integers contained in the array.\n",
    "\n",
    "<strong>Output Format</strong>  \n",
    "Print the integer sum of the elements in the array.\n",
    "\n",
    "<strong>Constraints</strong>  \n",
    "$1 \\le n \\le 10$\n",
    "$0 \\le ar[i] \\le 10^10$\n",
    "\n",
    "<strong>Sample Input</strong>  \n",
    "```\n",
    "5\n",
    "1000000001 1000000002 1000000003 1000000004 1000000005\n",
    "```\n",
    "\n",
    "<strong>Output</strong>  \n",
    "```\n",
    "5000000015\n",
    "```\n",
    "\n",
    "<strong>Note:</strong>\n",
    "\n",
    "The range of the 32-bit integer is $(-2^31) to (2^31 - 1) or [-2147483648, 2147483647]$.  \n",
    "When we add several integer values, the resulting sum might exceed the above range. You might need to use long long int in C/C++ or long data type in Java to store such sums."
   ]
  },
  {
   "cell_type": "code",
   "execution_count": 1,
   "metadata": {},
   "outputs": [],
   "source": [
    "def aVeryBigSum(ar):\n",
    "    return sum(ar)"
   ]
  },
  {
   "cell_type": "code",
   "execution_count": 2,
   "metadata": {},
   "outputs": [
    {
     "name": "stdout",
     "output_type": "stream",
     "text": [
      "5\n",
      "1000000001 1000000002 1000000003 1000000004 1000000005\n",
      "5000000015\n"
     ]
    }
   ],
   "source": [
    "if __name__ == '__main__':\n",
    "    ar_count = int(input())\n",
    "    ar = list(map(int, input().rstrip().split()))\n",
    "\n",
    "    result = aVeryBigSum(ar)\n",
    "    print(result)"
   ]
  }
 ],
 "metadata": {
  "kernelspec": {
   "display_name": "Python 3",
   "language": "python",
   "name": "python3"
  },
  "language_info": {
   "codemirror_mode": {
    "name": "ipython",
    "version": 3
   },
   "file_extension": ".py",
   "mimetype": "text/x-python",
   "name": "python",
   "nbconvert_exporter": "python",
   "pygments_lexer": "ipython3",
   "version": "3.7.3"
  }
 },
 "nbformat": 4,
 "nbformat_minor": 2
}
