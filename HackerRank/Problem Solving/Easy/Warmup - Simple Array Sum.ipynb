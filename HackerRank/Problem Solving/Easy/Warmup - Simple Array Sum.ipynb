{
 "cells": [
  {
   "cell_type": "markdown",
   "metadata": {},
   "source": [
    "Given an array of integers, find the sum of its elements.  \n",
    "For example, if the array $ar = [1, 2, 3]$, $1 + 2 + 3 = 6$, so return $6$.\n",
    "\n",
    "<strong>Function Description</strong>  \n",
    "Complete the simpleArraySum function in the editor below. It must return the sum of the array elements as an integer.  \n",
    "simpleArraySum has the following parameter(s):  \n",
    "* ar: an array of integers\n",
    "\n",
    "<strong>Input Format</strong>  \n",
    "The first line contains an integer, $n$, denoting the size of the array.\n",
    "The second line contains $n$ space-separated integers representing the array's elements.\n",
    "\n",
    "<strong>Constraints</strong>  \n",
    "$0 < n, ar[i] \\le 1000$\n",
    "\n",
    "<strong>Output Format</strong>  \n",
    "Print the sum of the array's elements as a single integer.\n",
    "\n",
    "<strong>Sample Input</strong>  \n",
    "```\n",
    "6\n",
    "1 2 3 4 10 11\n",
    "```\n",
    "\n",
    "<strong>Sample Output</strong>  \n",
    "```\n",
    "31\n",
    "```\n",
    "\n",
    "<strong>Explanation</strong>  \n",
    "We print the sum of the array's elements: $1 + 2 + 3 + 4 + 10 + 11 = 31$."
   ]
  },
  {
   "cell_type": "code",
   "execution_count": 1,
   "metadata": {},
   "outputs": [],
   "source": [
    "def simpleArraySum(ar):\n",
    "    return sum(ar)"
   ]
  },
  {
   "cell_type": "code",
   "execution_count": 2,
   "metadata": {},
   "outputs": [
    {
     "name": "stdout",
     "output_type": "stream",
     "text": [
      "6\n",
      "1 2 3 4 10 11\n",
      "31\n"
     ]
    }
   ],
   "source": [
    "if __name__ == '__main__':\n",
    "    ar_count = int(input())\n",
    "    ar = list(map(int, input().rstrip().split()))\n",
    "    result = simpleArraySum(ar)\n",
    "    print(result)"
   ]
  }
 ],
 "metadata": {
  "kernelspec": {
   "display_name": "Python 3",
   "language": "python",
   "name": "python3"
  },
  "language_info": {
   "codemirror_mode": {
    "name": "ipython",
    "version": 3
   },
   "file_extension": ".py",
   "mimetype": "text/x-python",
   "name": "python",
   "nbconvert_exporter": "python",
   "pygments_lexer": "ipython3",
   "version": "3.7.3"
  }
 },
 "nbformat": 4,
 "nbformat_minor": 2
}
