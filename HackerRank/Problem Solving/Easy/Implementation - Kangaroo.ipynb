{
 "cells": [
  {
   "cell_type": "markdown",
   "metadata": {},
   "source": [
    "You are choreographing a circus show with various animals. For one act, you are given two kangaroos on a number line ready to jump in the positive direction (i.e, toward positive infinity).  \n",
    "* The first kangaroo starts at location $x1$ and moves at a rate of $v1$ meters per jump.\n",
    "* The second kangaroo starts at location $x2$ and moves at a rate of $v2$ meters per jump.\n",
    "\n",
    "You have to figure out a way to get both kangaroos at the same location at the same time as part of the show. If it is possible, return YES, otherwise return NO.\n",
    "\n",
    "For example, kangaroo $1$ starts at $x1=2$ with a jump distance $v1=1$ and kangaroo $2$ starts at $x2=1$ with a jump distance of $v2=2$. After one jump, they are both at $x=3$, ($x1+v1=2+1$, $x2+v2=1+2$), so our answer is YES.\n",
    "\n",
    "<strong>Function Description</strong>  \n",
    "Complete the function kangaroo in the editor below. It should return YES if they reach the same position at the same time, or NO if they don't.\n",
    "\n",
    "kangaroo has the following parameter(s):  \n",
    "* x1, v1: integers, starting position and jump distance for kangaroo 1\n",
    "* x2, v2: integers, starting position and jump distance for kangaroo 2\n",
    "\n",
    "<strong>Input Format</strong>  \n",
    "A single line of four space-separated integers denoting the respective values of $x1$, $v1$, $x2$, and $v2$.\n",
    "\n",
    "<strong>Constraints</strong>  \n",
    "* $0 \\le x1 < x2 \\le 10000$\n",
    "* $1 \\le v1 \\le 10000$\n",
    "* $1 \\le v2 \\le 10000$\n",
    "\n",
    "<strong>Output Format</strong>  \n",
    "Print YES if they can land on the same location at the same time; otherwise, print NO.  \n",
    "<strong>Note:</strong> The two kangaroos must land at the same location after making the same number of jumps.\n",
    "\n",
    "<strong>Sample Input 0</strong>  \n",
    "```\n",
    "0 3 4 2\n",
    "```\n",
    "\n",
    "<strong>Sample Output 0</strong>  \n",
    "```\n",
    "YES\n",
    "```\n",
    "\n",
    "<strong>Explanation 0</strong>  \n",
    "The two kangaroos jump through the following sequence of locations:\n",
    "\n",
    "<img src=\"https://s3.amazonaws.com/hr-assets/0/1516005283-e74e76ff0c-kangaroo.png\" alt=\"image\" title=\"\">\n",
    "\n",
    "From the image, it is clear that the kangaroos meet at the same location (number $12$ on the number line) after same number of jumps ($4$ jumps), and we print YES.\n",
    "\n",
    "<strong>Sample Input 1</strong>  \n",
    "```\n",
    "0 2 5 3\n",
    "```\n",
    "\n",
    "<strong>Sample Output 1</strong>  \n",
    "```\n",
    "NO\n",
    "```\n",
    "\n",
    "<strong>Explanation 1</strong>  \n",
    "The second kangaroo has a starting location that is ahead (further to the right) of the first kangaroo's starting location (i.e., $x2>x1$). Because the second kangaroo moves at a faster rate (meaning $v2>v1$) and is already ahead of the first kangaroo, the first kangaroo will never be able to catch up. Thus, we print NO."
   ]
  },
  {
   "cell_type": "code",
   "execution_count": 1,
   "metadata": {},
   "outputs": [],
   "source": [
    "def kangaroo(x1, v1, x2, v2):\n",
    "    d = x2 - x1\n",
    "    s = v1 - v2\n",
    "    if s < 1:\n",
    "        return \"NO\"\n",
    "    elif d % s == 0:\n",
    "        return \"YES\"\n",
    "    else:\n",
    "        return \"NO\""
   ]
  },
  {
   "cell_type": "code",
   "execution_count": 2,
   "metadata": {},
   "outputs": [
    {
     "name": "stdout",
     "output_type": "stream",
     "text": [
      "0 2 5 3\n",
      "NO\n"
     ]
    }
   ],
   "source": [
    "if __name__ == '__main__':\n",
    "    x1V1X2V2 = input().split()\n",
    "    x1 = int(x1V1X2V2[0])\n",
    "    v1 = int(x1V1X2V2[1])\n",
    "    x2 = int(x1V1X2V2[2])\n",
    "    v2 = int(x1V1X2V2[3])\n",
    "\n",
    "    result = kangaroo(x1, v1, x2, v2)\n",
    "    print(result)"
   ]
  }
 ],
 "metadata": {
  "kernelspec": {
   "display_name": "Python 3",
   "language": "python",
   "name": "python3"
  },
  "language_info": {
   "codemirror_mode": {
    "name": "ipython",
    "version": 3
   },
   "file_extension": ".py",
   "mimetype": "text/x-python",
   "name": "python",
   "nbconvert_exporter": "python",
   "pygments_lexer": "ipython3",
   "version": "3.7.3"
  }
 },
 "nbformat": 4,
 "nbformat_minor": 2
}
