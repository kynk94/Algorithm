{
 "cells": [
  {
   "cell_type": "markdown",
   "metadata": {},
   "source": [
    "You are given an array of $n$ integers, $ar=[ar[0],ar[1],...,ar[n-1]$, and a positive integer, $k$. Find and print the number of $(i,j)$ pairs where $i<j$ and $ar[i]$ + $ar[j]$ is divisible by $k$.\n",
    "\n",
    "For example, $ar=[1,2,3,4,5,6]$ and $k=5$. Our three pairs meeting the criteria are $[1,4]$, $[2,3]$ and $[4,6]$.\n",
    "\n",
    "<strong>Function Description</strong>  \n",
    "Complete the divisibleSumPairs function in the editor below. It should return the integer count of pairs meeting the criteria.\n",
    "\n",
    "divisibleSumPairs has the following parameter(s):  \n",
    "* n: the integer length of array $ar$\n",
    "* ar: an array of integers\n",
    "* k: the integer to divide the pair sum by\n",
    "\n",
    "<strong>Input Format</strong>  \n",
    "The first line contains $2$ space-separated integers, $n$ and $k$.  \n",
    "The second line contains $n$ space-separated integers describing the values of $ar[ar[0],ar[1],...,ar[n-1]]$.\n",
    "\n",
    "<strong>Constraints</strong>  \n",
    "* $2 \\le n \\le 100$  \n",
    "* $1 \\le k \\le 100$  \n",
    "* $1 \\le ar[i] \\le 100$\n",
    "\n",
    "<strong>Output Format</strong>  \n",
    "Print the number of $(i,j)$ pairs where $i<j$ and $a[i]$ + $a[j]$ is evenly divisible by $k$.\n",
    "\n",
    "<strong>Sample Input</strong>  \n",
    "```\n",
    "6 3\n",
    "1 3 2 6 1 2\n",
    "```\n",
    "\n",
    "<strong>Sample Output</strong>  \n",
    "```\n",
    "5\n",
    "```\n",
    "\n",
    "<strong>Explanation</strong>  \n",
    "Here are the $5$ valid pairs when $k=3$:  \n",
    "* $(0,2) \\to ar[0]+ar[2]=1+2=3$  \n",
    "* $(0,5) \\to ar[0]+ar[5]=1+2=3$  \n",
    "* $(1,3) \\to ar[1]+ar[3]=3+6=9$  \n",
    "* $(2,4) \\to ar[2]+ar[4]=2+1=3$  \n",
    "* $(4,5) \\to ar[4]+ar[5]=1+2=3$"
   ]
  },
  {
   "cell_type": "code",
   "execution_count": 1,
   "metadata": {},
   "outputs": [],
   "source": [
    "def divisibleSumPairs(n, k, ar):\n",
    "    import itertools\n",
    "    array = map(sum, itertools.combinations(ar, 2))\n",
    "    count = 0\n",
    "    for i in array:\n",
    "        if i % k == 0:\n",
    "            count += 1\n",
    "    return count"
   ]
  },
  {
   "cell_type": "code",
   "execution_count": 2,
   "metadata": {},
   "outputs": [
    {
     "name": "stdout",
     "output_type": "stream",
     "text": [
      "6 3\n",
      "1 3 2 6 1 2\n",
      "5\n"
     ]
    }
   ],
   "source": [
    "if __name__ == '__main__':\n",
    "    nk = input().split()\n",
    "    n = int(nk[0])\n",
    "    k = int(nk[1])\n",
    "    ar = list(map(int, input().rstrip().split()))\n",
    "\n",
    "    result = divisibleSumPairs(n, k, ar)\n",
    "    print(result)"
   ]
  }
 ],
 "metadata": {
  "kernelspec": {
   "display_name": "Python 3",
   "language": "python",
   "name": "python3"
  },
  "language_info": {
   "codemirror_mode": {
    "name": "ipython",
    "version": 3
   },
   "file_extension": ".py",
   "mimetype": "text/x-python",
   "name": "python",
   "nbconvert_exporter": "python",
   "pygments_lexer": "ipython3",
   "version": "3.7.3"
  }
 },
 "nbformat": 4,
 "nbformat_minor": 2
}
