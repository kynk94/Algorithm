{
 "cells": [
  {
   "cell_type": "markdown",
   "metadata": {},
   "source": [
    "Given an array of integers, calculate the fractions of its elements that are positive, negative, and are zeros. Print the decimal value of each fraction on a new line.\n",
    "\n",
    "<strong>Note:</strong> This challenge introduces precision problems. The test cases are scaled to six decimal places, though answers with absolute error of up to $10^{-4}$ are acceptable.  \n",
    "For example, given the array $arr = [1, 1, 0, -1, -1]$ there are $5$ elements, two positive, two negative and one zero. Their ratios would be $\\frac{2}{5} = 0.400000$, $\\frac{2}{5} = 0.400000$ and $\\frac{1}{5} = 0.200000$. It should be printed as\n",
    "```\n",
    "0.400000\n",
    "0.400000\n",
    "0.200000\n",
    "```\n",
    "<strong>Function Description</strong>  \n",
    "Complete the plusMinus function in the editor below. It should print out the ratio of positive, negative and zero items in the array, each on a separate line rounded to six decimals.  \n",
    "plusMinus has the following parameter(s):  \n",
    "* arr: an array of integers\n",
    "\n",
    "<strong>Input Format</strong>  \n",
    "The first line contains an integer, $n$, denoting the size of the array.\n",
    "The second line contains $n$ space-separated integers describing an array of numbers $arr(arr[0], arr[1], arr[2], ..., arr[n-1])$.\n",
    "\n",
    "<strong>Constraints</strong>  \n",
    "$0 < n \\le 100$  \n",
    "$-100 \\le arr[i] \\le 100$\n",
    "\n",
    "<strong>Output Format</strong>  \n",
    "You must print the following $3$ lines:  \n",
    "1. A decimal representing of the fraction of positive numbers in the array compared to its size.\n",
    "2. A decimal representing of the fraction of negative numbers in the array compared to its size.\n",
    "3. A decimal representing of the fraction of zeros in the array compared to its size.\n",
    "\n",
    "<strong>Sample Input</strong>  \n",
    "```\n",
    "6\n",
    "-4 3 -9 0 4 1         \n",
    "```\n",
    "\n",
    "<strong>Sample Output</strong>  \n",
    "```\n",
    "0.500000\n",
    "0.333333\n",
    "0.166667\n",
    "```\n",
    "\n",
    "<strong>Explanation</strong>  \n",
    "There are $3$ positive numbers, $2$ negative numbers, and $1$ zero in the array.\n",
    "The proportions of occurrence are positive: $\\frac{3}{6} = 0.500000$, negative: $\\frac{2}{6} = 0.333333$ and zeros: $\\frac{1}{6} = 0.166667$."
   ]
  },
  {
   "cell_type": "code",
   "execution_count": 1,
   "metadata": {},
   "outputs": [],
   "source": [
    "def plusMinus(arr):\n",
    "    count = len(arr)\n",
    "    positive = 0\n",
    "    negative = 0\n",
    "    zero = 0\n",
    "    for i in arr:\n",
    "        if i < 0:\n",
    "            negative += 1\n",
    "        elif i > 0:\n",
    "            positive += 1\n",
    "        else:\n",
    "            zero += 1\n",
    "    return positive / count, negative / count, zero / count"
   ]
  },
  {
   "cell_type": "code",
   "execution_count": 2,
   "metadata": {},
   "outputs": [
    {
     "name": "stdout",
     "output_type": "stream",
     "text": [
      "6\n",
      "-4 3 -9 0 4 1\n",
      "0.5\n",
      "0.333333\n",
      "0.166667\n"
     ]
    }
   ],
   "source": [
    "if __name__ == '__main__':\n",
    "    n = int(input())\n",
    "\n",
    "    arr = list(map(int, input().rstrip().split()))\n",
    "\n",
    "    result = plusMinus(arr)\n",
    "    for i in result:\n",
    "        print(\"{:.06}\".format(i))"
   ]
  }
 ],
 "metadata": {
  "kernelspec": {
   "display_name": "Python 3",
   "language": "python",
   "name": "python3"
  },
  "language_info": {
   "codemirror_mode": {
    "name": "ipython",
    "version": 3
   },
   "file_extension": ".py",
   "mimetype": "text/x-python",
   "name": "python",
   "nbconvert_exporter": "python",
   "pygments_lexer": "ipython3",
   "version": "3.7.3"
  }
 },
 "nbformat": 4,
 "nbformat_minor": 2
}
