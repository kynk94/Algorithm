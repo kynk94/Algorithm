{
 "cells": [
  {
   "cell_type": "markdown",
   "metadata": {},
   "source": [
    "Given a time in $12$-hour AM/PM format, convert it to military (24-hour) time.\n",
    "\n",
    "<strong>Note:</strong> Midnight is 12:00:00AM on a 12-hour clock, and 00:00:00 on a 24-hour clock. Noon is 12:00:00PM on a 12-hour clock, and 12:00:00 on a 24-hour clock.\n",
    "\n",
    "<strong>Function Description</strong>  \n",
    "Complete the timeConversion function in the editor below. It should return a new string representing the input time in 24 hour format.\n",
    "\n",
    "timeConversion has the following parameter(s):  \n",
    "* s: a string representing time in $12$ hour format\n",
    "\n",
    "<strong>Input Format</strong>  \n",
    "A single string $s$ containing a time in $12$-hour clock format (i.e.: $hh:mm:ssAM$ or $hh:mm:ssPM$), where $01 \\le hh \\le 12$ and $00 \\le mm, ss\\le 59$.\n",
    "\n",
    "<strong>Constraints</strong>  \n",
    "* All input times are valid\n",
    "\n",
    "<strong>Output Format</strong>  \n",
    "Convert and print the given time in $24$-hour format, where $00 \\le hh \\le 23$.\n",
    "\n",
    "<strong>Sample Input 0</strong>  \n",
    "```\n",
    "07:05:45PM\n",
    "```\n",
    "\n",
    "<strong>Sample Output 0</strong>  \n",
    "```\n",
    "19:05:45\n",
    "```"
   ]
  },
  {
   "cell_type": "code",
   "execution_count": 1,
   "metadata": {},
   "outputs": [],
   "source": [
    "def timeConversion(s):\n",
    "    hh = int(s[:2])\n",
    "    ms = s[2:-2]\n",
    "    AP = s[-2:]\n",
    "    if hh == 12:\n",
    "        if AP == 'AM':\n",
    "            return \"00{}\".format(ms)\n",
    "        else:\n",
    "            return s[:-2]\n",
    "    elif AP == 'AM':\n",
    "        return s[:-2]\n",
    "    else:\n",
    "        return \"{}{}\".format(str(hh + 12), ms)"
   ]
  },
  {
   "cell_type": "code",
   "execution_count": 2,
   "metadata": {},
   "outputs": [
    {
     "name": "stdout",
     "output_type": "stream",
     "text": [
      "07:05:45PM\n",
      "19:05:45\n"
     ]
    }
   ],
   "source": [
    "if __name__ == '__main__':\n",
    "    s = input()\n",
    "\n",
    "    result = timeConversion(s)\n",
    "    print(result)"
   ]
  }
 ],
 "metadata": {
  "kernelspec": {
   "display_name": "Python 3",
   "language": "python",
   "name": "python3"
  },
  "language_info": {
   "codemirror_mode": {
    "name": "ipython",
    "version": 3
   },
   "file_extension": ".py",
   "mimetype": "text/x-python",
   "name": "python",
   "nbconvert_exporter": "python",
   "pygments_lexer": "ipython3",
   "version": "3.7.3"
  }
 },
 "nbformat": 4,
 "nbformat_minor": 2
}
