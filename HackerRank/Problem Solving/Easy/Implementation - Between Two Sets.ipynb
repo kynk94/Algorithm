{
 "cells": [
  {
   "cell_type": "markdown",
   "metadata": {},
   "source": [
    "You will be given two arrays of integers and asked to determine all integers that satisfy the following two conditions:\n",
    "\n",
    "The elements of the first array are all factors of the integer being considered\n",
    "The integer being considered is a factor of all elements of the second array\n",
    "These numbers are referred to as being between the two arrays. You must determine how many such numbers exist.\n",
    "\n",
    "For example, given the arrays $a=[2,6]$ and $b=[24,36]$, there are two numbers between them: $6$ and $12$. $6\\%2=0$, $6\\%6=0$, $24\\%6=0$ and $36\\%6=0$ for the first value. Similarly, $12\\%2=0$, $12\\%6=0$ and $24\\%12=0$, $36\\%12=0$.\n",
    "\n",
    "<strong>Function Description</strong>  \n",
    "Complete the getTotalX function in the editor below. It should return the number of integers that are betwen the sets.\n",
    "\n",
    "getTotalX has the following parameter(s):  \n",
    "* a: an array of integers  \n",
    "* b: an array of integers\n",
    "\n",
    "<strong>Input Format</strong>  \n",
    "The first line contains two space-separated integers, $n$ and $m$, the number of elements in array $a$ and the number of elements in array $b$.  \n",
    "The second line contains $n$ distinct space-separated integers describing $a[i]$ where $0 \\le i < n$.  \n",
    "The third line contains $m$ distinct space-separated integers describing $b[j]$ where $0 \\le j < m$.\n",
    "\n",
    "<strong>Constraints</strong>  \n",
    "* $1 \\le n,m \\le 10$  \n",
    "* $1 \\le a[i] \\le 100$  \n",
    "* $1 \\le b[j] \\le 100$\n",
    "\n",
    "<strong>Output Format</strong>  \n",
    "Print the number of integers that are considered to be between $a$ and $b$.\n",
    "\n",
    "<strong>Sample Input</strong>  \n",
    "```\n",
    "2 3\n",
    "2 4\n",
    "16 32 96\n",
    "```\n",
    "\n",
    "<strong>Sample Output</strong>  \n",
    "```\n",
    "3\n",
    "```\n",
    "\n",
    "<strong>Explanation</strong>  \n",
    "2 and 4 divide evenly into 4, 8, 12 and 16.  \n",
    "4, 8 and 16 divide evenly into 16, 32, 96.  \n",
    "4, 8 and 16 are the only three numbers for which each element of a is a factor and each is a factor of all elements of b."
   ]
  },
  {
   "cell_type": "code",
   "execution_count": 1,
   "metadata": {},
   "outputs": [],
   "source": [
    "def getTotalX(a, b):\n",
    "    gcd = a[0]\n",
    "    lcm = gcd\n",
    "    for i in a[1:]:\n",
    "        lcm *= i\n",
    "        while i > 0:\n",
    "            gcd, i = i, gcd % i\n",
    "        lcm //= gcd\n",
    "        gcd = lcm\n",
    "    gcd = b[0]\n",
    "    for i in b[1:]:\n",
    "        while i > 0:\n",
    "            gcd, i = i, gcd % i\n",
    "    count = 0\n",
    "    for i in range(lcm, gcd//2 + 1, lcm):\n",
    "        if gcd % i == 0:\n",
    "            count += 1\n",
    "    if gcd % lcm == 0:\n",
    "        count += 1\n",
    "    return count"
   ]
  },
  {
   "cell_type": "code",
   "execution_count": 2,
   "metadata": {},
   "outputs": [
    {
     "name": "stdout",
     "output_type": "stream",
     "text": [
      "2 3\n",
      "2 4\n",
      "16 32 96\n",
      "3\n"
     ]
    }
   ],
   "source": [
    "if __name__ == '__main__':\n",
    "    first_multiple_input = input().rstrip().split()\n",
    "    n = int(first_multiple_input[0])\n",
    "    m = int(first_multiple_input[1])\n",
    "\n",
    "    arr = list(map(int, input().rstrip().split()))\n",
    "    brr = list(map(int, input().rstrip().split()))\n",
    "\n",
    "    total = getTotalX(arr, brr)\n",
    "    print(total)"
   ]
  }
 ],
 "metadata": {
  "kernelspec": {
   "display_name": "Python 3",
   "language": "python",
   "name": "python3"
  },
  "language_info": {
   "codemirror_mode": {
    "name": "ipython",
    "version": 3
   },
   "file_extension": ".py",
   "mimetype": "text/x-python",
   "name": "python",
   "nbconvert_exporter": "python",
   "pygments_lexer": "ipython3",
   "version": "3.7.3"
  }
 },
 "nbformat": 4,
 "nbformat_minor": 2
}
