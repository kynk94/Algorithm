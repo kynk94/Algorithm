{
 "cells": [
  {
   "cell_type": "markdown",
   "metadata": {},
   "source": [
    "Complete the function solveMeFirst to compute the sum of two integers.\n",
    "\n",
    "<strong>Function prototype:</strong>\n",
    "int solveMeFirst(int a, int b);\n",
    "\n",
    "where,  \n",
    "* a is the first integer input.\n",
    "* b is the second integer input\n",
    "\n",
    "<strong>Return values</strong>  \n",
    "* sum of the above two integers\n",
    "\n",
    "<strong>Sample Input</strong>  \n",
    "```\n",
    "a = 2\n",
    "b = 3\n",
    "```\n",
    "\n",
    "<strong>Sample Output</strong>  \n",
    "```\n",
    "5\n",
    "```\n",
    "\n",
    "<strong>Explanation</strong>  \n",
    "The sum of the two integers $a$ and $b$ is computed as: $2 + 3 = 5$."
   ]
  },
  {
   "cell_type": "code",
   "execution_count": 1,
   "metadata": {},
   "outputs": [],
   "source": [
    "def solveMeFirst(a, b):\n",
    "    return a + b"
   ]
  },
  {
   "cell_type": "code",
   "execution_count": 2,
   "metadata": {},
   "outputs": [
    {
     "name": "stdout",
     "output_type": "stream",
     "text": [
      "2\n",
      "3\n",
      "5\n"
     ]
    }
   ],
   "source": [
    "num1 = int(input())\n",
    "num2 = int(input())\n",
    "res = solveMeFirst(num1, num2)\n",
    "print(res)"
   ]
  }
 ],
 "metadata": {
  "kernelspec": {
   "display_name": "Python 3",
   "language": "python",
   "name": "python3"
  },
  "language_info": {
   "codemirror_mode": {
    "name": "ipython",
    "version": 3
   },
   "file_extension": ".py",
   "mimetype": "text/x-python",
   "name": "python",
   "nbconvert_exporter": "python",
   "pygments_lexer": "ipython3",
   "version": "3.7.3"
  }
 },
 "nbformat": 4,
 "nbformat_minor": 2
}
