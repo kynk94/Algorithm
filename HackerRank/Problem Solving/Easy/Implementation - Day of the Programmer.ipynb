{
 "cells": [
  {
   "cell_type": "markdown",
   "metadata": {},
   "source": [
    "Marie invented a <a href=\"https://en.wikipedia.org/wiki/Time_machine\" target=\"_blank\">Time Machine</a> and wants to test it by time-traveling to visit Russia on the <a href=\"https://en.wikipedia.org/wiki/Day_of_the_Programmer\">Day of the Programmer</a> (the $256^{th}$ day of the year) during a year in the inclusive range from $1700$ to $2700$.\n",
    "\n",
    "From $1700$ to $1917$, Russia's official calendar was the <a href=\"https://en.wikipedia.org/wiki/Julian_calendar\">Julian calendar</a>; since $1919$ they used the <a href=\"https://en.wikipedia.org/wiki/Gregorian_calendar\">Gregorian calendar</a> system. The transition from the Julian to Gregorian calendar system occurred in $1918$, when the next day after January $31^{st}$ was February $14^{th}$. This means that in $1918$, February $14^{th}$ was the $32^{nd}$ day of the year in Russia.\n",
    "\n",
    "In both calendar systems, February is the only month with a variable amount of days; it has $29$ days during a leap year, and $28$ days during all other years. In the Julian calendar, leap years are divisible by $4$; in the Gregorian calendar, leap years are either of the following:  \n",
    "* Divisible by $400$.  \n",
    "* Divisible by $4$ and not divisible by $100$.\n",
    "\n",
    "Given a year, $y$, find the date of the $256^{th}$ day of that year according to the official Russian calendar during that year. Then print it in the format dd.mm.yyyy, where dd is the two-digit day, mm is the two-digit month, and yyyy is $y$.\n",
    "\n",
    "For example, the given $year=1984$. $1984$ is divisible by $4$, so it is a leap year. The $256^{th}$ day of a leap year after $1918$ is September 12, so the answer is $12.09.1984$.\n",
    "\n",
    "<strong>Function Description</strong>  \n",
    "Complete the dayOfProgrammer function in the editor below. It should return a string representing the date of the $256^{th}$ day of the year given.\n",
    "\n",
    "dayOfProgrammer has the following parameter(s):  \n",
    "* year: an integer\n",
    "\n",
    "<strong>Input Format</strong>  \n",
    "A single integer denoting year $y$.\n",
    "\n",
    "<strong>Constraints</strong>  \n",
    "* $1700 \\le y \\le 2700$\n",
    "\n",
    "<strong>Output Format</strong>  \n",
    "Print the full date of Day of the Programmer during year $y$ in the format dd.mm.yyyy, where dd is the two-digit day, mm is the two-digit month, and yyyy is $y$.\n",
    "\n",
    "<strong>Sample Input 0</strong>  \n",
    "```\n",
    "2017\n",
    "```\n",
    "\n",
    "<strong>Sample Output 0</strong>  \n",
    "```\n",
    "13.09.2017\n",
    "```\n",
    "\n",
    "<strong>Explanation 0</strong>  \n",
    "In the year $y=2017$, January has $31$ days, February has $28$ days, March has $31$ days, April has $30$ days, May has $31$ days, June has $30$ days, July has $31$ days, and August has $31$ days. When we sum the total number of days in the first eight months, we get $31+28+31+30+31+30+31+31=243$. Day of the Programmer is the $256^{th}$ day, so then calculate $256-243=13$ to determine that it falls on day $13$ of the $9^{th}$ month (September). We then print the full date in the specified format, which is 13.09.2017.\n",
    "\n",
    "<strong>Sample Input 1</strong>  \n",
    "```\n",
    "2016\n",
    "```\n",
    "\n",
    "<strong>Sample Output 1</strong>  \n",
    "```\n",
    "12.09.2016\n",
    "```\n",
    "\n",
    "<strong>Explanation 1</strong>  \n",
    "Year $y=2016$ is a leap year, so February has $29$ days but all the other months have the same number of days as in . When we sum the total number of days in the first eight months, we get $31+29+31+30+31+30+31+31=244$. Day of the Programmer is the $256^{th}$ day, so then calculate $256-244=12$ to determine that it falls on day $12$ of the $9^{th}$ month (September). We then print the full date in the specified format, which is 12.09.2016.\n",
    "\n",
    "<strong>Sample Input 2</strong>  \n",
    "```\n",
    "1800\n",
    "```\n",
    "\n",
    "<strong>Sample Output 2</strong>  \n",
    "```\n",
    "12.09.1800\n",
    "```\n",
    "\n",
    "<strong>Explanation 2</strong>  \n",
    "Since 1800 is leap year. Day lies on 12 September."
   ]
  },
  {
   "cell_type": "code",
   "execution_count": 1,
   "metadata": {},
   "outputs": [],
   "source": [
    "def dayOfProgrammer(year):\n",
    "    if year == 1918:\n",
    "        return \"26.09.1918\"\n",
    "    elif ((year < 1918 and year % 4 == 0)\n",
    "            or year % 400 == 0\n",
    "            or (year % 4 == 0 and year % 100 != 0)):\n",
    "        return \"12.09.{}\".format(year)\n",
    "    else:\n",
    "        return \"13.09.{}\".format(year)"
   ]
  },
  {
   "cell_type": "code",
   "execution_count": 2,
   "metadata": {},
   "outputs": [
    {
     "name": "stdout",
     "output_type": "stream",
     "text": [
      "2016\n",
      "12.09.2016\n"
     ]
    }
   ],
   "source": [
    "if __name__ == '__main__':\n",
    "    year = int(input().strip())\n",
    "\n",
    "    result = dayOfProgrammer(year)\n",
    "    print(result)"
   ]
  }
 ],
 "metadata": {
  "kernelspec": {
   "display_name": "Python 3",
   "language": "python",
   "name": "python3"
  },
  "language_info": {
   "codemirror_mode": {
    "name": "ipython",
    "version": 3
   },
   "file_extension": ".py",
   "mimetype": "text/x-python",
   "name": "python",
   "nbconvert_exporter": "python",
   "pygments_lexer": "ipython3",
   "version": "3.7.3"
  }
 },
 "nbformat": 4,
 "nbformat_minor": 2
}
