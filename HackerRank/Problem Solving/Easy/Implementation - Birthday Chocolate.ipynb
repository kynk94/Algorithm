{
 "cells": [
  {
   "cell_type": "markdown",
   "metadata": {},
   "source": [
    "Lily has a chocolate bar that she wants to share it with Ron for his birthday. Each of the squares has an integer on it. She decides to share a contiguous segment of the bar selected such that the length of the segment matches Ron's birth month and the sum of the integers on the squares is equal to his birth day. You must determine how many ways she can divide the chocolate.\n",
    "\n",
    "Consider the chocolate bar as an array of squares, $s=[2,2,1,3,2]$. She wants to find segments summing to Ron's birth day, $d=4$ with a length equalling his birth month, $m=2$. In this case, there are two segments meeting her criteria: $[2,2]$ and $[1,3]$.\n",
    "\n",
    "<strong>Function Description</strong>  \n",
    "Complete the birthday function in the editor below. It should return an integer denoting the number of ways Lily can divide the chocolate bar.\n",
    "\n",
    "birthday has the following parameter(s):  \n",
    "* s: an array of integers, the numbers on each of the squares of chocolate  \n",
    "* d: an integer, Ron's birth day  \n",
    "* m: an integer, Ron's birth month\n",
    "\n",
    "<strong>Input Format</strong>  \n",
    "The first line contains an integer $n$, the number of squares in the chocolate bar.  \n",
    "The second line contains $n$ space-separated integers $s[i]$, the numbers on the chocolate squares where $0 \\le i < n$.  \n",
    "The third line contains two space-separated integers, $d$ and $m$, Ron's birth day and his birth month.\n",
    "\n",
    "<strong>Constraints</strong>  \n",
    "* $1 \\le n \\le 100$  \n",
    "* $1 \\le s[i] \\le 5$, where ($0 \\le i < n$)  \n",
    "* $1 \\le d \\le 31$  \n",
    "* $1 \\le m \\le 12$\n",
    "\n",
    "<strong>Output Format</strong>  \n",
    "Print an integer denoting the total number of ways that Lily can portion her chocolate bar to share with Ron.\n",
    "\n",
    "<strong>Sample Input 0</strong>  \n",
    "```\n",
    "5\n",
    "1 2 1 3 2\n",
    "3 2\n",
    "```\n",
    "\n",
    "<strong>Sample Output 0</strong>  \n",
    "```\n",
    "2\n",
    "```\n",
    "\n",
    "<strong>Explanation 0</strong>  \n",
    "Lily wants to give Ron $m=2$ squares summing to $d=3$. The following two segments meet the criteria:\n",
    "\n",
    "<img src=\"https://s3.amazonaws.com/hr-assets/0/1489060874-a04ddb06cf-choco4.png\" alt=\"image\" title=\"\">\n",
    "\n",
    "<strong>Sample Input 1</strong>  \n",
    "```\n",
    "6\n",
    "1 1 1 1 1 1\n",
    "3 2\n",
    "```\n",
    "\n",
    "<strong>Sample Output 1</strong>  \n",
    "```\n",
    "0\n",
    "```\n",
    "\n",
    "<strong>Explanation 1</strong>\n",
    "\n",
    "Lily only wants to give Ron $m=2$ consecutive squares of chocolate whose integers sum to $d=3$. There are no possible pieces satisfying these constraints:\n",
    "\n",
    "<img src=\"https://s3.amazonaws.com/hr-assets/0/1489060978-e33d905668-choco5.png\" alt=\"image\" title=\"\">\n",
    "\n",
    "Thus, we print $0$ as our answer.\n",
    "\n",
    "<strong>Sample Input 2</strong>  \n",
    "```\n",
    "1\n",
    "4\n",
    "4 1\n",
    "```\n",
    "\n",
    "<strong>Sample Output 2</strong>  \n",
    "```\n",
    "1\n",
    "```\n",
    "\n",
    "<strong>Explanation 2</strong>\n",
    "\n",
    "Lily only wants to give Ron $m=1$ square of chocolate with an integer value of $d=4$. Because the only square of chocolate in the bar satisfies this constraint, we print $1$ as our answer."
   ]
  },
  {
   "cell_type": "code",
   "execution_count": 1,
   "metadata": {},
   "outputs": [],
   "source": [
    "def birthday(s, d, m):\n",
    "    s_sum, count = 0, 0\n",
    "    minus = m - 1\n",
    "    cut = m - 2\n",
    "    for i, j in enumerate(s):\n",
    "        s_sum += j\n",
    "        if i > minus:\n",
    "            s_sum -= s[i - m]\n",
    "        if i > cut and s_sum == d:\n",
    "            count += 1\n",
    "    return count"
   ]
  },
  {
   "cell_type": "code",
   "execution_count": 2,
   "metadata": {},
   "outputs": [
    {
     "name": "stdout",
     "output_type": "stream",
     "text": [
      "5\n",
      "1 2 1 3 2\n",
      "3 2\n",
      "2\n"
     ]
    }
   ],
   "source": [
    "if __name__ == '__main__':\n",
    "    n = int(input().strip())\n",
    "    s = list(map(int, input().rstrip().split()))\n",
    "    dm = input().rstrip().split()\n",
    "    d = int(dm[0])\n",
    "    m = int(dm[1])\n",
    "\n",
    "    result = birthday(s, d, m)\n",
    "    print(result)"
   ]
  }
 ],
 "metadata": {
  "kernelspec": {
   "display_name": "Python 3",
   "language": "python",
   "name": "python3"
  },
  "language_info": {
   "codemirror_mode": {
    "name": "ipython",
    "version": 3
   },
   "file_extension": ".py",
   "mimetype": "text/x-python",
   "name": "python",
   "nbconvert_exporter": "python",
   "pygments_lexer": "ipython3",
   "version": "3.7.3"
  }
 },
 "nbformat": 4,
 "nbformat_minor": 2
}
