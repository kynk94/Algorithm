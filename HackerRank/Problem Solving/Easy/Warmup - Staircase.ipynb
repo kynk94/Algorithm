{
 "cells": [
  {
   "cell_type": "markdown",
   "metadata": {},
   "source": [
    "Consider a staircase of size $n = 4$:  \n",
    "```\n",
    "   #\n",
    "  ##\n",
    " ###\n",
    "####\n",
    "```\n",
    "\n",
    "Observe that its base and height are both equal to $n$, and the image is drawn using # symbols and spaces. The last line is not preceded by any spaces.  \n",
    "Write a program that prints a staircase of size $n$.\n",
    "\n",
    "<strong>Function Description</strong>  \n",
    "Complete the staircase function in the editor below. It should print a staircase as described above.  \n",
    "staircase has the following parameter(s):  \n",
    "* n: an integer\n",
    "\n",
    "<strong>Input Format</strong>  \n",
    "A single integer, $n$, denoting the size of the staircase.\n",
    "\n",
    "<strong>Constraints</strong>  \n",
    "$0 < n \\le 100$\n",
    "\n",
    "<strong>Output Format</strong>  \n",
    "Print a staircase of size $n$ using # symbols and spaces.  \n",
    "<strong>Note:</strong> The last line must have $0$ spaces in it.\n",
    "\n",
    "<strong>Sample Input</strong>  \n",
    "```\n",
    "6\n",
    "```\n",
    "\n",
    "<strong>Sample Output</strong>  \n",
    "```\n",
    "     #\n",
    "    ##\n",
    "   ###\n",
    "  ####\n",
    " #####\n",
    "######\n",
    "```\n",
    "\n",
    "<strong>Explanation</strong>  \n",
    "The staircase is right-aligned, composed of # symbols and spaces, and has a height and width of $n = 6$."
   ]
  },
  {
   "cell_type": "code",
   "execution_count": 1,
   "metadata": {},
   "outputs": [],
   "source": [
    "def staircase(n):\n",
    "    for i in range(n):\n",
    "        print(\"{}{}\".format((n - 1 - i)*' ', (i + 1)*'#'))"
   ]
  },
  {
   "cell_type": "code",
   "execution_count": 2,
   "metadata": {},
   "outputs": [
    {
     "name": "stdout",
     "output_type": "stream",
     "text": [
      "6\n",
      "     #\n",
      "    ##\n",
      "   ###\n",
      "  ####\n",
      " #####\n",
      "######\n"
     ]
    }
   ],
   "source": [
    "if __name__ == '__main__':\n",
    "    n = int(input())\n",
    "\n",
    "    staircase(n)"
   ]
  }
 ],
 "metadata": {
  "kernelspec": {
   "display_name": "Python 3",
   "language": "python",
   "name": "python3"
  },
  "language_info": {
   "codemirror_mode": {
    "name": "ipython",
    "version": 3
   },
   "file_extension": ".py",
   "mimetype": "text/x-python",
   "name": "python",
   "nbconvert_exporter": "python",
   "pygments_lexer": "ipython3",
   "version": "3.7.3"
  }
 },
 "nbformat": 4,
 "nbformat_minor": 2
}
