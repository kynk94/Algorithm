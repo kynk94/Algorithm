{
 "cells": [
  {
   "cell_type": "markdown",
   "metadata": {},
   "source": [
    "Sam's house has an apple tree and an orange tree that yield an abundance of fruit. In the diagram below, the red region denotes his house, where $s$ is the start point, and $t$ is the endpoint. The apple tree is to the left of his house, and the orange tree is to its right. You can assume the trees are located on a single point, where the apple tree is at point $a$, and the orange tree is at point $b$.\n",
    "\n",
    "<img src=\"https://s3.amazonaws.com/hr-challenge-images/25220/1474218925-f2a791d52c-Appleandorange2.png\" alt=\"Apple and orange(2).png\" title=\"\">\n",
    "\n",
    "When a fruit falls from its tree, it lands $d$ units of distance from its tree of origin along the $x$-axis. A negative value of $d$ means the fruit fell $d$ units to the tree's left, and a positive value of $d$ means it falls $d$ units to the tree's right.\n",
    "\n",
    "Given the value of $d$ for $m$ apples and $n$ oranges, determine how many apples and oranges will fall on Sam's house (i.e., in the inclusive range $[s,t]$)?\n",
    "\n",
    "For example, Sam's house is between $s=7$ and $t=10$. The apple tree is located at $a=4$ and the orange at $b=12$. There are $m=3$ apples and $n=4$ oranges. Apples are thrown $apples=[2,3,-4]$ units distance from $a$, and $oranges=[3,-2,-4]$ units distance. Adding each apple distance to the position of the tree, they land at $[4+2,4+3+4+-4]=[6,7,0]$. Oranges land at $[12+3,12+-2,12+-4]=[15,10,8]$. One apple and two oranges land in the inclusive range $7-10$ so we print  \n",
    "```\n",
    "1\n",
    "2\n",
    "```\n",
    "\n",
    "<strong>Function Description</strong>  \n",
    "Complete the countApplesAndOranges function in the editor below. It should print the number of apples and oranges that land on Sam's house, each on a separate line.\n",
    "\n",
    "countApplesAndOranges has the following parameter(s):  \n",
    "* s: integer, starting point of Sam's house location.\n",
    "* t: integer, ending location of Sam's house location.\n",
    "* a: integer, location of the Apple tree.\n",
    "* b: integer, location of the Orange tree.\n",
    "* apples: integer array, distances at which each apple falls from the tree.\n",
    "* oranges: integer array, distances at which each orange falls from the tree.\n",
    "\n",
    "<strong>Input Format</strong>  \n",
    "The first line contains two space-separated integers denoting the respective values of $s$ and $t$.  \n",
    "The second line contains two space-separated integers denoting the respective values of $a$ and $b$.  \n",
    "The third line contains two space-separated integers denoting the respective values of $m$ and $n$.  \n",
    "The fourth line contains  space-separated integers denoting the respective distances that each apple falls from point $a$.  \n",
    "The fifth line contains  space-separated integers denoting the respective distances that each orange falls from point $b$.\n",
    "\n",
    "<strong>Constraints</strong>  \n",
    "* $1 \\le s,t,a,b,m,n \\le 10^5$  \n",
    "* $-10^5 \\le d \\le 10^5$  \n",
    "* $a<s<t<b$\n",
    "\n",
    "<strong>Output Format</strong>  \n",
    "Print two integers on two different lines:  \n",
    "1. The first integer: the number of apples that fall on Sam's house.  \n",
    "2. The second integer: the number of oranges that fall on Sam's house.\n",
    "\n",
    "<strong>Sample Input 0</strong>  \n",
    "```\n",
    "7 11\n",
    "5 15\n",
    "3 2\n",
    "-2 2 1\n",
    "5 -6\n",
    "```\n",
    "\n",
    "<strong>Sample Output 0</strong>  \n",
    "```\n",
    "1\n",
    "1\n",
    "```\n",
    "\n",
    "<strong>Explanation 0</strong>  \n",
    "The first apple falls at position $5-2=3$.  \n",
    "The second apple falls at position $5+2=7$.  \n",
    "The third apple falls at position $5+1=6$.  \n",
    "The first orange falls at position $15+5=20$.  \n",
    "The second orange falls at position $15-6=9$.  \n",
    "Only one fruit (the second apple) falls within the region between $7$ and $11$, so we print $1$ as our first line of output.  \n",
    "Only the second orange falls within the region between $7$ and $11$, so we print $1$ as our second line of output."
   ]
  },
  {
   "cell_type": "code",
   "execution_count": 1,
   "metadata": {},
   "outputs": [],
   "source": [
    "def countApplesAndOranges(s, t, a, b, apples, oranges):\n",
    "    d_as = s - a - 1\n",
    "    d_at = t - a + 1\n",
    "    d_bs = s - b - 1\n",
    "    d_bt = t - b + 1\n",
    "    count_a, count_b = 0, 0    \n",
    "    for i in apples:\n",
    "        if d_as < i < d_at:\n",
    "            count_a += 1\n",
    "    for i in oranges:\n",
    "        if d_bs < i < d_bt:\n",
    "            count_b += 1\n",
    "    return count_a, count_b"
   ]
  },
  {
   "cell_type": "code",
   "execution_count": 2,
   "metadata": {},
   "outputs": [
    {
     "name": "stdout",
     "output_type": "stream",
     "text": [
      "7 11\n",
      "5 15\n",
      "3 2\n",
      "-2 2 1\n",
      "5 -6\n",
      "1\n",
      "1\n"
     ]
    }
   ],
   "source": [
    "if __name__ == '__main__':\n",
    "    st = input().split()\n",
    "    s = int(st[0])\n",
    "    t = int(st[1])\n",
    "    \n",
    "    ab = input().split()\n",
    "    a = int(ab[0])\n",
    "    b = int(ab[1])\n",
    "    \n",
    "    mn = input().split()\n",
    "    m = int(mn[0])\n",
    "    n = int(mn[1])\n",
    "    \n",
    "    apples = list(map(int, input().rstrip().split()))\n",
    "    oranges = list(map(int, input().rstrip().split()))\n",
    "\n",
    "    result = countApplesAndOranges(s, t, a, b, apples, oranges)\n",
    "    print(\"\\n\".join(map(str,result)))"
   ]
  }
 ],
 "metadata": {
  "kernelspec": {
   "display_name": "Python 3",
   "language": "python",
   "name": "python3"
  },
  "language_info": {
   "codemirror_mode": {
    "name": "ipython",
    "version": 3
   },
   "file_extension": ".py",
   "mimetype": "text/x-python",
   "name": "python",
   "nbconvert_exporter": "python",
   "pygments_lexer": "ipython3",
   "version": "3.7.3"
  }
 },
 "nbformat": 4,
 "nbformat_minor": 2
}
