{
 "cells": [
  {
   "cell_type": "markdown",
   "metadata": {},
   "source": [
    "Alice and Bob each created one problem for HackerRank. A reviewer rates the two challenges, awarding points on a scale from $1$ to $100$ for three categories: problem clarity, originality, and difficulty.\n",
    "\n",
    "We define the rating for Alice's challenge to be the triplet $a = (a[0], a[1], a[2])$>, and the rating for Bob's challenge to be the triplet $b = (b[0], b[1], b[2])$.\n",
    "\n",
    "Your task is to find their comparison points by comparing $a[0]$ with $b[0]$, $a[1]$ with $b[1]$, and $a[2]$ with $b[2]$.\n",
    "\n",
    "* If $a[i] > b[i]$, then Alice is awarded $1$ point.\n",
    "* If $a[i] < b[i]$, then Bob is awarded $1$ point.\n",
    "* If $a[i] = b[i]$, then neither person receives a point.\n",
    "    \n",
    "Comparison points is the total points a person earned.\n",
    "\n",
    "Given $a$ and $b$, determine their respective comparison points.\n",
    "\n",
    "For example, $a = [1, 2, 3]$ and $b = [3, 2, 1]$. For elements $0$, Bob is awarded a point because $a[0] < b[0]$. For the equal elements $a[1]$ and $b[1]$, no points are earned. Finally, for elements $2$, $a[2] > b[2]$ so Alice receives a point. Your return array would be $[1, 1]$ with Alice's score first and Bob's second.\n",
    "\n",
    "<strong>Function Description</strong>  \n",
    "Complete the function compareTriplets in the editor below. It must return an array of two integers, the first being Alice's score and the second being Bob's.  \n",
    "compareTriplets has the following parameter(s):  \n",
    "* a: an array of integers representing Alice's challenge rating\n",
    "* b: an array of integers representing Bob's challenge rating\n",
    "\n",
    "<strong>Input Format</strong>  \n",
    "The first line contains $3$ space-separated integers, $a[0]$, $a[1]$, and $a[2]$, describing the respective values in triplet $a$.  \n",
    "The second line contains $3$ space-separated integers, $b[0]$, $b[1]$, and $b[2]$, describing the respective values in triplet $b$.\n",
    "\n",
    "<strong>Constraints</strong>  \n",
    "$1 \\le a[i] \\le 100$  \n",
    "$1 \\le b[1] \\le 100$\n",
    "\n",
    "<strong>Output Format</strong>  \n",
    "Return an array of two integers denoting the respective comparison points earned by Alice and Bob.\n",
    "\n",
    "<strong>Sample Input 0</strong>  \n",
    "```\n",
    "5 6 7\n",
    "3 6 10\n",
    "```\n",
    "\n",
    "<strong>Sample Output 0</strong>  \n",
    "```\n",
    "1 1\n",
    "```\n",
    "\n",
    "<strong>Explanation 0</strong>  \n",
    "In this example:  \n",
    "* $a = (a[0], a[1], a[2]) = (5, 6, 7)$\n",
    "* $b = (b[0], b[1], b[2]) = (3, 6, 10)$\n",
    "\n",
    "Now, let's compare each individual score:  \n",
    "* $a[0] > b[0]$, so Alice receives $1$ point.\n",
    "* $a[1] = b[1]$, so nobody receives a point.\n",
    "* $a[2] < b[2]$, so Bob receives $1$ point.\n",
    "\n",
    "Alice's comparison score is $1$, and Bob's comparison score is $1$. Thus, we return the array $[1, 1]$.\n",
    "\n",
    "<strong>Sample Input 1</strong>  \n",
    "```\n",
    "17 28 30\n",
    "99 16 8\n",
    "```\n",
    "\n",
    "<strong>Sample Output 1</strong>  \n",
    "```\n",
    "2 1\n",
    "```\n",
    "\n",
    "<strong>Explanation 1</strong>  \n",
    "Comparing the $0^{th}$ elements, $17 < 99$ so Bob receives a point.  \n",
    "Comparing the $1^{st}$ and $2^{nd}$ elements, $28 > 16$ and $30 > 8$ so Alice receives two points.  \n",
    "The return array is $[2, 1]$."
   ]
  },
  {
   "cell_type": "code",
   "execution_count": 1,
   "metadata": {},
   "outputs": [],
   "source": [
    "def compareTriplets(a, b):\n",
    "    res = [0, 0]\n",
    "    for i, j in zip(a, b):\n",
    "        if i > j:\n",
    "            res[0] += 1\n",
    "        elif i < j:\n",
    "            res[1] += 1\n",
    "    return res"
   ]
  },
  {
   "cell_type": "code",
   "execution_count": 2,
   "metadata": {},
   "outputs": [
    {
     "name": "stdout",
     "output_type": "stream",
     "text": [
      "17 28 30\n",
      "99 16 8\n",
      "[2, 1]\n"
     ]
    }
   ],
   "source": [
    "if __name__ == '__main__':\n",
    "    a = list(map(int, input().rstrip().split()))\n",
    "    b = list(map(int, input().rstrip().split()))\n",
    "\n",
    "    result = compareTriplets(a, b)\n",
    "    print(result)"
   ]
  }
 ],
 "metadata": {
  "kernelspec": {
   "display_name": "Python 3",
   "language": "python",
   "name": "python3"
  },
  "language_info": {
   "codemirror_mode": {
    "name": "ipython",
    "version": 3
   },
   "file_extension": ".py",
   "mimetype": "text/x-python",
   "name": "python",
   "nbconvert_exporter": "python",
   "pygments_lexer": "ipython3",
   "version": "3.7.3"
  }
 },
 "nbformat": 4,
 "nbformat_minor": 2
}
