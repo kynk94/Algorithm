{
 "cells": [
  {
   "cell_type": "markdown",
   "metadata": {},
   "source": [
    "Brie’s Drawing teacher asks her class to open their books to a page number. Brie can either start turning pages from the front of the book or from the back of the book. She always turns pages one at a time. When she opens the book, page $1$ is always on the right side:\n",
    "\n",
    "<img src=\"https://s3.amazonaws.com/hr-challenge-images/0/1481920803-d2b54f38f0-book.png\" alt=\"image\" title=\"\">\n",
    "\n",
    "When she flips page $1$, she sees pages $2$ and $3$. Each page except the last page will always be printed on both sides. The last page may only be printed on the front, given the length of the book. If the book is $n$ pages long, and she wants to turn to page $p$, what is the minimum number of pages she will turn? She can start at the beginning or the end of the book.\n",
    "\n",
    "Given $n$ and $p$, find and print the minimum number of pages Brie must turn in order to arrive at page $p$.\n",
    "\n",
    "<strong>Function Description</strong>  \n",
    "Complete the pageCount function in the editor below. It should return the minimum number of pages Brie must turn.\n",
    "\n",
    "pageCount has the following parameter(s):  \n",
    "* n: the number of pages in the book  \n",
    "* p: the page number to turn to\n",
    "\n",
    "<strong>Input Format</strong>  \n",
    "The first line contains an integer $n$, the number of pages in the book.  \n",
    "The second line contains an integer, $p$, the page that Brie's teacher wants her to turn to.\n",
    "\n",
    "<strong>Constraints</strong>  \n",
    "* $1 \\le n \\le 10^5$  \n",
    "* $1 \\le p \\le n$\n",
    "\n",
    "<strong>Output Format</strong>  \n",
    "Print an integer denoting the minimum number of pages Brie must turn to get to page $p$.\n",
    "\n",
    "<strong>Sample Input 0</strong>  \n",
    "```\n",
    "6\n",
    "2\n",
    "```\n",
    "\n",
    "<strong>Sample Output 0</strong>  \n",
    "```\n",
    "1\n",
    "```\n",
    "\n",
    "<strong>Explanation 0</strong>  \n",
    "If Brie starts turning from page $1$, she only needs to turn $1$ page:\n",
    "\n",
    "<img src=\"https://s3.amazonaws.com/hr-challenge-images/22564/1467398713-1decf68d06-UntitledDiagram6.png\" alt=\"Untitled Diagram(6).png\" title=\"\">\n",
    "\n",
    "If Brie starts turning from page $6$, she needs to turn $2$ pages:\n",
    "\n",
    "<img src=\"https://s3.amazonaws.com/hr-challenge-images/22564/1467397150-52d0a8213b-UntitledDiagram3.png\" alt=\"Untitled Diagram(3).png\" title=\"\">\n",
    "\n",
    "Because we want to print the minumum number of page turns, we print $1$ as our answer.\n",
    "\n",
    "<strong>Sample Input 1</strong>  \n",
    "```\n",
    "5\n",
    "4\n",
    "```\n",
    "\n",
    "<strong>Sample Output 1</strong>  \n",
    "```\n",
    "0\n",
    "```\n",
    "\n",
    "<strong>Explanation 1</strong>  \n",
    "If Brie starts turning from page $1$, she needs to turn $2$ pages:\n",
    "\n",
    "<img src=\"https://s3.amazonaws.com/hr-challenge-images/22564/1467398281-32b69f6fa9-UntitledDiagram4.png\" alt=\"Untitled Diagram(4).png\" title=\"\">\n",
    "\n",
    "If Brie starts turning from page $5$, she doesn't need to turn any pages:\n",
    "\n",
    "<img src=\"https://s3.amazonaws.com/hr-challenge-images/22564/1467398392-5d9ac72e45-UntitledDiagram5.png\" alt=\"Untitled Diagram(5).png\" title=\"\">\n",
    "\n",
    "Because we want to print the minimum number of page turns, we print $0$ as our answer."
   ]
  },
  {
   "cell_type": "code",
   "execution_count": null,
   "metadata": {},
   "outputs": [],
   "source": [
    "def pageCount(n, p):"
   ]
  },
  {
   "cell_type": "code",
   "execution_count": null,
   "metadata": {},
   "outputs": [],
   "source": [
    "if __name__ == '__main__':\n",
    "    n = int(input())\n",
    "    p = int(input())\n",
    "\n",
    "    result = pageCount(n, p)\n",
    "    print(result)"
   ]
  }
 ],
 "metadata": {
  "kernelspec": {
   "display_name": "Python 3",
   "language": "python",
   "name": "python3"
  },
  "language_info": {
   "codemirror_mode": {
    "name": "ipython",
    "version": 3
   },
   "file_extension": ".py",
   "mimetype": "text/x-python",
   "name": "python",
   "nbconvert_exporter": "python",
   "pygments_lexer": "ipython3",
   "version": "3.7.3"
  }
 },
 "nbformat": 4,
 "nbformat_minor": 2
}
