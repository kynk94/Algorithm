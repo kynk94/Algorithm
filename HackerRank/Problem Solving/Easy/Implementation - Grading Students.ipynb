{
 "cells": [
  {
   "cell_type": "markdown",
   "metadata": {},
   "source": [
    "HackerLand University has the following grading policy:  \n",
    "* Every student receives a $grade$ in the inclusive range from $0$ to $100$.  \n",
    "* Any $grade$ less than $40$ is a failing grade.  \n",
    "\n",
    "Sam is a professor at the university and likes to round each student's $grade$ according to these rules:  \n",
    "* If the difference between the $grade$ and the next multiple of $5$ is less than $3$, round $grade$ up to the next multiple of $5$.  \n",
    "* If the value of $grade$ is less than $38$, no rounding occurs as the result will still be a failing grade.\n",
    "\n",
    "For example, $grade=84$ will be rounded to $85$ but $grade=29$ will not be rounded because the rounding would result in a number that is less than $40$.  \n",
    "Given the initial value of $grade$ for each of Sam's $n$ students, write code to automate the rounding process.\n",
    "\n",
    "<strong>Function Description</strong>  \n",
    "Complete the function gradingStudents in the editor below. It should return an integer array consisting of rounded grades.\n",
    "\n",
    "gradingStudents has the following parameter(s):  \n",
    "* grades: an array of integers representing grades before rounding\n",
    "\n",
    "<strong>Input Format</strong>  \n",
    "The first line contains a single integer, $n$, the number of students.  \n",
    "Each line $i$ of the $n$ subsequent lines contains a single integer, $grades[i]$, denoting student $i$'s grade.\n",
    "\n",
    "<strong>Constraints</strong>  \n",
    "* $1 \\le n \\le 60$  \n",
    "* $0 \\le grades[i] \\le 100$\n",
    "\n",
    "<strong>Output Format</strong>  \n",
    "For each $grades[i]$, print the rounded grade on a new line.\n",
    "\n",
    "<strong>Sample Input 0</strong>  \n",
    "```\n",
    "4\n",
    "73\n",
    "67\n",
    "38\n",
    "33\n",
    "```\n",
    "\n",
    "<strong>Sample Output 0</strong>  \n",
    "```\n",
    "75\n",
    "67\n",
    "40\n",
    "33\n",
    "```\n",
    "<strong>Explanation 0</strong>  \n",
    "<img src=\"https://s3.amazonaws.com/hr-challenge-images/0/1484768684-54439977a1-curving2.png\" alt=\"image\" title=\"\">\n",
    "\n",
    "1. Student $1$ received a $73$, and the next multiple of $5$ from $73$ is $75$. Since $75-73<3$, the student's grade is rounded to $75$.\n",
    "2. Student $2$ received a $67$, and the next multiple of $5$ from $67$ is $70$. Since $70-67=3$, the grade will not be modified and the student's final grade is $67$.\n",
    "3. Student $3$ received a $38$, and the next multiple of $5$ from $38$ is $40$. Since $40-38<3$, the student's grade will be rounded to $40$.\n",
    "4. Student $4$ received a grade below $38$, so the grade will not be modified and the student's final grade is $33$."
   ]
  },
  {
   "cell_type": "code",
   "execution_count": 1,
   "metadata": {},
   "outputs": [],
   "source": [
    "def gradingStudents(grades):\n",
    "    final = []\n",
    "    for i in grades:\n",
    "        remain = i % 5\n",
    "        if i < 38:\n",
    "            final.append(i)\n",
    "        elif remain > 2:\n",
    "            final.append(i - remain + 5)\n",
    "        else:\n",
    "            final.append(i)\n",
    "    return final"
   ]
  },
  {
   "cell_type": "code",
   "execution_count": 2,
   "metadata": {},
   "outputs": [
    {
     "data": {
      "text/plain": [
       "2"
      ]
     },
     "execution_count": 2,
     "metadata": {},
     "output_type": "execute_result"
    }
   ],
   "source": [
    "5 - 73 % 5"
   ]
  },
  {
   "cell_type": "code",
   "execution_count": 3,
   "metadata": {},
   "outputs": [
    {
     "name": "stdout",
     "output_type": "stream",
     "text": [
      "4\n",
      "73\n",
      "67\n",
      "38\n",
      "33\n",
      "75\n",
      "67\n",
      "40\n",
      "33\n"
     ]
    }
   ],
   "source": [
    "if __name__ == '__main__':\n",
    "    grades_count = int(input().strip())\n",
    "    grades = []\n",
    "    for _ in range(grades_count):\n",
    "        grades_item = int(input().strip())\n",
    "        grades.append(grades_item)\n",
    "\n",
    "    result = gradingStudents(grades)\n",
    "\n",
    "    print('\\n'.join(map(str, result)))"
   ]
  }
 ],
 "metadata": {
  "kernelspec": {
   "display_name": "Python 3",
   "language": "python",
   "name": "python3"
  },
  "language_info": {
   "codemirror_mode": {
    "name": "ipython",
    "version": 3
   },
   "file_extension": ".py",
   "mimetype": "text/x-python",
   "name": "python",
   "nbconvert_exporter": "python",
   "pygments_lexer": "ipython3",
   "version": "3.7.3"
  }
 },
 "nbformat": 4,
 "nbformat_minor": 2
}
