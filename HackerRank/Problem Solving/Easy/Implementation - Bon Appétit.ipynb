{
 "cells": [
  {
   "cell_type": "markdown",
   "metadata": {},
   "source": [
    "Anna and Brian are sharing a meal at a restuarant and they agree to split the bill equally. Brian wants to order something that Anna is allergic to though, and they agree that Anna won't pay for that item. Brian gets the check and calculates Anna's portion. You must determine if his calculation is correct.\n",
    "\n",
    "For example, assume the bill has the following prices: $bill=[2,4,6]$. Anna declines to eat item $k=bill[2]$ which costs $6$. If Brian calculates the bill correctly, Anna will pay $(2+4)2=3$. If he includes the cost of $bill[2]$, he will calculate $(2+4+6)/2=6$. In the second case, he should refund $3$ to Anna.\n",
    "\n",
    "<strong>Function Description</strong>  \n",
    "Complete the bonAppetit function in the editor below. It should print Bon Appetit if the bill is fairly split. Otherwise, it should print the integer amount of money that Brian owes Anna.\n",
    "\n",
    "bonAppetit has the following parameter(s):  \n",
    "* bill: an array of integers representing the cost of each item ordered  \n",
    "* k: an integer representing the zero-based index of the item Anna doesn't eat  \n",
    "* b: the amount of money that Anna contributed to the bill\n",
    "\n",
    "<strong>Input Format</strong>  \n",
    "The first line contains two space-separated integers $n$ and $k$, the number of items ordered and the $0$-based index of the item that Anna did not eat.  \n",
    "The second line contains $n$ space-separated integers $bill[i]$ where $0 \\le i < n$.  \n",
    "The third line contains an integer, $b$, the amount of money that Brian charged Anna for her share of the bill.\n",
    "\n",
    "<strong>Constraints</strong>  \n",
    "* $2 \\le n \\le 10^5$  \n",
    "* $0 \\le k < n$  \n",
    "* $0 \\le bill[i] \\le 10^4$  \n",
    "* $0 \\le b \\le \\sum_{i=0}^{n-1} bill[i]$  \n",
    "* The amount of money due Anna will always be an integer\n",
    "\n",
    "<strong>Output Format</strong>  \n",
    "If Brian did not overcharge Anna, print Bon Appetit on a new line; otherwise, print the difference (i.e., $b_{charged}-b_{actual}$) that Brian must refund to Anna. This will always be an integer.\n",
    "\n",
    "<strong>Sample Input 0</strong>  \n",
    "```\n",
    "4 1\n",
    "3 10 2 9\n",
    "12\n",
    "```\n",
    "\n",
    "<strong>Sample Output 0</strong>  \n",
    "```\n",
    "5\n",
    "```\n",
    "\n",
    "<strong>Explanation 0</strong>  \n",
    "Anna didn't eat item $bill[1]=10$, but she shared the rest of the items with Brian. The total cost of the shared items is $3+2+9=14$ and, split in half, the cost per person is $b_{actual}=7$. Brian charged her $b_{charged}=12$ for her portion of the bill. We print the amount Anna was overcharged, $b_{charged}-b_{actual}=12-7=5$, on a new line.\n",
    "\n",
    "<strong>Sample Input 1</strong>  \n",
    "```\n",
    "4 1\n",
    "3 10 2 9\n",
    "7\n",
    "```\n",
    "\n",
    "<strong>Sample Output 1</strong>  \n",
    "```\n",
    "Bon Appetit\n",
    "```\n",
    "\n",
    "<strong>Explanation 1</strong>\n",
    "Anna didn't eat item $bill[1]=10$, but she shared the rest of the items with Brian. The total cost of the shared items is $3+2+9=14$ and, split in half, the cost per person is $b_{actual}=7$. Because $b_{actual}=b_{charged}=7$, we print Bon Appetit on a new line."
   ]
  },
  {
   "cell_type": "code",
   "execution_count": 1,
   "metadata": {},
   "outputs": [],
   "source": [
    "def bonAppetit(bill, k, b):\n",
    "    refund = b - sum(bill[:k] + bill[k+1:])//2\n",
    "    if refund == 0:\n",
    "        return \"Bon Appetit\"\n",
    "    else:\n",
    "        return refund"
   ]
  },
  {
   "cell_type": "code",
   "execution_count": 2,
   "metadata": {},
   "outputs": [
    {
     "name": "stdout",
     "output_type": "stream",
     "text": [
      "4 1\n",
      "3 10 2 9\n",
      "7\n",
      "Bon Appetit\n"
     ]
    }
   ],
   "source": [
    "if __name__ == '__main__':\n",
    "    nk = input().rstrip().split()\n",
    "    n = int(nk[0])\n",
    "    k = int(nk[1])\n",
    "    \n",
    "    bill = list(map(int, input().rstrip().split()))\n",
    "    b = int(input().strip())\n",
    "\n",
    "    result = bonAppetit(bill, k, b)\n",
    "    print(result)"
   ]
  }
 ],
 "metadata": {
  "kernelspec": {
   "display_name": "Python 3",
   "language": "python",
   "name": "python3"
  },
  "language_info": {
   "codemirror_mode": {
    "name": "ipython",
    "version": 3
   },
   "file_extension": ".py",
   "mimetype": "text/x-python",
   "name": "python",
   "nbconvert_exporter": "python",
   "pygments_lexer": "ipython3",
   "version": "3.7.3"
  }
 },
 "nbformat": 4,
 "nbformat_minor": 2
}
