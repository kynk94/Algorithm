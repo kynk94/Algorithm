{
 "cells": [
  {
   "cell_type": "markdown",
   "metadata": {},
   "source": [
    "Given five positive integers, find the minimum and maximum values that can be calculated by summing exactly four of the five integers. Then print the respective minimum and maximum values as a single line of two space-separated long integers.  \n",
    "For example, $arr=[1,3,5,7,9]$. Our minimum sum is $1+3+5+7=16$ and our maximum sum is $3+5+7+9=24$. We would print  \n",
    "```\n",
    "16 24\n",
    "```\n",
    "<strong>Function Description</strong>  \n",
    "Complete the miniMaxSum function in the editor below. It should print two space-separated integers on one line: the minimum sum and the maximum sum of $4$ of $5$ elements.\n",
    "\n",
    "miniMaxSum has the following parameter(s):  \n",
    "* arr: an array of $5$ integers\n",
    "\n",
    "<strong>Input Format</strong>  \n",
    "A single line of five space-separated integers.\n",
    "\n",
    "<strong>Constraints</strong>  \n",
    "$1 \\le arr[i] \\le 10^9$\n",
    "\n",
    "<strong>Output Format</strong>  \n",
    "Print two space-separated long integers denoting the respective minimum and maximum values that can be calculated by summing exactly four of the five integers. (The output can be greater than a 32 bit integer.)\n",
    "\n",
    "<strong>Sample Input</strong>  \n",
    "```\n",
    "1 2 3 4 5\n",
    "```\n",
    "\n",
    "<strong>Sample Output</strong>\n",
    "```\n",
    "10 14\n",
    "```\n",
    "\n",
    "<strong>Explanation</strong>  \n",
    "Our initial numbers are $1$, $2$, $3$, $4$, and $5$. We can calculate the following sums using four of the five integers:  \n",
    "1. If we sum everything except $1$, our sum is $2+3+4+5=14$.  \n",
    "2. If we sum everything except $2$, our sum is $1+3+4+5=13$.  \n",
    "3. If we sum everything except $3$, our sum is $1+2+4+5=12$.  \n",
    "4. If we sum everything except $4$, our sum is $1+2+3+5=11$.  \n",
    "5. If we sum everything except $5$, our sum is $1+2+3+4=10$.  \n",
    "\n",
    "<strong>Hints:</strong> Beware of integer overflow! Use 64-bit Integer."
   ]
  },
  {
   "cell_type": "code",
   "execution_count": 1,
   "metadata": {},
   "outputs": [],
   "source": [
    "def miniMaxSum(arr):\n",
    "    arr = sorted(arr)\n",
    "    middle = sum(arr[1:-1])\n",
    "    return \"{} {}\".format(arr[0] + middle, arr[-1] + middle)"
   ]
  },
  {
   "cell_type": "code",
   "execution_count": 2,
   "metadata": {},
   "outputs": [
    {
     "name": "stdout",
     "output_type": "stream",
     "text": [
      "1 2 3 4 5\n",
      "10 14\n"
     ]
    }
   ],
   "source": [
    "if __name__ == '__main__':\n",
    "    arr = list(map(int, input().rstrip().split()))\n",
    "\n",
    "    result = miniMaxSum(arr)\n",
    "    print(result)"
   ]
  }
 ],
 "metadata": {
  "kernelspec": {
   "display_name": "Python 3",
   "language": "python",
   "name": "python3"
  },
  "language_info": {
   "codemirror_mode": {
    "name": "ipython",
    "version": 3
   },
   "file_extension": ".py",
   "mimetype": "text/x-python",
   "name": "python",
   "nbconvert_exporter": "python",
   "pygments_lexer": "ipython3",
   "version": "3.7.3"
  }
 },
 "nbformat": 4,
 "nbformat_minor": 2
}
