{
 "cells": [
  {
   "cell_type": "markdown",
   "metadata": {},
   "source": [
    "Gary is an avid hiker. He tracks his hikes meticulously, paying close attention to small details like topography. During his last hike he took exactly $n$ steps. For every step he took, he noted if it was an uphill, $U$, or a downhill, $D$ step. Gary's hikes start and end at sea level and each step up or down represents a $1$ unit change in altitude. We define the following terms:  \n",
    "* A mountain is a sequence of consecutive steps above sea level, starting with a step up from sea level and ending with a step down to sea level.  \n",
    "* A valley is a sequence of consecutive steps below sea level, starting with a step down from sea level and ending with a step up to sea level.  \n",
    "\n",
    "Given Gary's sequence of up and down steps during his last hike, find and print the number of valleys he walked through.\n",
    "\n",
    "For example, if Gary's path is $s=[DDUUUUDD]$, he first enters a valley $2$ units deep. Then he climbs out an up onto a mountain $2$ units high. Finally, he returns to sea level and ends his hike.\n",
    "\n",
    "<strong>Function Description</strong>  \n",
    "Complete the countingValleys function in the editor below. It must return an integer that denotes the number of valleys Gary traversed.\n",
    "\n",
    "countingValleys has the following parameter(s):  \n",
    "* n: the number of steps Gary takes  \n",
    "* s: a string describing his path\n",
    "\n",
    "<strong>Input Format</strong>  \n",
    "The first line contains an integer $n$, the number of steps in Gary's hike.  \n",
    "The second line contains a single string $s$, of $n$ characters that describe his path.\n",
    "\n",
    "<strong>Constraints</strong>  \n",
    "* $2 \\le n \\le 10^6$  \n",
    "* $s[i] \\in \\{UD\\}$\n",
    "\n",
    "<strong>Output Format</strong>  \n",
    "Print a single integer that denotes the number of valleys Gary walked through during his hike.\n",
    "\n",
    "<strong>Sample Input</strong>  \n",
    "```\n",
    "8\n",
    "UDDDUDUU\n",
    "```\n",
    "\n",
    "<strong>Sample Output</strong>  \n",
    "```\n",
    "1\n",
    "```\n",
    "\n",
    "<strong>Explanation</strong>  \n",
    "If we represent _ as sea level, a step up as /, and a step down as \\, Gary's hike can be drawn as:  \n",
    "```\n",
    "_/\\      _\n",
    "   \\    /\n",
    "    \\/\\/\n",
    "```\n",
    "He enters and leaves one valley."
   ]
  },
  {
   "cell_type": "code",
   "execution_count": 1,
   "metadata": {},
   "outputs": [],
   "source": [
    "def countingValleys(n, s):\n",
    "    count, level = 0, 0\n",
    "    in_valley = False\n",
    "    for i in s:\n",
    "        if i == 'U':\n",
    "            level += 1\n",
    "        else:\n",
    "            level -= 1\n",
    "        if not in_valley and level < 0:\n",
    "            in_valley = True\n",
    "            count += 1\n",
    "        elif level >= 0:\n",
    "            in_valley = False\n",
    "    return count"
   ]
  },
  {
   "cell_type": "code",
   "execution_count": 2,
   "metadata": {},
   "outputs": [
    {
     "name": "stdout",
     "output_type": "stream",
     "text": [
      "8\n",
      "UDDDUDUU\n",
      "1\n"
     ]
    }
   ],
   "source": [
    "if __name__ == '__main__':\n",
    "    n = int(input())\n",
    "    s = input()\n",
    "\n",
    "    result = countingValleys(n, s)\n",
    "    print(result)"
   ]
  }
 ],
 "metadata": {
  "kernelspec": {
   "display_name": "Python 3",
   "language": "python",
   "name": "python3"
  },
  "language_info": {
   "codemirror_mode": {
    "name": "ipython",
    "version": 3
   },
   "file_extension": ".py",
   "mimetype": "text/x-python",
   "name": "python",
   "nbconvert_exporter": "python",
   "pygments_lexer": "ipython3",
   "version": "3.7.3"
  }
 },
 "nbformat": 4,
 "nbformat_minor": 2
}
