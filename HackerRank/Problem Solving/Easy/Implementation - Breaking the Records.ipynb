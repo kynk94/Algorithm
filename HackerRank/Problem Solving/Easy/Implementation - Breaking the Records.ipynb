{
 "cells": [
  {
   "cell_type": "markdown",
   "metadata": {},
   "source": [
    "Maria plays college basketball and wants to go pro. Each season she maintains a record of her play. She tabulates the number of times she breaks her season record for most points and least points in a game. Points scored in the first game establish her record for the season, and she begins counting from there.\n",
    "\n",
    "For example, assume her scores for the season are represented in the array $scores=[12,24,10,24]$. Scores are in the same order as the games played. She would tabulate her results as follows:  \n",
    "```\n",
    "                                 Count\n",
    "Game  Score  Minimum  Maximum   Min Max\n",
    " 0      12     12       12       0   0\n",
    " 1      24     12       24       0   1\n",
    " 2      10     10       24       1   1\n",
    " 3      24     10       24       1   1\n",
    "```\n",
    "\n",
    "Given Maria's scores for a season, find and print the number of times she breaks her records for most and least points scored during the season.\n",
    "\n",
    "<strong>Function Description</strong>  \n",
    "Complete the breakingRecords function in the editor below. It must return an integer array containing the numbers of times she broke her records. Index $0$ is for breaking most points records, and index $1$ is for breaking least points records.\n",
    "\n",
    "breakingRecords has the following parameter(s):  \n",
    "* scores: an array of integers\n",
    "\n",
    "<strong>Input Format</strong>  \n",
    "The first line contains an integer $n$, the number of games.  \n",
    "The second line contains $n$ space-separated integers describing the respective values of $score_0,score_1,...,score_{n-1}$.\n",
    "\n",
    "<strong>Constraints</strong>  \n",
    "* $1 \\le n \\le 1000$  \n",
    "* $0 \\le scores[i] \\le 10^8$\n",
    "\n",
    "<strong>Output Format</strong>  \n",
    "Print two space-seperated integers describing the respective numbers of times her best (highest) score increased and her worst (lowest) score decreased.\n",
    "\n",
    "<strong>Sample Input 0</strong>  \n",
    "```\n",
    "9\n",
    "10 5 20 20 4 5 2 25 1\n",
    "```\n",
    "\n",
    "<strong>Sample Output 0</strong>  \n",
    "```\n",
    "2 4\n",
    "```\n",
    "\n",
    "<strong>Explanation 0</strong>  \n",
    "The diagram below depicts the number of times Maria broke her best and worst records throughout the season:\n",
    "\n",
    "<img src=\"https://s3.amazonaws.com/hr-assets/0/1487360234-6bca5c518d-breakingbest3.png\" alt=\"image\" title=\"\">\n",
    "\n",
    "She broke her best record twice (after games $2$ and $7$) and her worst record four times (after games $1$, $4$, $6$, and $8$), so we print 2 4 as our answer. Note that she did not break her record for best score during game $3$, as her score during that game was not strictly greater than her best record at the time.\n",
    "\n",
    "<strong>Sample Input 1</strong>  \n",
    "```\n",
    "10\n",
    "3 4 21 36 10 28 35 5 24 42\n",
    "```\n",
    "\n",
    "<strong>Sample Output 1</strong>  \n",
    "```\n",
    "4 0\n",
    "```\n",
    "\n",
    "<strong>Explanation 1</strong>  \n",
    "The diagram below depicts the number of times Maria broke her best and worst records throughout the season:\n",
    "\n",
    "<img src=\"https://s3.amazonaws.com/hr-assets/0/1487360375-aee4388234-breakingbest5.png\" alt=\"image\" title=\"\">\n",
    "\n",
    "She broke her best record four times (after games $1$, $2$, $3$, and $9$) and her worst record zero times (no score during the season was lower than the one she earned during her first game), so we print 4 0 as our answer."
   ]
  },
  {
   "cell_type": "code",
   "execution_count": 1,
   "metadata": {},
   "outputs": [],
   "source": [
    "def breakingRecords(scores):\n",
    "    h = scores[0]\n",
    "    l = h\n",
    "    h_count, l_count = 0, 0\n",
    "    for i in scores[1:]:\n",
    "        if i > h:\n",
    "            h = i\n",
    "            h_count += 1\n",
    "        elif i < l:\n",
    "            l = i\n",
    "            l_count += 1\n",
    "    return h_count, l_count"
   ]
  },
  {
   "cell_type": "code",
   "execution_count": 2,
   "metadata": {},
   "outputs": [
    {
     "name": "stdout",
     "output_type": "stream",
     "text": [
      "10\n",
      "3 4 21 36 10 28 35 5 24 42\n",
      "4 0\n"
     ]
    }
   ],
   "source": [
    "if __name__ == '__main__':\n",
    "    n = int(input())\n",
    "\n",
    "    scores = list(map(int, input().rstrip().split()))\n",
    "\n",
    "    result = breakingRecords(scores)\n",
    "\n",
    "    print(' '.join(map(str, result)))"
   ]
  }
 ],
 "metadata": {
  "kernelspec": {
   "display_name": "Python 3",
   "language": "python",
   "name": "python3"
  },
  "language_info": {
   "codemirror_mode": {
    "name": "ipython",
    "version": 3
   },
   "file_extension": ".py",
   "mimetype": "text/x-python",
   "name": "python",
   "nbconvert_exporter": "python",
   "pygments_lexer": "ipython3",
   "version": "3.7.3"
  }
 },
 "nbformat": 4,
 "nbformat_minor": 2
}
