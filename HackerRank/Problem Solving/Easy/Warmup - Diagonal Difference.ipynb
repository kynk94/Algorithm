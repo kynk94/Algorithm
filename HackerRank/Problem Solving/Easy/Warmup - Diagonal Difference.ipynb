{
 "cells": [
  {
   "cell_type": "markdown",
   "metadata": {},
   "source": [
    "Given a square matrix, calculate the absolute difference between the sums of its diagonals.  \n",
    "For example, the square matrix $arr$ is shown below:  \n",
    "```\n",
    "1 2 3\n",
    "4 5 6\n",
    "9 8 9\n",
    "```\n",
    "\n",
    "The left-to-right diagonal = $1+5+9=15$. The right to left diagonal = $3+5+9=17$. Their absolute difference is $|15-17|=2$.\n",
    "\n",
    "<strong>Function description</strong>  \n",
    "Complete the $diagonalDifference$ function in the editor below. It must return an integer representing the absolute diagonal difference.\n",
    "\n",
    "diagonalDifference takes the following parameter:  \n",
    "* arr: an array of integers.\n",
    "\n",
    "<strong>Input Format</strong>  \n",
    "The first line contains a single integer, $n$, the number of rows and columns in the matrix $arr$.  \n",
    "Each of the next $n$ lines describes a row, $arr[i]$, and consists of $n$ space-separated integers $arr[i][j]$.\n",
    "\n",
    "<strong>Constraints</strong>  \n",
    "* $-100 \\le arr[i][j] \\le 100$\n",
    "\n",
    "<strong>Output Format</strong>  \n",
    "Print the absolute difference between the sums of the matrix's two diagonals as a single integer.\n",
    "\n",
    "<strong>Sample Input</strong>  \n",
    "```\n",
    "3\n",
    "11 2 4\n",
    "4 5 6\n",
    "10 8 -12\n",
    "```\n",
    "\n",
    "<strong>Sample Output</strong>  \n",
    "```\n",
    "15\n",
    "```\n",
    "\n",
    "<strong>Explanation</strong>  \n",
    "The primary diagonal is:  \n",
    "```\n",
    "11\n",
    "   5\n",
    "     -12\n",
    "```\n",
    "Sum across the primary diagonal: 11 + 5 - 12 = 4\n",
    "\n",
    "The secondary diagonal is:  \n",
    "```\n",
    "     4\n",
    "   5\n",
    "10\n",
    "```\n",
    "Sum across the secondary diagonal: 4 + 5 + 10 = 19\n",
    "Difference: |4 - 19| = 15\n",
    "\n",
    "<strong>Note:</strong> |x| is the absolute value of x"
   ]
  },
  {
   "cell_type": "code",
   "execution_count": 1,
   "metadata": {},
   "outputs": [],
   "source": [
    "def diagonalDifference(arr):\n",
    "    n = len(arr)\n",
    "    primary = 0\n",
    "    secondary = 0\n",
    "    for i in range(n):\n",
    "        primary += arr[i][i]\n",
    "        secondary += arr[i][-i-1]\n",
    "    return abs(primary - secondary)"
   ]
  },
  {
   "cell_type": "code",
   "execution_count": 2,
   "metadata": {},
   "outputs": [
    {
     "name": "stdout",
     "output_type": "stream",
     "text": [
      "3\n",
      "11 2 4\n",
      "4 5 6\n",
      "10 8 -12\n",
      "15\n"
     ]
    }
   ],
   "source": [
    "if __name__ == '__main__':\n",
    "    n = int(input().strip())\n",
    "    arr = []\n",
    "    for _ in range(n):\n",
    "        arr.append(list(map(int, input().rstrip().split())))\n",
    "\n",
    "    result = diagonalDifference(arr)\n",
    "    print(result)"
   ]
  }
 ],
 "metadata": {
  "kernelspec": {
   "display_name": "Python 3",
   "language": "python",
   "name": "python3"
  },
  "language_info": {
   "codemirror_mode": {
    "name": "ipython",
    "version": 3
   },
   "file_extension": ".py",
   "mimetype": "text/x-python",
   "name": "python",
   "nbconvert_exporter": "python",
   "pygments_lexer": "ipython3",
   "version": "3.7.3"
  }
 },
 "nbformat": 4,
 "nbformat_minor": 2
}
