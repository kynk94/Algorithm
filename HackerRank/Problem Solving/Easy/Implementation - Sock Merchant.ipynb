{
 "cells": [
  {
   "cell_type": "markdown",
   "metadata": {},
   "source": [
    "John works at a clothing store. He has a large pile of socks that he must pair by color for sale. Given an array of integers representing the color of each sock, determine how many pairs of socks with matching colors there are.\n",
    "\n",
    "For example, there are $n=7$ socks with colors $ar=[1,2,1,2,1,3,2]$. There is one pair of color $1$ and one of color $2$. There are three odd socks left, one of each color. The number of pairs is $2$.\n",
    "\n",
    "<strong>Function Description</strong>  \n",
    "Complete the sockMerchant function in the editor below. It must return an integer representing the number of matching pairs of socks that are available.\n",
    "\n",
    "sockMerchant has the following parameter(s):  \n",
    "* n: the number of socks in the pile\n",
    "* ar: the colors of each sock\n",
    "\n",
    "<strong>Input Format</strong>  \n",
    "The first line contains an integer $n$, the number of socks represented in $ar$.  \n",
    "The second line contains $n$ space-separated integers describing the colors $ar[i]$ of the socks in the pile.\n",
    "\n",
    "<strong>Constraints</strong>  \n",
    "* $1 \\le n \\le 100$  \n",
    "* $1 \\le ar[i] \\le 100$ where $0 \\le i < n$\n",
    "\n",
    "<strong>Output Format</strong>  \n",
    "Return the total number of matching pairs of socks that John can sell.\n",
    "\n",
    "<strong>Sample Input</strong>  \n",
    "```\n",
    "9\n",
    "10 20 20 10 10 30 50 10 20\n",
    "```\n",
    "\n",
    "<strong>Sample Output</strong>  \n",
    "```\n",
    "3\n",
    "```\n",
    "\n",
    "<strong>Explanation</strong>\n",
    "\n",
    "<img src=\"https://s3.amazonaws.com/hr-challenge-images/25168/1474122392-c7b9097430-sock.png\" alt=\"sock.png\" title=\"\">\n",
    "\n",
    "John can match three pairs of socks."
   ]
  },
  {
   "cell_type": "code",
   "execution_count": 1,
   "metadata": {},
   "outputs": [],
   "source": [
    "def sockMerchant(n, ar):\n",
    "    dic = {}\n",
    "    for i in ar:\n",
    "        if i in dic.keys():\n",
    "            dic[i] += 1\n",
    "        else:\n",
    "            dic[i] = 1\n",
    "    count = 0\n",
    "    for i in dic.values():\n",
    "        count += i // 2\n",
    "    return count"
   ]
  },
  {
   "cell_type": "code",
   "execution_count": 2,
   "metadata": {},
   "outputs": [
    {
     "name": "stdout",
     "output_type": "stream",
     "text": [
      "9\n",
      "10 20 20 10 10 30 50 10 20\n",
      "3\n"
     ]
    }
   ],
   "source": [
    "if __name__ == '__main__':\n",
    "    n = int(input())\n",
    "    ar = list(map(int, input().rstrip().split()))\n",
    "\n",
    "    result = sockMerchant(n, ar)\n",
    "    print(result)"
   ]
  }
 ],
 "metadata": {
  "kernelspec": {
   "display_name": "Python 3",
   "language": "python",
   "name": "python3"
  },
  "language_info": {
   "codemirror_mode": {
    "name": "ipython",
    "version": 3
   },
   "file_extension": ".py",
   "mimetype": "text/x-python",
   "name": "python",
   "nbconvert_exporter": "python",
   "pygments_lexer": "ipython3",
   "version": "3.7.3"
  }
 },
 "nbformat": 4,
 "nbformat_minor": 2
}
