{
 "cells": [
  {
   "cell_type": "markdown",
   "metadata": {},
   "source": [
    "You have been asked to help study the population of birds migrating across the continent. Each type of bird you are interested in will be identified by an integer value. Each time a particular kind of bird is spotted, its id number will be added to your array of sightings. You would like to be able to find out which type of bird is most common given a list of sightings. Your task is to print the type number of that bird and if two or more types of birds are equally common, choose the type with the smallest ID number.\n",
    "\n",
    "For example, assume your bird sightings are of types $arr=[1,1,2,2,3]$. There are two each of types $1$ and $2$, and one sighting of type $3$. Pick the lower of the two types seen twice: type $1$.\n",
    "\n",
    "<strong>Function Description</strong>  \n",
    "Complete the migratoryBirds function in the editor below. It should return the lowest type number of the most frequently sighted bird.\n",
    "\n",
    "migratoryBirds has the following parameter(s):  \n",
    "* arr: an array of integers representing types of birds sighted\n",
    "\n",
    "<strong>Input Format</strong>  \n",
    "The first line contains an integer denoting $n$, the number of birds sighted and reported in the array $arr$.  \n",
    "The second line describes $arr$ as $n$ space-separated integers representing the type numbers of each bird sighted.\n",
    "\n",
    "<strong>Constraints</strong>  \n",
    "* $5 \\le n \\le 2 \\times 10^5$  \n",
    "* It is guaranteed that each type is $1$, $2$, $3$, $4$, or $5$.\n",
    "\n",
    "<strong>Output Format</strong>  \n",
    "Print the type number of the most common bird; if two or more types of birds are equally common, choose the type with the smallest ID number.\n",
    "\n",
    "<strong>Sample Input 0</strong>  \n",
    "```\n",
    "6\n",
    "1 4 4 4 5 3\n",
    "```\n",
    "\n",
    "<strong>Sample Output 0</strong>  \n",
    "```\n",
    "4\n",
    "```\n",
    "\n",
    "<strong>Explanation 0</strong>  \n",
    "The different types of birds occur in the following frequencies:  \n",
    "* Type $1$: $1$ bird  \n",
    "* Type $2$: $0$ birds  \n",
    "* Type $3$: $1$ bird  \n",
    "* Type $4$: $3$ birds  \n",
    "* Type $5$: $1$ bird  \n",
    "\n",
    "The type number that occurs at the highest frequency is type $4$, so we print $4$ as our answer.\n",
    "\n",
    "<strong>Sample Input 1</strong>  \n",
    "```\n",
    "11\n",
    "1 2 3 4 5 4 3 2 1 3 4\n",
    "```\n",
    "\n",
    "<strong>Sample Output 1</strong>  \n",
    "```\n",
    "3\n",
    "```\n",
    "\n",
    "<strong>Explanation 1</strong>  \n",
    "The different types of birds occur in the following frequencies:  \n",
    "* Type $1$: $2$  \n",
    "* Type $2$: $2$  \n",
    "* Type $3$: $3$  \n",
    "* Type $4$: $3$  \n",
    "* Type $5$: $1$  \n",
    "\n",
    "Two types have a frequency of $3$, and the lower of those is type $3$."
   ]
  },
  {
   "cell_type": "code",
   "execution_count": 1,
   "metadata": {},
   "outputs": [],
   "source": [
    "def migratoryBirds(arr):\n",
    "    birds = [0] * 6\n",
    "    for i in arr:\n",
    "        birds[i] += 1\n",
    "    return birds.index(max(birds))"
   ]
  },
  {
   "cell_type": "code",
   "execution_count": 2,
   "metadata": {},
   "outputs": [
    {
     "name": "stdout",
     "output_type": "stream",
     "text": [
      "11\n",
      "1 2 3 4 5 4 3 2 1 3 4\n",
      "3\n"
     ]
    }
   ],
   "source": [
    "if __name__ == '__main__':\n",
    "    arr_count = int(input().strip())\n",
    "    arr = list(map(int, input().rstrip().split()))\n",
    "\n",
    "    result = migratoryBirds(arr)\n",
    "    print(result)"
   ]
  }
 ],
 "metadata": {
  "kernelspec": {
   "display_name": "Python 3",
   "language": "python",
   "name": "python3"
  },
  "language_info": {
   "codemirror_mode": {
    "name": "ipython",
    "version": 3
   },
   "file_extension": ".py",
   "mimetype": "text/x-python",
   "name": "python",
   "nbconvert_exporter": "python",
   "pygments_lexer": "ipython3",
   "version": "3.7.3"
  }
 },
 "nbformat": 4,
 "nbformat_minor": 2
}
