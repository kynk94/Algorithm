{
 "cells": [
  {
   "cell_type": "markdown",
   "metadata": {},
   "source": [
    "You are in charge of the cake for your niece's birthday and have decided the cake will have one candle for each year of her total age. When she blows out the candles, she’ll only be able to blow out the tallest ones. Your task is to find out how many candles she can successfully blow out.\n",
    "\n",
    "For example, if your niece is turning $4$ years old, and the cake will have $4$ candles of height $4$, $4$, $1$, $3$, she will be able to blow out $2$ candles successfully, since the tallest candles are of height $4$ and there are $2$ such candles.\n",
    "\n",
    "<strong>Function Description</strong>  \n",
    "Complete the function birthdayCakeCandles in the editor below. It must return an integer representing the number of candles she can blow out.\n",
    "\n",
    "birthdayCakeCandles has the following parameter(s):  \n",
    "* ar: an array of integers representing candle heights\n",
    "\n",
    "<strong>Input Format</strong>  \n",
    "The first line contains a single integer, $n$, denoting the number of candles on the cake.  \n",
    "The second line contains $n$ space-separated integers, where each integer $i$ describes the height of candle $i$.\n",
    "\n",
    "<strong>Constraints</strong>  \n",
    "* $1 \\le n \\le 10^5$  \n",
    "* $1 \\le ar[i] \\le 10^7$\n",
    "\n",
    "<strong>Output Format</strong>  \n",
    "Return the number of candles that can be blown out on a new line.\n",
    "\n",
    "<strong>Sample Input 0</strong>  \n",
    "```\n",
    "4\n",
    "3 2 1 3\n",
    "```\n",
    "\n",
    "<strong>Sample Output 0</strong>  \n",
    "```\n",
    "2\n",
    "```\n",
    "\n",
    "<strong>Explanation 0</strong>\n",
    "\n",
    "We have one candle of height $1$, one candle of height $2$, and two candles of height $3$. Your niece only blows out the tallest candles, meaning the candles where $height=3$. Because there are $2$ such candles, we print $2$ on a new line."
   ]
  },
  {
   "cell_type": "code",
   "execution_count": 1,
   "metadata": {},
   "outputs": [],
   "source": [
    "def birthdayCakeCandles(ar):\n",
    "    return ar.count(max(ar))"
   ]
  },
  {
   "cell_type": "code",
   "execution_count": 2,
   "metadata": {},
   "outputs": [
    {
     "name": "stdout",
     "output_type": "stream",
     "text": [
      "4\n",
      "3 2 1 3\n",
      "2\n"
     ]
    }
   ],
   "source": [
    "if __name__ == '__main__':\n",
    "    ar_count = int(input())\n",
    "    ar = list(map(int, input().rstrip().split()))\n",
    "\n",
    "    result = birthdayCakeCandles(ar)\n",
    "    print(result)"
   ]
  }
 ],
 "metadata": {
  "kernelspec": {
   "display_name": "Python 3",
   "language": "python",
   "name": "python3"
  },
  "language_info": {
   "codemirror_mode": {
    "name": "ipython",
    "version": 3
   },
   "file_extension": ".py",
   "mimetype": "text/x-python",
   "name": "python",
   "nbconvert_exporter": "python",
   "pygments_lexer": "ipython3",
   "version": "3.7.3"
  }
 },
 "nbformat": 4,
 "nbformat_minor": 2
}
