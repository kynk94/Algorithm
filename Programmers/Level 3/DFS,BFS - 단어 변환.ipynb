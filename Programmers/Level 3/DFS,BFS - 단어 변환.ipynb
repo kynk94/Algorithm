{
 "cells": [
  {
   "cell_type": "markdown",
   "metadata": {},
   "source": [
    "<div class=\"guide-section-description\">\n",
    "      <h6 class=\"guide-section-title\">문제 설명</h6>\n",
    "      <div class=\"markdown solarized-dark\"><p>두 개의 단어 begin, target과 단어의 집합 words가 있습니다. 아래와 같은 규칙을 이용하여 begin에서 target으로 변환하는 가장 짧은 변환 과정을 찾으려고 합니다.</p>\n",
    "<div class=\"highlight\"><pre class=\"codehilite\"><code>1. 한 번에 한 개의 알파벳만 바꿀 수 있습니다.\n",
    "2. words에 있는 단어로만 변환할 수 있습니다.\n",
    "</code></pre></div>\n",
    "<p>예를 들어 begin이 <q>hit</q>, target가 <q>cog</q>, words가 [<q>hot</q>,<q>dot</q>,<q>dog</q>,<q>lot</q>,<q>log</q>,<q>cog</q>]라면 <q>hit</q> -&gt; <q>hot</q> -&gt; <q>dot</q> -&gt; <q>dog</q> -&gt; <q>cog</q>와 같이 4단계를 거쳐 변환할 수 있습니다.</p>\n",
    "\n",
    "<p>두 개의 단어 begin, target과 단어의 집합 words가 매개변수로 주어질 때, 최소 몇 단계의 과정을 거쳐 begin을 target으로 변환할 수 있는지 return 하도록 solution 함수를 작성해주세요.</p>\n",
    "\n",
    "<h5>제한사항</h5>\n",
    "\n",
    "<ul>\n",
    "<li>각 단어는 알파벳 소문자로만 이루어져 있습니다.</li>\n",
    "<li>각 단어의 길이는 3 이상 10 이하이며 모든 단어의 길이는 같습니다.</li>\n",
    "<li>words에는 3개 이상 50개 이하의 단어가 있으며 중복되는 단어는 없습니다.</li>\n",
    "<li>begin과 target은 같지 않습니다.</li>\n",
    "<li>변환할 수 없는 경우에는 0를 return 합니다.</li>\n",
    "</ul>\n",
    "\n",
    "<h5>입출력 예</h5>\n",
    "<table>\n",
    "        <thead><tr>\n",
    "<th>begin</th>\n",
    "<th>target</th>\n",
    "<th>words</th>\n",
    "<th>return</th>\n",
    "</tr>\n",
    "</thead>\n",
    "        <tbody><tr>\n",
    "<td><q>hit</q></td>\n",
    "<td><q>cog</q></td>\n",
    "<td>[<q>hot</q>, <q>dot</q>, <q>dog</q>, <q>lot</q>, <q>log</q>, <q>cog</q>]</td>\n",
    "<td>4</td>\n",
    "</tr>\n",
    "<tr>\n",
    "<td><q>hit</q></td>\n",
    "<td><q>cog</q></td>\n",
    "<td>[<q>hot</q>, <q>dot</q>, <q>dog</q>, <q>lot</q>, <q>log</q>]</td>\n",
    "<td>0</td>\n",
    "</tr>\n",
    "</tbody>\n",
    "      </table>\n",
    "<h5>입출력 예 설명</h5>\n",
    "\n",
    "<p>예제 #1<br>\n",
    "문제에 나온 예와 같습니다.</p>\n",
    "\n",
    "<p>예제 #2<br>\n",
    "target인 <q>cog</q>는 words 안에 없기 때문에 변환할 수 없습니다.</p>\n",
    "</div>\n",
    "    </div>"
   ]
  },
  {
   "cell_type": "markdown",
   "metadata": {},
   "source": [
    "```\n",
    "hit - hot - dot - dog - cog\n",
    "                      - log - cog\n",
    "                - lot - log - cog\n",
    "          - lot - log - cog\n",
    "                      - dog - cog\n",
    "                - dot - dog - cog\n",
    "```"
   ]
  },
  {
   "cell_type": "code",
   "execution_count": 1,
   "metadata": {},
   "outputs": [],
   "source": [
    "def solution(begin, target, words):\n",
    "    if target not in words:\n",
    "        return 0\n",
    "\n",
    "    def match_word(f, t):\n",
    "        count = 0\n",
    "        for i, k in zip(f, t):\n",
    "            if i != k:\n",
    "                count += 1\n",
    "            if count > 1:\n",
    "                return False\n",
    "        return True\n",
    "\n",
    "    def find_match_words(begin, words):\n",
    "        matched = set()\n",
    "        for word in words:\n",
    "            if match_word(begin, word):\n",
    "                matched.add(word)\n",
    "        return matched\n",
    "\n",
    "    total_matched = []\n",
    "\n",
    "    def total_match(begin, words, visited=None):\n",
    "        if visited is None:\n",
    "            visited = {begin}\n",
    "        elif begin == target:\n",
    "            return len(visited)\n",
    "        \n",
    "        words_set = words - visited\n",
    "        for matched in find_match_words(begin, words_set):\n",
    "            match = total_match(matched, words_set,\n",
    "                                visited.union({matched}))\n",
    "            if match:\n",
    "                total_matched.append(match)\n",
    "                break\n",
    "    total_match(begin, set(words))\n",
    "    return min(total_matched) - 1"
   ]
  },
  {
   "cell_type": "code",
   "execution_count": 2,
   "metadata": {},
   "outputs": [],
   "source": [
    "begin = \"hit\"\n",
    "target = \"cog\"\n",
    "words = [\"hot\", \"dot\", \"dog\", \"lot\", \"log\", \"cog\"]"
   ]
  },
  {
   "cell_type": "code",
   "execution_count": 3,
   "metadata": {},
   "outputs": [
    {
     "data": {
      "text/plain": [
       "4"
      ]
     },
     "execution_count": 3,
     "metadata": {},
     "output_type": "execute_result"
    }
   ],
   "source": [
    "solution(begin, target, words)"
   ]
  }
 ],
 "metadata": {
  "kernelspec": {
   "display_name": "Python 3",
   "language": "python",
   "name": "python3"
  },
  "language_info": {
   "codemirror_mode": {
    "name": "ipython",
    "version": 3
   },
   "file_extension": ".py",
   "mimetype": "text/x-python",
   "name": "python",
   "nbconvert_exporter": "python",
   "pygments_lexer": "ipython3",
   "version": "3.7.6"
  }
 },
 "nbformat": 4,
 "nbformat_minor": 4
}
