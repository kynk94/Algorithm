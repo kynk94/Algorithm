{
 "cells": [
  {
   "cell_type": "markdown",
   "metadata": {},
   "source": [
    "<div class=\"guide-section-description\">\n",
    "      <h6 class=\"guide-section-title\">문제 설명</h6>\n",
    "      <div class=\"markdown solarized-dark\"><p>네트워크란 컴퓨터 상호 간에 정보를 교환할 수 있도록 연결된 형태를 의미합니다. 예를 들어, 컴퓨터 A와 컴퓨터 B가 직접적으로 연결되어있고, 컴퓨터 B와 컴퓨터 C가 직접적으로 연결되어 있을 때 컴퓨터 A와 컴퓨터 C도 간접적으로 연결되어 정보를 교환할 수 있습니다. 따라서 컴퓨터 A, B, C는 모두 같은 네트워크 상에 있다고 할 수 있습니다.</p>\n",
    "\n",
    "<p>컴퓨터의 개수 n, 연결에 대한 정보가 담긴 2차원 배열 computers가 매개변수로 주어질 때, 네트워크의 개수를 return 하도록 solution 함수를 작성하시오.</p>\n",
    "\n",
    "<h5>제한사항</h5>\n",
    "\n",
    "<ul>\n",
    "<li>컴퓨터의 개수 n은 1 이상 200 이하인 자연수입니다.</li>\n",
    "<li>각 컴퓨터는 0부터 <code>n-1</code>인 정수로 표현합니다.</li>\n",
    "<li>i번 컴퓨터와 j번 컴퓨터가 연결되어 있으면 computers[i][j]를 1로 표현합니다.</li>\n",
    "<li>computer[i][i]는 항상 1입니다.</li>\n",
    "</ul>\n",
    "\n",
    "<h5>입출력 예</h5>\n",
    "<table>\n",
    "        <thead><tr>\n",
    "<th>n</th>\n",
    "<th>computers</th>\n",
    "<th>return</th>\n",
    "</tr>\n",
    "</thead>\n",
    "        <tbody><tr>\n",
    "<td>3</td>\n",
    "<td>[[1, 1, 0], [1, 1, 0], [0, 0, 1]]</td>\n",
    "<td>2</td>\n",
    "</tr>\n",
    "<tr>\n",
    "<td>3</td>\n",
    "<td>[[1, 1, 0], [1, 1, 1], [0, 1, 1]]</td>\n",
    "<td>1</td>\n",
    "</tr>\n",
    "</tbody>\n",
    "      </table>\n",
    "<h5>입출력 예 설명</h5>\n",
    "\n",
    "<p>예제 #1<br>\n",
    "아래와 같이 2개의 네트워크가 있습니다.<br>\n",
    "  <img src=\"https://grepp-programmers.s3.amazonaws.com/files/ybm/5b61d6ca97/cc1e7816-b6d7-4649-98e0-e95ea2007fd7.png\" title=\"\" alt=\"image0.png\"></p>\n",
    "\n",
    "<p>예제 #2<br>\n",
    "아래와 같이 1개의 네트워크가 있습니다.<br>\n",
    "  <img src=\"https://grepp-programmers.s3.amazonaws.com/files/ybm/7554746da2/edb61632-59f4-4799-9154-de9ca98c9e55.png\" title=\"\" alt=\"image1.png\"></p>\n",
    "</div>\n",
    "    </div>"
   ]
  },
  {
   "cell_type": "code",
   "execution_count": 1,
   "metadata": {},
   "outputs": [],
   "source": [
    "def solution_1(n, computers):\n",
    "    import numpy as np\n",
    "    computers = np.array(computers)\n",
    "    res = np.copy(computers)\n",
    "    b_res = np.zeros((n, n))\n",
    "    while True:\n",
    "        res = np.array([np.sum(res[np.where(res[i] > 0)], axis=0) > 0 for i in range(n)])\n",
    "        if np.array_equal(res, b_res):\n",
    "            break\n",
    "        b_res = np.copy(res)\n",
    "    return len(set(map(str, res)))"
   ]
  },
  {
   "cell_type": "code",
   "execution_count": 2,
   "metadata": {},
   "outputs": [],
   "source": [
    "def solution_2(n, computers):\n",
    "    answer = 0\n",
    "    visited = [0] * n\n",
    "    def dfs(computers, visited, start):\n",
    "        stack = [start]\n",
    "        while stack:\n",
    "            j = stack.pop()\n",
    "            if visited[j] == 0:\n",
    "                visited[j] = 1\n",
    "            for i in range(len(computers)):\n",
    "                if computers[j][i] == 1 and visited[i] == 0:\n",
    "                    stack.append(i)\n",
    "    i = 0\n",
    "    while 0 in visited:\n",
    "        if visited[i] == 0:\n",
    "            dfs(computers, visited, i)\n",
    "            answer += 1\n",
    "        i += 1\n",
    "    return answer"
   ]
  },
  {
   "cell_type": "code",
   "execution_count": 3,
   "metadata": {},
   "outputs": [
    {
     "data": {
      "text/plain": [
       "[[3, [[1, 1, 0], [1, 1, 0], [0, 0, 1]]],\n",
       " [3, [[1, 1, 0], [1, 1, 1], [0, 1, 1]]],\n",
       " [4, [[1, 0, 0, 1], [0, 1, 1, 1], [0, 1, 1, 0], [1, 1, 0, 1]]]]"
      ]
     },
     "execution_count": 3,
     "metadata": {},
     "output_type": "execute_result"
    }
   ],
   "source": [
    "test_case = [[3, [[1, 1, 0], [1, 1, 0], [0, 0, 1]]]]\n",
    "test_case.append([3, [[1, 1, 0], [1, 1, 1], [0, 1, 1]]])\n",
    "test_case.append([4, [[1, 0, 0, 1], [0, 1, 1, 1], [0, 1, 1, 0], [1, 1, 0, 1]]])\n",
    "test_case"
   ]
  },
  {
   "cell_type": "code",
   "execution_count": 4,
   "metadata": {},
   "outputs": [
    {
     "name": "stdout",
     "output_type": "stream",
     "text": [
      "The slowest run took 16.07 times longer than the fastest. This could mean that an intermediate result is being cached.\n",
      "1.36 ms ± 2.43 ms per loop (mean ± std. dev. of 10 runs, 100 loops each)\n",
      "10.8 µs ± 775 ns per loop (mean ± std. dev. of 10 runs, 100 loops each)\n"
     ]
    }
   ],
   "source": [
    "%timeit -n 100 -r 10 [solution_1(i[0], i[1]) for i in test_case]\n",
    "%timeit -n 100 -r 10 [solution_2(i[0], i[1]) for i in test_case]"
   ]
  }
 ],
 "metadata": {
  "kernelspec": {
   "display_name": "Python 3",
   "language": "python",
   "name": "python3"
  },
  "language_info": {
   "codemirror_mode": {
    "name": "ipython",
    "version": 3
   },
   "file_extension": ".py",
   "mimetype": "text/x-python",
   "name": "python",
   "nbconvert_exporter": "python",
   "pygments_lexer": "ipython3",
   "version": "3.7.3"
  }
 },
 "nbformat": 4,
 "nbformat_minor": 2
}
