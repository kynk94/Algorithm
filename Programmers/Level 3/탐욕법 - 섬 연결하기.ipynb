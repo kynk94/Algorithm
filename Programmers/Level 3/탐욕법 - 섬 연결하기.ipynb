{
 "cells": [
  {
   "cell_type": "markdown",
   "metadata": {},
   "source": [
    "<div class=\"guide-section-description\">\n",
    "      <h6 class=\"guide-section-title\">문제 설명</h6>\n",
    "      <div class=\"markdown solarized-dark\"><p>n개의 섬 사이에 다리를 건설하는 비용(costs)이 주어질 때, 최소의 비용으로 모든 섬이 서로 통행 가능하도록 만들 때 필요한 최소 비용을 return 하도록 solution을 완성하세요.</p>\n",
    "\n",
    "<p>다리를 여러 번 건너더라도, 도달할 수만 있으면 통행 가능하다고 봅니다. 예를 들어 A 섬과 B 섬 사이에 다리가 있고, B 섬과 C 섬 사이에 다리가 있으면 A 섬과 C 섬은 서로 통행 가능합니다.</p>\n",
    "\n",
    "<p><strong>제한사항</strong></p>\n",
    "\n",
    "<ul>\n",
    "<li>섬의 개수 n은 1 이상 100 이하입니다.</li>\n",
    "<li>costs의 길이는 <code>((n-1) * n) / 2</code>이하입니다.</li>\n",
    "<li>임의의 i에 대해, costs[i][0] 와 costs[i] [1]에는 다리가 연결되는 두 섬의 번호가 들어있고, costs[i] [2]에는 이 두 섬을 연결하는 다리를 건설할 때 드는 비용입니다.</li>\n",
    "<li>같은 연결은 두 번 주어지지 않습니다. 또한 순서가 바뀌더라도 같은 연결로 봅니다. 즉 0과 1 사이를 연결하는 비용이 주어졌을 때, 1과 0의 비용이 주어지지 않습니다.</li>\n",
    "<li>모든 섬 사이의 다리 건설 비용이 주어지지 않습니다. 이 경우, 두 섬 사이의 건설이 불가능한 것으로 봅니다.</li>\n",
    "<li>연결할 수 없는 섬은 주어지지 않습니다.</li>\n",
    "</ul>\n",
    "\n",
    "<p><strong>입출력 예</strong></p>\n",
    "<table>\n",
    "        <thead><tr>\n",
    "<th>n</th>\n",
    "<th>costs</th>\n",
    "<th>return</th>\n",
    "</tr>\n",
    "</thead>\n",
    "        <tbody><tr>\n",
    "<td>4</td>\n",
    "<td>[[0,1,1],[0,2,2],[1,2,5],[1,3,1],[2,3,8]]</td>\n",
    "<td>4</td>\n",
    "</tr>\n",
    "</tbody>\n",
    "      </table>\n",
    "<p><strong>입출력 예 설명</strong></p>\n",
    "\n",
    "<p>costs를 그림으로 표현하면 다음과 같으며, 이때 초록색 경로로 연결하는 것이 가장 적은 비용으로 모두를 통행할 수 있도록 만드는 방법입니다.</p>\n",
    "\n",
    "<p><img src=\"https://grepp-programmers.s3.amazonaws.com/files/production/13e2952057/f2746a8c-527c-4451-9a73-42129911fe17.png\" title=\"\" alt=\"image.png\"></p>\n",
    "</div>\n",
    "    </div>"
   ]
  },
  {
   "cell_type": "code",
   "execution_count": 1,
   "metadata": {},
   "outputs": [],
   "source": [
    "def solution(n, costs):\n",
    "    def get_parent(x, parent):\n",
    "        if x == parent[x]:\n",
    "            return x\n",
    "        parent[x] = get_parent(parent[x], parent)\n",
    "        return parent[x]\n",
    "\n",
    "    def union_find(x, y, parent):\n",
    "        x = get_parent(x, parent)\n",
    "        y = get_parent(y, parent)\n",
    "        parent[x] = y\n",
    "\n",
    "    result = 0\n",
    "    parent = {i:i for i in range(n)}\n",
    "    for x, y, d in sorted(costs, key=lambda x: x[-1]):\n",
    "        if get_parent(x, parent) != get_parent(y, parent):\n",
    "            union_find(x, y, parent)\n",
    "            result += d\n",
    "\n",
    "        if len(set(get_parent(i, parent) for i in parent)) == 1:\n",
    "            return result\n",
    "    return -1"
   ]
  }
 ],
 "metadata": {
  "kernelspec": {
   "display_name": "Python 3",
   "language": "python",
   "name": "python3"
  },
  "language_info": {
   "codemirror_mode": {
    "name": "ipython",
    "version": 3
   },
   "file_extension": ".py",
   "mimetype": "text/x-python",
   "name": "python",
   "nbconvert_exporter": "python",
   "pygments_lexer": "ipython3",
   "version": "3.7.6"
  }
 },
 "nbformat": 4,
 "nbformat_minor": 4
}
