{
 "cells": [
  {
   "cell_type": "markdown",
   "metadata": {},
   "source": [
    "<div class=\"guide-section-description\">\n",
    "      <h6 class=\"guide-section-title\">문제 설명</h6>\n",
    "      <div class=\"markdown solarized-dark\"><p>고고학자인  <strong><q>튜브</q></strong>는 고대 유적지에서 보물과 유적이 가득할 것으로 추정되는 비밀의 문을 발견하였습니다. 그런데 문을 열려고 살펴보니 특이한 형태의 <strong>자물쇠</strong>로 잠겨 있었고 문 앞에는 특이한 형태의 <strong>열쇠</strong>와 함께 자물쇠를 푸는 방법에 대해 다음과 같이 설명해 주는 종이가 발견되었습니다.</p>\n",
    "\n",
    "<p>잠겨있는 자물쇠는 격자 한 칸의 크기가  <strong><code>1 x 1</code></strong>인  <strong><code>N x N</code></strong> 크기의 정사각 격자 형태이고 특이한 모양의 열쇠는 <strong><code>M x M</code></strong> 크기인 정사각 격자 형태로 되어 있습니다.</p>\n",
    "\n",
    "<p>자물쇠에는 홈이 파여 있고 열쇠 또한 홈과 돌기 부분이 있습니다. 열쇠는 회전과 이동이 가능하며 열쇠의 돌기 부분을 자물쇠의 홈 부분에 딱 맞게 채우면 자물쇠가 열리게 되는 구조입니다. 자물쇠 영역을 벗어난 부분에 있는 열쇠의 홈과 돌기는 자물쇠를 여는 데 영향을 주지 않지만, 자물쇠 영역 내에서는 열쇠의 돌기 부분과 자물쇠의 홈 부분이 정확히 일치해야 하며 열쇠의 돌기와 자물쇠의 돌기가 만나서는 안됩니다. 또한 자물쇠의 모든 홈을 채워 비어있는 곳이 없어야 자물쇠를 열 수 있습니다.</p>\n",
    "\n",
    "<p>열쇠를 나타내는 2차원 배열 key와 자물쇠를 나타내는 2차원 배열 lock이 매개변수로 주어질 때, 열쇠로 자물쇠를 열수 있으면 true를, 열 수 없으면 false를 return 하도록 solution 함수를 완성해주세요.</p>\n",
    "\n",
    "<h3>제한사항</h3>\n",
    "\n",
    "<ul>\n",
    "<li>key는 M x M(3 ≤ M ≤ 20, M은 자연수)크기 2차원 배열입니다.</li>\n",
    "<li>lock은 N x N(3 ≤ N ≤ 20, N은 자연수)크기 2차원 배열입니다.</li>\n",
    "<li>M은 항상 N 이하입니다.</li>\n",
    "<li>key와 lock의 원소는 0 또는 1로 이루어져 있습니다.\n",
    "\n",
    "<ul>\n",
    "<li>0은 홈 부분, 1은 돌기 부분을 나타냅니다.</li>\n",
    "</ul></li>\n",
    "</ul>\n",
    "\n",
    "<hr>\n",
    "\n",
    "<h3>입출력 예</h3>\n",
    "<table>\n",
    "        <thead><tr>\n",
    "<th>key</th>\n",
    "<th>lock</th>\n",
    "<th>result</th>\n",
    "</tr>\n",
    "</thead>\n",
    "        <tbody><tr>\n",
    "<td>[[0, 0, 0], [1, 0, 0], [0, 1, 1]]</td>\n",
    "<td>[[1, 1, 1], [1, 1, 0], [1, 0, 1]]</td>\n",
    "<td>true</td>\n",
    "</tr>\n",
    "</tbody>\n",
    "      </table>\n",
    "<h3>입출력 예에 대한 설명</h3>\n",
    "\n",
    "<p><img src=\"https://grepp-programmers.s3.amazonaws.com/files/production/469703690b/79f2f473-5d13-47b9-96e0-a10e17b7d49a.jpg\" title=\"\" alt=\"자물쇠.jpg\"></p>\n",
    "\n",
    "<p>key를 시계 방향으로 90도 회전하고, 오른쪽으로 한 칸, 아래로 한 칸 이동하면 lock의 홈 부분을 정확히 모두 채울 수 있습니다.</p>\n",
    "</div>\n",
    "    </div>"
   ]
  },
  {
   "cell_type": "code",
   "execution_count": 1,
   "metadata": {},
   "outputs": [],
   "source": [
    "key = [[0, 0, 0], [1, 0, 0], [0, 1, 1]]\n",
    "lock = [[1, 1, 1], [1, 1, 0], [1, 0, 1]]"
   ]
  },
  {
   "cell_type": "code",
   "execution_count": 2,
   "metadata": {},
   "outputs": [],
   "source": [
    "key2 = [\n",
    "    [0, 0, 0],\n",
    "    [1, 0, 1],\n",
    "    [1, 0, 1]\n",
    "]\n",
    "lock2 = [\n",
    "    [1, 1, 1, 1, 1],\n",
    "    [1, 0, 0, 1, 1],\n",
    "    [1, 1, 1, 1, 1],\n",
    "    [1, 0, 0, 1, 1],\n",
    "    [1, 1, 1, 1, 1]\n",
    "]"
   ]
  },
  {
   "cell_type": "code",
   "execution_count": 3,
   "metadata": {},
   "outputs": [
    {
     "data": {
      "text/plain": [
       "[[[0, 0, 0], [1, 0, 0], [0, 1, 1]],\n",
       " [[1, 1, 0], [0, 0, 1], [0, 0, 0]],\n",
       " [[0, 1, 0], [1, 0, 0], [1, 0, 0]],\n",
       " [[0, 0, 1], [0, 0, 1], [0, 1, 0]]]"
      ]
     },
     "execution_count": 3,
     "metadata": {},
     "output_type": "execute_result"
    }
   ],
   "source": [
    "key_list = [tuple(map(tuple,key))]\n",
    "for i in range(3):\n",
    "    key_list.append(tuple(k[::-1] for k in zip(*key_list[i])))\n",
    "key_list = [list(map(list, key)) for key in set(key_list)]\n",
    "key_list"
   ]
  },
  {
   "cell_type": "code",
   "execution_count": 4,
   "metadata": {},
   "outputs": [],
   "source": [
    "def solution(key, lock):\n",
    "    M = len(key)\n",
    "    N = len(lock)\n",
    "    fill = 0\n",
    "    for r in lock:\n",
    "        for c in r:\n",
    "            if c == 0:\n",
    "                fill += 1\n",
    "    key_list = [tuple(map(tuple,key))]\n",
    "    for i in range(3):\n",
    "        key_list.append(tuple(k[::-1] for k in zip(*key_list[i])))\n",
    "    key_list = [list(map(list, key)) for key in set(key_list)]\n",
    "    for key in key_list:\n",
    "        for i in range(M+N-1):\n",
    "            for j in range(M+N-1):\n",
    "                count = 0\n",
    "                inner_break = False\n",
    "                for k_ip, l_i in enumerate(range(max(i-M+1, 0), min(i+1,N))):\n",
    "                    if inner_break:\n",
    "                        break\n",
    "                    else:\n",
    "                        for k_jp, l_j in enumerate(range(max(j-M+1, 0), min(j+1,N))):\n",
    "                            k_i, k_j = max(M+k_ip-i-1, k_ip), max(M+k_jp-j-1, k_jp)\n",
    "                            l_v = lock[l_i][l_j]\n",
    "                            k_v = key[k_i][k_j]\n",
    "                            if k_v == 1:\n",
    "                                if l_v == 0:\n",
    "                                    count += 1\n",
    "                                else:\n",
    "                                    inner_break = True\n",
    "                                    break\n",
    "                else:\n",
    "                    if count == fill:\n",
    "                        return True\n",
    "    return False"
   ]
  }
 ],
 "metadata": {
  "kernelspec": {
   "display_name": "Python 3",
   "language": "python",
   "name": "python3"
  },
  "language_info": {
   "codemirror_mode": {
    "name": "ipython",
    "version": 3
   },
   "file_extension": ".py",
   "mimetype": "text/x-python",
   "name": "python",
   "nbconvert_exporter": "python",
   "pygments_lexer": "ipython3",
   "version": "3.7.6"
  }
 },
 "nbformat": 4,
 "nbformat_minor": 4
}
