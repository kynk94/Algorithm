{
 "cells": [
  {
   "cell_type": "markdown",
   "metadata": {},
   "source": [
    "<div class=\"guide-section-description\">\n",
    "      <h6 class=\"guide-section-title\">문제 설명</h6>\n",
    "      <div class=\"markdown solarized-dark\"><p>레스토랑을 운영하고 있는 <strong><q>스카피</q></strong>는 레스토랑 내부가 너무 낡아 친구들과 함께 직접 리모델링 하기로 했습니다. 레스토랑이 있는 곳은 스노우타운으로 매우 추운 지역이어서 내부 공사를 하는 도중에 주기적으로 외벽의 상태를 점검해야 할 필요가 있습니다.</p>\n",
    "\n",
    "<p>레스토랑의 구조는 <strong>완전히 동그란 모양</strong>이고 <strong>외벽의 총 둘레는 n미터</strong>이며, 외벽의 몇몇 지점은 추위가 심할 경우 손상될  수도 있는 <strong>취약한 지점들</strong>이 있습니다. 따라서 내부 공사 도중에도 외벽의 취약 지점들이 손상되지 않았는 지, 주기적으로 친구들을 보내서 점검을 하기로 했습니다. 다만, 빠른 공사 진행을 위해 점검 시간을 1시간으로 제한했습니다. 친구들이 1시간 동안 이동할 수 있는 거리는 제각각이기 때문에, 최소한의 친구들을 투입해 취약 지점을 점검하고 나머지 친구들은 내부 공사를 돕도록 하려고 합니다. 편의 상 레스토랑의 정북 방향 지점을 0으로 나타내며, 취약 지점의 위치는 정북 방향 지점으로부터 시계 방향으로 떨어진 거리로 나타냅니다. 또, 친구들은 출발 지점부터 시계, 혹은 반시계 방향으로 외벽을 따라서만 이동합니다.</p>\n",
    "\n",
    "<p>외벽의 길이 n, 취약 지점의 위치가 담긴 배열 weak, 각 친구가 1시간 동안 이동할 수 있는 거리가 담긴 배열 dist가 매개변수로 주어질 때, 취약 지점을 점검하기 위해 보내야 하는 친구 수의 최소값을 return 하도록 solution 함수를 완성해주세요.</p>\n",
    "\n",
    "<h3>제한사항</h3>\n",
    "\n",
    "<ul>\n",
    "<li>n은 1 이상 200 이하인 자연수입니다.</li>\n",
    "<li>weak의 길이는 1 이상 15 이하입니다.\n",
    "\n",
    "<ul>\n",
    "<li>서로 다른 두 취약점의 위치가 같은 경우는 주어지지 않습니다.</li>\n",
    "<li>취약 지점의 위치는 오름차순으로 정렬되어 주어집니다.</li>\n",
    "<li>weak의 원소는 0 이상 n - 1 이하인 정수입니다.</li>\n",
    "</ul></li>\n",
    "<li>dist의 길이는 1 이상 8 이하입니다.\n",
    "\n",
    "<ul>\n",
    "<li>dist의 원소는 1 이상 100 이하인 자연수입니다.</li>\n",
    "</ul></li>\n",
    "<li>친구들을 모두 투입해도 취약 지점을 전부 점검할 수 없는 경우에는 -1을 return 해주세요.</li>\n",
    "</ul>\n",
    "\n",
    "<hr>\n",
    "\n",
    "<h3>입출력 예</h3>\n",
    "<table>\n",
    "        <thead><tr>\n",
    "<th>n</th>\n",
    "<th>weak</th>\n",
    "<th>dist</th>\n",
    "<th>result</th>\n",
    "</tr>\n",
    "</thead>\n",
    "        <tbody><tr>\n",
    "<td>12</td>\n",
    "<td>[1, 5, 6, 10]</td>\n",
    "<td>[1, 2, 3, 4]</td>\n",
    "<td>2</td>\n",
    "</tr>\n",
    "<tr>\n",
    "<td>12</td>\n",
    "<td>[1, 3, 4, 9, 10]</td>\n",
    "<td>[3, 5, 7]</td>\n",
    "<td>1</td>\n",
    "</tr>\n",
    "</tbody>\n",
    "      </table>\n",
    "<h3>입출력 예에 대한 설명</h3>\n",
    "\n",
    "<p><strong>입출력 예 #1</strong></p>\n",
    "\n",
    "<p>원형 레스토랑에서 외벽의 취약 지점의 위치는 다음과 같습니다.</p>\n",
    "\n",
    "<p><img src=\"https://grepp-programmers.s3.amazonaws.com/files/production/61de504978/1c8394ec-05e0-4b7b-a0ff-3ff9ae0cec28.jpg\" title=\"\" alt=\"외벽점검-1.jpg\"></p>\n",
    "\n",
    "<p>친구들을 투입하는 예시 중 하나는 다음과 같습니다.</p>\n",
    "\n",
    "<ul>\n",
    "<li>4m를 이동할 수 있는 친구는 10m 지점에서 출발해 시계방향으로 돌아 1m 위치에 있는 취약 지점에서 외벽 점검을 마칩니다.</li>\n",
    "<li>2m를 이동할 수 있는 친구는 4.5m 지점에서 출발해 6.5m 지점에서 외벽 점검을 마칩니다.</li>\n",
    "</ul>\n",
    "\n",
    "<p>그 외에 여러 방법들이 있지만, 두 명보다 적은  친구를 투입하는 방법은 없습니다. 따라서 친구를 최소 두 명 투입해야 합니다.</p>\n",
    "\n",
    "<p><strong>입출력 예 #2</strong></p>\n",
    "\n",
    "<p>원형 레스토랑에서 외벽의 취약 지점의 위치는 다음과 같습니다.</p>\n",
    "\n",
    "<p><img src=\"https://grepp-programmers.s3.amazonaws.com/files/production/3669c9b3d6/00e8eeb4-f3ec-4c18-96fb-a3b17aaf1812.jpg\" title=\"\" alt=\"외벽점검-2.jpg\"></p>\n",
    "\n",
    "<p>7m를 이동할 수 있는 친구가 4m 지점에서 출발해 반시계 방향으로 점검을 돌면 모든 취약 지점을 점검할 수 있습니다. 따라서 친구를 최소 한 명 투입하면 됩니다.</p>\n",
    "</div>\n",
    "    </div>"
   ]
  },
  {
   "cell_type": "code",
   "execution_count": 1,
   "metadata": {},
   "outputs": [],
   "source": [
    "test_case = [\n",
    "    (12, [1, 5, 6, 10], [1, 2, 3, 4]),\n",
    "    (12, [1, 3, 4, 9, 10], [3, 5, 7]),\n",
    "]"
   ]
  },
  {
   "cell_type": "code",
   "execution_count": 2,
   "metadata": {},
   "outputs": [],
   "source": [
    "import collections\n",
    "import itertools\n",
    "\n",
    "\n",
    "def solution(n, weak, dist):\n",
    "    n_w = len(weak)\n",
    "    if n_w == 1:\n",
    "        return 1\n",
    "    dist.sort(reverse=True)\n",
    "    answer = -1\n",
    "    for i in range(1, len(dist) + 1):\n",
    "        for f_set in itertools.permutations(dist[:i], i):\n",
    "            n_f = len(f_set)\n",
    "            weak_q = collections.deque(weak)\n",
    "            for _ in range(n_w):\n",
    "                f_idx = 0\n",
    "                f = f_set[0]\n",
    "                c_w = weak_q[0]\n",
    "                for w in weak_q:\n",
    "                    if n_f <= f_idx:\n",
    "                        break\n",
    "                    if w <= f_set[f_idx] + c_w:\n",
    "                        continue\n",
    "                    f_idx += 1\n",
    "                    if n_f <= f_idx:\n",
    "                        break\n",
    "                    c_w = w\n",
    "                else:\n",
    "                    if answer == -1 or answer > f_idx + 1:\n",
    "                        answer = f_idx + 1\n",
    "                weak_q.append(weak_q.popleft() + n)\n",
    "    return answer"
   ]
  },
  {
   "cell_type": "code",
   "execution_count": 3,
   "metadata": {},
   "outputs": [
    {
     "data": {
      "text/plain": [
       "2"
      ]
     },
     "execution_count": 3,
     "metadata": {},
     "output_type": "execute_result"
    }
   ],
   "source": [
    "n, w, d = test_case[0]\n",
    "solution(n, w, d)"
   ]
  },
  {
   "cell_type": "code",
   "execution_count": 4,
   "metadata": {},
   "outputs": [
    {
     "data": {
      "text/plain": [
       "1"
      ]
     },
     "execution_count": 4,
     "metadata": {},
     "output_type": "execute_result"
    }
   ],
   "source": [
    "n, w, d = test_case[1]\n",
    "solution(n, w, d)"
   ]
  }
 ],
 "metadata": {
  "kernelspec": {
   "display_name": "Python 3",
   "language": "python",
   "name": "python3"
  },
  "language_info": {
   "codemirror_mode": {
    "name": "ipython",
    "version": 3
   },
   "file_extension": ".py",
   "mimetype": "text/x-python",
   "name": "python",
   "nbconvert_exporter": "python",
   "pygments_lexer": "ipython3",
   "version": "3.7.6"
  }
 },
 "nbformat": 4,
 "nbformat_minor": 4
}
