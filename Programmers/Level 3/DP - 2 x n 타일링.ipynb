{
 "cells": [
  {
   "cell_type": "markdown",
   "metadata": {},
   "source": [
    "<div class=\"guide-section-description\">\n",
    "      <h6 class=\"guide-section-title\">문제 설명</h6>\n",
    "      <div class=\"markdown solarized-dark\"><p>가로 길이가 2이고 세로의 길이가 1인 직사각형모양의 타일이 있습니다. 이 직사각형 타일을 이용하여 세로의 길이가 2이고 가로의 길이가 n인 바닥을 가득 채우려고 합니다. 타일을 채울 때는 다음과 같이 2가지 방법이 있습니다.</p>\n",
    "\n",
    "<ul>\n",
    "<li>타일을 가로로 배치 하는 경우</li>\n",
    "<li>타일을 세로로 배치 하는 경우</li>\n",
    "</ul>\n",
    "\n",
    "<p>예를들어서 n이 7인 직사각형은 다음과 같이 채울 수 있습니다.</p>\n",
    "\n",
    "<p><img src=\"https://i.imgur.com/29ANX0f.png\" title=\"\" alt=\"Imgur\"></p>\n",
    "\n",
    "<p>직사각형의 가로의 길이 n이 매개변수로 주어질 때, 이 직사각형을 채우는 방법의 수를 return 하는 solution 함수를 완성해주세요.</p>\n",
    "\n",
    "<h5>제한사항</h5>\n",
    "\n",
    "<ul>\n",
    "<li>가로의 길이 n은 60,000이하의 자연수 입니다.</li>\n",
    "<li>경우의 수가 많아 질 수 있으므로, 경우의 수를 1,000,000,007으로 나눈 나머지를 return해주세요.</li>\n",
    "</ul>\n",
    "\n",
    "<hr>\n",
    "\n",
    "<h5>입출력 예</h5>\n",
    "<table>\n",
    "        <thead><tr>\n",
    "<th>n</th>\n",
    "<th>result</th>\n",
    "</tr>\n",
    "</thead>\n",
    "        <tbody><tr>\n",
    "<td>4</td>\n",
    "<td>5</td>\n",
    "</tr>\n",
    "</tbody>\n",
    "      </table>\n",
    "<h5>입출력 예 설명</h5>\n",
    "\n",
    "<p>입출력 예 #1<br>\n",
    "다음과 같이 5가지 방법이 있다.</p>\n",
    "\n",
    "<p><img src=\"https://i.imgur.com/keiKrD3.png\" title=\"\" alt=\"Imgur\"></p>\n",
    "\n",
    "<p><img src=\"https://i.imgur.com/O9GdTE0.png\" title=\"\" alt=\"Imgur\"></p>\n",
    "\n",
    "<p><img src=\"https://i.imgur.com/IZBmc6M.png\" title=\"\" alt=\"Imgur\"></p>\n",
    "\n",
    "<p><img src=\"https://i.imgur.com/29LWVzK.png\" title=\"\" alt=\"Imgur\"></p>\n",
    "\n",
    "<p><img src=\"https://i.imgur.com/z64JbNf.png\" title=\"\" alt=\"Imgur\"></p>\n",
    "</div>\n",
    "    </div>"
   ]
  },
  {
   "cell_type": "markdown",
   "metadata": {},
   "source": [
    "## 점화식\n",
    "n번째 경우의 수 = n-2번째에 2x2 타일 붙이는 경우 + n-1번째에 2x1 타일 붙이는 경우  \n",
    "#### dp[n] = dp[n-2] + dp[n-1]"
   ]
  },
  {
   "cell_type": "code",
   "execution_count": 1,
   "metadata": {},
   "outputs": [],
   "source": [
    "def solution(n):\n",
    "    dp = [1, 2]\n",
    "    for i in range(2, n):\n",
    "        dp.append((dp[i - 2] + dp[i - 1]) % 1000000007)\n",
    "    return dp[n - 1]"
   ]
  },
  {
   "cell_type": "code",
   "execution_count": 2,
   "metadata": {},
   "outputs": [
    {
     "name": "stdout",
     "output_type": "stream",
     "text": [
      "167 ms ± 2.51 ms per loop (mean ± std. dev. of 7 runs, 10 loops each)\n"
     ]
    }
   ],
   "source": [
    "%timeit [solution(i) for i in range(1, 10000, 100)]"
   ]
  }
 ],
 "metadata": {
  "kernelspec": {
   "display_name": "Python 3",
   "language": "python",
   "name": "python3"
  },
  "language_info": {
   "codemirror_mode": {
    "name": "ipython",
    "version": 3
   },
   "file_extension": ".py",
   "mimetype": "text/x-python",
   "name": "python",
   "nbconvert_exporter": "python",
   "pygments_lexer": "ipython3",
   "version": "3.7.3"
  }
 },
 "nbformat": 4,
 "nbformat_minor": 2
}
