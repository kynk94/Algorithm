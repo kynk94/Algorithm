{
 "cells": [
  {
   "cell_type": "markdown",
   "metadata": {},
   "source": [
    "<div class=\"guide-section-description\">\n",
    "      <h6 class=\"guide-section-title\">문제 설명</h6>\n",
    "      <div class=\"markdown solarized-dark\"><p>스트리밍 사이트에서 장르 별로 가장 많이 재생된 노래를 두 개씩 모아 베스트 앨범을 출시하려 합니다. 노래는 고유 번호로 구분하며, 노래를 수록하는 기준은 다음과 같습니다.</p>\n",
    "\n",
    "<ol>\n",
    "<li>속한 노래가 많이 재생된 장르를 먼저 수록합니다.</li>\n",
    "<li>장르 내에서 많이 재생된 노래를 먼저 수록합니다.</li>\n",
    "<li>장르 내에서 재생 횟수가 같은 노래 중에서는 고유 번호가 낮은 노래를 먼저 수록합니다.</li>\n",
    "</ol>\n",
    "\n",
    "<p>노래의 장르를 나타내는 문자열 배열 genres와 노래별 재생 횟수를 나타내는 정수 배열 plays가 주어질 때, 베스트 앨범에 들어갈 노래의 고유 번호를 순서대로 return 하도록 solution 함수를 완성하세요.</p>\n",
    "\n",
    "<h5>제한사항</h5>\n",
    "\n",
    "<ul>\n",
    "<li>genres[i]는 고유번호가 i인 노래의 장르입니다.</li>\n",
    "<li>plays[i]는 고유번호가 i인 노래가 재생된 횟수입니다.</li>\n",
    "<li>genres와 plays의 길이는 같으며, 이는 1 이상 10,000 이하입니다.</li>\n",
    "<li>장르 종류는 100개 미만입니다.</li>\n",
    "<li>장르에 속한 곡이 하나라면, 하나의 곡만 선택합니다.</li>\n",
    "<li>모든 장르는 재생된 횟수가 다릅니다.</li>\n",
    "</ul>\n",
    "\n",
    "<h5>입출력 예</h5>\n",
    "<table>\n",
    "        <thead><tr>\n",
    "<th>genres</th>\n",
    "<th>plays</th>\n",
    "<th>return</th>\n",
    "</tr>\n",
    "</thead>\n",
    "        <tbody><tr>\n",
    "<td>[<q>classic</q>, <q>pop</q>, <q>classic</q>, <q>classic</q>, <q>pop</q>]</td>\n",
    "<td>[500, 600, 150, 800, 2500]</td>\n",
    "<td>[4, 1, 3, 0]</td>\n",
    "</tr>\n",
    "</tbody>\n",
    "      </table>\n",
    "<h5>입출력 예 설명</h5>\n",
    "\n",
    "<p>classic 장르는 1,450회 재생되었으며, classic 노래는 다음과 같습니다.</p>\n",
    "\n",
    "<ul>\n",
    "<li>고유 번호 3: 800회 재생</li>\n",
    "<li>고유 번호 0: 500회 재생</li>\n",
    "<li>고유 번호 2: 150회 재생</li>\n",
    "</ul>\n",
    "\n",
    "<p>pop 장르는 3,100회 재생되었으며, pop 노래는 다음과 같습니다.</p>\n",
    "\n",
    "<ul>\n",
    "<li>고유 번호 4: 2,500회 재생</li>\n",
    "<li>고유 번호 1: 600회 재생</li>\n",
    "</ul>\n",
    "\n",
    "<p>따라서 pop 장르의 [4, 1]번 노래를 먼저, classic 장르의 [3, 0]번 노래를 그다음에 수록합니다.</p>\n",
    "\n",
    "<p>※ 공지 - 2019년 2월 28일 테스트케이스가 추가되었습니다.</p>\n",
    "</div>\n",
    "    </div>"
   ]
  },
  {
   "cell_type": "code",
   "execution_count": 1,
   "metadata": {},
   "outputs": [],
   "source": [
    "def solution(genres, plays):\n",
    "    album = {genre: {'play': 0} for genre in set(genres)}\n",
    "    for idx, (genre, play) in enumerate(zip(genres, plays)):\n",
    "        album[genre][idx] = play\n",
    "        album[genre]['play'] += play\n",
    "\n",
    "    for genre in album:\n",
    "        album[genre] = sorted(album[genre].items(),\n",
    "                              key=lambda x:x[1], reverse=True)\n",
    "    best_album = []\n",
    "    for genre in sorted(album.items(),\n",
    "                        key=lambda x:x[1][0][1], reverse=True):\n",
    "        best_album.extend([song[0] for song in genre[1][1:3]])\n",
    "\n",
    "    return best_album"
   ]
  },
  {
   "cell_type": "code",
   "execution_count": 2,
   "metadata": {},
   "outputs": [],
   "source": [
    "genres = [\"classic\", \"pop\", \"classic\", \"classic\", \"pop\"]\n",
    "plays = [500, 600, 150, 800, 2500]"
   ]
  },
  {
   "cell_type": "code",
   "execution_count": 3,
   "metadata": {},
   "outputs": [
    {
     "data": {
      "text/plain": [
       "[4, 1, 3, 0]"
      ]
     },
     "execution_count": 3,
     "metadata": {},
     "output_type": "execute_result"
    }
   ],
   "source": [
    "solution(genres, plays)"
   ]
  }
 ],
 "metadata": {
  "kernelspec": {
   "display_name": "Python 3",
   "language": "python",
   "name": "python3"
  },
  "language_info": {
   "codemirror_mode": {
    "name": "ipython",
    "version": 3
   },
   "file_extension": ".py",
   "mimetype": "text/x-python",
   "name": "python",
   "nbconvert_exporter": "python",
   "pygments_lexer": "ipython3",
   "version": "3.7.6"
  }
 },
 "nbformat": 4,
 "nbformat_minor": 4
}
