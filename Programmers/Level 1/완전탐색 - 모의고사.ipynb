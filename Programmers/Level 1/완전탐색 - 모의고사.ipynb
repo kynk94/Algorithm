{
 "cells": [
  {
   "cell_type": "markdown",
   "metadata": {},
   "source": [
    "<div class=\"guide-section-description\">\n",
    "      <h6 class=\"guide-section-title\">문제 설명</h6>\n",
    "      <div class=\"markdown solarized-dark\"><p>수포자는 수학을 포기한 사람의 준말입니다. 수포자 삼인방은 모의고사에 수학 문제를 전부 찍으려 합니다. 수포자는 1번 문제부터 마지막 문제까지 다음과 같이 찍습니다.</p>\n",
    "\n",
    "<p>1번 수포자가 찍는 방식: 1, 2, 3, 4, 5, 1, 2, 3, 4, 5, ...<br>\n",
    "2번 수포자가 찍는 방식: 2, 1, 2, 3, 2, 4, 2, 5, 2, 1, 2, 3, 2, 4, 2, 5, ...<br>\n",
    "3번 수포자가 찍는 방식: 3, 3, 1, 1, 2, 2, 4, 4, 5, 5, 3, 3, 1, 1, 2, 2, 4, 4, 5, 5, ...</p>\n",
    "\n",
    "<p>1번 문제부터 마지막 문제까지의 정답이 순서대로 들은 배열 answers가 주어졌을 때, 가장 많은 문제를 맞힌 사람이 누구인지 배열에 담아 return 하도록 solution 함수를 작성해주세요.</p>\n",
    "\n",
    "<h5>제한 조건</h5>\n",
    "\n",
    "<ul>\n",
    "<li>시험은 최대 10,000 문제로 구성되어있습니다.</li>\n",
    "<li>문제의 정답은 1, 2, 3, 4, 5중 하나입니다.</li>\n",
    "<li>가장 높은 점수를 받은 사람이 여럿일 경우, return하는 값을 오름차순 정렬해주세요.</li>\n",
    "</ul>\n",
    "\n",
    "<h5>입출력 예</h5>\n",
    "<table>\n",
    "        <thead><tr>\n",
    "<th>answers</th>\n",
    "<th>return</th>\n",
    "</tr>\n",
    "</thead>\n",
    "        <tbody><tr>\n",
    "<td>[1,2,3,4,5]</td>\n",
    "<td>[1]</td>\n",
    "</tr>\n",
    "<tr>\n",
    "<td>[1,3,2,4,2]</td>\n",
    "<td>[1,2,3]</td>\n",
    "</tr>\n",
    "</tbody>\n",
    "      </table>\n",
    "<h5>입출력 예 설명</h5>\n",
    "\n",
    "<p>입출력 예 #1</p>\n",
    "\n",
    "<ul>\n",
    "<li>수포자 1은 모든 문제를 맞혔습니다.</li>\n",
    "<li>수포자 2는 모든 문제를 틀렸습니다.</li>\n",
    "<li>수포자 3은 모든 문제를 틀렸습니다.</li>\n",
    "</ul>\n",
    "\n",
    "<p>따라서 가장 문제를 많이 맞힌 사람은 수포자 1입니다.</p>\n",
    "\n",
    "<p>입출력 예 #2</p>\n",
    "\n",
    "<ul>\n",
    "<li>모든 사람이 2문제씩을 맞췄습니다.</li>\n",
    "</ul>\n",
    "</div>\n",
    "    </div>"
   ]
  },
  {
   "cell_type": "code",
   "execution_count": 1,
   "metadata": {},
   "outputs": [],
   "source": [
    "def solution(answers):\n",
    "    pattern = {0:[1,2,3,4,5],\n",
    "               1:[2,1,2,3,2,4,2,5],\n",
    "               2:[3,3,1,1,2,2,4,4,5,5]}\n",
    "    doc = [0,0,0]\n",
    "    for i,j in enumerate(answers):\n",
    "        for k,v in pattern.items():\n",
    "            if j == v[i%len(v)]:\n",
    "                doc[k] += 1\n",
    "    answer = []\n",
    "    for i,j in enumerate(doc):\n",
    "        if j == max(doc):\n",
    "            answer.append(i+1)\n",
    "    return answer"
   ]
  }
 ],
 "metadata": {
  "kernelspec": {
   "display_name": "Python 3",
   "language": "python",
   "name": "python3"
  },
  "language_info": {
   "codemirror_mode": {
    "name": "ipython",
    "version": 3
   },
   "file_extension": ".py",
   "mimetype": "text/x-python",
   "name": "python",
   "nbconvert_exporter": "python",
   "pygments_lexer": "ipython3",
   "version": "3.7.3"
  }
 },
 "nbformat": 4,
 "nbformat_minor": 2
}
