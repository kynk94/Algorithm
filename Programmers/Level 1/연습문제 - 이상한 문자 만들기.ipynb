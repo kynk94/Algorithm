{
 "cells": [
  {
   "cell_type": "markdown",
   "metadata": {},
   "source": [
    "<div class=\"guide-section-description\">\n",
    "      <h6 class=\"guide-section-title\">문제 설명</h6>\n",
    "      <div class=\"markdown solarized-dark\"><p>문자열 s는 한 개 이상의 단어로 구성되어 있습니다. 각 단어는 하나 이상의 공백문자로 구분되어 있습니다. 각 단어의 짝수번째 알파벳은 대문자로, 홀수번째 알파벳은 소문자로 바꾼 문자열을 리턴하는 함수, solution을 완성하세요.</p>\n",
    "\n",
    "<h5>제한 사항</h5>\n",
    "\n",
    "<ul>\n",
    "<li>문자열 전체의 짝/홀수 인덱스가 아니라, 단어(공백을 기준)별로 짝/홀수 인덱스를 판단해야합니다.</li>\n",
    "<li>첫 번째 글자는 0번째 인덱스로 보아 짝수번째 알파벳으로 처리해야 합니다.</li>\n",
    "</ul>\n",
    "\n",
    "<h5>입출력 예</h5>\n",
    "<table>\n",
    "        <thead><tr>\n",
    "<th>s</th>\n",
    "<th>return</th>\n",
    "</tr>\n",
    "</thead>\n",
    "        <tbody><tr>\n",
    "<td><q>try hello world</q></td>\n",
    "<td><q>TrY HeLlO WoRlD</q></td>\n",
    "</tr><tr>\n",
    "            <td><pre>\" try hello  world\"</pre></td>\n",
    "<td><pre>\" TrY HeLlO  WoRlD\"</pre></td>\n",
    "</tr>\n",
    "</tbody>\n",
    "      </table>\n",
    "<h5>입출력 예 설명</h5>\n",
    "\n",
    "<p><q>try hello world</q>는 세 단어 <q>try</q>, <q>hello</q>, <q>world</q>로 구성되어 있습니다. 각 단어의 짝수번째 문자를 대문자로, 홀수번째 문자를 소문자로 바꾸면 <q>TrY</q>, <q>HeLlO</q>, <q>WoRlD</q>입니다. 따라서 <q>TrY HeLlO WoRlD</q> 를 리턴합니다.</p>\n",
    "</div>\n",
    "    </div>"
   ]
  },
  {
   "cell_type": "code",
   "execution_count": 1,
   "metadata": {},
   "outputs": [],
   "source": [
    "def solution_1(s):\n",
    "    result = ''\n",
    "    for i in s.split(' '):\n",
    "        word = ''\n",
    "        for j,k in enumerate(i):\n",
    "            if j % 2 == 0:\n",
    "                word += k.upper()\n",
    "            else:\n",
    "                word += k.lower()\n",
    "        result += word + ' '\n",
    "    return result[:-1]"
   ]
  },
  {
   "cell_type": "code",
   "execution_count": 2,
   "metadata": {},
   "outputs": [],
   "source": [
    "def solution_2(s):\n",
    "    answer = ''\n",
    "    for i in s.split(' '):\n",
    "        for j in range(len(i)):\n",
    "            if j % 2 == 0 :\n",
    "                answer += i[j].upper()\n",
    "            else :\n",
    "                answer += i[j].lower()\n",
    "        answer += ' '\n",
    "    return answer[:-1]"
   ]
  },
  {
   "cell_type": "code",
   "execution_count": 3,
   "metadata": {},
   "outputs": [
    {
     "name": "stdout",
     "output_type": "stream",
     "text": [
      "5.14 µs ± 594 ns per loop (mean ± std. dev. of 100 runs, 10000 loops each)\n",
      "5.5 µs ± 608 ns per loop (mean ± std. dev. of 100 runs, 10000 loops each)\n"
     ]
    }
   ],
   "source": [
    "%timeit -n 10000 -r 100 solution_1(\" try hello   world\")\n",
    "%timeit -n 10000 -r 100 solution_2(\" try hello   world\")"
   ]
  }
 ],
 "metadata": {
  "kernelspec": {
   "display_name": "Python 3",
   "language": "python",
   "name": "python3"
  },
  "language_info": {
   "codemirror_mode": {
    "name": "ipython",
    "version": 3
   },
   "file_extension": ".py",
   "mimetype": "text/x-python",
   "name": "python",
   "nbconvert_exporter": "python",
   "pygments_lexer": "ipython3",
   "version": "3.7.3"
  }
 },
 "nbformat": 4,
 "nbformat_minor": 2
}
