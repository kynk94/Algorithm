{
 "cells": [
  {
   "cell_type": "markdown",
   "metadata": {},
   "source": [
    "<div class=\"guide-section-description\">\n",
    "      <h6 class=\"guide-section-title\">문제 설명</h6>\n",
    "      <div class=\"markdown solarized-dark\"><p>수많은 마라톤 선수들이 마라톤에 참여하였습니다. 단 한 명의 선수를 제외하고는 모든 선수가 마라톤을 완주하였습니다.</p>\n",
    "\n",
    "<p>마라톤에 참여한 선수들의 이름이 담긴 배열 participant와 완주한 선수들의 이름이 담긴 배열 completion이 주어질 때, 완주하지 못한 선수의 이름을 return 하도록 solution 함수를 작성해주세요.</p>\n",
    "\n",
    "<h5>제한사항</h5>\n",
    "\n",
    "<ul>\n",
    "<li>마라톤 경기에 참여한 선수의 수는 1명 이상 100,000명 이하입니다.</li>\n",
    "<li>completion의 길이는 participant의 길이보다 1 작습니다.</li>\n",
    "<li>참가자의 이름은 1개 이상 20개 이하의 알파벳 소문자로 이루어져 있습니다.</li>\n",
    "<li>참가자 중에는 동명이인이 있을 수 있습니다.</li>\n",
    "</ul>\n",
    "\n",
    "<h5>입출력 예</h5>\n",
    "<table>\n",
    "        <thead><tr>\n",
    "<th>participant</th>\n",
    "<th>completion</th>\n",
    "<th>return</th>\n",
    "</tr>\n",
    "</thead>\n",
    "        <tbody><tr>\n",
    "<td>[<q>leo</q>, <q>kiki</q>, <q>eden</q>]</td>\n",
    "<td>[<q>eden</q>, <q>kiki</q>]</td>\n",
    "<td><q>leo</q></td>\n",
    "</tr>\n",
    "<tr>\n",
    "<td>[<q>marina</q>, <q>josipa</q>, <q>nikola</q>, <q>vinko</q>, <q>filipa</q>]</td>\n",
    "<td>[<q>josipa</q>, <q>filipa</q>, <q>marina</q>, <q>nikola</q>]</td>\n",
    "<td><q>vinko</q></td>\n",
    "</tr>\n",
    "<tr>\n",
    "<td>[<q>mislav</q>, <q>stanko</q>, <q>mislav</q>, <q>ana</q>]</td>\n",
    "<td>[<q>stanko</q>, <q>ana</q>, <q>mislav</q>]</td>\n",
    "<td><q>mislav</q></td>\n",
    "</tr>\n",
    "</tbody>\n",
    "      </table>\n",
    "<h5>입출력 예 설명</h5>\n",
    "\n",
    "<p>예제 #1<br>\n",
    "<q>leo</q>는 참여자 명단에는 있지만, 완주자 명단에는 없기 때문에 완주하지 못했습니다.</p>\n",
    "\n",
    "<p>예제 #2<br>\n",
    "<q>vinko</q>는 참여자 명단에는 있지만, 완주자 명단에는 없기 때문에 완주하지 못했습니다.</p>\n",
    "\n",
    "<p>예제 #3<br>\n",
    "<q>mislav</q>는 참여자 명단에는 두 명이 있지만, 완주자 명단에는 한 명밖에 없기 때문에 한명은 완주하지 못했습니다.</p>\n",
    "\n",
    "<p><a href=\"http://hsin.hr/coci/archive/2014_2015/contest2_tasks.pdf\" target=\"_blank\" rel=\"noopener\">출처</a></p>\n",
    "</div>\n",
    "    </div>"
   ]
  },
  {
   "cell_type": "code",
   "execution_count": 1,
   "metadata": {},
   "outputs": [],
   "source": [
    "import collections\n",
    "def solution(participant, completion):\n",
    "    # answer = list((collections.Counter(participant) - collections.Counter(completion)).keys())[0]\n",
    "    answer = next(iter(collections.Counter(participant) - collections.Counter(completion)))\n",
    "    return answer"
   ]
  }
 ],
 "metadata": {
  "kernelspec": {
   "display_name": "Python 3",
   "language": "python",
   "name": "python3"
  },
  "language_info": {
   "codemirror_mode": {
    "name": "ipython",
    "version": 3
   },
   "file_extension": ".py",
   "mimetype": "text/x-python",
   "name": "python",
   "nbconvert_exporter": "python",
   "pygments_lexer": "ipython3",
   "version": "3.7.3"
  }
 },
 "nbformat": 4,
 "nbformat_minor": 2
}
