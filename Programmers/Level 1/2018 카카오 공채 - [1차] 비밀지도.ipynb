{
 "cells": [
  {
   "cell_type": "markdown",
   "metadata": {},
   "source": [
    "<div class=\"guide-section-description\">\n",
    "      <h6 class=\"guide-section-title\">문제 설명</h6>\n",
    "      <div class=\"markdown solarized-dark\"><h2>비밀지도</h2>\n",
    "\n",
    "<p>네오는 평소 프로도가 비상금을 숨겨놓는 장소를 알려줄 비밀지도를 손에 넣었다. 그런데 이 비밀지도는 숫자로 암호화되어 있어 위치를 확인하기 위해서는 암호를 해독해야 한다. 다행히 지도 암호를 해독할 방법을 적어놓은 메모도 함께 발견했다.</p>\n",
    "\n",
    "<ol>\n",
    "<li>지도는 한 변의 길이가 <code>n</code>인 정사각형 배열 형태로, 각 칸은 <q>공백</q>(\" <q>) 또는</q>벽<q>(</q>#\") 두 종류로 이루어져 있다.</li>\n",
    "<li>전체 지도는 두 장의 지도를 겹쳐서 얻을 수 있다. 각각 <q>지도 1</q>과 <q>지도 2</q>라고 하자. 지도 1 또는 지도 2 중 어느 하나라도 벽인 부분은 전체 지도에서도 벽이다. 지도 1과 지도 2에서 모두 공백인 부분은 전체 지도에서도 공백이다.</li>\n",
    "<li><q>지도 1</q>과 <q>지도 2</q>는 각각 정수 배열로 암호화되어 있다.</li>\n",
    "<li>암호화된 배열은 지도의 각 가로줄에서 벽 부분을 <code>1</code>, 공백 부분을 <code>0</code>으로 부호화했을 때 얻어지는 이진수에 해당하는 값의 배열이다.</li>\n",
    "</ol>\n",
    "\n",
    "<p><img src=\"http://t1.kakaocdn.net/welcome2018/secret8.png\" title=\"Secret Map\" alt=\"secret map\"></p>\n",
    "\n",
    "<p>네오가 프로도의 비상금을 손에 넣을 수 있도록, 비밀지도의 암호를 해독하는 작업을 도와줄 프로그램을 작성하라.</p>\n",
    "\n",
    "<h3>입력 형식</h3>\n",
    "\n",
    "<p>입력으로 지도의 한 변 크기 <code>n</code> 과 2개의 정수 배열 <code>arr1</code>, <code>arr2</code>가 들어온다.</p>\n",
    "\n",
    "<ul>\n",
    "<li>1 ≦ <code>n</code> ≦ 16</li>\n",
    "<li><code>arr1</code>, <code>arr2</code>는 길이 <code>n</code>인 정수 배열로 주어진다.</li>\n",
    "<li>정수 배열의 각 원소 <code>x</code>를 이진수로 변환했을 때의 길이는 <code>n</code> 이하이다. 즉, 0 ≦ <code>x</code> ≦ 2<sup>n</sup> - 1을 만족한다.</li>\n",
    "</ul>\n",
    "\n",
    "<h3>출력 형식</h3>\n",
    "\n",
    "<p>원래의 비밀지도를 해독하여 <code>'#'</code>, <code>공백</code>으로 구성된 문자열 배열로 출력하라.</p>\n",
    "\n",
    "<h3>입출력 예제</h3>\n",
    "<table>\n",
    "        <thead><tr>\n",
    "<th>매개변수</th>\n",
    "<th>값</th>\n",
    "</tr>\n",
    "</thead>\n",
    "        <tbody><tr>\n",
    "<td>n</td>\n",
    "<td>5</td>\n",
    "</tr>\n",
    "<tr>\n",
    "<td>arr1</td>\n",
    "<td>[9, 20, 28, 18, 11]</td>\n",
    "</tr>\n",
    "<tr>\n",
    "<td>arr2</td>\n",
    "<td>[30, 1, 21, 17, 28]</td>\n",
    "</tr>\n",
    "<tr>\n",
    "<td>출력</td>\n",
    "<td><code>[\"#####\",\"# # #\", \"### #\", \"#  ##\", \"#####\"]</code></td>\n",
    "</tr>\n",
    "</tbody>\n",
    "      </table><table>\n",
    "        <thead><tr>\n",
    "<th>매개변수</th>\n",
    "<th>값</th>\n",
    "</tr>\n",
    "</thead>\n",
    "        <tbody><tr>\n",
    "<td>n</td>\n",
    "<td>6</td>\n",
    "</tr>\n",
    "<tr>\n",
    "<td>arr1</td>\n",
    "<td>[46, 33, 33 ,22, 31, 50]</td>\n",
    "</tr>\n",
    "<tr>\n",
    "<td>arr2</td>\n",
    "<td>[27 ,56, 19, 14, 14, 10]</td>\n",
    "</tr>\n",
    "<tr>\n",
    "<td>출력</td>\n",
    "<td><code>[\"######\", \"###  #\", \"##  ##\", \" #### \", \" #####\", \"### # \"]</code></td>\n",
    "</tr>\n",
    "</tbody>\n",
    "      </table>\n",
    "<p><a href=\"http://tech.kakao.com/2017/09/27/kakao-blind-recruitment-round-1/\" target=\"_blank\" rel=\"noopener\">해설 보러가기</a></p>\n",
    "</div>\n",
    "    </div>"
   ]
  },
  {
   "cell_type": "code",
   "execution_count": 1,
   "metadata": {},
   "outputs": [],
   "source": [
    "n = 5\n",
    "arr1 = [9, 20, 28, 18, 11]\n",
    "arr2 = [30, 1, 21, 17, 28]"
   ]
  },
  {
   "cell_type": "code",
   "execution_count": 2,
   "metadata": {},
   "outputs": [],
   "source": [
    "def solution(n, arr1, arr2):\n",
    "    answer = []\n",
    "    for a1, a2 in zip(arr1, arr2):\n",
    "        b = bin(a1 | a2)[2:]\n",
    "        b = '0'*(n - len(b)) + b\n",
    "        answer.append(''.join(['#' if i=='1' else ' ' for i in b]))\n",
    "    return answer"
   ]
  },
  {
   "cell_type": "code",
   "execution_count": 3,
   "metadata": {},
   "outputs": [
    {
     "data": {
      "text/plain": [
       "['#####', '# # #', '### #', '#  ##', '#####']"
      ]
     },
     "execution_count": 3,
     "metadata": {},
     "output_type": "execute_result"
    }
   ],
   "source": [
    "solution(n, arr1, arr2)"
   ]
  }
 ],
 "metadata": {
  "kernelspec": {
   "display_name": "Python 3",
   "language": "python",
   "name": "python3"
  },
  "language_info": {
   "codemirror_mode": {
    "name": "ipython",
    "version": 3
   },
   "file_extension": ".py",
   "mimetype": "text/x-python",
   "name": "python",
   "nbconvert_exporter": "python",
   "pygments_lexer": "ipython3",
   "version": "3.7.6"
  }
 },
 "nbformat": 4,
 "nbformat_minor": 4
}
