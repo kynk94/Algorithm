{
 "cells": [
  {
   "cell_type": "markdown",
   "metadata": {
    "collapsed": true,
    "pycharm": {
     "name": "#%% md\n"
    }
   },
   "source": [
    "<div class=\"guide-section-description\">\n",
    "      <h6 class=\"guide-section-title\">문제 설명</h6>\n",
    "      <div class=\"markdown solarized-dark\"><p>어떤 문장의 각 알파벳을 일정한 거리만큼 밀어서 다른 알파벳으로 바꾸는 암호화 방식을 시저 암호라고 합니다.  예를 들어 <q>AB</q>는 1만큼 밀면 <q>BC</q>가 되고, 3만큼 밀면 <q>DE</q>가 됩니다. <q>z</q>는 1만큼 밀면 <q>a</q>가 됩니다. 문자열 s와 거리 n을 입력받아 s를 n만큼 민 암호문을 만드는 함수, solution을 완성해 보세요.</p>\n",
    "\n",
    "<h5>제한 조건</h5>\n",
    "\n",
    "<ul>\n",
    "<li>공백은 아무리 밀어도 공백입니다.</li>\n",
    "<li>s는 알파벳 소문자, 대문자, 공백으로만 이루어져 있습니다.</li>\n",
    "<li>s의 길이는 8000이하입니다.</li>\n",
    "<li>n은 1 이상, 25이하인 자연수입니다.</li>\n",
    "</ul>\n",
    "\n",
    "<h5>입출력 예</h5>\n",
    "<table>\n",
    "        <thead><tr>\n",
    "<th>s</th>\n",
    "<th>n</th>\n",
    "<th>result</th>\n",
    "</tr>\n",
    "</thead>\n",
    "        <tbody><tr>\n",
    "<td><q>AB</q></td>\n",
    "<td>1</td>\n",
    "<td><q>BC</q></td>\n",
    "</tr>\n",
    "<tr>\n",
    "<td><q>z</q></td>\n",
    "<td>1</td>\n",
    "<td><q>a</q></td>\n",
    "</tr>\n",
    "<tr>\n",
    "<td><q>a B z</q></td>\n",
    "<td>4</td>\n",
    "<td><q>e F d</q></td>\n",
    "</tr>\n",
    "</tbody>\n",
    "      </table></div>\n",
    "    </div>"
   ]
  },
  {
   "cell_type": "code",
   "execution_count": 1,
   "metadata": {},
   "outputs": [],
   "source": [
    "def solution_1(s, n):\n",
    "    s_l = []\n",
    "    for i in s:\n",
    "        if i==' ':\n",
    "            t = ord(i)\n",
    "        elif (0 <= ord('Z')-ord(i) < n) or ord('z')-ord(i) < n:\n",
    "            t = ord(i) + n - 26\n",
    "        else:\n",
    "            t = ord(i) + n\n",
    "        s_l.append(t)\n",
    "    return ''.join([chr(i) for i in s_l])"
   ]
  },
  {
   "cell_type": "code",
   "execution_count": 2,
   "metadata": {},
   "outputs": [],
   "source": [
    "def solution_2(s, n):\n",
    "    return ''.join([chr((ord(i)-ord('A')+n)%26+ord('A')) if i.isupper() else (chr((ord(i)-ord('a')+n)%26+ord('a')) if i.islower() else i) for i in s])"
   ]
  },
  {
   "cell_type": "code",
   "execution_count": 3,
   "metadata": {},
   "outputs": [],
   "source": [
    "def solution_3(s, n):\n",
    "    s = list(s)\n",
    "    for i in range(len(s)):\n",
    "        if s[i].isupper():\n",
    "            s[i] = chr((ord(s[i]) - ord('A') + n) % 26 + ord('A'))\n",
    "        elif s[i].islower():\n",
    "            s[i] = chr((ord(s[i]) - ord('a') + n) % 26 + ord('a'))\n",
    "    return ''.join(s)"
   ]
  },
  {
   "cell_type": "code",
   "execution_count": 4,
   "metadata": {},
   "outputs": [],
   "source": [
    "def solution_4(s, n):    \n",
    "    result = ''\n",
    "    for i in s:\n",
    "        if i.islower():\n",
    "            result += chr((ord(i) - ord('a') + n) % 26 + ord('a'))\n",
    "        elif i.isupper():\n",
    "            result += chr((ord(i) - ord('A') + n) % 26 + ord('A'))\n",
    "        else:\n",
    "            result += i\n",
    "    return result"
   ]
  },
  {
   "cell_type": "code",
   "execution_count": 5,
   "metadata": {},
   "outputs": [
    {
     "name": "stdout",
     "output_type": "stream",
     "text": [
      "5.18 µs ± 390 ns per loop (mean ± std. dev. of 100 runs, 10000 loops each)\n",
      "4.16 µs ± 437 ns per loop (mean ± std. dev. of 100 runs, 10000 loops each)\n",
      "5.23 µs ± 457 ns per loop (mean ± std. dev. of 100 runs, 10000 loops each)\n",
      "3.55 µs ± 481 ns per loop (mean ± std. dev. of 100 runs, 10000 loops each)\n"
     ]
    }
   ],
   "source": [
    "%timeit -n 10000 -r 100 solution_1(\"ajdcnd\", 10)\n",
    "%timeit -n 10000 -r 100 solution_2(\"ajdcnd\", 10)\n",
    "%timeit -n 10000 -r 100 solution_3(\"ajdcnd\", 10)\n",
    "%timeit -n 10000 -r 100 solution_4(\"ajdcnd\", 10) # join 보다 바로바로 더하는게 더 빠름"
   ]
  }
 ],
 "metadata": {
  "kernelspec": {
   "display_name": "Python 3",
   "language": "python",
   "name": "python3"
  },
  "language_info": {
   "codemirror_mode": {
    "name": "ipython",
    "version": 3
   },
   "file_extension": ".py",
   "mimetype": "text/x-python",
   "name": "python",
   "nbconvert_exporter": "python",
   "pygments_lexer": "ipython3",
   "version": "3.7.3"
  }
 },
 "nbformat": 4,
 "nbformat_minor": 1
}
