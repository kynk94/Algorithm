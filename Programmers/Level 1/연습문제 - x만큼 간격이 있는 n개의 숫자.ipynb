{
 "cells": [
  {
   "cell_type": "markdown",
   "metadata": {},
   "source": [
    "<div class=\"guide-section-description\">\n",
    "      <h6 class=\"guide-section-title\">문제 설명</h6>\n",
    "      <div class=\"markdown solarized-dark\"><p>함수 solution은 정수 x와 자연수 n을 입력 받아, x부터 시작해 x씩 증가하는 숫자를 n개 지니는 리스트를 리턴해야 합니다. 다음 제한 조건을 보고, 조건을 만족하는 함수, solution을 완성해주세요.</p>\n",
    "\n",
    "<h4>제한 조건</h4>\n",
    "\n",
    "<ul>\n",
    "<li>x는 -10000000 이상, 10000000 이하인 정수입니다.</li>\n",
    "<li>n은 1000 이하인 자연수입니다.</li>\n",
    "</ul>\n",
    "\n",
    "<h4>입출력 예</h4>\n",
    "<table>\n",
    "        <thead><tr>\n",
    "<th>x</th>\n",
    "<th>n</th>\n",
    "<th>answer</th>\n",
    "</tr>\n",
    "</thead>\n",
    "        <tbody><tr>\n",
    "<td>2</td>\n",
    "<td>5</td>\n",
    "<td>[2,4,6,8,10]</td>\n",
    "</tr>\n",
    "<tr>\n",
    "<td>4</td>\n",
    "<td>3</td>\n",
    "<td>[4,8,12]</td>\n",
    "</tr>\n",
    "<tr>\n",
    "<td>-4</td>\n",
    "<td>2</td>\n",
    "<td>[-4, -8]</td>\n",
    "</tr>\n",
    "</tbody>\n",
    "      </table></div>\n",
    "    </div>"
   ]
  },
  {
   "cell_type": "code",
   "execution_count": 1,
   "metadata": {},
   "outputs": [],
   "source": [
    "def solution_1(x, n):\n",
    "    return [x * i for i in range(1, n + 1)]"
   ]
  },
  {
   "cell_type": "code",
   "execution_count": 2,
   "metadata": {},
   "outputs": [],
   "source": [
    "def solution_2(x, n):\n",
    "    return [x] * n if x == 0 else list(range(x, x * n + x // abs(x), x))"
   ]
  },
  {
   "cell_type": "code",
   "execution_count": 3,
   "metadata": {},
   "outputs": [],
   "source": [
    "def solution_3(x, n):\n",
    "    return [x] * n if x == 0 else (list(range(x, x * n + 1, x)) if x > 0 else list(range(x, x * n - 1, x)))"
   ]
  },
  {
   "cell_type": "code",
   "execution_count": 4,
   "metadata": {},
   "outputs": [
    {
     "name": "stdout",
     "output_type": "stream",
     "text": [
      "976 ns ± 73.9 ns per loop (mean ± std. dev. of 100 runs, 1000 loops each)\n",
      "834 ns ± 70.2 ns per loop (mean ± std. dev. of 100 runs, 1000 loops each)\n",
      "758 ns ± 67.8 ns per loop (mean ± std. dev. of 100 runs, 1000 loops each)\n",
      "**************************************************\n",
      "1.09 µs ± 283 ns per loop (mean ± std. dev. of 100 runs, 1000 loops each)\n",
      "215 ns ± 23.9 ns per loop (mean ± std. dev. of 100 runs, 1000 loops each)\n",
      "221 ns ± 30 ns per loop (mean ± std. dev. of 100 runs, 1000 loops each)\n",
      "**************************************************\n",
      "966 ns ± 70 ns per loop (mean ± std. dev. of 100 runs, 1000 loops each)\n",
      "811 ns ± 76 ns per loop (mean ± std. dev. of 100 runs, 1000 loops each)\n",
      "708 ns ± 67.9 ns per loop (mean ± std. dev. of 100 runs, 1000 loops each)\n"
     ]
    }
   ],
   "source": [
    "%timeit -n 1000 -r 100 solution_1(-1, 5)\n",
    "%timeit -n 1000 -r 100 solution_2(-1, 5)\n",
    "%timeit -n 1000 -r 100 solution_3(-1, 5)\n",
    "print(\"*\"*50)\n",
    "%timeit -n 1000 -r 100 solution_1(0, 5)\n",
    "%timeit -n 1000 -r 100 solution_2(0, 5)\n",
    "%timeit -n 1000 -r 100 solution_3(0, 5)\n",
    "print(\"*\"*50)\n",
    "%timeit -n 1000 -r 100 solution_1(1, 5)\n",
    "%timeit -n 1000 -r 100 solution_2(1, 5)\n",
    "%timeit -n 1000 -r 100 solution_3(1, 5) # 조건문 한번 더 거치는게 차라리 더 빠르다."
   ]
  }
 ],
 "metadata": {
  "kernelspec": {
   "display_name": "Python 3",
   "language": "python",
   "name": "python3"
  },
  "language_info": {
   "codemirror_mode": {
    "name": "ipython",
    "version": 3
   },
   "file_extension": ".py",
   "mimetype": "text/x-python",
   "name": "python",
   "nbconvert_exporter": "python",
   "pygments_lexer": "ipython3",
   "version": "3.7.3"
  }
 },
 "nbformat": 4,
 "nbformat_minor": 2
}
