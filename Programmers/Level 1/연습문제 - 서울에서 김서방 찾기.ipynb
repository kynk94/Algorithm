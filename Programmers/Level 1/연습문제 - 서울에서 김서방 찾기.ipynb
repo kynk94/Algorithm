{
 "cells": [
  {
   "cell_type": "markdown",
   "metadata": {},
   "source": [
    "<div class=\"guide-section-description\">\n",
    "      <h6 class=\"guide-section-title\">문제 설명</h6>\n",
    "      <div class=\"markdown solarized-dark\"><p>String형 배열 seoul의 element중 <q>Kim</q>의 위치 x를 찾아, <q>김서방은 x에 있다</q>는 String을 반환하는 함수, solution을 완성하세요. seoul에 <q>Kim</q>은 오직 한 번만 나타나며 잘못된 값이 입력되는 경우는 없습니다.</p>\n",
    "\n",
    "<h5>제한 사항</h5>\n",
    "\n",
    "<ul>\n",
    "<li>seoul은 길이 1 이상, 1000 이하인 배열입니다.</li>\n",
    "<li>seoul의 원소는 길이 1 이상,  20 이하인 문자열입니다.</li>\n",
    "<li><q>Kim</q>은 반드시 seoul 안에 포함되어 있습니다.</li>\n",
    "</ul>\n",
    "\n",
    "<h5>입출력 예</h5>\n",
    "<table>\n",
    "        <thead><tr>\n",
    "<th>seoul</th>\n",
    "<th>return</th>\n",
    "</tr>\n",
    "</thead>\n",
    "        <tbody><tr>\n",
    "<td>[<q>Jane</q>, <q>Kim</q>]</td>\n",
    "<td><q>김서방은 1에 있다</q></td>\n",
    "</tr>\n",
    "</tbody>\n",
    "      </table></div>\n",
    "    </div>"
   ]
  },
  {
   "cell_type": "code",
   "execution_count": 1,
   "metadata": {},
   "outputs": [],
   "source": [
    "def solution(seoul):\n",
    "    return \"김서방은 {}에 있다\".format(seoul.index(\"Kim\"))"
   ]
  }
 ],
 "metadata": {
  "kernelspec": {
   "display_name": "Python 3",
   "language": "python",
   "name": "python3"
  },
  "language_info": {
   "codemirror_mode": {
    "name": "ipython",
    "version": 3
   },
   "file_extension": ".py",
   "mimetype": "text/x-python",
   "name": "python",
   "nbconvert_exporter": "python",
   "pygments_lexer": "ipython3",
   "version": "3.7.3"
  }
 },
 "nbformat": 4,
 "nbformat_minor": 2
}
