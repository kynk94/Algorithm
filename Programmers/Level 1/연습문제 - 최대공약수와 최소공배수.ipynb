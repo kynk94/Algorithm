{
 "cells": [
  {
   "cell_type": "markdown",
   "metadata": {},
   "source": [
    "<div class=\"guide-section-description\">\n",
    "      <h6 class=\"guide-section-title\">문제 설명</h6>\n",
    "      <div class=\"markdown solarized-dark\"><p>두 수를 입력받아 두 수의 최대공약수와 최소공배수를 반환하는 함수, solution을 완성해 보세요. 배열의 맨 앞에 최대공약수, 그다음 최소공배수를 넣어 반환하면 됩니다. 예를 들어 두 수 3, 12의 최대공약수는 3, 최소공배수는 12이므로 solution(3, 12)는 [3, 12]를 반환해야 합니다.</p>\n",
    "\n",
    "<h5>제한 사항</h5>\n",
    "\n",
    "<ul>\n",
    "<li>두 수는 1이상 1000000이하의 자연수입니다.</li>\n",
    "</ul>\n",
    "\n",
    "<h5>입출력 예</h5>\n",
    "<table>\n",
    "        <thead><tr>\n",
    "<th>n</th>\n",
    "<th>m</th>\n",
    "<th>return</th>\n",
    "</tr>\n",
    "</thead>\n",
    "        <tbody><tr>\n",
    "<td>3</td>\n",
    "<td>12</td>\n",
    "<td>[3, 12]</td>\n",
    "</tr>\n",
    "<tr>\n",
    "<td>2</td>\n",
    "<td>5</td>\n",
    "<td>[1, 10]</td>\n",
    "</tr>\n",
    "</tbody>\n",
    "      </table>\n",
    "<h5>입출력 예 설명</h5>\n",
    "\n",
    "<p>입출력 예 #1<br>\n",
    "위의 설명과 같습니다.</p>\n",
    "\n",
    "<p>입출력 예 #2<br>\n",
    "자연수 2와 5의 최대공약수는 1, 최소공배수는 10이므로 [1, 10]을 리턴해야 합니다.</p>\n",
    "</div>\n",
    "    </div>"
   ]
  },
  {
   "cell_type": "code",
   "execution_count": 1,
   "metadata": {},
   "outputs": [],
   "source": [
    "# Brute Force\n",
    "def get_gcd(n, m):\n",
    "    for i in range(min(n, m), 1, -1):\n",
    "        if n % i == 0 and m % i == 0:\n",
    "            return i\n",
    "        \n",
    "def get_lcm(n, m):\n",
    "    gcd = get_gcd(n, m)\n",
    "    return int(n * m / gcd)"
   ]
  },
  {
   "cell_type": "code",
   "execution_count": 2,
   "metadata": {},
   "outputs": [],
   "source": [
    "def solution_1(n, m):\n",
    "    gcd = get_gcd(n, m)\n",
    "    return gcd, int(n * m / gcd)"
   ]
  },
  {
   "cell_type": "markdown",
   "metadata": {},
   "source": [
    "# <a href=\"https://ko.wikipedia.org/wiki/%EC%9C%A0%ED%81%B4%EB%A6%AC%EB%93%9C_%ED%98%B8%EC%A0%9C%EB%B2%95\">유클리드 호제법</a>\n",
    "\n",
    "\n",
    "\n",
    "### 증명\n",
    "$a,b \\in Z$이고, $a\\ge b$라고 하자.  \n",
    "그러면,$a=bq+r$을 만족하는 유일한 정수 $q,r$이 존재한다. 이때,$0\\le r<b$ 이다.\n",
    "\n",
    "$(a,b)=d$, $a=d\\alpha$, $b=d\\beta$라고 하자.  \n",
    "즉, $\\alpha$와 $\\beta$는 서로소이다.\n",
    "\n",
    "$a=bq+r.$  \n",
    "$\\Rightarrow d\\alpha=d\\beta q+r.$  \n",
    "$\\Rightarrow d(\\alpha-\\beta q)=r.$  \n",
    "$\\Rightarrow d|r$.(즉, $r$은 $d$의 배수)\n",
    "\n",
    "이제, $r=d\\rho$라고 하자.  \n",
    "만약 $(\\beta,\\rho)=d'>1$라면, $\\beta=d'\\beta'$, $\\rho=d'\\rho'$으로 두었을 때,  \n",
    "$a=bq+r$.  \n",
    "$\\Rightarrow d\\alpha=d\\beta q+d\\rho=dd'\\beta'q+dd'\\rho'=dd'(\\beta'q+\\rho').$  \n",
    "$\\Rightarrow \\alpha=d'(\\beta'q+\\rho').$  \n",
    "이 되므로, $d'|\\alpha$이다. (즉, $\\alpha$는 $d'$의 배수)  \n",
    "\n",
    "즉, $d'|\\alpha$, $d'|\\beta$가 되어 $\\alpha$와 $\\beta$는 서로소라는 것에 모순이다.  \n",
    "이는 $(\\beta,\\rho)=d'>1$라는 가정에서 나타나는 모순이므로 $(\\beta,\\rho)=1$이다.  \n",
    "따라서 곧 $(b,r)=d$라는 것이다."
   ]
  },
  {
   "cell_type": "code",
   "execution_count": 3,
   "metadata": {},
   "outputs": [],
   "source": [
    "def solution_2(n, m):\n",
    "    a, b = n, m\n",
    "    while b != 0:\n",
    "        r = a % b\n",
    "        a, b = b, r\n",
    "    return [a, int(n * m / a)]"
   ]
  },
  {
   "cell_type": "code",
   "execution_count": 4,
   "metadata": {},
   "outputs": [
    {
     "name": "stdout",
     "output_type": "stream",
     "text": [
      "42.4 µs ± 2.87 µs per loop (mean ± std. dev. of 100 runs, 1000 loops each)\n",
      "807 ns ± 82.1 ns per loop (mean ± std. dev. of 100 runs, 1000 loops each)\n"
     ]
    }
   ],
   "source": [
    "%timeit -n 1000 -r 100 solution_1(756, 11538)\n",
    "%timeit -n 1000 -r 100 solution_2(756, 11538)"
   ]
  }
 ],
 "metadata": {
  "kernelspec": {
   "display_name": "Python 3",
   "language": "python",
   "name": "python3"
  },
  "language_info": {
   "codemirror_mode": {
    "name": "ipython",
    "version": 3
   },
   "file_extension": ".py",
   "mimetype": "text/x-python",
   "name": "python",
   "nbconvert_exporter": "python",
   "pygments_lexer": "ipython3",
   "version": "3.7.3"
  }
 },
 "nbformat": 4,
 "nbformat_minor": 2
}
