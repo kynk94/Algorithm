{
 "cells": [
  {
   "cell_type": "markdown",
   "metadata": {},
   "source": [
    "<div class=\"guide-section-description\">\n",
    "      <h6 class=\"guide-section-title\">문제 설명</h6>\n",
    "      <div class=\"markdown solarized-dark\"><p>임의의 정수 n에 대해, n이 어떤 정수 x의 제곱인지 아닌지 판단하려 합니다.<br>\n",
    "n이 정수 x의 제곱이라면 x+1의 제곱을 리턴하고, n이 정수 x의 제곱이 아니라면 -1을 리턴하는 함수를 완성하세요.</p>\n",
    "\n",
    "<h5>제한 사항</h5>\n",
    "\n",
    "<ul>\n",
    "<li>n은 1이상,  50000000000000 이하인 정수입니다.</li>\n",
    "</ul>\n",
    "\n",
    "<h5>입출력 예</h5>\n",
    "<table>\n",
    "        <thead><tr>\n",
    "<th>n</th>\n",
    "<th style=\"text-align: center\">return</th>\n",
    "</tr>\n",
    "</thead>\n",
    "        <tbody><tr>\n",
    "<td>121</td>\n",
    "<td style=\"text-align: center\">144</td>\n",
    "</tr>\n",
    "<tr>\n",
    "<td>3</td>\n",
    "<td style=\"text-align: center\">-1</td>\n",
    "</tr>\n",
    "</tbody>\n",
    "      </table>\n",
    "<h6>입출력 예 설명</h6>\n",
    "\n",
    "<p><strong>입출력 예#1</strong><br>\n",
    "121은 정수 11의 제곱이므로, (11+1)를 제곱한 144를 리턴합니다.</p>\n",
    "\n",
    "<p><strong>입출력 예#2</strong><br>\n",
    "3은 정수의 제곱이 아니므로, -1을 리턴합니다.</p>\n",
    "</div>\n",
    "    </div>"
   ]
  },
  {
   "cell_type": "code",
   "execution_count": 1,
   "metadata": {},
   "outputs": [],
   "source": [
    "def solution_1(n):\n",
    "    temp = pow(n, 0.5)\n",
    "    return int(pow(temp + 1, 2)) if temp == int(temp) else -1"
   ]
  },
  {
   "cell_type": "code",
   "execution_count": 2,
   "metadata": {},
   "outputs": [],
   "source": [
    "def solution_2(n):\n",
    "    temp = pow(n, 0.5)\n",
    "    return int(pow(temp + 1, 2)) if temp % 1 == 0 else -1"
   ]
  },
  {
   "cell_type": "code",
   "execution_count": 3,
   "metadata": {},
   "outputs": [
    {
     "name": "stdout",
     "output_type": "stream",
     "text": [
      "1.06 µs ± 132 ns per loop (mean ± std. dev. of 100 runs, 10000 loops each)\n",
      "973 ns ± 157 ns per loop (mean ± std. dev. of 100 runs, 10000 loops each)\n"
     ]
    }
   ],
   "source": [
    "%timeit -n 10000 -r 100 solution_1(121)\n",
    "%timeit -n 10000 -r 100 solution_2(121)"
   ]
  }
 ],
 "metadata": {
  "kernelspec": {
   "display_name": "Python 3",
   "language": "python",
   "name": "python3"
  },
  "language_info": {
   "codemirror_mode": {
    "name": "ipython",
    "version": 3
   },
   "file_extension": ".py",
   "mimetype": "text/x-python",
   "name": "python",
   "nbconvert_exporter": "python",
   "pygments_lexer": "ipython3",
   "version": "3.7.3"
  }
 },
 "nbformat": 4,
 "nbformat_minor": 2
}
