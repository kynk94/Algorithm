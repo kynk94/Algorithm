{
 "cells": [
  {
   "cell_type": "markdown",
   "metadata": {},
   "source": [
    "<div class=\"guide-section-description\">\n",
    "      <h6 class=\"guide-section-title\">문제 설명</h6>\n",
    "      <div class=\"markdown solarized-dark\"><p>정수를 담고 있는 배열 arr의 평균값을 return하는 함수, solution을 완성해보세요.</p>\n",
    "\n",
    "<h4>제한사항</h4>\n",
    "\n",
    "<ul>\n",
    "<li>arr은 길이 1 이상, 100 이하인 배열입니다.</li>\n",
    "<li>arr의 원소는  -10,000 이상 10,000 이하인 정수입니다.</li>\n",
    "</ul>\n",
    "\n",
    "<h4>입출력 예</h4>\n",
    "<table>\n",
    "        <thead><tr>\n",
    "<th>arr</th>\n",
    "<th style=\"text-align: center\">return</th>\n",
    "</tr>\n",
    "</thead>\n",
    "        <tbody><tr>\n",
    "<td>[1,2,3,4]</td>\n",
    "<td style=\"text-align: center\">2.5</td>\n",
    "</tr>\n",
    "<tr>\n",
    "<td>[5,5]</td>\n",
    "<td style=\"text-align: center\">5</td>\n",
    "</tr>\n",
    "</tbody>\n",
    "      </table></div>\n",
    "    </div>"
   ]
  },
  {
   "cell_type": "code",
   "execution_count": 1,
   "metadata": {},
   "outputs": [],
   "source": [
    "def solution(arr):\n",
    "    return sum(arr) / len(arr)"
   ]
  }
 ],
 "metadata": {
  "kernelspec": {
   "display_name": "Python 3",
   "language": "python",
   "name": "python3"
  },
  "language_info": {
   "codemirror_mode": {
    "name": "ipython",
    "version": 3
   },
   "file_extension": ".py",
   "mimetype": "text/x-python",
   "name": "python",
   "nbconvert_exporter": "python",
   "pygments_lexer": "ipython3",
   "version": "3.7.3"
  }
 },
 "nbformat": 4,
 "nbformat_minor": 2
}
