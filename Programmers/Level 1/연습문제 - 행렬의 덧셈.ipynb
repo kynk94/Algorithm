{
 "cells": [
  {
   "cell_type": "markdown",
   "metadata": {},
   "source": [
    "<div class=\"guide-section-description\">\n",
    "      <h6 class=\"guide-section-title\">문제 설명</h6>\n",
    "      <div class=\"markdown solarized-dark\"><p>행렬의 덧셈은 행과 열의 크기가 같은 두 행렬의 같은 행, 같은 열의 값을 서로 더한 결과가 됩니다. 2개의 행렬 arr1과 arr2를 입력받아, 행렬 덧셈의 결과를 반환하는 함수, solution을 완성해주세요.</p>\n",
    "\n",
    "<h5>제한 조건</h5>\n",
    "\n",
    "<ul>\n",
    "<li>행렬 arr1, arr2의 행과 열의 길이는 500을 넘지 않습니다.</li>\n",
    "</ul>\n",
    "\n",
    "<h5>입출력 예</h5>\n",
    "<table>\n",
    "        <thead><tr>\n",
    "<th>arr1</th>\n",
    "<th>arr2</th>\n",
    "<th>return</th>\n",
    "</tr>\n",
    "</thead>\n",
    "        <tbody><tr>\n",
    "<td>[[1,2],[2,3]]</td>\n",
    "<td>[[3,4],[5,6]]</td>\n",
    "<td>[[4,6],[7,9]]</td>\n",
    "</tr>\n",
    "<tr>\n",
    "<td>[[1],[2]]</td>\n",
    "<td>[[3],[4]]</td>\n",
    "<td>[[4],[6]]</td>\n",
    "</tr>\n",
    "</tbody>\n",
    "      </table></div>\n",
    "    </div>"
   ]
  },
  {
   "cell_type": "code",
   "execution_count": 1,
   "metadata": {},
   "outputs": [],
   "source": [
    "def solution_1(arr1, arr2):\n",
    "    return [[arr1[j][i] + arr2[j][i] for i in range(len(arr1[0]))] for j in range(len(arr1))]"
   ]
  },
  {
   "cell_type": "code",
   "execution_count": 2,
   "metadata": {},
   "outputs": [],
   "source": [
    "def solution_2(arr1, arr2):\n",
    "    return [[a + b for a, b in zip(arr1_, arr2_)] for arr1_, arr2_ in zip(arr1, arr2)]"
   ]
  },
  {
   "cell_type": "code",
   "execution_count": 3,
   "metadata": {},
   "outputs": [
    {
     "name": "stdout",
     "output_type": "stream",
     "text": [
      "3.46 µs ± 661 ns per loop (mean ± std. dev. of 100 runs, 1000 loops each)\n",
      "2.24 µs ± 521 ns per loop (mean ± std. dev. of 100 runs, 1000 loops each)\n"
     ]
    }
   ],
   "source": [
    "%timeit -n 1000 -r 100 solution_1([[1,2], [2,3]], [[3,4], [5,6]])\n",
    "%timeit -n 1000 -r 100 solution_2([[1,2], [2,3]], [[3,4], [5,6]])"
   ]
  }
 ],
 "metadata": {
  "kernelspec": {
   "display_name": "Python 3",
   "language": "python",
   "name": "python3"
  },
  "language_info": {
   "codemirror_mode": {
    "name": "ipython",
    "version": 3
   },
   "file_extension": ".py",
   "mimetype": "text/x-python",
   "name": "python",
   "nbconvert_exporter": "python",
   "pygments_lexer": "ipython3",
   "version": "3.7.3"
  }
 },
 "nbformat": 4,
 "nbformat_minor": 2
}
