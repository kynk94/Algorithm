{
 "cells": [
  {
   "cell_type": "markdown",
   "metadata": {},
   "source": [
    "<div class=\"guide-section-description\">\n",
    "      <h6 class=\"guide-section-title\">문제 설명</h6>\n",
    "      <div class=\"markdown solarized-dark\"><p>선행 스킬이란 어떤 스킬을 배우기 전에 먼저 배워야 하는 스킬을 뜻합니다.</p>\n",
    "\n",
    "<p>예를 들어 선행 스킬 순서가 <code>스파크 → 라이트닝 볼트 → 썬더</code>일때, 썬더를 배우려면 먼저 라이트닝 볼트를 배워야 하고, 라이트닝 볼트를 배우려면 먼저 스파크를 배워야 합니다.</p>\n",
    "\n",
    "<p>위 순서에 없는 다른 스킬(힐링 등)은 순서에 상관없이 배울 수 있습니다. 따라서 <code>스파크 → 힐링 → 라이트닝 볼트 → 썬더</code>와 같은 스킬트리는 가능하지만, <code>썬더 → 스파크</code>나 <code>라이트닝 볼트 → 스파크 → 힐링 → 썬더</code>와 같은 스킬트리는 불가능합니다.</p>\n",
    "\n",
    "<p>선행 스킬 순서 skill과 유저들이 만든 스킬트리<sup id=\"fnref1\"><a href=\"#fn1\" rel=\"footnote\">1</a></sup>를 담은 배열 skill_trees가 매개변수로 주어질 때, 가능한 스킬트리 개수를 return 하는 solution 함수를 작성해주세요.</p>\n",
    "\n",
    "<h5>제한 조건</h5>\n",
    "\n",
    "<ul>\n",
    "<li>스킬은 알파벳 대문자로 표기하며, 모든 문자열은 알파벳 대문자로만 이루어져 있습니다.</li>\n",
    "<li>스킬 순서와 스킬트리는 문자열로 표기합니다.\n",
    "\n",
    "<ul>\n",
    "<li>예를 들어, <code>C → B → D</code> 라면 <q>CBD</q>로 표기합니다</li>\n",
    "</ul></li>\n",
    "<li>선행 스킬 순서 skill의 길이는 1 이상 26 이하이며, 스킬은 중복해 주어지지 않습니다.</li>\n",
    "<li>skill_trees는 길이 1 이상 20 이하인 배열입니다.</li>\n",
    "<li>skill_trees의 원소는 스킬을 나타내는 문자열입니다.\n",
    "\n",
    "<ul>\n",
    "<li>skill_trees의 원소는 길이가 2 이상 26 이하인 문자열이며, 스킬이 중복해 주어지지 않습니다.</li>\n",
    "</ul></li>\n",
    "</ul>\n",
    "\n",
    "<h5>입출력 예</h5>\n",
    "<table>\n",
    "        <thead><tr>\n",
    "<th>skill</th>\n",
    "<th>skill_trees</th>\n",
    "<th>return</th>\n",
    "</tr>\n",
    "</thead>\n",
    "        <tbody><tr>\n",
    "<td><q>CBD</q></td>\n",
    "<td>[<q>BACDE</q>, <q>CBADF</q>, <q>AECB</q>, <q>BDA</q>]</td>\n",
    "<td>2</td>\n",
    "</tr>\n",
    "</tbody>\n",
    "      </table>\n",
    "<h5>입출력 예 설명</h5>\n",
    "\n",
    "<ul>\n",
    "<li><q>BACDE</q>: B 스킬을 배우기 전에 C 스킬을 먼저 배워야 합니다. 불가능한 스킬트립니다.</li>\n",
    "<li><q>CBADF</q>: 가능한 스킬트리입니다.</li>\n",
    "<li><q>AECB</q>: 가능한 스킬트리입니다.</li>\n",
    "<li><q>BDA</q>: B 스킬을 배우기 전에 C 스킬을 먼저 배워야 합니다. 불가능한 스킬트리입니다.</li>\n",
    "</ul>\n",
    "\n",
    "<div class=\"footnotes\">\n",
    "<hr>\n",
    "<ol>\n",
    "\n",
    "<li id=\"fn1\">\n",
    "<p>스킬 트리: 유저가 스킬을 배울 순서&nbsp;<a href=\"#fnref1\" rev=\"footnote\">↩</a></p>\n",
    "</li>\n",
    "\n",
    "</ol>\n",
    "</div>\n",
    "</div>\n",
    "    </div>"
   ]
  },
  {
   "cell_type": "code",
   "execution_count": 1,
   "metadata": {},
   "outputs": [],
   "source": [
    "def solution_1(skill, skill_trees):\n",
    "    count = 0\n",
    "    for i in [''.join([t for t in tree if t in skill]) for tree in skill_trees]:\n",
    "        for j in range(len(skill)):\n",
    "            if i == '' or i == skill[:j+1]:\n",
    "                count += 1\n",
    "                break\n",
    "    return count"
   ]
  },
  {
   "cell_type": "code",
   "execution_count": 2,
   "metadata": {},
   "outputs": [],
   "source": [
    "def solution_2(skill, skill_trees):\n",
    "    answer = 0\n",
    "    for tree in skill_trees:\n",
    "        skill_list = list(skill)\n",
    "        for t in tree:\n",
    "            if t in skill:\n",
    "                if t != skill_list.pop(0):\n",
    "                    break\n",
    "        else:  # for 문이 끝까지 수행되었다면\n",
    "            answer += 1\n",
    "    return answer"
   ]
  },
  {
   "cell_type": "code",
   "execution_count": 3,
   "metadata": {},
   "outputs": [
    {
     "name": "stdout",
     "output_type": "stream",
     "text": [
      "6.02 µs ± 439 ns per loop (mean ± std. dev. of 100 runs, 10000 loops each)\n",
      "2.85 µs ± 262 ns per loop (mean ± std. dev. of 100 runs, 10000 loops each)\n"
     ]
    }
   ],
   "source": [
    "%timeit -n 10000 -r 100 solution_1(\"CBD\", [\"BACDE\", \"CBADF\", \"AECB\", \"BDA\"])\n",
    "%timeit -n 10000 -r 100 solution_2(\"CBD\", [\"BACDE\", \"CBADF\", \"AECB\", \"BDA\"])"
   ]
  }
 ],
 "metadata": {
  "kernelspec": {
   "display_name": "Python 3",
   "language": "python",
   "name": "python3"
  },
  "language_info": {
   "codemirror_mode": {
    "name": "ipython",
    "version": 3
   },
   "file_extension": ".py",
   "mimetype": "text/x-python",
   "name": "python",
   "nbconvert_exporter": "python",
   "pygments_lexer": "ipython3",
   "version": "3.7.3"
  }
 },
 "nbformat": 4,
 "nbformat_minor": 2
}
