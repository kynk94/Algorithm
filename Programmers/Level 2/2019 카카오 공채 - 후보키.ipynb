{
 "cells": [
  {
   "cell_type": "markdown",
   "metadata": {},
   "source": [
    "<div class=\"guide-section-description\">\n",
    "      <h6 class=\"guide-section-title\">문제 설명</h6>\n",
    "      <div class=\"markdown solarized-dark\"><h2>후보키</h2>\n",
    "\n",
    "<p>프렌즈대학교 컴퓨터공학과 조교인 제이지는 네오 학과장님의 지시로, 학생들의 인적사항을 정리하는 업무를 담당하게 되었다.</p>\n",
    "\n",
    "<p>그의 학부 시절 프로그래밍 경험을 되살려, 모든 인적사항을 데이터베이스에 넣기로 하였고, 이를 위해 정리를 하던 중에 후보키(Candidate Key)에 대한 고민이 필요하게 되었다.</p>\n",
    "\n",
    "<p>후보키에 대한 내용이 잘 기억나지 않던 제이지는, 정확한 내용을 파악하기 위해 데이터베이스 관련 서적을 확인하여 아래와 같은 내용을 확인하였다.</p>\n",
    "\n",
    "<ul>\n",
    "<li>관계 데이터베이스에서 릴레이션(Relation)의 튜플(Tuple)을 유일하게 식별할 수 있는 속성(Attribute) 또는 속성의 집합 중, 다음 두 성질을 만족하는 것을 후보 키(Candidate Key)라고 한다.\n",
    "\n",
    "<ul>\n",
    "<li>유일성(uniqueness) : 릴레이션에 있는 모든 튜플에 대해 유일하게 식별되어야 한다.</li>\n",
    "<li>최소성(minimality) : 유일성을 가진 키를 구성하는 속성(Attribute) 중 하나라도 제외하는 경우 유일성이 깨지는 것을 의미한다. 즉, 릴레이션의 모든 튜플을 유일하게 식별하는 데 꼭 필요한 속성들로만 구성되어야 한다.</li>\n",
    "</ul></li>\n",
    "</ul>\n",
    "\n",
    "<p>제이지를 위해, 아래와 같은 학생들의 인적사항이 주어졌을 때, 후보 키의 최대 개수를 구하라.</p>\n",
    "\n",
    "<p><img src=\"https://grepp-programmers.s3.amazonaws.com/files/production/f1a3a40ede/005eb91e-58e5-4109-9567-deb5e94462e3.jpg\" title=\"\" alt=\"cand_key1.png\"></p>\n",
    "\n",
    "<p>위의 예를 설명하면, 학생의 인적사항 릴레이션에서 모든 학생은 각자 유일한 <q>학번</q>을 가지고 있다. 따라서 <q>학번</q>은 릴레이션의 후보 키가 될 수 있다.<br>\n",
    "그다음 <q>이름</q>에 대해서는 같은 이름(<q>apeach</q>)을 사용하는 학생이 있기 때문에, <q>이름</q>은 후보 키가 될 수 없다. 그러나, 만약 [<q>이름</q>, <q>전공</q>]을 함께 사용한다면 릴레이션의 모든 튜플을 유일하게 식별 가능하므로 후보 키가 될 수 있게 된다.<br>\n",
    "물론 [<q>이름</q>, <q>전공</q>, <q>학년</q>]을 함께 사용해도 릴레이션의 모든 튜플을 유일하게 식별할 수 있지만, 최소성을 만족하지 못하기 때문에 후보 키가 될 수 없다.<br>\n",
    "따라서, 위의 학생 인적사항의 후보키는 <q>학번</q>, [<q>이름</q>, <q>전공</q>] 두 개가 된다.</p>\n",
    "\n",
    "<p>릴레이션을 나타내는 문자열 배열 relation이 매개변수로 주어질 때, 이 릴레이션에서 후보 키의 개수를 return 하도록 solution 함수를 완성하라.</p>\n",
    "\n",
    "<h5>제한사항</h5>\n",
    "\n",
    "<ul>\n",
    "<li>relation은 2차원 문자열 배열이다.</li>\n",
    "<li>relation의 컬럼(column)의 길이는 <code>1</code> 이상 <code>8</code> 이하이며, 각각의 컬럼은 릴레이션의 속성을 나타낸다.</li>\n",
    "<li>relation의 로우(row)의 길이는 <code>1</code> 이상 <code>20</code> 이하이며, 각각의 로우는 릴레이션의 튜플을 나타낸다.</li>\n",
    "<li>relation의 모든 문자열의 길이는 <code>1</code> 이상 <code>8</code> 이하이며, 알파벳 소문자와 숫자로만 이루어져 있다.</li>\n",
    "<li>relation의 모든 튜플은 유일하게 식별 가능하다.(즉, 중복되는 튜플은 없다.)</li>\n",
    "</ul>\n",
    "\n",
    "<h5>입출력 예</h5>\n",
    "<table>\n",
    "        <thead><tr>\n",
    "<th>relation</th>\n",
    "<th>result</th>\n",
    "</tr>\n",
    "</thead>\n",
    "        <tbody><tr>\n",
    "<td><code>[[\"100\",\"ryan\",\"music\",\"2\"],[\"200\",\"apeach\",\"math\",\"2\"],[\"300\",\"tube\",\"computer\",\"3\"],[\"400\",\"con\",\"computer\",\"4\"],[\"500\",\"muzi\",\"music\",\"3\"],[\"600\",\"apeach\",\"music\",\"2\"]]</code></td>\n",
    "<td>2</td>\n",
    "</tr>\n",
    "</tbody>\n",
    "      </table>\n",
    "<h5>입출력 예 설명</h5>\n",
    "\n",
    "<p>입출력 예 #1<br>\n",
    "문제에 주어진 릴레이션과 같으며, 후보 키는 2개이다.</p>\n",
    "</div>\n",
    "    </div>"
   ]
  },
  {
   "cell_type": "code",
   "execution_count": 1,
   "metadata": {},
   "outputs": [
    {
     "name": "stdout",
     "output_type": "stream",
     "text": [
      "11.3 ns ± 0.244 ns per loop (mean ± std. dev. of 7 runs, 100000000 loops each)\n",
      "411 ns ± 4.35 ns per loop (mean ± std. dev. of 7 runs, 1000000 loops each)\n"
     ]
    }
   ],
   "source": [
    "%timeit 1 << 4\n",
    "%timeit pow(2, 4)"
   ]
  },
  {
   "cell_type": "code",
   "execution_count": 2,
   "metadata": {},
   "outputs": [
    {
     "name": "stdout",
     "output_type": "stream",
     "text": [
      "10진수 : 1\t2진수 : 1\t10진수 : 0\t2진수 : 0\t1\t0\n",
      "********************************************************************************\n",
      "10진수 : 2\t2진수 : 10\t10진수 : 1\t2진수 : 1\t2\t1\n",
      "********************************************************************************\n",
      "10진수 : 3\t2진수 : 11\t10진수 : 0\t2진수 : 0\t1\t0\n",
      "10진수 : 3\t2진수 : 11\t10진수 : 1\t2진수 : 1\t2\t01\n",
      "********************************************************************************\n",
      "10진수 : 4\t2진수 : 100\t10진수 : 2\t2진수 : 10\t4\t2\n",
      "********************************************************************************\n",
      "10진수 : 5\t2진수 : 101\t10진수 : 0\t2진수 : 0\t1\t0\n",
      "10진수 : 5\t2진수 : 101\t10진수 : 2\t2진수 : 10\t4\t02\n",
      "********************************************************************************\n",
      "10진수 : 6\t2진수 : 110\t10진수 : 1\t2진수 : 1\t2\t1\n",
      "10진수 : 6\t2진수 : 110\t10진수 : 2\t2진수 : 10\t4\t12\n",
      "********************************************************************************\n",
      "10진수 : 7\t2진수 : 111\t10진수 : 0\t2진수 : 0\t1\t0\n",
      "10진수 : 7\t2진수 : 111\t10진수 : 1\t2진수 : 1\t2\t01\n",
      "10진수 : 7\t2진수 : 111\t10진수 : 2\t2진수 : 10\t4\t012\n",
      "********************************************************************************\n",
      "10진수 : 8\t2진수 : 1000\t10진수 : 3\t2진수 : 11\t8\t3\n",
      "********************************************************************************\n",
      "10진수 : 9\t2진수 : 1001\t10진수 : 0\t2진수 : 0\t1\t0\n",
      "10진수 : 9\t2진수 : 1001\t10진수 : 3\t2진수 : 11\t8\t03\n",
      "********************************************************************************\n",
      "10진수 : 10\t2진수 : 1010\t10진수 : 1\t2진수 : 1\t2\t1\n",
      "10진수 : 10\t2진수 : 1010\t10진수 : 3\t2진수 : 11\t8\t13\n",
      "********************************************************************************\n",
      "10진수 : 11\t2진수 : 1011\t10진수 : 0\t2진수 : 0\t1\t0\n",
      "10진수 : 11\t2진수 : 1011\t10진수 : 1\t2진수 : 1\t2\t01\n",
      "10진수 : 11\t2진수 : 1011\t10진수 : 3\t2진수 : 11\t8\t013\n",
      "********************************************************************************\n",
      "10진수 : 12\t2진수 : 1100\t10진수 : 2\t2진수 : 10\t4\t2\n",
      "10진수 : 12\t2진수 : 1100\t10진수 : 3\t2진수 : 11\t8\t23\n",
      "********************************************************************************\n",
      "10진수 : 13\t2진수 : 1101\t10진수 : 0\t2진수 : 0\t1\t0\n",
      "10진수 : 13\t2진수 : 1101\t10진수 : 2\t2진수 : 10\t4\t02\n",
      "10진수 : 13\t2진수 : 1101\t10진수 : 3\t2진수 : 11\t8\t023\n",
      "********************************************************************************\n",
      "10진수 : 14\t2진수 : 1110\t10진수 : 1\t2진수 : 1\t2\t1\n",
      "10진수 : 14\t2진수 : 1110\t10진수 : 2\t2진수 : 10\t4\t12\n",
      "10진수 : 14\t2진수 : 1110\t10진수 : 3\t2진수 : 11\t8\t123\n",
      "********************************************************************************\n",
      "10진수 : 15\t2진수 : 1111\t10진수 : 0\t2진수 : 0\t1\t0\n",
      "10진수 : 15\t2진수 : 1111\t10진수 : 1\t2진수 : 1\t2\t01\n",
      "10진수 : 15\t2진수 : 1111\t10진수 : 2\t2진수 : 10\t4\t012\n",
      "10진수 : 15\t2진수 : 1111\t10진수 : 3\t2진수 : 11\t8\t0123\n",
      "********************************************************************************\n"
     ]
    }
   ],
   "source": [
    "# Combination 구하는 방법\n",
    "n = 4\n",
    "for i in range(1, 1 << n):\n",
    "    tmp = ''\n",
    "    for j in range(n):\n",
    "        t = i & (1 << j)\n",
    "        if t:\n",
    "            tmp += str(j)\n",
    "            print(\"10진수 : {}\\t2진수 : {}\\t10진수 : {}\\t2진수 : {}\\t{}\\t{}\".format(i, bin(i)[2:], j, bin(j)[2:], t, tmp))\n",
    "    else:\n",
    "        print('*' * 80)"
   ]
  },
  {
   "cell_type": "code",
   "execution_count": 3,
   "metadata": {},
   "outputs": [],
   "source": [
    "def solution_1(relation):\n",
    "    import itertools\n",
    "    n_row = len(relation)\n",
    "    n_col = len(relation[0])\n",
    "    res = []\n",
    "    for i in range(n_col):\n",
    "        comb = list(itertools.combinations(range(n_col), i + 1))\n",
    "        for j in comb:\n",
    "            comb_rel = set(tuple(r[k] for k in j) for r in relation)\n",
    "            if n_row == len(comb_rel):\n",
    "                res.append(set(j))\n",
    "    for i in res[:]:\n",
    "        for j in res[:]:\n",
    "            if i == i & j:\n",
    "                if i != j:\n",
    "                    res.remove(j)\n",
    "    return len(res)"
   ]
  },
  {
   "cell_type": "code",
   "execution_count": 4,
   "metadata": {},
   "outputs": [],
   "source": [
    "def solution_2(relation):\n",
    "    res = []\n",
    "    for i in range(1, 1 << len(relation[0])):\n",
    "        tmp_set = set()\n",
    "        for j in range(len(relation)):\n",
    "            tmp = ''\n",
    "            for k in range(len(relation[0])):\n",
    "                if i & (1 << k):\n",
    "                    tmp += str(relation[j][k])\n",
    "            tmp_set.add(tmp)\n",
    "        if len(tmp_set) == len(relation):\n",
    "            not_duplicate = True\n",
    "            for num in res:\n",
    "                if (num & i) == num:\n",
    "                    not_duplicate = False\n",
    "                    break\n",
    "            if not_duplicate:\n",
    "                res.append(i)\n",
    "    return len(res)"
   ]
  },
  {
   "cell_type": "code",
   "execution_count": 5,
   "metadata": {},
   "outputs": [
    {
     "name": "stdout",
     "output_type": "stream",
     "text": [
      "93.8 µs ± 6.74 µs per loop (mean ± std. dev. of 7 runs, 10000 loops each)\n",
      "156 µs ± 9.14 µs per loop (mean ± std. dev. of 7 runs, 10000 loops each)\n"
     ]
    }
   ],
   "source": [
    "%timeit -n 10000 solution_1([[\"100\",\"ryan\",\"music\",\"2\"],[\"200\",\"apeach\",\"math\",\"2\"],[\"300\",\"tube\",\"computer\",\"3\"],[\"400\",\"con\",\"computer\",\"4\"],[\"500\",\"muzi\",\"music\",\"3\"],[\"600\",\"apeach\",\"music\",\"2\"]])\n",
    "%timeit -n 10000 solution_2([[\"100\",\"ryan\",\"music\",\"2\"],[\"200\",\"apeach\",\"math\",\"2\"],[\"300\",\"tube\",\"computer\",\"3\"],[\"400\",\"con\",\"computer\",\"4\"],[\"500\",\"muzi\",\"music\",\"3\"],[\"600\",\"apeach\",\"music\",\"2\"]])"
   ]
  }
 ],
 "metadata": {
  "kernelspec": {
   "display_name": "Python 3",
   "language": "python",
   "name": "python3"
  },
  "language_info": {
   "codemirror_mode": {
    "name": "ipython",
    "version": 3
   },
   "file_extension": ".py",
   "mimetype": "text/x-python",
   "name": "python",
   "nbconvert_exporter": "python",
   "pygments_lexer": "ipython3",
   "version": "3.7.3"
  }
 },
 "nbformat": 4,
 "nbformat_minor": 2
}
