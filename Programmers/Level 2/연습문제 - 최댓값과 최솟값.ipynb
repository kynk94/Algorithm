{
 "cells": [
  {
   "cell_type": "markdown",
   "metadata": {},
   "source": [
    "<div class=\"guide-section-description\">\n",
    "      <h6 class=\"guide-section-title\">문제 설명</h6>\n",
    "      <div class=\"markdown solarized-dark\"><p>문자열 s에는 공백으로 구분된 숫자들이 저장되어 있습니다. str에 나타나는 숫자 중 최소값과 최대값을 찾아 이를 <q>(최소값) (최대값)</q>형태의 문자열을 반환하는 함수, solution을 완성하세요.<br>\n",
    "예를들어 s가 <q>1 2 3 4</q>라면 <q>1 4</q>를 리턴하고, <q>-1 -2 -3 -4</q>라면 <q>-4 -1</q>을 리턴하면 됩니다.</p>\n",
    "\n",
    "<h5>제한 조건</h5>\n",
    "\n",
    "<ul>\n",
    "<li>s에는 둘 이상의 정수가 공백으로 구분되어 있습니다.</li>\n",
    "</ul>\n",
    "\n",
    "<h5>입출력 예</h5>\n",
    "<table>\n",
    "        <thead><tr>\n",
    "<th>s</th>\n",
    "<th style=\"text-align: center\">return</th>\n",
    "</tr>\n",
    "</thead>\n",
    "        <tbody><tr>\n",
    "<td><q>1 2 3 4</q></td>\n",
    "<td style=\"text-align: center\"><q>1 4</q></td>\n",
    "</tr>\n",
    "<tr>\n",
    "<td><q>-1 -2 -3 -4</q></td>\n",
    "<td style=\"text-align: center\"><q>-4 -1</q></td>\n",
    "</tr>\n",
    "<tr>\n",
    "<td><q>-1 -1</q></td>\n",
    "<td style=\"text-align: center\"><q>-1 -1</q></td>\n",
    "</tr>\n",
    "</tbody>\n",
    "      </table></div>\n",
    "    </div>"
   ]
  },
  {
   "cell_type": "code",
   "execution_count": 1,
   "metadata": {},
   "outputs": [],
   "source": [
    "def solution(s):\n",
    "    s = sorted(map(int, s.split()))\n",
    "    return \"{} {}\".format(s[0], s[-1])"
   ]
  }
 ],
 "metadata": {
  "kernelspec": {
   "display_name": "Python 3",
   "language": "python",
   "name": "python3"
  },
  "language_info": {
   "codemirror_mode": {
    "name": "ipython",
    "version": 3
   },
   "file_extension": ".py",
   "mimetype": "text/x-python",
   "name": "python",
   "nbconvert_exporter": "python",
   "pygments_lexer": "ipython3",
   "version": "3.7.3"
  }
 },
 "nbformat": 4,
 "nbformat_minor": 2
}
