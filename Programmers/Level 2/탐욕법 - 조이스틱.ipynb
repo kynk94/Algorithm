{
 "cells": [
  {
   "cell_type": "markdown",
   "metadata": {},
   "source": [
    "<div class=\"guide-section-description\">\n",
    "      <h6 class=\"guide-section-title\">문제 설명</h6>\n",
    "      <div class=\"markdown solarized-dark\"><p>조이스틱으로 알파벳 이름을 완성하세요. 맨 처음엔 A로만 이루어져 있습니다.<br>\n",
    "ex) 완성해야 하는 이름이 세 글자면 AAA, 네 글자면 AAAA</p>\n",
    "\n",
    "<p>조이스틱을 각 방향으로 움직이면 아래와 같습니다.</p>\n",
    "<div class=\"highlight\"><pre class=\"codehilite\"><code>▲ - 다음 알파벳\n",
    "▼ - 이전 알파벳 (A에서 아래쪽으로 이동하면 Z로)\n",
    "◀ - 커서를 왼쪽으로 이동 (첫 번째 위치에서 왼쪽으로 이동하면 마지막 문자에 커서)\n",
    "▶ - 커서를 오른쪽으로 이동\n",
    "</code></pre></div>\n",
    "<p>예를 들어 아래의 방법으로 <q>JAZ</q>를 만들 수 있습니다.</p>\n",
    "<div class=\"highlight\"><pre class=\"codehilite\"><code>- 첫 번째 위치에서 조이스틱을 위로 9번 조작하여 J를 완성합니다.\n",
    "- 조이스틱을 왼쪽으로 1번 조작하여 커서를 마지막 문자 위치로 이동시킵니다.\n",
    "- 마지막 위치에서 조이스틱을 아래로 1번 조작하여 Z를 완성합니다.\n",
    "따라서 11번 이동시켜 \"JAZ\"를 만들 수 있고, 이때가 최소 이동입니다.\n",
    "</code></pre></div>\n",
    "<p>만들고자 하는 이름 name이 매개변수로 주어질 때, 이름에 대해 조이스틱 조작 횟수의 최솟값을 return 하도록 solution 함수를 만드세요.</p>\n",
    "\n",
    "<h5>제한 사항</h5>\n",
    "\n",
    "<ul>\n",
    "<li>name은 알파벳 대문자로만 이루어져 있습니다.</li>\n",
    "<li>name의 길이는 1 이상 20 이하입니다.</li>\n",
    "</ul>\n",
    "\n",
    "<h5>입출력 예</h5>\n",
    "<table>\n",
    "        <thead><tr>\n",
    "<th>name</th>\n",
    "<th>return</th>\n",
    "</tr>\n",
    "</thead>\n",
    "        <tbody><tr>\n",
    "<td><q>JEROEN</q></td>\n",
    "<td>56</td>\n",
    "</tr>\n",
    "<tr>\n",
    "<td><q>JAN</q></td>\n",
    "<td>23</td>\n",
    "</tr>\n",
    "</tbody>\n",
    "      </table>\n",
    "<p><a href=\"https://commissies.ch.tudelft.nl/chipcie/archief/2010/nwerc/nwerc2010.pdf\" target=\"_blank\" rel=\"noopener\">출처</a></p>\n",
    "\n",
    "</div>\n",
    "    </div>"
   ]
  },
  {
   "cell_type": "code",
   "execution_count": 1,
   "metadata": {},
   "outputs": [],
   "source": [
    "def solution(name):\n",
    "    n = len(name)\n",
    "    num = [26 - (i - ord('A')) if i > ord('N') else i - ord('A') for i in map(ord, name)]\n",
    "    res = sum(num)\n",
    "    num[0] = 0\n",
    "    while num.count(0) != n:\n",
    "        for i,j in enumerate(num[1:]):\n",
    "            if j != 0:\n",
    "                count_R = i + 1\n",
    "                break\n",
    "        for i,j in enumerate(num[::-1]):\n",
    "            if j != 0:\n",
    "                count_L = i + 1\n",
    "                break\n",
    "        if count_R > count_L:\n",
    "            num = num[-count_L:] + num[:-count_L]\n",
    "        else:\n",
    "            num = num[count_R:] + num[:count_R]\n",
    "        res += min(count_R, count_L)\n",
    "        num[0] = 0\n",
    "    return res"
   ]
  },
  {
   "cell_type": "markdown",
   "metadata": {},
   "source": [
    "### 다음에 다시 풀기\n",
    "문제는 통과했지만, 진짜 정답은 아니다.  \n",
    "A가 아닌곳으로 마지막까지 이동하는 횟수를 체크해야만 한다.\n",
    "\n",
    "테스트 케이스 \"ABABAAAAAAABA\"에 대해서\n",
    "\n",
    "탐욕법  \n",
    "우위우우위우우우우우위 -> 11번\n",
    "\n",
    "실제 최적해  \n",
    "좌좌위우우우위우우위 -> 10번"
   ]
  },
  {
   "cell_type": "code",
   "execution_count": 2,
   "metadata": {},
   "outputs": [
    {
     "data": {
      "text/plain": [
       "11"
      ]
     },
     "execution_count": 2,
     "metadata": {},
     "output_type": "execute_result"
    }
   ],
   "source": [
    "solution(\"ABABAAAAAAABA\")"
   ]
  },
  {
   "cell_type": "code",
   "execution_count": 3,
   "metadata": {},
   "outputs": [
    {
     "name": "stdout",
     "output_type": "stream",
     "text": [
      "21.3 µs ± 1.34 µs per loop (mean ± std. dev. of 7 runs, 10000 loops each)\n"
     ]
    }
   ],
   "source": [
    "%timeit solution(\"ABAAAAJEROEN\")"
   ]
  }
 ],
 "metadata": {
  "kernelspec": {
   "display_name": "Python 3",
   "language": "python",
   "name": "python3"
  },
  "language_info": {
   "codemirror_mode": {
    "name": "ipython",
    "version": 3
   },
   "file_extension": ".py",
   "mimetype": "text/x-python",
   "name": "python",
   "nbconvert_exporter": "python",
   "pygments_lexer": "ipython3",
   "version": "3.7.3"
  }
 },
 "nbformat": 4,
 "nbformat_minor": 2
}
