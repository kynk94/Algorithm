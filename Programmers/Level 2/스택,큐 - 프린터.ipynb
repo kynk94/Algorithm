{
 "cells": [
  {
   "cell_type": "markdown",
   "metadata": {},
   "source": [
    "<div class=\"guide-section-description\">\n",
    "      <h6 class=\"guide-section-title\">문제 설명</h6>\n",
    "      <div class=\"markdown solarized-dark\"><p>일반적인 프린터는 인쇄 요청이 들어온 순서대로 인쇄합니다. 그렇기 때문에 중요한 문서가 나중에 인쇄될 수 있습니다. 이런 문제를 보완하기 위해 중요도가 높은 문서를 먼저 인쇄하는 프린터를 개발했습니다. 이 새롭게 개발한 프린터는 아래와 같은 방식으로 인쇄 작업을 수행합니다.</p>\n",
    "<div class=\"highlight\"><pre class=\"codehilite\"><code>1. 인쇄 대기목록의 가장 앞에 있는 문서(J)를 대기목록에서 꺼냅니다.\n",
    "2. 나머지 인쇄 대기목록에서 J보다 중요도가 높은 문서가 한 개라도 존재하면 J를 대기목록의 가장 마지막에 넣습니다.\n",
    "3. 그렇지 않으면 J를 인쇄합니다.\n",
    "</code></pre></div>\n",
    "<p>예를 들어, 4개의 문서(A, B, C, D)가 순서대로 인쇄 대기목록에 있고 중요도가 2 1 3 2 라면 C D A B 순으로 인쇄하게 됩니다.</p>\n",
    "\n",
    "<p>내가 인쇄를 요청한 문서가 몇 번째로 인쇄되는지 알고 싶습니다. 위의 예에서 C는 1번째로, A는 3번째로 인쇄됩니다.</p>\n",
    "\n",
    "<p>현재 대기목록에 있는 문서의 중요도가 순서대로 담긴 배열 priorities와 내가 인쇄를 요청한 문서가 현재 대기목록의 어떤 위치에 있는지를 알려주는 location이 매개변수로 주어질 때, 내가 인쇄를 요청한 문서가 몇 번째로 인쇄되는지 return 하도록 solution 함수를 작성해주세요.</p>\n",
    "\n",
    "<h5>제한사항</h5>\n",
    "\n",
    "<ul>\n",
    "<li>현재 대기목록에는 1개 이상 100개 이하의 문서가 있습니다.</li>\n",
    "<li>인쇄 작업의 중요도는 1~9로 표현하며 숫자가 클수록 중요하다는 뜻입니다.</li>\n",
    "<li>location은 0 이상 (현재 대기목록에 있는 작업 수 - 1) 이하의 값을 가지며 대기목록의 가장 앞에 있으면 0, 두 번째에 있으면 1로 표현합니다.</li>\n",
    "</ul>\n",
    "\n",
    "<h5>입출력 예</h5>\n",
    "<table>\n",
    "        <thead><tr>\n",
    "<th>priorities</th>\n",
    "<th>location</th>\n",
    "<th>return</th>\n",
    "</tr>\n",
    "</thead>\n",
    "        <tbody><tr>\n",
    "<td>[2, 1, 3, 2]</td>\n",
    "<td>2</td>\n",
    "<td>1</td>\n",
    "</tr>\n",
    "<tr>\n",
    "<td>[1, 1, 9, 1, 1, 1]</td>\n",
    "<td>0</td>\n",
    "<td>5</td>\n",
    "</tr>\n",
    "</tbody>\n",
    "      </table>\n",
    "<h5>입출력 예 설명</h5>\n",
    "\n",
    "<p>예제 #1</p>\n",
    "\n",
    "<p>문제에 나온 예와 같습니다.</p>\n",
    "\n",
    "<p>예제 #2</p>\n",
    "\n",
    "<p>6개의 문서(A, B, C, D, E, F)가 인쇄 대기목록에 있고 중요도가 1 1 9 1 1 1 이므로 C D E F A B 순으로 인쇄합니다. </p>\n",
    "\n",
    "<p><a href=\"http://www.csc.kth.se/contest/nwerc/2006/problems/nwerc06.pdf\" target=\"_blank\" rel=\"noopener\">출처</a></p>\n",
    "</div>\n",
    "    </div>"
   ]
  },
  {
   "cell_type": "code",
   "execution_count": 1,
   "metadata": {},
   "outputs": [],
   "source": [
    "def solution_1(p, l):\n",
    "    s_p = sorted(p, reverse=True)\n",
    "    p_i = list(range(len(p)))\n",
    "    count = 0\n",
    "    while True:\n",
    "        temp = p[count:]\n",
    "        temp_i = p_i[count:]\n",
    "        max_index = temp.index(max(temp))\n",
    "        p = p[:count] + temp[max_index:] + temp[:max_index]\n",
    "        p_i = p_i[:count] + temp_i[max_index:] + temp_i[:max_index]\n",
    "        if p == s_p:\n",
    "            break\n",
    "        count += 1\n",
    "    return p_i.index(l) + 1"
   ]
  },
  {
   "cell_type": "code",
   "execution_count": 2,
   "metadata": {},
   "outputs": [],
   "source": [
    "def solution_2(p, l):\n",
    "    ans = 0\n",
    "    m = max(p)\n",
    "    while True:\n",
    "        v = p.pop(0)\n",
    "        if m == v:\n",
    "            ans += 1\n",
    "            if l == 0:\n",
    "                break\n",
    "            else:\n",
    "                l -= 1\n",
    "            m = max(p)\n",
    "        else:\n",
    "            p.append(v)\n",
    "            if l == 0:\n",
    "                l = len(p) - 1\n",
    "            else:\n",
    "                l -= 1\n",
    "    return ans"
   ]
  },
  {
   "cell_type": "code",
   "execution_count": 3,
   "metadata": {},
   "outputs": [
    {
     "name": "stdout",
     "output_type": "stream",
     "text": [
      "3.15 µs ± 168 ns per loop (mean ± std. dev. of 100 runs, 10000 loops each)\n",
      "3.02 µs ± 136 ns per loop (mean ± std. dev. of 100 runs, 10000 loops each)\n"
     ]
    }
   ],
   "source": [
    "%timeit -n 10000 -r 100 solution_1([1, 1, 9, 1, 1, 1], 0)\n",
    "%timeit -n 10000 -r 100 solution_2([1, 1, 9, 1, 1, 1], 0)"
   ]
  }
 ],
 "metadata": {
  "kernelspec": {
   "display_name": "Python 3",
   "language": "python",
   "name": "python3"
  },
  "language_info": {
   "codemirror_mode": {
    "name": "ipython",
    "version": 3
   },
   "file_extension": ".py",
   "mimetype": "text/x-python",
   "name": "python",
   "nbconvert_exporter": "python",
   "pygments_lexer": "ipython3",
   "version": "3.7.3"
  }
 },
 "nbformat": 4,
 "nbformat_minor": 2
}
