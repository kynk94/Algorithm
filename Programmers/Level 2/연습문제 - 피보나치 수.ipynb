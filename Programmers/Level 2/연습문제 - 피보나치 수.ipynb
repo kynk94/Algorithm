{
 "cells": [
  {
   "cell_type": "markdown",
   "metadata": {},
   "source": [
    "<div class=\"guide-section-description\">\n",
    "      <h6 class=\"guide-section-title\">문제 설명</h6>\n",
    "      <div class=\"markdown solarized-dark\"><p>피보나치 수는 F(0) = 0, F(1) = 1일 때, 1 이상의 n에 대하여 F(n) = F(n-1) + F(n-2) 가 적용되는 수 입니다. </p>\n",
    "\n",
    "<p>예를들어 </p>\n",
    "\n",
    "<ul>\n",
    "<li>F(2) = F(0) + F(1) = 0 + 1 = 1</li>\n",
    "<li>F(3) = F(1) + F(2) = 1 + 1 = 2</li>\n",
    "<li>F(4) = F(2) + F(3) = 1 + 2 = 3</li>\n",
    "<li>F(5) = F(3) + F(4) = 2 + 3 = 5</li>\n",
    "</ul>\n",
    "\n",
    "<p>와 같이 이어집니다.</p>\n",
    "\n",
    "<p>2 이상의 n이 입력되었을 때, n번째 피보나치 수를 1234567으로 나눈 나머지를 리턴하는 함수, solution을 완성해 주세요.</p>\n",
    "\n",
    "<h5>제한 사항</h5>\n",
    "\n",
    "<p>*&nbsp;n은 2이상, 100000이하인 자연수입니다.</p>\n",
    "\n",
    "<h5>입출력 예</h5>\n",
    "<table>\n",
    "        <thead><tr>\n",
    "<th>n</th>\n",
    "<th>return</th>\n",
    "</tr>\n",
    "</thead>\n",
    "        <tbody><tr>\n",
    "<td>3</td>\n",
    "<td>2</td>\n",
    "</tr>\n",
    "<tr>\n",
    "<td>5</td>\n",
    "<td>5</td>\n",
    "</tr>\n",
    "</tbody>\n",
    "      </table>\n",
    "<h5>입출력 예 설명</h5>\n",
    "\n",
    "<p>피보나치수는 0번째부터 0, 1, 1, 2, 3, 5, ... 와 같이 이어집니다.</p>\n",
    "</div>\n",
    "    </div>"
   ]
  },
  {
   "cell_type": "code",
   "execution_count": 1,
   "metadata": {},
   "outputs": [],
   "source": [
    "def solution_1(n):\n",
    "    a, answer = 0, 1\n",
    "    i = 1\n",
    "    while i < n:\n",
    "        a, answer = answer, a + answer\n",
    "        i += 1\n",
    "    return answer % 1234567"
   ]
  },
  {
   "cell_type": "code",
   "execution_count": 2,
   "metadata": {},
   "outputs": [],
   "source": [
    "def solution_2(n):\n",
    "    a, answer = 0, 1\n",
    "    for i in range(n - 1):\n",
    "        a, answer = answer, a + answer\n",
    "    return answer % 1234567"
   ]
  },
  {
   "cell_type": "code",
   "execution_count": 3,
   "metadata": {},
   "outputs": [],
   "source": [
    "def make_test(n=10):\n",
    "    import numpy as np\n",
    "    return np.random.randint(2, 100001, size=n).tolist()"
   ]
  },
  {
   "cell_type": "code",
   "execution_count": 4,
   "metadata": {},
   "outputs": [],
   "source": [
    "test_case = make_test(10)"
   ]
  },
  {
   "cell_type": "code",
   "execution_count": 5,
   "metadata": {},
   "outputs": [
    {
     "name": "stdout",
     "output_type": "stream",
     "text": [
      "364 ms ± 14.6 ms per loop (mean ± std. dev. of 7 runs, 1 loop each)\n",
      "312 ms ± 8.28 ms per loop (mean ± std. dev. of 7 runs, 1 loop each)\n"
     ]
    }
   ],
   "source": [
    "%timeit [solution_1(c) for c in test_case]\n",
    "%timeit [solution_2(c) for c in test_case]  # while 보다 for문이 더 빠름"
   ]
  },
  {
   "cell_type": "markdown",
   "metadata": {},
   "source": [
    "C언어의 경우에는 assembly code 상에서 while문과 for문은 완벽히 동일하게 동작한다.  \n",
    "그러나 python의 경우에는 assembly code로 보았을 때 for문이 더 짧다.  \n",
    "왜냐하면 i += 1 의 동작방식 때문이다.\n",
    "\n",
    "Loop 1  \n",
    "```\n",
    "int i = 0\n",
    "while i < 100000000:\n",
    "  i += 1\n",
    "```\n",
    "\n",
    "Loop 2  \n",
    "```\n",
    "for n in range(0,100000000):\n",
    "  pass\n",
    "```\n",
    "\n",
    "Loop 1 Assembly (10 op)  \n",
    "```\n",
    "1           0 LOAD_CONST               0 (0)\n",
    "            3 STORE_NAME               0 (i)\n",
    "\n",
    "2           6 SETUP_LOOP              28 (to 37)\n",
    "      >>    9 LOAD_NAME                0 (i)              # <-\n",
    "           12 LOAD_CONST               1 (100000000)      # <-\n",
    "           15 COMPARE_OP               0 (<)              # <-\n",
    "           18 JUMP_IF_FALSE           14 (to 35)          # <-\n",
    "           21 POP_TOP                                     # <-\n",
    "\n",
    "3          22 LOAD_NAME                0 (i)              # <-\n",
    "           25 LOAD_CONST               2 (1)              # <-\n",
    "           28 INPLACE_ADD                                 # <-\n",
    "           29 STORE_NAME               0 (i)              # <-\n",
    "           32 JUMP_ABSOLUTE            9                  # <-\n",
    "      >>   35 POP_TOP\n",
    "           36 POP_BLOCK\n",
    "```\n",
    "\n",
    "Loop 2 Assembly (3 op)  \n",
    "```\n",
    "1           0 SETUP_LOOP              23 (to 26)\n",
    "            3 LOAD_NAME                0 (range)\n",
    "            6 LOAD_CONST               0 (0)\n",
    "            9 LOAD_CONST               1 (100000000)\n",
    "           12 CALL_FUNCTION            2\n",
    "           15 GET_ITER\n",
    "      >>   16 FOR_ITER                 6 (to 25)        # <-\n",
    "           19 STORE_NAME               1 (n)            # <-\n",
    "\n",
    "2          22 JUMP_ABSOLUTE           16                # <-\n",
    "      >>   25 POP_BLOCK\n",
    "      >>   26 LOAD_CONST               2 (None)\n",
    "           29 RETURN_VALUE\n",
    "```\n",
    "i += 1 은 i = i + 1 과 완벽히 동일하며  \n",
    "파이썬에서 이는 C++이나 Java의 i = new int(i + 1) 과 같이 동작한다.\n",
    "\n",
    "때문에 while문이 더 오래 걸리는 것이다."
   ]
  }
 ],
 "metadata": {
  "kernelspec": {
   "display_name": "Python 3",
   "language": "python",
   "name": "python3"
  },
  "language_info": {
   "codemirror_mode": {
    "name": "ipython",
    "version": 3
   },
   "file_extension": ".py",
   "mimetype": "text/x-python",
   "name": "python",
   "nbconvert_exporter": "python",
   "pygments_lexer": "ipython3",
   "version": "3.7.3"
  }
 },
 "nbformat": 4,
 "nbformat_minor": 2
}
