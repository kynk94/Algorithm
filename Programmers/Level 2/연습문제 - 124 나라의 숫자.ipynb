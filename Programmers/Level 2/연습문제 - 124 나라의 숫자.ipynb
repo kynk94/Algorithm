{
 "cells": [
  {
   "cell_type": "markdown",
   "metadata": {},
   "source": [
    "<div class=\"guide-section-description\">\n",
    "      <h6 class=\"guide-section-title\">문제 설명</h6>\n",
    "      <div class=\"markdown solarized-dark\"><p>124 나라가 있습니다. 124 나라에서는 10진법이 아닌 다음과 같은 자신들만의 규칙으로 수를 표현합니다.</p>\n",
    "\n",
    "<ol>\n",
    "<li>124 나라에는 자연수만 존재합니다.</li>\n",
    "<li>124 나라에는 모든 수를 표현할 때 1, 2, 4만 사용합니다.</li>\n",
    "</ol>\n",
    "\n",
    "<p>예를 들어서 124 나라에서 사용하는 숫자는 다음과 같이 변환됩니다.</p>\n",
    "<table>\n",
    "        <thead><tr>\n",
    "<th>10진법</th>\n",
    "<th>124 나라</th>\n",
    "<th>10진법</th>\n",
    "<th>124 나라</th>\n",
    "</tr>\n",
    "</thead>\n",
    "        <tbody><tr>\n",
    "<td>1</td>\n",
    "<td>1</td>\n",
    "<td>6</td>\n",
    "<td>14</td>\n",
    "</tr>\n",
    "<tr>\n",
    "<td>2</td>\n",
    "<td>2</td>\n",
    "<td>7</td>\n",
    "<td>21</td>\n",
    "</tr>\n",
    "<tr>\n",
    "<td>3</td>\n",
    "<td>4</td>\n",
    "<td>8</td>\n",
    "<td>22</td>\n",
    "</tr>\n",
    "<tr>\n",
    "<td>4</td>\n",
    "<td>11</td>\n",
    "<td>9</td>\n",
    "<td>24</td>\n",
    "</tr>\n",
    "<tr>\n",
    "<td>5</td>\n",
    "<td>12</td>\n",
    "<td>10</td>\n",
    "<td>41</td>\n",
    "</tr>\n",
    "</tbody>\n",
    "      </table>\n",
    "<p>자연수 n이 매개변수로 주어질 때, n을 124 나라에서 사용하는 숫자로 바꾼 값을 return 하도록 solution 함수를 완성해 주세요.</p>\n",
    "\n",
    "<h5>제한사항</h5>\n",
    "\n",
    "<ul>\n",
    "<li>n은 500,000,000이하의 자연수 입니다.</li>\n",
    "</ul>\n",
    "\n",
    "<hr>\n",
    "\n",
    "<h5>입출력 예</h5>\n",
    "<table>\n",
    "        <thead><tr>\n",
    "<th>n</th>\n",
    "<th>result</th>\n",
    "</tr>\n",
    "</thead>\n",
    "        <tbody><tr>\n",
    "<td>1</td>\n",
    "<td>1</td>\n",
    "</tr>\n",
    "<tr>\n",
    "<td>2</td>\n",
    "<td>2</td>\n",
    "</tr>\n",
    "<tr>\n",
    "<td>3</td>\n",
    "<td>4</td>\n",
    "</tr>\n",
    "<tr>\n",
    "<td>4</td>\n",
    "<td>11</td>\n",
    "</tr>\n",
    "</tbody>\n",
    "      </table></div>\n",
    "    </div>"
   ]
  },
  {
   "cell_type": "code",
   "execution_count": 1,
   "metadata": {},
   "outputs": [],
   "source": [
    "def solution(n):\n",
    "    total = ''\n",
    "    while n > 0:\n",
    "        if n % 3 > 0:\n",
    "            total = str(n % 3) + total\n",
    "            n //= 3\n",
    "        elif n % 3 == 0:\n",
    "            total = '4' + total\n",
    "            n = n // 3 - 1  # 0을 4로 바꾸며 한자리수 높은 값인 몫에서 1을 빼주어야 한다.\n",
    "    return total"
   ]
  },
  {
   "cell_type": "code",
   "execution_count": 2,
   "metadata": {},
   "outputs": [
    {
     "name": "stdout",
     "output_type": "stream",
     "text": [
      "1.88 µs ± 42.5 ns per loop (mean ± std. dev. of 100 runs, 10000 loops each)\n"
     ]
    }
   ],
   "source": [
    "%timeit -n 10000 -r 100 solution(123)"
   ]
  }
 ],
 "metadata": {
  "kernelspec": {
   "display_name": "Python 3",
   "language": "python",
   "name": "python3"
  },
  "language_info": {
   "codemirror_mode": {
    "name": "ipython",
    "version": 3
   },
   "file_extension": ".py",
   "mimetype": "text/x-python",
   "name": "python",
   "nbconvert_exporter": "python",
   "pygments_lexer": "ipython3",
   "version": "3.7.3"
  }
 },
 "nbformat": 4,
 "nbformat_minor": 2
}
