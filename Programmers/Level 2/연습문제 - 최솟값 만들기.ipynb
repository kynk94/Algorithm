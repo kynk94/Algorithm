{
 "cells": [
  {
   "cell_type": "markdown",
   "metadata": {},
   "source": [
    "<div class=\"guide-section-description\">\n",
    "      <h6 class=\"guide-section-title\">문제 설명</h6>\n",
    "      <div class=\"markdown solarized-dark\"><p>길이가 같은 배열 A, B 두개가 있습니다. 각 배열은 자연수로 이루어져 있습니다. <br>\n",
    "배열 A, B에서 각각 한 개의 숫자를 뽑아 두 수를 곱합니다. 이러한 과정을 배열의 길이만큼 반복하며, 두 수를 곱한 값을 누적하여 더합니다. 이때 최종적으로 누적된 값이 최소가 되도록 만드는 것이 목표입니다. (단, 각 배열에서 k번째 숫자를 뽑았다면 다음에 k번째 숫자는 다시 뽑을 수 없습니다.)</p>\n",
    "\n",
    "<p>예를 들어 A = <code>[1, 4, 2]</code> , B = <code>[5, 4, 4]</code> 라면</p>\n",
    "\n",
    "<ul>\n",
    "<li>A에서 첫번째 숫자인 1, B에서 두번째 숫자인 5를 뽑아 곱하여 더합니다. (누적된 값 : 0 + 5(1x5) = 5)</li>\n",
    "<li>A에서 두번째 숫자인 4, B에서 세번째 숫자인 4를 뽑아 곱하여 더합니다. (누적된 값 : 5 + 16(4x4) = 21)</li>\n",
    "<li>A에서 세번째 숫자인 2, B에서 첫번째 숫자인 4를 뽑아 곱하여 더합니다. (누적된 값 : 21 + 8(2x4) = 29)</li>\n",
    "</ul>\n",
    "\n",
    "<p>즉, 이 경우가 최소가 되므로 <strong>29</strong>를 return 합니다.</p>\n",
    "\n",
    "<p>배열 A, B가 주어질 때 최종적으로 누적된 최솟값을 return 하는 solution 함수를 완성해 주세요.</p>\n",
    "\n",
    "<h5>제한사항</h5>\n",
    "\n",
    "<ul>\n",
    "<li>배열 A, B의 크기 : 1,000 이하의 자연수</li>\n",
    "<li>배열 A, B의 원소의 크기 : 1,000 이하의 자연수</li>\n",
    "</ul>\n",
    "\n",
    "<h5>입출력 예</h5>\n",
    "<table>\n",
    "        <thead><tr>\n",
    "<th>A</th>\n",
    "<th>B</th>\n",
    "<th>answer</th>\n",
    "</tr>\n",
    "</thead>\n",
    "        <tbody><tr>\n",
    "<td>[1, 4, 2]</td>\n",
    "<td>[5, 4, 4]</td>\n",
    "<td>29</td>\n",
    "</tr>\n",
    "<tr>\n",
    "<td>[1,2]</td>\n",
    "<td>[3,4]</td>\n",
    "<td>10</td>\n",
    "</tr>\n",
    "</tbody>\n",
    "      </table>\n",
    "<h5>입출력 예 설명</h5>\n",
    "\n",
    "<p>입출력 예 #1<br>\n",
    "문제의 예시와 같습니다.</p>\n",
    "\n",
    "<p>입출력 예 #2<br>\n",
    "A에서 첫번째 숫자인 1,  B에서 두번째 숫자인 4를 뽑아 곱하여 더합니다. (누적된 값 : 4) 다음, A에서 두번째 숫자인 2, B에서 첫번째 숫자인 3을 뽑아 곱하여 더합니다. (누적된 값 : 4 + 6 = 10)<br>\n",
    "이 경우가 최소이므로 10을 return 합니다.</p>\n",
    "</div>\n",
    "    </div>"
   ]
  },
  {
   "cell_type": "code",
   "execution_count": 1,
   "metadata": {},
   "outputs": [],
   "source": [
    "def solution_1(A, B):\n",
    "    A = sorted(A)\n",
    "    B = sorted(B, reverse=True)\n",
    "    answer = 0\n",
    "    while A:\n",
    "        answer += A.pop() * B.pop()\n",
    "    return answer"
   ]
  },
  {
   "cell_type": "code",
   "execution_count": 2,
   "metadata": {},
   "outputs": [],
   "source": [
    "def solution_2(A, B):\n",
    "    A = sorted(A)\n",
    "    B = sorted(B, reverse=True)\n",
    "    answer = 0\n",
    "    for i in range(len(A)):\n",
    "        answer += A[i] * B[i]\n",
    "    return answer"
   ]
  },
  {
   "cell_type": "code",
   "execution_count": 3,
   "metadata": {},
   "outputs": [],
   "source": [
    "def solution_3(A,B):\n",
    "    return sum(a * b for a, b in zip(sorted(A), sorted(B, reverse = True)))"
   ]
  },
  {
   "cell_type": "code",
   "execution_count": 4,
   "metadata": {},
   "outputs": [],
   "source": [
    "def make_test(n=10):\n",
    "    import numpy as np\n",
    "    test_case = []\n",
    "    while len(test_case) < n:\n",
    "        size = np.random.randint(1, 1000)\n",
    "        A = np.random.randint(1, 1000, size=size).tolist()\n",
    "        B = np.random.randint(1, 1000, size=size).tolist()\n",
    "        test_case.append((A, B))\n",
    "    return test_case"
   ]
  },
  {
   "cell_type": "code",
   "execution_count": 5,
   "metadata": {},
   "outputs": [],
   "source": [
    "test_case = make_test(n=10)"
   ]
  },
  {
   "cell_type": "code",
   "execution_count": 6,
   "metadata": {},
   "outputs": [
    {
     "name": "stdout",
     "output_type": "stream",
     "text": [
      "2.07 ms ± 78.4 µs per loop (mean ± std. dev. of 7 runs, 1000 loops each)\n",
      "1.37 ms ± 36.9 µs per loop (mean ± std. dev. of 7 runs, 1000 loops each)\n",
      "1.33 ms ± 27.5 µs per loop (mean ± std. dev. of 7 runs, 1000 loops each)\n"
     ]
    }
   ],
   "source": [
    "%timeit [solution_1(c[0], c[1]) for c in test_case]\n",
    "%timeit [solution_2(c[0], c[1]) for c in test_case]\n",
    "%timeit [solution_3(c[0], c[1]) for c in test_case]"
   ]
  }
 ],
 "metadata": {
  "kernelspec": {
   "display_name": "Python 3",
   "language": "python",
   "name": "python3"
  },
  "language_info": {
   "codemirror_mode": {
    "name": "ipython",
    "version": 3
   },
   "file_extension": ".py",
   "mimetype": "text/x-python",
   "name": "python",
   "nbconvert_exporter": "python",
   "pygments_lexer": "ipython3",
   "version": "3.7.3"
  }
 },
 "nbformat": 4,
 "nbformat_minor": 2
}
