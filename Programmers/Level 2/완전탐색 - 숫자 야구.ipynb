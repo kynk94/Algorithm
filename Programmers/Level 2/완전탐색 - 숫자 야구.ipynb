{
 "cells": [
  {
   "cell_type": "markdown",
   "metadata": {},
   "source": [
    "<div class=\"guide-section-description\">\n",
    "      <h6 class=\"guide-section-title\">문제 설명</h6>\n",
    "      <div class=\"markdown solarized-dark\"><p>숫자 야구 게임이란 2명이 서로가 생각한 숫자를 맞추는 게임입니다. <a href=\"https://scratch.mit.edu/projects/131352991/\" title=\"게임해보기\" target=\"_blank\" rel=\"noopener\">게임해보기</a></p>\n",
    "\n",
    "<p>각자 서로 다른 1~9까지 3자리 임의의 숫자를 정한 뒤 서로에게 3자리의 숫자를 불러서 결과를 확인합니다. 그리고 그 결과를 토대로 상대가 정한 숫자를 예상한 뒤 맞힙니다.</p>\n",
    "<div class=\"highlight\"><pre class=\"codehilite\"><code>* 숫자는 맞지만, 위치가 틀렸을 때는 볼\n",
    "* 숫자와 위치가 모두 맞을 때는 스트라이크\n",
    "* 숫자와 위치가 모두 틀렸을 때는 아웃\n",
    "</code></pre></div>\n",
    "<p>예를 들어, 아래의 경우가 있으면</p>\n",
    "<div class=\"highlight\"><pre class=\"codehilite\"><code>A : 123\n",
    "B : 1스트라이크 1볼.\n",
    "A : 356\n",
    "B : 1스트라이크 0볼.\n",
    "A : 327\n",
    "B : 2스트라이크 0볼.\n",
    "A : 489\n",
    "B : 0스트라이크 1볼.\n",
    "</code></pre></div>\n",
    "<p>이때 가능한 답은 324와 328 두 가지입니다.</p>\n",
    "\n",
    "<p>질문한 세 자리의 수, 스트라이크의 수, 볼의 수를 담은 2차원 배열 baseball이 매개변수로 주어질 때, 가능한 답의 개수를 return 하도록 solution 함수를 작성해주세요.</p>\n",
    "\n",
    "<h5>제한사항</h5>\n",
    "\n",
    "<ul>\n",
    "<li>질문의 수는 1 이상 100 이하의 자연수입니다.</li>\n",
    "<li>baseball의 각 행은 [세 자리의 수, 스트라이크의 수, 볼의 수] 를 담고 있습니다.</li>\n",
    "</ul>\n",
    "\n",
    "<h5>입출력 예</h5>\n",
    "<table>\n",
    "        <thead><tr>\n",
    "<th>baseball</th>\n",
    "<th>return</th>\n",
    "</tr>\n",
    "</thead>\n",
    "        <tbody><tr>\n",
    "<td>[[123, 1, 1], [356, 1, 0], [327, 2, 0], [489, 0, 1]]</td>\n",
    "<td>2</td>\n",
    "</tr>\n",
    "</tbody>\n",
    "      </table>\n",
    "<h5>입출력 예 설명</h5>\n",
    "\n",
    "<p>문제에 나온 예와 같습니다.</p>\n",
    "\n",
    "<p><a href=\"https://www.digitalculture.or.kr/koi/selectOlymPiadDissentList.do\" target=\"_blank\" rel=\"noopener\">출처</a></p>\n",
    "</div>\n",
    "    </div>"
   ]
  },
  {
   "cell_type": "code",
   "execution_count": 1,
   "metadata": {},
   "outputs": [],
   "source": [
    "def solution(baseball):\n",
    "    import itertools\n",
    "    total_set = set([''.join(i) for i in itertools.permutations(map(str, range(1, 10)), 3)])\n",
    "    for i, s, b in baseball:\n",
    "        question = str(i)\n",
    "        for j in list(total_set):\n",
    "            strike = 0\n",
    "            ball = 0\n",
    "            for k, q in zip(j, question):\n",
    "                if k == q:\n",
    "                    strike += 1\n",
    "                elif k in question:\n",
    "                    ball += 1\n",
    "            if s != strike or b != ball:\n",
    "                total_set -= {j}\n",
    "    return len(total_set)"
   ]
  }
 ],
 "metadata": {
  "kernelspec": {
   "display_name": "Python 3",
   "language": "python",
   "name": "python3"
  },
  "language_info": {
   "codemirror_mode": {
    "name": "ipython",
    "version": 3
   },
   "file_extension": ".py",
   "mimetype": "text/x-python",
   "name": "python",
   "nbconvert_exporter": "python",
   "pygments_lexer": "ipython3",
   "version": "3.7.3"
  }
 },
 "nbformat": 4,
 "nbformat_minor": 2
}
