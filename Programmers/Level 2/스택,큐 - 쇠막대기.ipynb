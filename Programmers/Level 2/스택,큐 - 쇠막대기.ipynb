{
 "cells": [
  {
   "cell_type": "markdown",
   "metadata": {},
   "source": [
    "<div class=\"guide-section-description\">\n",
    "      <h6 class=\"guide-section-title\">문제 설명</h6>\n",
    "      <div class=\"markdown solarized-dark\"><p>여러 개의 쇠막대기를 레이저로 절단하려고 합니다. 효율적인 작업을 위해서 쇠막대기를 아래에서 위로 겹쳐 놓고, 레이저를 위에서 수직으로 발사하여 쇠막대기들을 자릅니다. 쇠막대기와 레이저의 배치는 다음 조건을 만족합니다.</p>\n",
    "<div class=\"highlight\"><pre class=\"codehilite\"><code>- 쇠막대기는 자신보다 긴 쇠막대기 위에만 놓일 수 있습니다.\n",
    "- 쇠막대기를 다른 쇠막대기 위에 놓는 경우 완전히 포함되도록 놓되, 끝점은 겹치지 않도록 놓습니다.\n",
    "- 각 쇠막대기를 자르는 레이저는 적어도 하나 존재합니다.\n",
    "- 레이저는 어떤 쇠막대기의 양 끝점과도 겹치지 않습니다.\n",
    "</code></pre></div>\n",
    "<p>아래 그림은 위 조건을 만족하는 예를 보여줍니다. 수평으로 그려진 굵은 실선은 쇠막대기이고, 점은 레이저의 위치, 수직으로 그려진 점선 화살표는 레이저의 발사 방향입니다.</p>\n",
    "\n",
    "<p><img src=\"https://grepp-programmers.s3.amazonaws.com/files/ybm/dbd166625b/d3ae656b-bb7b-421c-9f74-fa9ea800b860.png\" title=\"\" alt=\"image0.png\"></p>\n",
    "\n",
    "<p>이러한 레이저와 쇠막대기의 배치는 다음과 같이 괄호를 이용하여 왼쪽부터 순서대로 표현할 수 있습니다.</p>\n",
    "<div class=\"highlight\"><pre class=\"codehilite\"><code>(a) 레이저는 여는 괄호와 닫는 괄호의 인접한 쌍 '()'으로 표현합니다. 또한 모든 '()'는 반드시 레이저를 표현합니다.\n",
    "(b) 쇠막대기의 왼쪽 끝은 여는 괄호 '('로, 오른쪽 끝은 닫힌 괄호 ')'로 표현됩니다.\n",
    "</code></pre></div>\n",
    "<p>위 예의 괄호 표현은 그림 위에 주어져 있습니다.<br>\n",
    "쇠막대기는 레이저에 의해 몇 개의 조각으로 잘리는데, 위 예에서 가장 위에 있는 두 개의 쇠막대기는 각각 3개와 2개의 조각으로 잘리고, 이와 같은 방식으로 주어진 쇠막대기들은 총 17개의 조각으로 잘립니다.</p>\n",
    "\n",
    "<p>쇠막대기와 레이저의 배치를 표현한 문자열 arrangement가 매개변수로 주어질 때, 잘린 쇠막대기 조각의 총 개수를 return 하도록 solution 함수를 작성해주세요.</p>\n",
    "\n",
    "<h5>제한사항</h5>\n",
    "\n",
    "<ul>\n",
    "<li>arrangement의 길이는 최대 100,000입니다.</li>\n",
    "<li>arrangement의 여는 괄호와 닫는 괄호는 항상 쌍을 이룹니다.</li>\n",
    "</ul>\n",
    "\n",
    "<h5>입출력 예</h5>\n",
    "<table>\n",
    "        <thead><tr>\n",
    "<th>arrangement</th>\n",
    "<th>return</th>\n",
    "</tr>\n",
    "</thead>\n",
    "        <tbody><tr>\n",
    "<td><q>()(((()())(())()))(())</q></td>\n",
    "<td>17</td>\n",
    "</tr>\n",
    "</tbody>\n",
    "      </table>\n",
    "<h5>입출력 예 설명</h5>\n",
    "\n",
    "<p>문제에 나온 예와 같습니다.</p>\n",
    "\n",
    "<p><a href=\"https://www.digitalculture.or.kr/koi/selectOlymPiadDissentList.do\" target=\"_blank\" rel=\"noopener\">출처</a></p>\n",
    "</div>\n",
    "    </div>"
   ]
  },
  {
   "cell_type": "code",
   "execution_count": 1,
   "metadata": {},
   "outputs": [],
   "source": [
    "def solution_1(arrangement):\n",
    "    res = []\n",
    "    a = arrangement.replace(\"()\", '.')\n",
    "    total = a.count('(')\n",
    "    count = 0\n",
    "    for i in a:\n",
    "        if i == '(':\n",
    "            count += 1\n",
    "            res.append(count)\n",
    "        elif i == ')':\n",
    "            count -= 1\n",
    "            res.append(count)\n",
    "        else:\n",
    "            res.append(-1)\n",
    "    temp = 0\n",
    "    for i in res:\n",
    "        if i == -1:\n",
    "            total += temp\n",
    "        else:\n",
    "            temp = i\n",
    "    return total"
   ]
  },
  {
   "cell_type": "code",
   "execution_count": 2,
   "metadata": {},
   "outputs": [],
   "source": [
    "def solution_2(arrangement):\n",
    "    answer = 0\n",
    "    stack = 0\n",
    "    laseron = False\n",
    "    for p in arrangement:\n",
    "        if p == '(':\n",
    "            laseron = True\n",
    "            stack += 1\n",
    "        else:\n",
    "            if laseron:\n",
    "                answer += stack - 1\n",
    "                laseron = False\n",
    "            else:\n",
    "                answer += 1\n",
    "            stack -= 1\n",
    "    return answer"
   ]
  },
  {
   "cell_type": "code",
   "execution_count": 3,
   "metadata": {},
   "outputs": [
    {
     "name": "stdout",
     "output_type": "stream",
     "text": [
      "3.85 µs ± 202 ns per loop (mean ± std. dev. of 100 runs, 10000 loops each)\n",
      "2.24 µs ± 92.5 ns per loop (mean ± std. dev. of 100 runs, 10000 loops each)\n"
     ]
    }
   ],
   "source": [
    "%timeit -n 10000 -r 100 solution_1(\"()(((()())(())()))(())\")\n",
    "%timeit -n 10000 -r 100 solution_2(\"()(((()())(())()))(())\")"
   ]
  }
 ],
 "metadata": {
  "kernelspec": {
   "display_name": "Python 3",
   "language": "python",
   "name": "python3"
  },
  "language_info": {
   "codemirror_mode": {
    "name": "ipython",
    "version": 3
   },
   "file_extension": ".py",
   "mimetype": "text/x-python",
   "name": "python",
   "nbconvert_exporter": "python",
   "pygments_lexer": "ipython3",
   "version": "3.7.3"
  }
 },
 "nbformat": 4,
 "nbformat_minor": 2
}
