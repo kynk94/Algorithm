{
 "cells": [
  {
   "cell_type": "markdown",
   "metadata": {},
   "source": [
    "<div class=\"guide-section-description\">\n",
    "      <h6 class=\"guide-section-title\">문제 설명</h6>\n",
    "      <div class=\"markdown solarized-dark\"><p>짝지어 제거하기는, 알파벳 소문자로 이루어진 문자열을 가지고 시작합니다. 먼저 문자열에서 같은 알파벳이 2개 붙어 있는 짝을 찾습니다. 그다음, 그 둘을 제거한 뒤, 앞뒤로 문자열을 이어 붙입니다. 이 과정을 반복해서 문자열을 모두 제거한다면 짝지어 제거하기가 종료됩니다. 문자열 S가 주어졌을 때, 짝지어 제거하기를 성공적으로 수행할 수 있는지 반환하는 함수를 완성해 주세요. 성공적으로 수행할 수 있으면 1을, 아닐 경우 0을 리턴해주면 됩니다.</p>\n",
    "\n",
    "<p>예를 들어, 문자열 S = <code>baabaa</code> 라면</p>\n",
    "\n",
    "<p>b <em>aa</em> baa → <em>bb</em> aa → <em>aa</em> →</p>\n",
    "\n",
    "<p>의 순서로 문자열을 모두 제거할 수 있으므로 1을 반환합니다.</p>\n",
    "\n",
    "<h5>제한사항</h5>\n",
    "\n",
    "<ul>\n",
    "<li>문자열의 길이 : 1,000,000이하의 자연수</li>\n",
    "<li>문자열은 모두 소문자로 이루어져 있습니다.</li>\n",
    "</ul>\n",
    "\n",
    "<hr>\n",
    "\n",
    "<h5>입출력 예</h5>\n",
    "<table>\n",
    "        <thead><tr>\n",
    "<th>s</th>\n",
    "<th>result</th>\n",
    "</tr>\n",
    "</thead>\n",
    "        <tbody><tr>\n",
    "<td>baabaa</td>\n",
    "<td>1</td>\n",
    "</tr>\n",
    "<tr>\n",
    "<td>cdcd</td>\n",
    "<td>0</td>\n",
    "</tr>\n",
    "</tbody>\n",
    "      </table>\n",
    "<h5>입출력 예 설명</h5>\n",
    "\n",
    "<p>입출력 예 #1<br>\n",
    "위의 예시와 같습니다.<br>\n",
    "입출력 예 #2<br>\n",
    "문자열이 남아있지만 짝지어 제거할 수 있는 문자열이 더 이상 존재하지 않기 때문에 0을 반환합니다.</p>\n",
    "</div>\n",
    "    </div>"
   ]
  },
  {
   "cell_type": "code",
   "execution_count": 1,
   "metadata": {},
   "outputs": [],
   "source": [
    "def solution_1(s):\n",
    "    remain = []\n",
    "    for i in s:\n",
    "        if remain[-1:] == [i]:\n",
    "            remain.pop()\n",
    "        else:\n",
    "            remain.append(i)\n",
    "    return not remain"
   ]
  },
  {
   "cell_type": "code",
   "execution_count": 2,
   "metadata": {},
   "outputs": [],
   "source": [
    "def solution_2(s):\n",
    "    remain = []\n",
    "    for i in s:\n",
    "        if remain and remain[-1] == i:\n",
    "            remain.pop()\n",
    "        else:\n",
    "            remain.append(i)\n",
    "    return not remain"
   ]
  },
  {
   "cell_type": "code",
   "execution_count": 3,
   "metadata": {},
   "outputs": [
    {
     "data": {
      "text/plain": [
       "122"
      ]
     },
     "execution_count": 3,
     "metadata": {},
     "output_type": "execute_result"
    }
   ],
   "source": [
    "ord('z')"
   ]
  },
  {
   "cell_type": "code",
   "execution_count": 4,
   "metadata": {},
   "outputs": [],
   "source": [
    "def make_test(n=10):\n",
    "    import numpy as np\n",
    "    test_case = []\n",
    "    while len(test_case) < n:\n",
    "        size = np.random.randint(1, 500000)\n",
    "        random_num = np.random.randint(97, 123, size=size)\n",
    "        random_repeat = np.random.randint(1, 3, size=size)\n",
    "        string = ''.join([chr(i) * j for i, j in zip(random_num, random_repeat)])\n",
    "        test_case.append(string)\n",
    "    return test_case"
   ]
  },
  {
   "cell_type": "code",
   "execution_count": 5,
   "metadata": {},
   "outputs": [],
   "source": [
    "test_case = make_test(10)"
   ]
  },
  {
   "cell_type": "code",
   "execution_count": 6,
   "metadata": {},
   "outputs": [
    {
     "name": "stdout",
     "output_type": "stream",
     "text": [
      "930 ms ± 74.8 ms per loop (mean ± std. dev. of 2 runs, 1 loop each)\n",
      "568 ms ± 54.4 ms per loop (mean ± std. dev. of 2 runs, 1 loop each)\n"
     ]
    }
   ],
   "source": [
    "%timeit -n 1 -r 2 [solution_1(s) for s in test_case]  # list로 만들어 비교하니 오래걸림\n",
    "%timeit -n 1 -r 2 [solution_2(s) for s in test_case]"
   ]
  }
 ],
 "metadata": {
  "kernelspec": {
   "display_name": "Python 3",
   "language": "python",
   "name": "python3"
  },
  "language_info": {
   "codemirror_mode": {
    "name": "ipython",
    "version": 3
   },
   "file_extension": ".py",
   "mimetype": "text/x-python",
   "name": "python",
   "nbconvert_exporter": "python",
   "pygments_lexer": "ipython3",
   "version": "3.7.3"
  }
 },
 "nbformat": 4,
 "nbformat_minor": 2
}
