{
 "cells": [
  {
   "cell_type": "markdown",
   "metadata": {},
   "source": [
    "<div class=\"guide-section-description\">\n",
    "      <h6 class=\"guide-section-title\">문제 설명</h6>\n",
    "      <div class=\"markdown solarized-dark\"><h2>N진수 게임</h2>\n",
    "\n",
    "<p>튜브가 활동하는 코딩 동아리에서는 전통적으로 해오는 게임이 있다. 이 게임은 여러 사람이 둥글게 앉아서 숫자를 하나씩 차례대로 말하는 게임인데, 규칙은 다음과 같다.</p>\n",
    "\n",
    "<ol>\n",
    "<li>숫자를 0부터 시작해서 차례대로 말한다. 첫 번째 사람은 0, 두 번째 사람은 1, … 열 번째 사람은 9를 말한다.</li>\n",
    "<li>10 이상의 숫자부터는 한 자리씩 끊어서 말한다. 즉 열한 번째 사람은 10의 첫 자리인 1, 열두 번째 사람은 둘째 자리인 0을 말한다.</li>\n",
    "</ol>\n",
    "\n",
    "<p>이렇게 게임을 진행할 경우,<br>\n",
    "<code>0, 1, 2, 3, 4, 5, 6, 7, 8, 9, 1, 0, 1, 1, 1, 2, 1, 3, 1, 4, …</code><br>\n",
    "순으로 숫자를 말하면 된다.</p>\n",
    "\n",
    "<p>한편 코딩 동아리 일원들은 컴퓨터를 다루는 사람답게 이진수로 이 게임을 진행하기도 하는데, 이 경우에는<br>\n",
    "<code>0, 1, 1, 0, 1, 1, 1, 0, 0, 1, 0, 1, 1, 1, 0, 1, 1, 1, …</code><br>\n",
    "순으로 숫자를 말하면 된다.</p>\n",
    "\n",
    "<p>이진수로 진행하는 게임에 익숙해져 질려가던 사람들은 좀 더 난이도를 높이기 위해 이진법에서 십육진법까지 모든 진법으로 게임을 진행해보기로 했다. 숫자 게임이 익숙하지 않은 튜브는 게임에 져서 벌칙을 받는 굴욕을 피하기 위해, 자신이 말해야 하는 숫자를 스마트폰에 미리 출력해주는 프로그램을 만들려고 한다. 튜브의 프로그램을 구현하라.</p>\n",
    "\n",
    "<h3>입력 형식</h3>\n",
    "\n",
    "<p>진법 <code>n</code>,  미리 구할 숫자의 갯수 <code>t</code>, 게임에 참가하는 인원 <code>m</code>, 튜브의 순서 <code>p</code> 가 주어진다.</p>\n",
    "\n",
    "<ul>\n",
    "<li>2 ≦ <code>n</code> ≦ 16</li>\n",
    "<li>0 ＜ <code>t</code> ≦ 1000</li>\n",
    "<li>2 ≦ <code>m</code> ≦ 100</li>\n",
    "<li>1 ≦ <code>p</code> ≦ <code>m</code></li>\n",
    "</ul>\n",
    "\n",
    "<h3>출력 형식</h3>\n",
    "\n",
    "<p>튜브가 말해야 하는 숫자 <code>t</code>개를 공백 없이 차례대로 나타낸 문자열. 단, <code>10</code>~<code>15</code>는 각각 대문자 <code>A</code>~<code>F</code>로 출력한다.</p>\n",
    "\n",
    "<h3>입출력 예제</h3>\n",
    "<table>\n",
    "        <thead><tr>\n",
    "<th>n</th>\n",
    "<th>t</th>\n",
    "<th>m</th>\n",
    "<th>p</th>\n",
    "<th>result</th>\n",
    "</tr>\n",
    "</thead>\n",
    "        <tbody><tr>\n",
    "<td>2</td>\n",
    "<td>4</td>\n",
    "<td>2</td>\n",
    "<td>1</td>\n",
    "<td><q>0111</q></td>\n",
    "</tr>\n",
    "<tr>\n",
    "<td>16</td>\n",
    "<td>16</td>\n",
    "<td>2</td>\n",
    "<td>1</td>\n",
    "<td><q>02468ACE11111111</q></td>\n",
    "</tr>\n",
    "<tr>\n",
    "<td>16</td>\n",
    "<td>16</td>\n",
    "<td>2</td>\n",
    "<td>2</td>\n",
    "<td><q>13579BDF01234567</q></td>\n",
    "</tr>\n",
    "</tbody>\n",
    "      </table>\n",
    "<p><a href=\"http://tech.kakao.com/2017/11/14/kakao-blind-recruitment-round-3/\" target=\"_blank\" rel=\"noopener\">해설 보러가기</a></p>\n",
    "</div>\n",
    "    </div>"
   ]
  },
  {
   "cell_type": "code",
   "execution_count": 1,
   "metadata": {},
   "outputs": [],
   "source": [
    "def solution_1(n, t, m, p):\n",
    "    def convert(number, base):\n",
    "        T = \"0123456789ABCDEF\"\n",
    "        i, j = divmod(number, base)\n",
    "        if i == 0:\n",
    "            return T[j]\n",
    "        else:\n",
    "            return convert(i, base) + T[j]\n",
    "    p_max = (t - 1)*m + p\n",
    "    s = ''\n",
    "    i = 0\n",
    "    while len(s) < p_max:\n",
    "        s += convert(i, n)\n",
    "        i += 1\n",
    "    return ''.join([s[i] for i in range(p - 1, p_max, m)])"
   ]
  },
  {
   "cell_type": "code",
   "execution_count": 2,
   "metadata": {},
   "outputs": [],
   "source": [
    "def solution_2(n, t, m, p):\n",
    "    big = \"ABCDEF\"\n",
    "    a = '0'\n",
    "    i = 0\n",
    "    max_len = t * m\n",
    "    while len(a) < max_len:\n",
    "        b = ''\n",
    "        j = i\n",
    "        while j:\n",
    "            r = j % n\n",
    "            if r > 9:\n",
    "                b = big[r - 10] + b\n",
    "            else:\n",
    "                b = str(r) + b\n",
    "            j //= n\n",
    "        a += b\n",
    "        i += 1\n",
    "    return a[p-1::m][:t]"
   ]
  },
  {
   "cell_type": "code",
   "execution_count": 3,
   "metadata": {},
   "outputs": [],
   "source": [
    "def make_test(num=10):\n",
    "    import random\n",
    "    test_case = []\n",
    "    while len(test_case) < num:\n",
    "        n = random.randint(2, 16)\n",
    "        t = random.randint(1, 1000)\n",
    "        m = random.randint(2, 100)\n",
    "        p = random.randint(1, m)\n",
    "        test_case.append((n, t, m, p))\n",
    "    return test_case"
   ]
  },
  {
   "cell_type": "code",
   "execution_count": 4,
   "metadata": {},
   "outputs": [],
   "source": [
    "test_case = make_test(10)"
   ]
  },
  {
   "cell_type": "code",
   "execution_count": 5,
   "metadata": {},
   "outputs": [
    {
     "name": "stdout",
     "output_type": "stream",
     "text": [
      "142 ms ± 7.58 ms per loop (mean ± std. dev. of 7 runs, 10 loops each)\n",
      "158 ms ± 14.5 ms per loop (mean ± std. dev. of 7 runs, 10 loops each)\n"
     ]
    }
   ],
   "source": [
    "%timeit [solution_1(c[0], c[1], c[2], c[3]) for c in test_case]\n",
    "%timeit [solution_2(c[0], c[1], c[2], c[3]) for c in test_case]"
   ]
  }
 ],
 "metadata": {
  "kernelspec": {
   "display_name": "Python 3",
   "language": "python",
   "name": "python3"
  },
  "language_info": {
   "codemirror_mode": {
    "name": "ipython",
    "version": 3
   },
   "file_extension": ".py",
   "mimetype": "text/x-python",
   "name": "python",
   "nbconvert_exporter": "python",
   "pygments_lexer": "ipython3",
   "version": "3.7.3"
  }
 },
 "nbformat": 4,
 "nbformat_minor": 2
}
