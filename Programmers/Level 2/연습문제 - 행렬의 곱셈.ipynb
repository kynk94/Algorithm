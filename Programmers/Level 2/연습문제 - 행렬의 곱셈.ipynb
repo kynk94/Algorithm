{
 "cells": [
  {
   "cell_type": "markdown",
   "metadata": {},
   "source": [
    "<div class=\"guide-section-description\">\n",
    "      <h6 class=\"guide-section-title\">문제 설명</h6>\n",
    "      <div class=\"markdown solarized-dark\"><p>2차원 행렬 arr1과 arr2를 입력받아, arr1에 arr2를 곱한 결과를 반환하는 함수, solution을 완성해주세요.</p>\n",
    "\n",
    "<h5>제한 조건</h5>\n",
    "\n",
    "<ul>\n",
    "<li>행렬 arr1, arr2의 행과 열의 길이는 2 이상 100 이하입니다.</li>\n",
    "<li>행렬 arr1, arr2의 원소는 -10 이상 20 이하인 정수입니다.</li>\n",
    "<li>곱할 수 있는 배열만 주어집니다.</li>\n",
    "</ul>\n",
    "\n",
    "<h5>입출력 예</h5>\n",
    "<table>\n",
    "        <thead><tr>\n",
    "<th>arr1</th>\n",
    "<th>arr2</th>\n",
    "<th>return</th>\n",
    "</tr>\n",
    "</thead>\n",
    "        <tbody><tr>\n",
    "<td>[[1, 4], [3, 2], [4, 1]]</td>\n",
    "<td>[[3, 3], [3, 3]]</td>\n",
    "<td>[[15, 15], [15, 15], [15, 15]]</td>\n",
    "</tr>\n",
    "<tr>\n",
    "<td>[[2, 3, 2], [4, 2, 4], [3, 1, 4]]</td>\n",
    "<td>[[5, 4, 3], [2, 4, 1], [3, 1, 1]]</td>\n",
    "<td>[[22, 22, 11], [36, 28, 18], [29, 20, 14]]</td>\n",
    "</tr>\n",
    "</tbody>\n",
    "      </table></div>\n",
    "    </div>"
   ]
  },
  {
   "cell_type": "code",
   "execution_count": 1,
   "metadata": {},
   "outputs": [],
   "source": [
    "def solution_1(arr1, arr2):\n",
    "    l = len(arr1)\n",
    "    m = len(arr2)\n",
    "    n = len(arr2[0])\n",
    "    answer = []\n",
    "    for i in range(l):\n",
    "        row = []\n",
    "        for j in range(n):\n",
    "            s = 0\n",
    "            for k in range(m):\n",
    "                s += arr1[i][k] * arr2[k][j]\n",
    "            row.append(s)\n",
    "        answer.append(row)\n",
    "    return answer"
   ]
  },
  {
   "cell_type": "code",
   "execution_count": 2,
   "metadata": {},
   "outputs": [],
   "source": [
    "def solution_2(arr1, arr2):\n",
    "    import numpy as np\n",
    "    return (np.array(arr1) @ np.array(arr2)).tolist()"
   ]
  },
  {
   "cell_type": "code",
   "execution_count": 3,
   "metadata": {},
   "outputs": [],
   "source": [
    "def solution_3(arr1, arr2):\n",
    "    answer = []\n",
    "    for a_row in arr1:\n",
    "        row = []\n",
    "        for b_col in zip(*arr2):  # zip의 활용, column 별 list로 바꿈\n",
    "            row.append(sum(a * b for a, b in zip(a_row, b_col)))\n",
    "        answer.append(row)\n",
    "    return answer"
   ]
  },
  {
   "cell_type": "code",
   "execution_count": 4,
   "metadata": {},
   "outputs": [],
   "source": [
    "# solution_3을 한 줄로 바꾼 것.\n",
    "def solution_4(arr1, arr2):\n",
    "    return [[sum(a*b for a, b in zip(a_row,b_col)) for b_col in zip(*arr2)] for a_row in arr1]"
   ]
  },
  {
   "cell_type": "code",
   "execution_count": 5,
   "metadata": {},
   "outputs": [],
   "source": [
    "def make_test(n=10):\n",
    "    import numpy as np\n",
    "    test_case = []\n",
    "    while len(test_case) < n:\n",
    "        i = np.random.randint(2, 101)\n",
    "        j = np.random.randint(2, 101)\n",
    "        k = np.random.randint(2, 101)\n",
    "        arr1 = np.random.randint(-10, 21, size=i * j).reshape(i, j).tolist()\n",
    "        arr2 = np.random.randint(-10, 21, size=j * k).reshape(j, k).tolist()\n",
    "        test_case.append((arr1, arr2))\n",
    "    return test_case"
   ]
  },
  {
   "cell_type": "code",
   "execution_count": 6,
   "metadata": {},
   "outputs": [],
   "source": [
    "test_case = make_test(10)"
   ]
  },
  {
   "cell_type": "code",
   "execution_count": 7,
   "metadata": {},
   "outputs": [
    {
     "name": "stdout",
     "output_type": "stream",
     "text": [
      "239 ms ± 3.3 ms per loop (mean ± std. dev. of 2 runs, 2 loops each)\n",
      "6.02 ms ± 3.38 µs per loop (mean ± std. dev. of 2 runs, 2 loops each)\n",
      "218 ms ± 4.27 ms per loop (mean ± std. dev. of 2 runs, 2 loops each)\n",
      "186 ms ± 9.78 ms per loop (mean ± std. dev. of 2 runs, 2 loops each)\n"
     ]
    }
   ],
   "source": [
    "%timeit -n 2 -r 2 [solution_1(c[0], c[1]) for c in test_case]\n",
    "%timeit -n 2 -r 2 [solution_2(c[0], c[1]) for c in test_case]  # 이미 numpy가 import된 상태라면 가장 빠름\n",
    "%timeit -n 2 -r 2 [solution_3(c[0], c[1]) for c in test_case]\n",
    "%timeit -n 2 -r 2 [solution_4(c[0], c[1]) for c in test_case]"
   ]
  }
 ],
 "metadata": {
  "kernelspec": {
   "display_name": "Python 3",
   "language": "python",
   "name": "python3"
  },
  "language_info": {
   "codemirror_mode": {
    "name": "ipython",
    "version": 3
   },
   "file_extension": ".py",
   "mimetype": "text/x-python",
   "name": "python",
   "nbconvert_exporter": "python",
   "pygments_lexer": "ipython3",
   "version": "3.7.3"
  }
 },
 "nbformat": 4,
 "nbformat_minor": 2
}
