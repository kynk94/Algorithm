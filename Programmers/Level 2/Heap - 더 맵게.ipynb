{
 "cells": [
  {
   "cell_type": "markdown",
   "metadata": {},
   "source": [
    "<div class=\"guide-section-description\">\n",
    "      <h6 class=\"guide-section-title\">문제 설명</h6>\n",
    "      <div class=\"markdown solarized-dark\"><p>매운 것을 좋아하는 Leo는 모든 음식의 스코빌 지수를 K 이상으로 만들고 싶습니다. 모든 음식의 스코빌 지수를 K 이상으로 만들기 위해 Leo는 스코빌 지수가 가장 낮은 두 개의 음식을 아래와 같이 특별한 방법으로 섞어 새로운 음식을 만듭니다.</p>\n",
    "<div class=\"highlight\"><pre class=\"codehilite\"><code>섞은 음식의 스코빌 지수 = 가장 맵지 않은 음식의 스코빌 지수 + (두 번째로 맵지 않은 음식의 스코빌 지수 * 2)\n",
    "</code></pre></div>\n",
    "<p>Leo는 모든 음식의 스코빌 지수가 K 이상이 될 때까지 반복하여 섞습니다.<br>\n",
    "Leo가 가진 음식의 스코빌 지수를 담은 배열 scoville과 원하는 스코빌 지수 K가 주어질 때, 모든 음식의 스코빌 지수를 K 이상으로 만들기 위해 섞어야 하는 최소 횟수를 return 하도록 solution 함수를 작성해주세요.</p>\n",
    "\n",
    "<h5>제한 사항</h5>\n",
    "\n",
    "<ul>\n",
    "<li>scoville의 길이는 1 이상 1,000,000 이하입니다.</li>\n",
    "<li>K는 0 이상 1,000,000,000 이하입니다.</li>\n",
    "<li>scoville의 원소는 각각 0 이상 1,000,000 이하입니다.</li>\n",
    "<li>모든 음식의 스코빌 지수를 K 이상으로 만들 수 없는 경우에는 -1을 return 합니다.</li>\n",
    "</ul>\n",
    "\n",
    "<h5>입출력 예</h5>\n",
    "<table>\n",
    "        <thead><tr>\n",
    "<th>scoville</th>\n",
    "<th>K</th>\n",
    "<th>return</th>\n",
    "</tr>\n",
    "</thead>\n",
    "        <tbody><tr>\n",
    "<td>[1, 2, 3, 9, 10, 12]</td>\n",
    "<td>7</td>\n",
    "<td>2</td>\n",
    "</tr>\n",
    "</tbody>\n",
    "      </table>\n",
    "<h5>입출력 예 설명</h5>\n",
    "\n",
    "<ol>\n",
    "<li><p>스코빌 지수가 1인 음식과 2인 음식을 섞으면 음식의 스코빌 지수가 아래와 같이 됩니다.<br>\n",
    "새로운 음식의 스코빌 지수 = 1 + (2 * 2) = 5<br>\n",
    "가진 음식의 스코빌 지수 = [5, 3, 9, 10, 12]</p></li>\n",
    "<li><p>스코빌 지수가 3인 음식과 5인 음식을 섞으면 음식의 스코빌 지수가 아래와 같이 됩니다.<br>\n",
    "새로운 음식의 스코빌 지수 = 3 + (5 * 2) = 13<br>\n",
    "가진 음식의 스코빌 지수 = [13, 9, 10, 12]</p></li>\n",
    "</ol>\n",
    "\n",
    "<p>모든 음식의 스코빌 지수가 7 이상이 되었고 이때 섞은 횟수는 2회입니다.</p>\n",
    "</div>\n",
    "    </div>"
   ]
  },
  {
   "cell_type": "code",
   "execution_count": 1,
   "metadata": {},
   "outputs": [],
   "source": [
    "def solution_1(scoville, K):\n",
    "    answer = 0\n",
    "    while min(scoville) < K:\n",
    "        scoville = sorted(scoville)\n",
    "        scoville.append(scoville.pop(0) + 2 * scoville.pop(0))\n",
    "        answer += 1\n",
    "        if len(scoville) == 1:\n",
    "            if scoville[0] < K:\n",
    "                answer = -1\n",
    "            break\n",
    "    return answer"
   ]
  },
  {
   "cell_type": "code",
   "execution_count": 2,
   "metadata": {},
   "outputs": [],
   "source": [
    "def solution_2(scoville, K):\n",
    "    import heapq as hq\n",
    "    answer = 0\n",
    "    heap = []\n",
    "    for i in scoville:\n",
    "        hq.heappush(heap, i)\n",
    "    while heap[0] < K:\n",
    "        hq.heappush(heap, hq.heappop(heap) + 2 * hq.heappop(heap))\n",
    "        answer += 1\n",
    "        if len(heap) == 1:\n",
    "            if heap[0] < K:\n",
    "                answer = -1\n",
    "            break\n",
    "    return answer"
   ]
  },
  {
   "cell_type": "code",
   "execution_count": 3,
   "metadata": {},
   "outputs": [],
   "source": [
    "def solution_3(scoville, K):\n",
    "    import heapq as hq\n",
    "    answer = 0\n",
    "    hq.heapify(scoville)\n",
    "    while True:\n",
    "        try:\n",
    "            hq.heappush(scoville, hq.heappop(scoville) + 2 * hq.heappop(scoville))\n",
    "            answer += 1\n",
    "            if scoville[0] > K:\n",
    "                return answer\n",
    "        except:\n",
    "            return -1"
   ]
  },
  {
   "cell_type": "code",
   "execution_count": 4,
   "metadata": {},
   "outputs": [],
   "source": [
    "def make_test(length=10, power=6):\n",
    "    import random\n",
    "    test_case = []\n",
    "    while len(test_case) < length:\n",
    "        scoville = [random.randrange(pow(10, power)) for i in range(random.randrange(pow(10, power)))]\n",
    "        K = random.randrange(pow(10, 9))\n",
    "        test_case.append((scoville, K))\n",
    "    return test_case"
   ]
  },
  {
   "cell_type": "code",
   "execution_count": 5,
   "metadata": {},
   "outputs": [
    {
     "name": "stdout",
     "output_type": "stream",
     "text": [
      "2.85 s ± 0 ns per loop (mean ± std. dev. of 1 run, 1 loop each)\n",
      "46.1 ms ± 0 ns per loop (mean ± std. dev. of 1 run, 1 loop each)\n",
      "38.3 ms ± 0 ns per loop (mean ± std. dev. of 1 run, 1 loop each)\n"
     ]
    }
   ],
   "source": [
    "# solution_1은 소요시간이 아주 오래 걸려 power=4 로 지정한다.\n",
    "test_case = make_test(length=10, power=4)\n",
    "%timeit -n 1 -r 1 [solution_1(i[0], i[1]) for i in test_case]\n",
    "%timeit -n 1 -r 1 [solution_2(i[0], i[1]) for i in test_case]\n",
    "%timeit -n 1 -r 1 [solution_3(i[0], i[1]) for i in test_case]"
   ]
  }
 ],
 "metadata": {
  "kernelspec": {
   "display_name": "Python 3",
   "language": "python",
   "name": "python3"
  },
  "language_info": {
   "codemirror_mode": {
    "name": "ipython",
    "version": 3
   },
   "file_extension": ".py",
   "mimetype": "text/x-python",
   "name": "python",
   "nbconvert_exporter": "python",
   "pygments_lexer": "ipython3",
   "version": "3.7.3"
  }
 },
 "nbformat": 4,
 "nbformat_minor": 2
}
