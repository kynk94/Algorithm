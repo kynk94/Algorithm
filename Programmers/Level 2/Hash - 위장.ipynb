{
 "cells": [
  {
   "cell_type": "markdown",
   "metadata": {},
   "source": [
    "<div class=\"guide-section-description\">\n",
    "      <h6 class=\"guide-section-title\">문제 설명</h6>\n",
    "      <div class=\"markdown solarized-dark\"><p>스파이들은 매일 다른 옷을 조합하여 입어 자신을 위장합니다.</p>\n",
    "\n",
    "<p>예를 들어 스파이가 가진 옷이 아래와 같고 오늘 스파이가 동그란 안경, 긴 코트, 파란색 티셔츠를 입었다면 다음날은 청바지를 추가로 입거나 동그란 안경 대신 검정 선글라스를 착용하거나 해야 합니다.</p>\n",
    "<table>\n",
    "        <thead><tr>\n",
    "<th>종류</th>\n",
    "<th>이름</th>\n",
    "</tr>\n",
    "</thead>\n",
    "        <tbody><tr>\n",
    "<td>얼굴</td>\n",
    "<td>동그란 안경, 검정 선글라스</td>\n",
    "</tr>\n",
    "<tr>\n",
    "<td>상의</td>\n",
    "<td>파란색 티셔츠</td>\n",
    "</tr>\n",
    "<tr>\n",
    "<td>하의</td>\n",
    "<td>청바지</td>\n",
    "</tr>\n",
    "<tr>\n",
    "<td>겉옷</td>\n",
    "<td>긴 코트</td>\n",
    "</tr>\n",
    "</tbody>\n",
    "      </table>\n",
    "<p>스파이가 가진 의상들이 담긴 2차원 배열 clothes가 주어질 때 서로 다른 옷의 조합의 수를 return 하도록 solution 함수를 작성해주세요.</p>\n",
    "\n",
    "<h5>제한사항</h5>\n",
    "\n",
    "<ul>\n",
    "<li>clothes의 각 행은 [의상의 이름, 의상의 종류]로 이루어져 있습니다.</li>\n",
    "<li>스파이가 가진 의상의 수는 1개 이상 30개 이하입니다.</li>\n",
    "<li>같은 이름을 가진 의상은 존재하지 않습니다.</li>\n",
    "<li>clothes의 모든 원소는 문자열로 이루어져 있습니다.</li>\n",
    "<li>모든 문자열의 길이는 1 이상 20 이하인 자연수이고 알파벳 소문자 또는 '_' 로만 이루어져 있습니다.</li>\n",
    "<li>스파이는 하루에 최소 한 개의 의상은 입습니다.</li>\n",
    "</ul>\n",
    "\n",
    "<h5>입출력 예</h5>\n",
    "<table>\n",
    "        <thead><tr>\n",
    "<th>clothes</th>\n",
    "<th>return</th>\n",
    "</tr>\n",
    "</thead>\n",
    "        <tbody><tr>\n",
    "<td>[[<q>yellow_hat</q>, <q>headgear</q>], [<q>blue_sunglasses</q>, <q>eyewear</q>], [<q>green_turban</q>, <q>headgear</q>]]</td>\n",
    "<td>5</td>\n",
    "</tr>\n",
    "<tr>\n",
    "<td>[[<q>crow_mask</q>, <q>face</q>], [<q>blue_sunglasses</q>, <q>face</q>], [<q>smoky_makeup</q>, <q>face</q>]]</td>\n",
    "<td>3</td>\n",
    "</tr>\n",
    "</tbody>\n",
    "      </table>\n",
    "<h5>입출력 예 설명</h5>\n",
    "\n",
    "<p>예제 #1<br>\n",
    "headgear에 해당하는 의상이 yellow_hat, green_turban이고 eyewear에 해당하는 의상이 blue_sunglasses이므로 아래와 같이 5개의 조합이 가능합니다.</p>\n",
    "<div class=\"highlight\"><pre class=\"codehilite\"><code>1. yellow_hat\n",
    "2. blue_sunglasses\n",
    "3. green_turban\n",
    "4. yellow_hat + blue_sunglasses\n",
    "5. green_turban + blue_sunglasses\n",
    "</code></pre></div>\n",
    "<p>예제 #2<br>\n",
    "face에 해당하는 의상이 crow_mask, blue_sunglasses, smoky_makeup이므로 아래와 같이 3개의 조합이 가능합니다.</p>\n",
    "<div class=\"highlight\"><pre class=\"codehilite\"><code>1. crow_mask\n",
    "2. blue_sunglasses\n",
    "3. smoky_makeup\n",
    "</code></pre></div>\n",
    "<p><a href=\"http://2013.bapc.eu/\" target=\"_blank\" rel=\"noopener\">출처</a></p>\n",
    "</div>\n",
    "    </div>"
   ]
  },
  {
   "cell_type": "code",
   "execution_count": 1,
   "metadata": {},
   "outputs": [],
   "source": [
    "def solution_1(clothes):\n",
    "    import itertools\n",
    "    c_dic = {}\n",
    "    for n, s in clothes:\n",
    "        if s not in c_dic.keys():\n",
    "            c_dic[s] = [None, n]\n",
    "        else:\n",
    "            c_dic[s].append(n)\n",
    "    clothes = []\n",
    "    for v in c_dic.values():\n",
    "        clothes.append(v)\n",
    "    return len(list(itertools.product(*clothes))) - 1"
   ]
  },
  {
   "cell_type": "code",
   "execution_count": 2,
   "metadata": {},
   "outputs": [],
   "source": [
    "def solution_2(clothes):\n",
    "    c_dic = {}\n",
    "    for n, s in clothes:\n",
    "        if s not in c_dic.keys():\n",
    "            c_dic[s] = 2\n",
    "        else:\n",
    "            c_dic[s] += 1\n",
    "    answer = 1\n",
    "    for i in c_dic.values():\n",
    "        answer *= i\n",
    "    return answer - 1"
   ]
  },
  {
   "cell_type": "code",
   "execution_count": 3,
   "metadata": {},
   "outputs": [],
   "source": [
    "def make_test(n=10):\n",
    "    import random\n",
    "    test_case = []\n",
    "    while len(test_case) < n:\n",
    "        case = []\n",
    "        for i in range(random.randint(0, 30)):\n",
    "            s = random.randint(0, 5)\n",
    "            case.append([i, s])\n",
    "        test_case.append(case)\n",
    "    return test_case"
   ]
  },
  {
   "cell_type": "code",
   "execution_count": 4,
   "metadata": {},
   "outputs": [],
   "source": [
    "test_case = make_test(10)"
   ]
  },
  {
   "cell_type": "code",
   "execution_count": 5,
   "metadata": {},
   "outputs": [
    {
     "name": "stdout",
     "output_type": "stream",
     "text": [
      "2.37 ms ± 214 µs per loop (mean ± std. dev. of 10 runs, 10 loops each)\n",
      "31.2 µs ± 206 ns per loop (mean ± std. dev. of 10 runs, 10 loops each)\n"
     ]
    }
   ],
   "source": [
    "%timeit -n 10 -r 10 [solution_1(case) for case in test_case]\n",
    "%timeit -n 10 -r 10 [solution_2(case) for case in test_case]"
   ]
  }
 ],
 "metadata": {
  "kernelspec": {
   "display_name": "Python 3",
   "language": "python",
   "name": "python3"
  },
  "language_info": {
   "codemirror_mode": {
    "name": "ipython",
    "version": 3
   },
   "file_extension": ".py",
   "mimetype": "text/x-python",
   "name": "python",
   "nbconvert_exporter": "python",
   "pygments_lexer": "ipython3",
   "version": "3.7.3"
  }
 },
 "nbformat": 4,
 "nbformat_minor": 2
}
