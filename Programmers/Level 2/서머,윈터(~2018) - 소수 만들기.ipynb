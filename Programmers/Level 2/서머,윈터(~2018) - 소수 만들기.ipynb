{
 "cells": [
  {
   "cell_type": "markdown",
   "metadata": {},
   "source": [
    "<div class=\"guide-section-description\">\n",
    "      <h6 class=\"guide-section-title\">문제 설명</h6>\n",
    "      <div class=\"markdown solarized-dark\"><p>주어진 숫자 중 3개의 수를 더했을 때 소수가 되는 경우의 개수를 구하려고 합니다. 숫자들이 들어있는 배열 nums가 매개변수로 주어질 때, nums에 있는 숫자들 중 서로 다른 3개를 골라 더했을 때 소수가 되는 경우의 개수를 return 하도록 solution 함수를 완성해주세요.</p>\n",
    "\n",
    "<h5>제한사항</h5>\n",
    "\n",
    "<ul>\n",
    "<li>nums에 들어있는 숫자의 개수는 3개 이상 50개 이하입니다.</li>\n",
    "<li>nums의 각 원소는 1 이상 1,000 이하의 자연수이며, 중복된 숫자가 들어있지 않습니다.</li>\n",
    "</ul>\n",
    "\n",
    "<hr>\n",
    "\n",
    "<h5>입출력 예</h5>\n",
    "<table>\n",
    "        <thead><tr>\n",
    "<th>nums</th>\n",
    "<th>result</th>\n",
    "</tr>\n",
    "</thead>\n",
    "        <tbody><tr>\n",
    "<td>[1,2,3,4]</td>\n",
    "<td>1</td>\n",
    "</tr>\n",
    "<tr>\n",
    "<td>[1,2,7,6,4]</td>\n",
    "<td>4</td>\n",
    "</tr>\n",
    "</tbody>\n",
    "      </table>\n",
    "<h5>입출력 예 설명</h5>\n",
    "\n",
    "<p>입출력 예 #1<br>\n",
    "[1,2,4]를 이용해서 7을 만들 수 있습니다.</p>\n",
    "\n",
    "<p>입출력 예 #2<br>\n",
    "[1,2,4]를 이용해서 7을 만들 수 있습니다.<br>\n",
    "[1,4,6]을 이용해서 11을 만들 수 있습니다.<br>\n",
    "[2,4,7]을 이용해서 13을 만들 수 있습니다.<br>\n",
    "[4,6,7]을 이용해서 17을 만들 수 있습니다.</p>\n",
    "</div>\n",
    "    </div>"
   ]
  },
  {
   "cell_type": "code",
   "execution_count": 22,
   "metadata": {},
   "outputs": [],
   "source": [
    "def solution(nums):\n",
    "    import itertools\n",
    "    n_list = list(sum(i) for i in itertools.combinations(nums, 3))\n",
    "    n_dic = {}\n",
    "    for i in n_list:\n",
    "        if i not in n_dic.keys():\n",
    "            n_dic[i] = 1\n",
    "        else:\n",
    "            n_dic[i] += 1\n",
    "    n_set = set(n_dic.keys())\n",
    "    n_max = max(n_set)\n",
    "    for i in range(2, int(n_max**0.5 + 1)):\n",
    "        n_set -= set(range(2*i, n_max+1, i))\n",
    "    answer = 0\n",
    "    for i in n_set:\n",
    "        answer += n_dic[i]\n",
    "    return answer"
   ]
  },
  {
   "cell_type": "code",
   "execution_count": null,
   "metadata": {},
   "outputs": [],
   "source": [
    "def solution(nums):\n",
    "    from itertools import combinations as cb\n",
    "    answer = 0\n",
    "    for a in cb(nums, 3):\n",
    "        cand = sum(a)\n",
    "        for j in range(2, cand//2):\n",
    "            if cand%j==0:\n",
    "                break\n",
    "        else:\n",
    "            answer += 1\n",
    "    return answer"
   ]
  },
  {
   "cell_type": "code",
   "execution_count": 24,
   "metadata": {},
   "outputs": [
    {
     "data": {
      "text/plain": [
       "4"
      ]
     },
     "execution_count": 24,
     "metadata": {},
     "output_type": "execute_result"
    }
   ],
   "source": [
    "solution([1,2,7,6,4])"
   ]
  },
  {
   "cell_type": "code",
   "execution_count": 18,
   "metadata": {},
   "outputs": [],
   "source": [
    "nums = list(range(100))\n",
    "n_list = list(sum(i) for i in itertools.combinations(nums, 3))\n",
    "n_doc = {}\n",
    "for i in n_list:\n",
    "    if i not in n_doc.keys():\n",
    "        n_doc[i] = 1\n",
    "    else:\n",
    "        n_doc[i] += 1\n",
    "n_set = set(n_doc.keys())"
   ]
  },
  {
   "cell_type": "code",
   "execution_count": 19,
   "metadata": {},
   "outputs": [
    {
     "name": "stdout",
     "output_type": "stream",
     "text": [
      "1.95 ms ± 38.8 µs per loop (mean ± std. dev. of 7 runs, 1000 loops each)\n",
      "6.15 µs ± 118 ns per loop (mean ± std. dev. of 7 runs, 100000 loops each)\n"
     ]
    }
   ],
   "source": [
    "%timeit set(n_list)\n",
    "%timeit set(n_doc.keys())"
   ]
  },
  {
   "cell_type": "code",
   "execution_count": 10,
   "metadata": {},
   "outputs": [],
   "source": [
    "n_max = max(n_set)\n",
    "for i in range(2, int(n_max**0.5 + 1)):\n",
    "    n_set -= set(range(2*i, n_max+1, i))"
   ]
  },
  {
   "cell_type": "code",
   "execution_count": 11,
   "metadata": {},
   "outputs": [
    {
     "data": {
      "text/plain": [
       "{7, 11, 13, 17}"
      ]
     },
     "execution_count": 11,
     "metadata": {},
     "output_type": "execute_result"
    }
   ],
   "source": [
    "n_set"
   ]
  }
 ],
 "metadata": {
  "kernelspec": {
   "display_name": "Python 3",
   "language": "python",
   "name": "python3"
  },
  "language_info": {
   "codemirror_mode": {
    "name": "ipython",
    "version": 3
   },
   "file_extension": ".py",
   "mimetype": "text/x-python",
   "name": "python",
   "nbconvert_exporter": "python",
   "pygments_lexer": "ipython3",
   "version": "3.7.3"
  }
 },
 "nbformat": 4,
 "nbformat_minor": 2
}
