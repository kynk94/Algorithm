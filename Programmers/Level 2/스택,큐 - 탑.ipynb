{
 "cells": [
  {
   "cell_type": "markdown",
   "metadata": {},
   "source": [
    "<div class=\"guide-section-description\">\n",
    "      <h6 class=\"guide-section-title\">문제 설명</h6>\n",
    "      <div class=\"markdown solarized-dark\"><p>수평 직선에 탑 N대를 세웠습니다. 모든 탑의 꼭대기에는 신호를 송/수신하는 장치를 설치했습니다. 발사한 신호는 신호를 보낸 탑보다 높은 탑에서만 수신합니다. 또한, 한 번 수신된 신호는 다른 탑으로 송신되지 않습니다.</p>\n",
    "\n",
    "<p>예를 들어 높이가 6, 9, 5, 7, 4인 다섯 탑이 왼쪽으로 동시에 레이저 신호를 발사합니다. 그러면, 탑은 다음과 같이 신호를 주고받습니다. 높이가 4인 다섯 번째 탑에서 발사한 신호는 높이가 7인 네 번째 탑이 수신하고, 높이가 7인 네 번째 탑의 신호는 높이가 9인 두 번째 탑이, 높이가 5인 세 번째 탑의 신호도 높이가 9인 두 번째 탑이 수신합니다. 높이가 9인 두 번째 탑과 높이가 6인 첫 번째 탑이 보낸 레이저 신호는 어떤 탑에서도 수신할 수 없습니다.</p>\n",
    "<table>\n",
    "        <thead><tr>\n",
    "<th>송신 탑(높이)</th>\n",
    "<th>수신 탑(높이)</th>\n",
    "</tr>\n",
    "</thead>\n",
    "        <tbody><tr>\n",
    "<td>5(4)</td>\n",
    "<td>4(7)</td>\n",
    "</tr>\n",
    "<tr>\n",
    "<td>4(7)</td>\n",
    "<td>2(9)</td>\n",
    "</tr>\n",
    "<tr>\n",
    "<td>3(5)</td>\n",
    "<td>2(9)</td>\n",
    "</tr>\n",
    "<tr>\n",
    "<td>2(9)</td>\n",
    "<td>-</td>\n",
    "</tr>\n",
    "<tr>\n",
    "<td>1(6)</td>\n",
    "<td>-</td>\n",
    "</tr>\n",
    "</tbody>\n",
    "      </table>\n",
    "<p>맨 왼쪽부터 순서대로 탑의 높이를 담은 배열 heights가 매개변수로 주어질 때 각 탑이 쏜 신호를 어느 탑에서 받았는지 기록한 배열을 return 하도록 solution 함수를 작성해주세요.</p>\n",
    "\n",
    "<h5>제한 사항</h5>\n",
    "\n",
    "<ul>\n",
    "<li>heights는 길이 2 이상 100 이하인 정수 배열입니다.</li>\n",
    "<li>모든 탑의 높이는 1 이상 100 이하입니다.</li>\n",
    "<li>신호를 수신하는 탑이 없으면 0으로 표시합니다.</li>\n",
    "</ul>\n",
    "\n",
    "<h5>입출력 예</h5>\n",
    "<table>\n",
    "        <thead><tr>\n",
    "<th>heights</th>\n",
    "<th>return</th>\n",
    "</tr>\n",
    "</thead>\n",
    "        <tbody><tr>\n",
    "<td>[6,9,5,7,4]</td>\n",
    "<td>[0,0,2,2,4]</td>\n",
    "</tr>\n",
    "<tr>\n",
    "<td>[3,9,9,3,5,7,2]</td>\n",
    "<td>[0,0,0,3,3,3,6]</td>\n",
    "</tr>\n",
    "<tr>\n",
    "<td>[1,5,3,6,7,6,5]</td>\n",
    "<td>[0,0,2,0,0,5,6]</td>\n",
    "</tr>\n",
    "</tbody>\n",
    "      </table>\n",
    "<h5>입출력 예 설명</h5>\n",
    "\n",
    "<p>입출력 예 #1<br>\n",
    "앞서 설명한 예와 같습니다.</p>\n",
    "\n",
    "<p>입출력 예 #2</p>\n",
    "\n",
    "<p>[1,2,3] 번째 탑이 쏜 신호는 아무도 수신하지 않습니다.<br>\n",
    "[4,5,6] 번째 탑이 쏜 신호는 3번째 탑이 수신합니다.<br>\n",
    "[7] 번째 탑이 쏜 신호는 6번째 탑이 수신합니다.</p>\n",
    "\n",
    "<p>입출력 예 #3</p>\n",
    "\n",
    "<p>[1,2,4,5] 번째 탑이 쏜 신호는 아무도 수신하지 않습니다.<br>\n",
    "[3] 번째 탑이 쏜 신호는 2번째 탑이 수신합니다.<br>\n",
    "[6] 번째 탑이 쏜 신호는 5번째 탑이 수신합니다.<br>\n",
    "[7] 번째 탑이 쏜 신호는 6번째 탑이 수신합니다.<br>\n",
    "\f",
    "<br>\n",
    "<a href=\"https://www.digitalculture.or.kr/koi/selectOlymPiadDissentList.do\" target=\"_blank\" rel=\"noopener\">출처</a></p>\n",
    "</div>\n",
    "    </div>"
   ]
  },
  {
   "cell_type": "code",
   "execution_count": 1,
   "metadata": {},
   "outputs": [],
   "source": [
    "def solution_1(heights):\n",
    "    h = heights[::-1]\n",
    "    n = len(h)\n",
    "    res = []\n",
    "    for i in range(n - 1):\n",
    "        for j in range(1, n - i):\n",
    "            if h[i] < h[i + j]:\n",
    "                res.append(n - (i + j))\n",
    "                break\n",
    "        else:\n",
    "            res.append(0)\n",
    "    else:\n",
    "        res.append(0)\n",
    "    return res[::-1]"
   ]
  },
  {
   "cell_type": "code",
   "execution_count": 2,
   "metadata": {},
   "outputs": [],
   "source": [
    "def solution_2(heights):\n",
    "    n = len(heights)\n",
    "    res = [0] * n\n",
    "    for i in range(n - 1, 0, -1):\n",
    "        for j in range(i, 0, -1):\n",
    "            if heights[i] < heights[j - 1]:\n",
    "                res[i] = j\n",
    "                break\n",
    "    return res"
   ]
  },
  {
   "cell_type": "code",
   "execution_count": 3,
   "metadata": {},
   "outputs": [
    {
     "name": "stdout",
     "output_type": "stream",
     "text": [
      "4.91 µs ± 486 ns per loop (mean ± std. dev. of 100 runs, 10000 loops each)\n",
      "4.01 µs ± 382 ns per loop (mean ± std. dev. of 100 runs, 10000 loops each)\n"
     ]
    }
   ],
   "source": [
    "%timeit -n 10000 -r 100 solution_1([1, 5, 3, 6, 7, 6, 5])\n",
    "%timeit -n 10000 -r 100 solution_2([1, 5, 3, 6, 7, 6, 5])"
   ]
  }
 ],
 "metadata": {
  "kernelspec": {
   "display_name": "Python 3",
   "language": "python",
   "name": "python3"
  },
  "language_info": {
   "codemirror_mode": {
    "name": "ipython",
    "version": 3
   },
   "file_extension": ".py",
   "mimetype": "text/x-python",
   "name": "python",
   "nbconvert_exporter": "python",
   "pygments_lexer": "ipython3",
   "version": "3.7.3"
  }
 },
 "nbformat": 4,
 "nbformat_minor": 2
}
