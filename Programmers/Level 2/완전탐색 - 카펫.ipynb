{
 "cells": [
  {
   "cell_type": "markdown",
   "metadata": {},
   "source": [
    "<div class=\"guide-section-description\">\n",
    "      <h6 class=\"guide-section-title\">문제 설명</h6>\n",
    "      <div class=\"markdown solarized-dark\"><p>Leo는 카펫을 사러 갔다가 아래 그림과 같이 중앙에는 빨간색으로 칠해져 있고 모서리는 갈색으로 칠해져 있는 격자 모양 카펫을 봤습니다.</p>\n",
    "\n",
    "<p><img src=\"https://grepp-programmers.s3.amazonaws.com/files/ybm/7c94563a35/2ff27ac9-97d0-43a9-9cf8-a344b8e7912e.png\" title=\"\" alt=\"image.png\"></p>\n",
    "\n",
    "<p>Leo는 집으로 돌아와서 아까 본 카펫의 빨간색과 갈색으로 색칠된 격자의 개수는 기억했지만, 전체 카펫의 크기는 기억하지 못했습니다.</p>\n",
    "\n",
    "<p>Leo가 본 카펫에서 갈색 격자의 수 brown, 빨간색 격자의 수 red가 매개변수로 주어질 때 카펫의 가로, 세로 크기를 순서대로 배열에 담아 return 하도록 solution 함수를 작성해주세요.</p>\n",
    "\n",
    "<h5>제한사항</h5>\n",
    "\n",
    "<ul>\n",
    "<li>갈색 격자의 수 brown은 8 이상 5,000 이하인 자연수입니다.</li>\n",
    "<li>빨간색 격자의 수 red는 1 이상 2,000,000 이하인 자연수입니다.</li>\n",
    "<li>카펫의 가로 길이는 세로 길이와 같거나, 세로 길이보다 깁니다.</li>\n",
    "</ul>\n",
    "\n",
    "<h5>입출력 예</h5>\n",
    "<table>\n",
    "        <thead><tr>\n",
    "<th>brown</th>\n",
    "<th>red</th>\n",
    "<th>return</th>\n",
    "</tr>\n",
    "</thead>\n",
    "        <tbody><tr>\n",
    "<td>10</td>\n",
    "<td>2</td>\n",
    "<td>[4, 3]</td>\n",
    "</tr>\n",
    "<tr>\n",
    "<td>8</td>\n",
    "<td>1</td>\n",
    "<td>[3, 3]</td>\n",
    "</tr>\n",
    "<tr>\n",
    "<td>24</td>\n",
    "<td>24</td>\n",
    "<td>[8, 6]</td>\n",
    "</tr>\n",
    "</tbody>\n",
    "      </table>\n",
    "<p><a href=\"http://hsin.hr/coci/archive/2010_2011/contest4_tasks.pdf\" target=\"_blank\" rel=\"noopener\">출처</a></p>\n",
    "</div>\n",
    "    </div>"
   ]
  },
  {
   "cell_type": "markdown",
   "metadata": {},
   "source": [
    "## 수학 풀이\n",
    "red = (x-2) * (y-2) = xy - 2x - 2y + 4  \n",
    "brown = 2x + 2y - 4  \n",
    "red + brown = xy  \n",
    "b = x + y  \n",
    "c = xy  \n",
    "c = bx - x^2  \n",
    "\n",
    "위로부터 방정식  \n",
    "x^2 - bx + c = 0 을 얻을 수 있다.  \n",
    "이 방정식의 두 근은 x, y이다.  \n",
    "\n",
    "x = (b + sqrt(b^2 - 4c)) / 2  \n",
    "y = (b - sqrt(b^2 - 4c)) / 2"
   ]
  },
  {
   "cell_type": "code",
   "execution_count": 1,
   "metadata": {},
   "outputs": [],
   "source": [
    "def solution_1(brown, red):\n",
    "    b = 2 + brown / 2\n",
    "    c = brown + red\n",
    "    sqrt = pow(pow(b, 2) - 4 * c, 0.5)\n",
    "    x = int((b + sqrt) / 2)\n",
    "    y = int((b - sqrt) / 2)\n",
    "    return [x, y]"
   ]
  },
  {
   "cell_type": "code",
   "execution_count": 2,
   "metadata": {},
   "outputs": [],
   "source": [
    "def solution_2(brown, red):\n",
    "    for i in range(1, int(pow(red, 0.5) + 1)):\n",
    "        if red % i == 0:\n",
    "            if 2*(i + red // i) == brown-4:\n",
    "                x = red // i + 2\n",
    "                y = i + 2\n",
    "                return [x, y]"
   ]
  },
  {
   "cell_type": "code",
   "execution_count": 3,
   "metadata": {},
   "outputs": [],
   "source": [
    "def solution_3(brown, red):\n",
    "    nm = brown + red\n",
    "    for n in range(1, nm + 1):\n",
    "        if nm % n != 0:\n",
    "            continue\n",
    "        m = nm // n\n",
    "        if (n - 2) * (m - 2) == red:\n",
    "            return sorted([n, m], reverse = True)"
   ]
  },
  {
   "cell_type": "code",
   "execution_count": 4,
   "metadata": {},
   "outputs": [],
   "source": [
    "def make_test(n=10):\n",
    "    import random\n",
    "    test_case = []\n",
    "    while len(test_case) < n:\n",
    "        y = random.randint(1, 440)\n",
    "        x = random.randint(y, 4563)\n",
    "        brown = (x + y - 2) * 2\n",
    "        red = (x - 2) * (y - 2)\n",
    "        test_case.append((brown, red))\n",
    "    return test_case"
   ]
  },
  {
   "cell_type": "code",
   "execution_count": 5,
   "metadata": {},
   "outputs": [],
   "source": [
    "test_case = make_test(30)"
   ]
  },
  {
   "cell_type": "code",
   "execution_count": 6,
   "metadata": {},
   "outputs": [
    {
     "name": "stdout",
     "output_type": "stream",
     "text": [
      "95.4 µs ± 13.6 µs per loop (mean ± std. dev. of 10 runs, 1000 loops each)\n",
      "1.25 ms ± 24.8 µs per loop (mean ± std. dev. of 10 runs, 1000 loops each)\n",
      "1.36 ms ± 32.9 µs per loop (mean ± std. dev. of 10 runs, 1000 loops each)\n"
     ]
    }
   ],
   "source": [
    "%timeit -n 1000 -r 10 [solution_1(c[0], c[1]) for c in test_case]\n",
    "%timeit -n 1000 -r 10 [solution_2(c[0], c[1]) for c in test_case]\n",
    "%timeit -n 1000 -r 10 [solution_3(c[0], c[1]) for c in test_case]"
   ]
  }
 ],
 "metadata": {
  "kernelspec": {
   "display_name": "Python 3",
   "language": "python",
   "name": "python3"
  },
  "language_info": {
   "codemirror_mode": {
    "name": "ipython",
    "version": 3
   },
   "file_extension": ".py",
   "mimetype": "text/x-python",
   "name": "python",
   "nbconvert_exporter": "python",
   "pygments_lexer": "ipython3",
   "version": "3.7.3"
  }
 },
 "nbformat": 4,
 "nbformat_minor": 2
}
