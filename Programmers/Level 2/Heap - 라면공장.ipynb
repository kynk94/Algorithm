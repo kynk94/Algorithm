{
 "cells": [
  {
   "cell_type": "markdown",
   "metadata": {},
   "source": [
    "<div class=\"guide-section-description\">\n",
    "      <h6 class=\"guide-section-title\">문제 설명</h6>\n",
    "      <div class=\"markdown solarized-dark\"><p>라면 공장에서는 하루에 밀가루를 1톤씩 사용합니다. 원래 밀가루를 공급받던 공장의 고장으로 앞으로 k일 이후에야 밀가루를 공급받을 수 있기 때문에 해외 공장에서 밀가루를 수입해야 합니다.</p>\n",
    "\n",
    "<p>해외 공장에서는 향후 밀가루를 공급할 수 있는 날짜와 수량을 알려주었고, 라면 공장에서는 운송비를 줄이기 위해 최소한의 횟수로 밀가루를 공급받고 싶습니다.</p>\n",
    "\n",
    "<p>현재 공장에 남아있는 밀가루 수량 stock, 밀가루 공급 일정(dates)과 해당 시점에 공급 가능한 밀가루 수량(supplies), 원래 공장으로부터 공급받을 수 있는 시점 k가 주어질 때, 밀가루가 떨어지지 않고 공장을 운영하기 위해서 최소한 몇 번 해외 공장으로부터 밀가루를 공급받아야 하는지를 return 하도록 solution 함수를 완성하세요.</p>\n",
    "\n",
    "<p>dates[i]에는 i번째 공급 가능일이 들어있으며, supplies[i]에는 dates[i] 날짜에 공급 가능한 밀가루 수량이 들어 있습니다.</p>\n",
    "\n",
    "<h5>제한사항</h5>\n",
    "\n",
    "<ul>\n",
    "<li>stock에 있는 밀가루는 오늘(0일 이후)부터 사용됩니다.</li>\n",
    "<li>stock과 k는 2 이상 100,000 이하입니다.</li>\n",
    "<li>dates의 각 원소는 1 이상 k 이하입니다.</li>\n",
    "<li>supplies의 각 원소는 1 이상 1,000 이하입니다.</li>\n",
    "<li>dates와 supplies의 길이는 1 이상 20,000 이하입니다.</li>\n",
    "<li>k일 째에는 밀가루가 충분히 공급되기 때문에 k-1일에 사용할 수량까지만 확보하면 됩니다.</li>\n",
    "<li>dates에 들어있는 날짜는 오름차순 정렬되어 있습니다.</li>\n",
    "<li>dates에 들어있는 날짜에 공급되는 밀가루는 작업 시작 전 새벽에 공급되는 것을 기준으로 합니다. 예를 들어 9일째에 밀가루가 바닥나더라도, 10일째에 공급받으면 10일째에는 공장을 운영할 수 있습니다.</li>\n",
    "<li>밀가루가 바닥나는 경우는 주어지지 않습니다.</li>\n",
    "</ul>\n",
    "\n",
    "<h5>입출력 예</h5>\n",
    "<table>\n",
    "        <thead><tr>\n",
    "<th>stock</th>\n",
    "<th>dates</th>\n",
    "<th>supplies</th>\n",
    "<th>k</th>\n",
    "<th>result</th>\n",
    "</tr>\n",
    "</thead>\n",
    "        <tbody><tr>\n",
    "<td>4</td>\n",
    "<td>[4,10,15]</td>\n",
    "<td>[20,5,10]</td>\n",
    "<td>30</td>\n",
    "<td>2</td>\n",
    "</tr>\n",
    "</tbody>\n",
    "      </table>\n",
    "<h5>입출력 예 설명</h5>\n",
    "\n",
    "<ul>\n",
    "<li>현재 밀가루가 4톤 남아 있기 때문에 오늘과 1일 후~3일 후까지 사용하고 나면 모든 밀가루를 다 사용합니다. 따라서 4일 후에는 반드시 밀가루를 공급받아야 합니다.</li>\n",
    "<li>4일째 공급받고 나면 15일 이후 아침에는 9톤의 밀가루가 남아있게 되고, 이때 10톤을 더 공급받으면 19톤이 남아있게 됩니다. 15일 이후부터 29일 이후까지 필요한 밀가루는 15톤이므로 더 이상의 공급은 필요 없습니다.</li>\n",
    "<li>따라서 총 2회의 밀가루를 공급받으면 됩니다.</li>\n",
    "</ul>\n",
    "\n",
    "<p>※ 공지 - 2019년 2월 28일 테스트케이스가 추가되었습니다.</p>\n",
    "</div>\n",
    "    </div>"
   ]
  },
  {
   "cell_type": "markdown",
   "metadata": {},
   "source": [
    "## 한번 꼬아서\n",
    "공급가능할 때 바로 받을지 말지 결정하지 않고  \n",
    "받지 말고 기다리다가 필요할 때 공급가능했던 것들 중의 최대값을 받는다."
   ]
  },
  {
   "cell_type": "code",
   "execution_count": 1,
   "metadata": {},
   "outputs": [],
   "source": [
    "def solution_1(stock, dates, supplies, k):\n",
    "    import heapq\n",
    "    ################## 풀이에 필요없는 부분 ###################\n",
    "    # pop 때문에 test case 실행 시 오류가 발생하므로 copy한다.#\n",
    "    import copy\n",
    "    dates = dates.copy()\n",
    "    supplies = supplies.copy()\n",
    "    ###########################################################\n",
    "    day = 0\n",
    "    answer = 0\n",
    "    heap = []\n",
    "    while day < k:\n",
    "        if dates and day == dates[0]:\n",
    "            dates.pop(0)\n",
    "            s = supplies.pop(0)\n",
    "            heapq.heappush(heap, (-s, s))\n",
    "        if stock == 0:\n",
    "            stock += heapq.heappop(heap)[1]\n",
    "            answer += 1\n",
    "        stock -= 1\n",
    "        day += 1\n",
    "    return answer"
   ]
  },
  {
   "cell_type": "markdown",
   "metadata": {},
   "source": [
    "### list가 짧으면 pop이 빠르지만,\n",
    "### list가 길수록 pop보다 indexing이 빠르다"
   ]
  },
  {
   "cell_type": "code",
   "execution_count": 2,
   "metadata": {},
   "outputs": [],
   "source": [
    "def solution_2(stock, dates, supplies, k):\n",
    "    import heapq\n",
    "    day = 0\n",
    "    answer = 0\n",
    "    idx = 0\n",
    "    n = len(dates)\n",
    "    heap = []\n",
    "    while day < k:\n",
    "        if idx < n and day == dates[idx]:\n",
    "            s = supplies[idx]\n",
    "            heapq.heappush(heap, (-s, s))\n",
    "            idx += 1\n",
    "        if stock == 0:\n",
    "            stock += heapq.heappop(heap)[1]\n",
    "            answer += 1\n",
    "        if stock >= k:\n",
    "            break\n",
    "        stock -= 1\n",
    "        day += 1\n",
    "    return answer"
   ]
  },
  {
   "cell_type": "markdown",
   "metadata": {},
   "source": [
    "## 두번 꼬아서\n",
    "날짜가 가는 것을 기다리지 말고  \n",
    "저장량을 직접 체크한다"
   ]
  },
  {
   "cell_type": "code",
   "execution_count": 3,
   "metadata": {},
   "outputs": [],
   "source": [
    "def solution_3(stock, dates, supplies, k):\n",
    "    import heapq\n",
    "    answer = 0\n",
    "    idx = 0\n",
    "    heap = []\n",
    "    while stock < k:\n",
    "        i = idx\n",
    "        for i in range(idx, len(dates)):\n",
    "            if dates[i] <= stock:\n",
    "                heapq.heappush(heap, -supplies[i])\n",
    "            else:\n",
    "                break\n",
    "        idx = i\n",
    "        stock -= heapq.heappop(heap)\n",
    "        answer += 1\n",
    "    return answer"
   ]
  },
  {
   "cell_type": "code",
   "execution_count": 4,
   "metadata": {},
   "outputs": [],
   "source": [
    "import copy\n",
    "import heapq\n",
    "\n",
    "test_case = []\n",
    "test_case.append((4, [4, 10, 15], [20, 5, 10], 30))\n",
    "test_case.append((4, [1, 2, 3, 4], [10, 40, 30, 20], 100))"
   ]
  },
  {
   "cell_type": "code",
   "execution_count": 5,
   "metadata": {},
   "outputs": [
    {
     "name": "stdout",
     "output_type": "stream",
     "text": [
      "23.4 µs ± 1.69 µs per loop (mean ± std. dev. of 7 runs, 10000 loops each)\n",
      "25.9 µs ± 1.74 µs per loop (mean ± std. dev. of 7 runs, 10000 loops each)\n",
      "8.1 µs ± 265 ns per loop (mean ± std. dev. of 7 runs, 100000 loops each)\n"
     ]
    }
   ],
   "source": [
    "%timeit [solution_1(case[0], case[1], case[2], case[3]) for case in test_case]  # 효율성 전체 불통, test case가 짧을 때는 빠름\n",
    "%timeit [solution_2(case[0], case[1], case[2], case[3]) for case in test_case]  # 효율성 3번 불통\n",
    "%timeit [solution_3(case[0], case[1], case[2], case[3]) for case in test_case]"
   ]
  }
 ],
 "metadata": {
  "kernelspec": {
   "display_name": "Python 3",
   "language": "python",
   "name": "python3"
  },
  "language_info": {
   "codemirror_mode": {
    "name": "ipython",
    "version": 3
   },
   "file_extension": ".py",
   "mimetype": "text/x-python",
   "name": "python",
   "nbconvert_exporter": "python",
   "pygments_lexer": "ipython3",
   "version": "3.7.3"
  }
 },
 "nbformat": 4,
 "nbformat_minor": 2
}
