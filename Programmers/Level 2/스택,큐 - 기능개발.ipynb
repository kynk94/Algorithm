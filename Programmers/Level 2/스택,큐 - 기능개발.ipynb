{
 "cells": [
  {
   "cell_type": "markdown",
   "metadata": {},
   "source": [
    "<div class=\"guide-section-description\">\n",
    "      <h6 class=\"guide-section-title\">문제 설명</h6>\n",
    "      <div class=\"markdown solarized-dark\"><p>프로그래머스 팀에서는 기능 개선 작업을 수행 중입니다. 각 기능은 진도가 100%일 때 서비스에 반영할 수 있습니다.</p>\n",
    "\n",
    "<p>또, 각 기능의 개발속도는 모두 다르기 때문에 뒤에 있는 기능이 앞에 있는 기능보다 먼저 개발될 수 있고, 이때 뒤에 있는 기능은 앞에 있는 기능이 배포될 때 함께 배포됩니다.</p>\n",
    "\n",
    "<p>먼저 배포되어야 하는 순서대로 작업의 진도가 적힌 정수 배열 progresses와 각 작업의 개발 속도가 적힌 정수 배열 speeds가 주어질 때 각 배포마다 몇 개의 기능이 배포되는지를 return 하도록 solution 함수를 완성하세요.</p>\n",
    "\n",
    "<h5>제한 사항</h5>\n",
    "\n",
    "<ul>\n",
    "<li>작업의 개수(progresses, speeds배열의 길이)는 100개 이하입니다.</li>\n",
    "<li>작업 진도는 100 미만의 자연수입니다.</li>\n",
    "<li>작업 속도는 100 이하의 자연수입니다.</li>\n",
    "<li>배포는 하루에 한 번만 할 수 있으며, 하루의 끝에 이루어진다고 가정합니다. 예를 들어 진도율이 95%인 작업의 개발 속도가 하루에 4%라면 배포는 2일 뒤에 이루어집니다.</li>\n",
    "</ul>\n",
    "\n",
    "<h5>입출력 예</h5>\n",
    "<table>\n",
    "        <thead><tr>\n",
    "<th>progresses</th>\n",
    "<th>speeds</th>\n",
    "<th>return</th>\n",
    "</tr>\n",
    "</thead>\n",
    "        <tbody><tr>\n",
    "<td>[93,30,55]</td>\n",
    "<td>[1,30,5]</td>\n",
    "<td>[2,1]</td>\n",
    "</tr>\n",
    "</tbody>\n",
    "      </table>\n",
    "<h5>입출력 예 설명</h5>\n",
    "\n",
    "<p>첫 번째 기능은 93% 완료되어 있고 하루에 1%씩 작업이 가능하므로 7일간 작업 후 배포가 가능합니다.<br>\n",
    "두 번째 기능은 30%가 완료되어 있고 하루에 30%씩 작업이 가능하므로 3일간 작업 후 배포가 가능합니다. 하지만 이전 첫 번째 기능이 아직 완성된 상태가 아니기 때문에 첫 번째 기능이 배포되는 7일째 배포됩니다.<br>\n",
    "세 번째 기능은 55%가 완료되어 있고 하루에 5%씩 작업이 가능하므로 9일간 작업 후 배포가 가능합니다. </p>\n",
    "\n",
    "<p>따라서 7일째에 2개의 기능, 9일째에 1개의 기능이 배포됩니다.</p>\n",
    "</div>\n",
    "    </div>"
   ]
  },
  {
   "cell_type": "code",
   "execution_count": 1,
   "metadata": {},
   "outputs": [],
   "source": [
    "def solution_1(progresses, speeds):\n",
    "    res = []\n",
    "    while len(progresses) > 0:\n",
    "        while progresses[0] < 100:\n",
    "            for i in range(len(progresses)):\n",
    "                progresses[i] += speeds[i]\n",
    "        count = 0\n",
    "        for i in progresses:\n",
    "            if i < 100:\n",
    "                break\n",
    "            count += i >= 100\n",
    "        res.append(count)\n",
    "        progresses = progresses[count:]\n",
    "        speeds = speeds[count:]\n",
    "    return res"
   ]
  },
  {
   "cell_type": "code",
   "execution_count": 2,
   "metadata": {},
   "outputs": [],
   "source": [
    "def solution_2(progresses, speeds):\n",
    "    import math\n",
    "    res = []\n",
    "    for p, s in zip(progresses, speeds):\n",
    "        day = math.ceil((100 - p) / s)  # 남은 날짜 계산\n",
    "        if len(res) == 0 or res[-1][0] < day:\n",
    "            res.append([day, 1])\n",
    "        else:\n",
    "            res[-1][1] += 1\n",
    "    return [r[1] for r in res]"
   ]
  },
  {
   "cell_type": "code",
   "execution_count": 3,
   "metadata": {},
   "outputs": [],
   "source": [
    "def solution_3(progresses, speeds):\n",
    "    res = []\n",
    "    for p, s in zip(progresses, speeds):\n",
    "        day = (100 - p) // s  # 남은 날짜 계산\n",
    "        if len(res) == 0 or res[-1][0] < day:\n",
    "            res.append([day, 1])\n",
    "        else:\n",
    "            res[-1][1] += 1\n",
    "    return [r[1] for r in res]"
   ]
  },
  {
   "cell_type": "code",
   "execution_count": 4,
   "metadata": {},
   "outputs": [],
   "source": [
    "p = [93, 30, 55]\n",
    "s = [1, 30, 5]"
   ]
  },
  {
   "cell_type": "code",
   "execution_count": 5,
   "metadata": {},
   "outputs": [
    {
     "name": "stdout",
     "output_type": "stream",
     "text": [
      "2.9 µs ± 308 ns per loop (mean ± std. dev. of 1000 runs, 1000 loops each)\n",
      "2.75 µs ± 311 ns per loop (mean ± std. dev. of 1000 runs, 1000 loops each)\n",
      "1.94 µs ± 281 ns per loop (mean ± std. dev. of 1000 runs, 1000 loops each)\n"
     ]
    }
   ],
   "source": [
    "%timeit -n 1000 -r 1000 solution_1(p, s)\n",
    "%timeit -n 1000 -r 1000 solution_2(p, s)\n",
    "%timeit -n 1000 -r 1000 solution_3(p, s)"
   ]
  }
 ],
 "metadata": {
  "kernelspec": {
   "display_name": "Python 3",
   "language": "python",
   "name": "python3"
  },
  "language_info": {
   "codemirror_mode": {
    "name": "ipython",
    "version": 3
   },
   "file_extension": ".py",
   "mimetype": "text/x-python",
   "name": "python",
   "nbconvert_exporter": "python",
   "pygments_lexer": "ipython3",
   "version": "3.7.3"
  }
 },
 "nbformat": 4,
 "nbformat_minor": 2
}
