{
 "cells": [
  {
   "cell_type": "markdown",
   "metadata": {},
   "source": [
    "<div class=\"guide-section-description\">\n",
    "      <h6 class=\"guide-section-title\">문제 설명</h6>\n",
    "      <div class=\"markdown solarized-dark\"><p>괄호가 바르게 짝지어졌다는 것은 '(' 문자로 열렸으면 반드시 짝지어서 ')' 문자로 닫혀야 한다는 뜻입니다. 예를 들어</p>\n",
    "\n",
    "<ul>\n",
    "<li><q>()()</q> 또는 <q>(())()</q> 는 올바른 괄호입니다.</li>\n",
    "<li><q>)()(</q> 또는 <q>(()(</q> 는 올바르지 않은 괄호입니다.</li>\n",
    "</ul>\n",
    "\n",
    "<p>'(' 또는 ')' 로만 이루어진 문자열 s가 주어졌을 때, 문자열 s가 올바른 괄호이면 true를 return 하고, 올바르지 않은 괄호이면 false를 return 하는 solution 함수를 완성해 주세요.</p>\n",
    "\n",
    "<h5>제한사항</h5>\n",
    "\n",
    "<ul>\n",
    "<li>문자열 s의 길이 : 100,000 이하의 자연수</li>\n",
    "<li>문자열 s는 '(' 또는 ')' 로만 이루어져 있습니다.</li>\n",
    "</ul>\n",
    "\n",
    "<hr>\n",
    "\n",
    "<h5>입출력 예</h5>\n",
    "<table>\n",
    "        <thead><tr>\n",
    "<th>s</th>\n",
    "<th>answer</th>\n",
    "</tr>\n",
    "</thead>\n",
    "        <tbody><tr>\n",
    "<td><q>()()</q></td>\n",
    "<td>true</td>\n",
    "</tr>\n",
    "<tr>\n",
    "<td><q>(())()</q></td>\n",
    "<td>true</td>\n",
    "</tr>\n",
    "<tr>\n",
    "<td><q>)()(</q></td>\n",
    "<td>false</td>\n",
    "</tr>\n",
    "<tr>\n",
    "<td><q>(()(</q></td>\n",
    "<td>false</td>\n",
    "</tr>\n",
    "</tbody>\n",
    "      </table>\n",
    "<h5>입출력 예 설명</h5>\n",
    "\n",
    "<p>입출력 예 #1,2,3,4<br>\n",
    "문제의 예시와 같습니다.</p>\n",
    "</div>\n",
    "    </div>"
   ]
  },
  {
   "cell_type": "code",
   "execution_count": 1,
   "metadata": {},
   "outputs": [],
   "source": [
    "def solution(s):\n",
    "    count = 0\n",
    "    for i in s:\n",
    "        if i == '(':\n",
    "            count += 1\n",
    "        else:\n",
    "            count -= 1\n",
    "        if count < 0:\n",
    "            return False\n",
    "    return count == 0"
   ]
  }
 ],
 "metadata": {
  "kernelspec": {
   "display_name": "Python 3",
   "language": "python",
   "name": "python3"
  },
  "language_info": {
   "codemirror_mode": {
    "name": "ipython",
    "version": 3
   },
   "file_extension": ".py",
   "mimetype": "text/x-python",
   "name": "python",
   "nbconvert_exporter": "python",
   "pygments_lexer": "ipython3",
   "version": "3.7.3"
  }
 },
 "nbformat": 4,
 "nbformat_minor": 2
}
