{
 "cells": [
  {
   "cell_type": "markdown",
   "metadata": {},
   "source": [
    "<div class=\"guide-section-description\">\n",
    "      <h6 class=\"guide-section-title\">문제 설명</h6>\n",
    "      <div class=\"markdown solarized-dark\"><p>Finn은 요즘 수학공부에 빠져 있습니다. 수학 공부를 하던 Finn은 자연수 n을 연속한 자연수들로 표현 하는 방법이 여러개라는 사실을 알게 되었습니다. 예를들어 15는 다음과 같이 4가지로 표현 할 수 있습니다.</p>\n",
    "\n",
    "<ul>\n",
    "<li>1 + 2 + 3 + 4 + 5 = 15</li>\n",
    "<li>4 + 5 + 6 = 15</li>\n",
    "<li>7 + 8 = 15</li>\n",
    "<li>15 = 15</li>\n",
    "</ul>\n",
    "\n",
    "<p>자연수 n이 매개변수로 주어질 때, 연속된 자연수들로 n을 표현하는 방법의 수를 return하는 solution를 완성해주세요.</p>\n",
    "\n",
    "<h5>제한사항</h5>\n",
    "\n",
    "<ul>\n",
    "<li>n은 10,000 이하의 자연수 입니다.</li>\n",
    "</ul>\n",
    "\n",
    "<hr>\n",
    "\n",
    "<h5>입출력 예</h5>\n",
    "<table>\n",
    "        <thead><tr>\n",
    "<th>n</th>\n",
    "<th>result</th>\n",
    "</tr>\n",
    "</thead>\n",
    "        <tbody><tr>\n",
    "<td>15</td>\n",
    "<td>4</td>\n",
    "</tr>\n",
    "</tbody>\n",
    "      </table>\n",
    "<h5>입출력 예 설명</h5>\n",
    "\n",
    "<p>입출력 예#1<br>\n",
    "문제의 예시와 같습니다.</p>\n",
    "</div>\n",
    "    </div>"
   ]
  },
  {
   "cell_type": "markdown",
   "metadata": {},
   "source": [
    "(1 + b) * b // 2 = 1 ~ b까지 합 <= n  \n",
    "부등식  \n",
    "b^2 + b - 2n <= 0 을 만족하는 b는 다음과 같다.  \n",
    "b = (sqrt(8n + 1) - 1) / 2"
   ]
  },
  {
   "cell_type": "code",
   "execution_count": 1,
   "metadata": {},
   "outputs": [],
   "source": [
    "def solution_1(n):\n",
    "    def con_sum(a, b):\n",
    "        return (a + b) * (b - a + 1) // 2\n",
    "    answer = 0\n",
    "    a = 1\n",
    "    b = (pow(n * 8 + 1, 0.5) - 1) // 2\n",
    "    while b >= a:\n",
    "        cs = con_sum(a, b)\n",
    "        if n == cs:\n",
    "            a += 1\n",
    "            b += 1\n",
    "            answer += 1\n",
    "        elif n > cs:\n",
    "            b += 1\n",
    "        else:\n",
    "            a += 1\n",
    "    return answer"
   ]
  },
  {
   "cell_type": "code",
   "execution_count": 2,
   "metadata": {},
   "outputs": [],
   "source": [
    "def solution_2(n):\n",
    "    answer = 0\n",
    "    for i in range(1, n + 1):\n",
    "        s = 0\n",
    "        while s < n:\n",
    "            s += i\n",
    "            i += 1\n",
    "        if s == n:\n",
    "            answer += 1\n",
    "    return answer"
   ]
  },
  {
   "cell_type": "code",
   "execution_count": 3,
   "metadata": {},
   "outputs": [],
   "source": [
    "def solution_3(n):\n",
    "    return len([i  for i in range(1, n + 1, 2) if n % i is 0])  # 홀수인 약수의 개수"
   ]
  },
  {
   "cell_type": "code",
   "execution_count": 4,
   "metadata": {},
   "outputs": [],
   "source": [
    "def solution_4(n):\n",
    "    return len([i  for i in range(1, n // 2 + 1, 2) if n % i is 0]) + n % 2  # 홀수인 약수의 개수"
   ]
  },
  {
   "cell_type": "markdown",
   "metadata": {},
   "source": [
    "### 예시)  \n",
    "n = 55일 때  \n",
    "홀수인 약수는 1, 5, 11, 55  \n",
    "자기자신인 경우는 예외로 절반을 중심으로 한 합이다.  \n",
    "\n",
    "1 -> <big><big>55</big></big>  \n",
    "5 -> 11+11+<big><big>11</big></big>+11+11  \n",
    "5 -> 9+10+<big><big>11</big></big>+12+13  \n",
    "11 -> 5+5+5+5+5+<big><big>5</big></big>+5+5+5+5+5  \n",
    "11 -> 0+1+2+3+4+<big><big>5</big></big>+6+7+8+9+10  \n",
    "55 -> (55//2) + (55//2+1)  \n",
    "\n",
    "따라서 홀수인 약수의 개수의 합과 동일하다."
   ]
  },
  {
   "cell_type": "code",
   "execution_count": 5,
   "metadata": {},
   "outputs": [],
   "source": [
    "def make_test(n=10):\n",
    "    import numpy as np\n",
    "    return np.random.randint(1, 10001, size=n).tolist()"
   ]
  },
  {
   "cell_type": "code",
   "execution_count": 6,
   "metadata": {},
   "outputs": [],
   "source": [
    "test_case = make_test(100)"
   ]
  },
  {
   "cell_type": "code",
   "execution_count": 7,
   "metadata": {},
   "outputs": [
    {
     "name": "stdout",
     "output_type": "stream",
     "text": [
      "693 ms ± 56 ms per loop (mean ± std. dev. of 7 runs, 1 loop each)\n",
      "362 ms ± 49.7 ms per loop (mean ± std. dev. of 7 runs, 1 loop each)\n",
      "17.6 ms ± 905 µs per loop (mean ± std. dev. of 7 runs, 100 loops each)\n",
      "8.61 ms ± 391 µs per loop (mean ± std. dev. of 7 runs, 100 loops each)\n"
     ]
    }
   ],
   "source": [
    "%timeit [solution_1(case) for case in test_case]\n",
    "%timeit [solution_2(case) for case in test_case]\n",
    "%timeit [solution_3(case) for case in test_case]\n",
    "%timeit [solution_4(case) for case in test_case]"
   ]
  }
 ],
 "metadata": {
  "kernelspec": {
   "display_name": "Python 3",
   "language": "python",
   "name": "python3"
  },
  "language_info": {
   "codemirror_mode": {
    "name": "ipython",
    "version": 3
   },
   "file_extension": ".py",
   "mimetype": "text/x-python",
   "name": "python",
   "nbconvert_exporter": "python",
   "pygments_lexer": "ipython3",
   "version": "3.7.3"
  }
 },
 "nbformat": 4,
 "nbformat_minor": 2
}
