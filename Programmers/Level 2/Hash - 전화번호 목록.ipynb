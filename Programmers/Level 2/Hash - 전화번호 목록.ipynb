{
 "cells": [
  {
   "cell_type": "markdown",
   "metadata": {},
   "source": [
    "<div class=\"guide-section-description\">\n",
    "      <h6 class=\"guide-section-title\">문제 설명</h6>\n",
    "      <div class=\"markdown solarized-dark\"><p>전화번호부에 적힌 전화번호 중, 한 번호가 다른 번호의 접두어인 경우가 있는지 확인하려 합니다.<br>\n",
    "전화번호가 다음과 같을 경우, 구조대 전화번호는 영석이의 전화번호의 접두사입니다.</p>\n",
    "\n",
    "<ul>\n",
    "<li>구조대 : 119</li>\n",
    "<li>박준영 : 97 674 223</li>\n",
    "<li>지영석 : 11 9552 4421</li>\n",
    "</ul>\n",
    "\n",
    "<p>전화번호부에 적힌 전화번호를 담은 배열 phone_book 이 solution 함수의 매개변수로 주어질 때, 어떤 번호가 다른 번호의 접두어인 경우가 있으면 false를 그렇지 않으면 true를 return 하도록 solution 함수를 작성해주세요.</p>\n",
    "\n",
    "<h5>제한 사항</h5>\n",
    "\n",
    "<ul>\n",
    "<li>phone_book의 길이는 1 이상 1,000,000 이하입니다.</li>\n",
    "<li>각 전화번호의 길이는 1 이상 20 이하입니다.</li>\n",
    "</ul>\n",
    "\n",
    "<h5>입출력 예제</h5>\n",
    "<table>\n",
    "        <thead><tr>\n",
    "<th>phone_book</th>\n",
    "<th>return</th>\n",
    "</tr>\n",
    "</thead>\n",
    "        <tbody><tr>\n",
    "<td>[<q>119</q>, <q>97674223</q>, <q>1195524421</q>]</td>\n",
    "<td>false</td>\n",
    "</tr>\n",
    "<tr>\n",
    "<td>[<q>123</q>,<q>456</q>,<q>789</q>]</td>\n",
    "<td>true</td>\n",
    "</tr>\n",
    "<tr>\n",
    "<td>[<q>12</q>,<q>123</q>,<q>1235</q>,<q>567</q>,<q>88</q>]</td>\n",
    "<td>false</td>\n",
    "</tr>\n",
    "</tbody>\n",
    "      </table>\n",
    "<h5>입출력 예 설명</h5>\n",
    "\n",
    "<p>입출력 예 #1<br>\n",
    "앞에서 설명한 예와 같습니다.</p>\n",
    "\n",
    "<p>입출력 예 #2<br>\n",
    "한 번호가 다른 번호의 접두사인 경우가 없으므로, 답은 true입니다.</p>\n",
    "\n",
    "<p>입출력 예 #3<br>\n",
    "첫 번째 전화번호, “12”가 두 번째 전화번호 “123”의 접두사입니다. 따라서 답은 false입니다.</p>\n",
    "\n",
    "<hr>\n",
    "\n",
    "<p><strong>알림</strong></p>\n",
    "\n",
    "<p>2019년 5월 13일, 테스트 케이스가 변경되었습니다.  이로 인해 이전에 통과하던 코드가 더 이상 통과하지 않을 수 있습니다.</p>\n",
    "\n",
    "<p><a href=\"https://ncpc.idi.ntnu.no/ncpc2007/ncpc2007problems.pdf\" target=\"_blank\" rel=\"noopener\">출처</a></p>\n",
    "</div>\n",
    "    </div>"
   ]
  },
  {
   "cell_type": "code",
   "execution_count": 1,
   "metadata": {},
   "outputs": [],
   "source": [
    "def solution_1(phone_book):\n",
    "    phone_len = [len(i) for i in phone_book]\n",
    "    phone_len, phone_book = (list(i) for i in zip(*sorted(zip(phone_len, phone_book))))\n",
    "    for i,j in enumerate(phone_book):\n",
    "        for k in phone_book[i + 1:]:\n",
    "            if j == k[:phone_len[i]]:\n",
    "                return False\n",
    "    else:\n",
    "        return True"
   ]
  },
  {
   "cell_type": "code",
   "execution_count": 2,
   "metadata": {},
   "outputs": [],
   "source": [
    "def solution_2(phone_book):\n",
    "    phone_book.sort()\n",
    "    for p1, p2 in zip(phone_book, phone_book[1:]):\n",
    "        if p2.startswith(p1):\n",
    "            return False\n",
    "    return True"
   ]
  },
  {
   "cell_type": "code",
   "execution_count": 3,
   "metadata": {},
   "outputs": [],
   "source": [
    "def make_test(length=10):\n",
    "    import random\n",
    "    test_case = []\n",
    "    while len(test_case) < length:\n",
    "        test_case.append([str(random.randrange(pow(10, 11))) for i in range(pow(10, 3))])\n",
    "    return test_case\n",
    "test_case = make_test()"
   ]
  },
  {
   "cell_type": "code",
   "execution_count": 4,
   "metadata": {},
   "outputs": [
    {
     "name": "stdout",
     "output_type": "stream",
     "text": [
      "633 ms ± 36.2 ms per loop (mean ± std. dev. of 2 runs, 5 loops each)\n",
      "1.86 ms ± 255 µs per loop (mean ± std. dev. of 2 runs, 5 loops each)\n"
     ]
    }
   ],
   "source": [
    "%timeit -n 5 -r 2 [solution_1(i) for i in test_case]\n",
    "%timeit -n 5 -r 2 [solution_2(i) for i in test_case]"
   ]
  }
 ],
 "metadata": {
  "kernelspec": {
   "display_name": "Python 3",
   "language": "python",
   "name": "python3"
  },
  "language_info": {
   "codemirror_mode": {
    "name": "ipython",
    "version": 3
   },
   "file_extension": ".py",
   "mimetype": "text/x-python",
   "name": "python",
   "nbconvert_exporter": "python",
   "pygments_lexer": "ipython3",
   "version": "3.7.3"
  }
 },
 "nbformat": 4,
 "nbformat_minor": 2
}
