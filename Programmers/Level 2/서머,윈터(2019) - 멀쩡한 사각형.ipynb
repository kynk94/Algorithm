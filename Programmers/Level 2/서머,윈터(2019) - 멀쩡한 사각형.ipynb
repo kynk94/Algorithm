{
 "cells": [
  {
   "cell_type": "markdown",
   "metadata": {},
   "source": [
    "<div class=\"guide-section-description\">\n",
    "      <h6 class=\"guide-section-title\">문제 설명</h6>\n",
    "      <div class=\"markdown solarized-dark\"><p>가로 길이가 Wcm, 세로 길이가 Hcm인 직사각형 종이가 있습니다. 종이에는 가로, 세로 방향과 평행하게 격자 형태로 선이 그어져 있으며, 모든 격자칸은 1cm x 1cm 크기입니다. 이 종이를 격자 선을 따라 1cm × 1cm의 정사각형으로 잘라 사용할 예정이었는데, 누군가가 이 종이를 대각선 꼭지점 2개를 잇는 방향으로 잘라 놓았습니다. 그러므로 현재 직사각형 종이는 크기가 같은 직각삼각형 2개로 나누어진 상태입니다. 새로운 종이를 구할 수 없는 상태이기 때문에, 이 종이에서 원래 종이의 가로, 세로 방향과 평행하게 1cm × 1cm로 잘라 사용할 수 있는 만큼만 사용하기로 하였습니다. <br>\n",
    "가로의 길이 W와 세로의 길이 H가 주어질 때, 사용할 수 있는 정사각형의 개수를 구하는 solution 함수를 완성해 주세요.</p>\n",
    "\n",
    "<h5>제한사항</h5>\n",
    "\n",
    "<ul>\n",
    "<li>W, H : 1억 이하의 자연수</li>\n",
    "</ul>\n",
    "\n",
    "<h4>입출력 예</h4>\n",
    "<table>\n",
    "        <thead><tr>\n",
    "<th>W</th>\n",
    "<th>H</th>\n",
    "<th>result</th>\n",
    "</tr>\n",
    "</thead>\n",
    "        <tbody><tr>\n",
    "<td>8</td>\n",
    "<td>12</td>\n",
    "<td>80</td>\n",
    "</tr>\n",
    "</tbody>\n",
    "      </table>\n",
    "<h5>입출력 예 설명</h5>\n",
    "\n",
    "<p>입출력 예 #1<br>\n",
    "가로가 8, 세로가 12인 직사각형을 대각선 방향으로 자르면 총 16개 정사각형을 사용할 수 없게 됩니다. 원래 직사각형에서는 96개의 정사각형을 만들 수 있었으므로, 96 - 16 = 80 을 반환합니다.</p>\n",
    "\n",
    "<p><img src=\"https://grepp-programmers.s3.amazonaws.com/files/production/ee895b2cd9/567420db-20f4-4064-afc3-af54c4a46016.png\" title=\"\" alt=\"572957326.92.png\"></p>\n",
    "</div>\n",
    "    </div>"
   ]
  },
  {
   "cell_type": "code",
   "execution_count": 1,
   "metadata": {},
   "outputs": [],
   "source": [
    "import matplotlib.pyplot as plt\n",
    "%matplotlib inline\n",
    "\n",
    "def gcd(n, m):\n",
    "    while m != 0:\n",
    "        r = n % m\n",
    "        n, m = m, r\n",
    "    return n\n",
    "\n",
    "def plot_wh(w, h):\n",
    "    g = gcd(w, h)\n",
    "    w //= g\n",
    "    h //= g\n",
    "    for i in range(h + 1):\n",
    "        plt.plot([0, w], [i, i], c='gray')\n",
    "    for i in range(w + 1):\n",
    "        plt.plot([i, i], [0, h], c='gray')\n",
    "    plt.plot([0, w], [0, h], c='blue')\n",
    "    plt.show()"
   ]
  },
  {
   "cell_type": "code",
   "execution_count": 2,
   "metadata": {},
   "outputs": [
    {
     "data": {
      "image/png": "[encoded data removed]",
      "text/plain": [
       "<Figure size 432x288 with 1 Axes>"
      ]
     },
     "metadata": {
      "needs_background": "light"
     },
     "output_type": "display_data"
    }
   ],
   "source": [
    "w = 7\n",
    "h = 9\n",
    "plot_wh(w,h)"
   ]
  },
  {
   "cell_type": "code",
   "execution_count": 3,
   "metadata": {},
   "outputs": [],
   "source": [
    "def solution_1(w, h):\n",
    "    def gcd(n, m):\n",
    "        while m != 0:\n",
    "            r = n % m\n",
    "            n, m = m, r\n",
    "        return n\n",
    "    if h < w:\n",
    "        h, w = w, h\n",
    "    g = gcd(w, h)\n",
    "    cut = 0\n",
    "    b_cut = 0\n",
    "    count = 0\n",
    "    for x in range(1, w // g + 1):\n",
    "        cut = h * x / w\n",
    "        if cut % 1 == 0:\n",
    "            plus = 0\n",
    "        else:\n",
    "            plus = 1\n",
    "        cut = int(cut)\n",
    "        count += cut - b_cut + plus\n",
    "        b_cut = cut\n",
    "    return w * h - g * count"
   ]
  },
  {
   "cell_type": "code",
   "execution_count": 4,
   "metadata": {},
   "outputs": [],
   "source": [
    "def solution_2(w, h):\n",
    "    def gcd(n, m):\n",
    "        while m != 0:\n",
    "            r = n % m\n",
    "            n, m = m, r\n",
    "        return n\n",
    "    g = gcd(w, h)\n",
    "    return w * h - w - h + g"
   ]
  },
  {
   "cell_type": "code",
   "execution_count": 5,
   "metadata": {},
   "outputs": [],
   "source": [
    "import random\n",
    "def make_test(n=10):\n",
    "    test_case = []\n",
    "    while len(test_case) < n:\n",
    "        w = random.randint(1, pow(10, 8) + 1)\n",
    "        h = random.randint(1, pow(10, 8) + 1)\n",
    "        test_case.append((w, h))\n",
    "    return test_case"
   ]
  },
  {
   "cell_type": "code",
   "execution_count": 6,
   "metadata": {},
   "outputs": [],
   "source": [
    "test_case = make_test(10)"
   ]
  },
  {
   "cell_type": "code",
   "execution_count": 7,
   "metadata": {},
   "outputs": [
    {
     "name": "stdout",
     "output_type": "stream",
     "text": [
      "2min 24s ± 0 ns per loop (mean ± std. dev. of 1 run, 1 loop each)\n",
      "21 µs ± 5.96 µs per loop (mean ± std. dev. of 1000 runs, 1000 loops each)\n"
     ]
    }
   ],
   "source": [
    "%timeit -n 1 -r 1 [solution_1(case[0], case[1]) for case in test_case]  # 통과\n",
    "%timeit -n 1000 -r 1000 [solution_2(case[0], case[1]) for case in test_case]  # 통과"
   ]
  }
 ],
 "metadata": {
  "kernelspec": {
   "display_name": "Python 3",
   "language": "python",
   "name": "python3"
  },
  "language_info": {
   "codemirror_mode": {
    "name": "ipython",
    "version": 3
   },
   "file_extension": ".py",
   "mimetype": "text/x-python",
   "name": "python",
   "nbconvert_exporter": "python",
   "pygments_lexer": "ipython3",
   "version": "3.7.3"
  }
 },
 "nbformat": 4,
 "nbformat_minor": 2
}
