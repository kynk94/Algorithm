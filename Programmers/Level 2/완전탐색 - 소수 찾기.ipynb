{
 "cells": [
  {
   "cell_type": "markdown",
   "metadata": {},
   "source": [
    "<div class=\"guide-section-description\">\n",
    "      <h6 class=\"guide-section-title\">문제 설명</h6>\n",
    "      <div class=\"markdown solarized-dark\"><p>한자리 숫자가 적힌 종이 조각이 흩어져있습니다. 흩어진 종이 조각을 붙여 소수를 몇 개 만들 수 있는지 알아내려 합니다.</p>\n",
    "\n",
    "<p>각 종이 조각에 적힌 숫자가 적힌 문자열 numbers가 주어졌을 때, 종이 조각으로 만들 수 있는 소수가 몇 개인지 return 하도록 solution 함수를 완성해주세요.</p>\n",
    "\n",
    "<h5>제한사항</h5>\n",
    "\n",
    "<ul>\n",
    "<li>numbers는 길이 1 이상 7 이하인 문자열입니다.</li>\n",
    "<li>numbers는 0~9까지 숫자만으로 이루어져 있습니다.</li>\n",
    "<li><q>013</q>은 0, 1, 3 숫자가 적힌 종이 조각이 흩어져있다는 의미입니다.</li>\n",
    "</ul>\n",
    "\n",
    "<h5>입출력 예</h5>\n",
    "<table>\n",
    "        <thead><tr>\n",
    "<th>numbers</th>\n",
    "<th>return</th>\n",
    "</tr>\n",
    "</thead>\n",
    "        <tbody><tr>\n",
    "<td><q>17</q></td>\n",
    "<td>3</td>\n",
    "</tr>\n",
    "<tr>\n",
    "<td><q>011</q></td>\n",
    "<td>2</td>\n",
    "</tr>\n",
    "</tbody>\n",
    "      </table>\n",
    "<h5>입출력 예 설명</h5>\n",
    "\n",
    "<p>예제 #1<br>\n",
    "[1, 7]으로는 소수 [7, 17, 71]를 만들 수 있습니다.</p>\n",
    "\n",
    "<p>예제 #2<br>\n",
    "[0, 1, 1]으로는 소수 [11, 101]를 만들 수 있습니다.</p>\n",
    "\n",
    "<ul>\n",
    "<li>11과 011은 같은 숫자로 취급합니다.</li>\n",
    "</ul>\n",
    "\n",
    "<p><a href=\"http://2009.nwerc.eu/results/nwerc09.pdf\" target=\"_blank\" rel=\"noopener\">출처</a></p>\n",
    "</div>\n",
    "    </div>"
   ]
  },
  {
   "cell_type": "code",
   "execution_count": 1,
   "metadata": {},
   "outputs": [],
   "source": [
    "def solution_1(numbers):\n",
    "    import itertools\n",
    "    t = set()\n",
    "    for i in range(1, len(numbers) + 1):\n",
    "        t |= set(map(int, map(''.join, itertools.permutations(numbers, i))))\n",
    "    count = 0\n",
    "    for i in t:\n",
    "        if i > 1:\n",
    "            for j in range(2, int(pow(i, 0.5)) + 1):\n",
    "                if i % j == 0:\n",
    "                    break\n",
    "            else:\n",
    "                count += 1\n",
    "    return count"
   ]
  },
  {
   "cell_type": "code",
   "execution_count": 2,
   "metadata": {},
   "outputs": [],
   "source": [
    "def solution_2(numbers):\n",
    "    import itertools\n",
    "    t = set()\n",
    "    for i in range(1, len(numbers) + 1):\n",
    "        t |= set(map(int, map(''.join, itertools.permutations(numbers, i))))\n",
    "    count = 0\n",
    "    t -= set(range(2))\n",
    "    for i in t:\n",
    "        for j in range(2, int(pow(i, 0.5)) + 1):\n",
    "            if i % j == 0:\n",
    "                break\n",
    "        else:\n",
    "            count += 1\n",
    "    return count"
   ]
  },
  {
   "cell_type": "code",
   "execution_count": 3,
   "metadata": {},
   "outputs": [],
   "source": [
    "def solution_3(numbers):\n",
    "    import itertools\n",
    "    t = set()\n",
    "    for i in range(1, len(numbers) + 1):\n",
    "        t |= set(map(int, map(''.join, itertools.permutations(numbers, i))))\n",
    "    t -= set(range(2))\n",
    "    if len(t):\n",
    "        m = max(t)\n",
    "        for i in range(2, int(pow(m, 0.5)) + 1):\n",
    "            t -= set(range(2 * i, m + 1, i))\n",
    "    return len(t)"
   ]
  },
  {
   "cell_type": "code",
   "execution_count": 4,
   "metadata": {},
   "outputs": [
    {
     "name": "stdout",
     "output_type": "stream",
     "text": [
      "95.9 ms ± 3.37 ms per loop (mean ± std. dev. of 10 runs, 10 loops each)\n",
      "96 ms ± 4.91 ms per loop (mean ± std. dev. of 10 runs, 10 loops each)\n",
      "1.54 s ± 41.7 ms per loop (mean ± std. dev. of 10 runs, 1 loop each)\n"
     ]
    }
   ],
   "source": [
    "%timeit -n 10 -r 10 [solution_1(str(i)) for i in range(2000)]\n",
    "%timeit -n 10 -r 10 [solution_2(str(i)) for i in range(2000)]\n",
    "%timeit -n 1 -r 10 [solution_3(str(i)) for i in range(2000)]"
   ]
  }
 ],
 "metadata": {
  "kernelspec": {
   "display_name": "Python 3",
   "language": "python",
   "name": "python3"
  },
  "language_info": {
   "codemirror_mode": {
    "name": "ipython",
    "version": 3
   },
   "file_extension": ".py",
   "mimetype": "text/x-python",
   "name": "python",
   "nbconvert_exporter": "python",
   "pygments_lexer": "ipython3",
   "version": "3.7.3"
  }
 },
 "nbformat": 4,
 "nbformat_minor": 2
}
