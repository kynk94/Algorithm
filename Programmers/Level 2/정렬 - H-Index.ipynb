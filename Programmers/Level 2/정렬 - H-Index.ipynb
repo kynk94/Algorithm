{
 "cells": [
  {
   "cell_type": "markdown",
   "metadata": {},
   "source": [
    "<div class=\"guide-section-description\">\n",
    "      <h6 class=\"guide-section-title\">문제 설명</h6>\n",
    "      <div class=\"markdown solarized-dark\"><p>H-Index는 과학자의 생산성과 영향력을 나타내는 지표입니다. 어느 과학자의 H-Index를 나타내는 값인 h를 구하려고 합니다. 위키백과<sup id=\"fnref1\"><a href=\"#fn1\" rel=\"footnote\">1</a></sup>에 따르면, H-Index는 다음과 같이 구합니다.</p>\n",
    "\n",
    "<p>어떤 과학자가 발표한 논문 <code>n</code>편 중, <code>h</code>번 이상 인용된 논문이 <code>h</code>편 이상이고 나머지 논문이 h번 이하 인용되었다면 <code>h</code>가 이 과학자의 H-Index입니다.</p>\n",
    "\n",
    "<p>어떤 과학자가 발표한 논문의 인용 횟수를 담은 배열 citations가 매개변수로 주어질 때, 이 과학자의 H-Index를 return 하도록 solution 함수를 작성해주세요.</p>\n",
    "\n",
    "<h5>제한사항</h5>\n",
    "\n",
    "<ul>\n",
    "<li>과학자가 발표한 논문의 수는 1편 이상 1,000편 이하입니다.</li>\n",
    "<li>논문별 인용 횟수는 0회 이상 10,000회 이하입니다.</li>\n",
    "</ul>\n",
    "\n",
    "<h5>입출력 예</h5>\n",
    "<table>\n",
    "        <thead><tr>\n",
    "<th>citations</th>\n",
    "<th>return</th>\n",
    "</tr>\n",
    "</thead>\n",
    "        <tbody><tr>\n",
    "<td>[3, 0, 6, 1, 5]</td>\n",
    "<td>3</td>\n",
    "</tr>\n",
    "</tbody>\n",
    "      </table>\n",
    "<h5>입출력 예 설명</h5>\n",
    "\n",
    "<p>이 과학자가 발표한 논문의 수는 5편이고, 그중 3편의 논문은 3회 이상 인용되었습니다. 그리고 나머지 2편의 논문은 3회 이하 인용되었기 때문에 이 과학자의 H-Index는 3입니다.</p>\n",
    "\n",
    "<p>※ 공지 - 2019년 2월 28일 테스트케이스가 추가되었습니다.</p>\n",
    "\n",
    "<div class=\"footnotes\">\n",
    "<hr>\n",
    "<ol>\n",
    "\n",
    "<li id=\"fn1\">\n",
    "<p><a href=\"https://en.wikipedia.org/wiki/H-index\" target=\"_blank\" rel=\"noopener\">https://en.wikipedia.org/wiki/H-index</a> <q>위키백과</q>&nbsp;<a href=\"#fnref1\" rev=\"footnote\">↩</a></p>\n",
    "</li>\n",
    "\n",
    "</ol>\n",
    "</div>\n",
    "</div>\n",
    "    </div>"
   ]
  },
  {
   "cell_type": "code",
   "execution_count": 1,
   "metadata": {},
   "outputs": [],
   "source": [
    "def solution_1(citations):\n",
    "    answer = 0\n",
    "    sc = sorted(citations, reverse=True)\n",
    "    for i in range(len(citations)):\n",
    "        if sc[i] > i:\n",
    "            answer = i + 1\n",
    "        else:\n",
    "            break\n",
    "    return answer"
   ]
  },
  {
   "cell_type": "code",
   "execution_count": 2,
   "metadata": {},
   "outputs": [],
   "source": [
    "def solution_2(citations):\n",
    "    sc = sorted(citations, reverse=True)\n",
    "    for i in range(len(citations)):\n",
    "        if sc[i] <= i:\n",
    "            return i\n",
    "    else:\n",
    "        return i + 1"
   ]
  },
  {
   "cell_type": "code",
   "execution_count": 3,
   "metadata": {},
   "outputs": [],
   "source": [
    "def solution_3(citations):\n",
    "    sc = sorted(citations, reverse=True)\n",
    "    n = len(citations)\n",
    "    if sc[-1] >= n:\n",
    "        return n\n",
    "    for i in range(n):\n",
    "        if sc[i] <= i:\n",
    "            return i"
   ]
  },
  {
   "cell_type": "code",
   "execution_count": 4,
   "metadata": {},
   "outputs": [],
   "source": [
    "def make_test(num = 100):\n",
    "    import numpy as np\n",
    "    test_case = []\n",
    "    while len(test_case) < num:\n",
    "        n = np.random.randint(1,1001)\n",
    "        citations = list(np.random.randint(0, 10001, size=n))\n",
    "        test_case.append(citations)\n",
    "    return test_case"
   ]
  },
  {
   "cell_type": "code",
   "execution_count": 5,
   "metadata": {},
   "outputs": [],
   "source": [
    "test_case = make_test(10)"
   ]
  },
  {
   "cell_type": "code",
   "execution_count": 6,
   "metadata": {},
   "outputs": [
    {
     "name": "stdout",
     "output_type": "stream",
     "text": [
      "2.29 ms ± 119 µs per loop (mean ± std. dev. of 10 runs, 10 loops each)\n",
      "2.05 ms ± 94.8 µs per loop (mean ± std. dev. of 10 runs, 10 loops each)\n",
      "2.19 ms ± 346 µs per loop (mean ± std. dev. of 10 runs, 10 loops each)\n"
     ]
    }
   ],
   "source": [
    "%timeit -n 10 -r 10 [solution_1(case) for case in test_case]\n",
    "%timeit -n 10 -r 10 [solution_2(case) for case in test_case]\n",
    "%timeit -n 10 -r 10 [solution_3(case) for case in test_case]"
   ]
  }
 ],
 "metadata": {
  "kernelspec": {
   "display_name": "Python 3",
   "language": "python",
   "name": "python3"
  },
  "language_info": {
   "codemirror_mode": {
    "name": "ipython",
    "version": 3
   },
   "file_extension": ".py",
   "mimetype": "text/x-python",
   "name": "python",
   "nbconvert_exporter": "python",
   "pygments_lexer": "ipython3",
   "version": "3.7.3"
  }
 },
 "nbformat": 4,
 "nbformat_minor": 2
}
