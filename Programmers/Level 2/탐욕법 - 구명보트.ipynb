{
 "cells": [
  {
   "cell_type": "markdown",
   "metadata": {},
   "source": [
    "<div class=\"guide-section-description\">\n",
    "      <h6 class=\"guide-section-title\">문제 설명</h6>\n",
    "      <div class=\"markdown solarized-dark\"><p>무인도에 갇힌 사람들을 구명보트를 이용하여 구출하려고 합니다. 구명보트는 작아서 한 번에 최대 <strong>2명</strong>씩 밖에 탈 수 없고, 무게 제한도 있습니다.</p>\n",
    "\n",
    "<p>예를 들어, 사람들의 몸무게가 [70kg, 50kg, 80kg, 50kg]이고 구명보트의 무게 제한이 100kg이라면 2번째 사람과 4번째 사람은 같이 탈 수 있지만 1번째 사람과 3번째 사람의 무게의 합은 150kg이므로 구명보트의 무게 제한을 초과하여 같이 탈 수 없습니다.</p>\n",
    "\n",
    "<p>구명보트를 최대한 적게 사용하여 모든 사람을 구출하려고 합니다.</p>\n",
    "\n",
    "<p>사람들의 몸무게를 담은 배열 people과 구명보트의 무게 제한 limit가 매개변수로 주어질 때, 모든 사람을 구출하기 위해 필요한 구명보트 개수의 최솟값을 return 하도록 solution 함수를 작성해주세요.</p>\n",
    "\n",
    "<h5>제한사항</h5>\n",
    "\n",
    "<ul>\n",
    "<li>무인도에 갇힌 사람은 1명 이상 50,000명 이하입니다.</li>\n",
    "<li>각 사람의 몸무게는 40kg 이상 240kg 이하입니다.</li>\n",
    "<li>구명보트의 무게 제한은 40kg 이상 240kg 이하입니다.</li>\n",
    "<li>구명보트의 무게 제한은 항상 사람들의 몸무게 중 최댓값보다 크게 주어지므로 사람들을 구출할 수 없는 경우는 없습니다.</li>\n",
    "</ul>\n",
    "\n",
    "<h5>입출력 예</h5>\n",
    "<table>\n",
    "        <thead><tr>\n",
    "<th>people</th>\n",
    "<th>limit</th>\n",
    "<th>return</th>\n",
    "</tr>\n",
    "</thead>\n",
    "        <tbody><tr>\n",
    "<td>[70, 50, 80, 50]</td>\n",
    "<td>100</td>\n",
    "<td>3</td>\n",
    "</tr>\n",
    "<tr>\n",
    "<td>[70, 80, 50]</td>\n",
    "<td>100</td>\n",
    "<td>3</td>\n",
    "</tr>\n",
    "</tbody>\n",
    "      </table></div>\n",
    "    </div>"
   ]
  },
  {
   "cell_type": "code",
   "execution_count": 1,
   "metadata": {},
   "outputs": [],
   "source": [
    "def solution_1(people, limit):\n",
    "    cut = limit - 40\n",
    "    people = sorted(people)\n",
    "    answer = 0\n",
    "    while people:\n",
    "        i = people.pop(0)\n",
    "        answer += 1\n",
    "        if i <= cut:\n",
    "            second = None\n",
    "            for idx, j in enumerate(people):\n",
    "                if i + j <= limit:\n",
    "                    second = idx\n",
    "                else:\n",
    "                    break\n",
    "            if second is not None:\n",
    "                people.pop(second)\n",
    "    return answer"
   ]
  },
  {
   "cell_type": "code",
   "execution_count": 2,
   "metadata": {},
   "outputs": [],
   "source": [
    "def solution_2(people, limit):\n",
    "    counter = [0] * 201\n",
    "    for p in people:\n",
    "        counter[p - 40] += 1\n",
    "    c_dic = {}\n",
    "    for i, c in enumerate(counter):\n",
    "        if c:\n",
    "            c_dic[i + 40] = c\n",
    "    count = 0\n",
    "    for k in list(c_dic.keys()):\n",
    "        if k > limit - 40:\n",
    "            count += c_dic[k]\n",
    "            del(c_dic[k])\n",
    "    while len(c_dic.keys()):\n",
    "        k = list(c_dic.keys())[0]\n",
    "        if c_dic[k] == 0:\n",
    "            del(c_dic[k])\n",
    "        else:\n",
    "            count += 1\n",
    "            c_dic[k] -= 1\n",
    "            if c_dic[k] == 0:\n",
    "                del(c_dic[k])\n",
    "            idx = None\n",
    "            for kk in c_dic.keys():\n",
    "                if c_dic[kk] > 0 and k + kk <= limit:\n",
    "                    idx = kk\n",
    "                else:\n",
    "                    break\n",
    "            if idx is not None:\n",
    "                c_dic[idx] -= 1\n",
    "    return count"
   ]
  },
  {
   "cell_type": "code",
   "execution_count": 3,
   "metadata": {},
   "outputs": [],
   "source": [
    "def solution_3(people, limit):  \n",
    "    people = sorted(people)\n",
    "    count = 0\n",
    "    while people:\n",
    "        count += 1\n",
    "        p = people.pop()\n",
    "        if people and p + people[0] <= limit:\n",
    "            people.pop(0)\n",
    "    return count"
   ]
  },
  {
   "cell_type": "code",
   "execution_count": 4,
   "metadata": {},
   "outputs": [],
   "source": [
    "def solution_4(people, limit):  \n",
    "    people = sorted(people)\n",
    "    cut = limit - 40\n",
    "    if people[0] > cut:\n",
    "        return len(people)\n",
    "    elif people[-1] > cut:\n",
    "        for i, p in enumerate(people[::-1]):\n",
    "            if p <= cut:\n",
    "                count = i\n",
    "                people = people[:len(people) - count]\n",
    "                break\n",
    "    else:\n",
    "        count = 0\n",
    "    while people:\n",
    "        count += 1\n",
    "        p = people.pop()\n",
    "        if people and p + people[0] <= limit:\n",
    "            people.pop(0)\n",
    "    return count"
   ]
  },
  {
   "cell_type": "code",
   "execution_count": 5,
   "metadata": {},
   "outputs": [],
   "source": [
    "def solution_5(people, limit):  \n",
    "    people = sorted(people)\n",
    "    count = 0\n",
    "    j = len(people) - 1\n",
    "    i = 0\n",
    "    while j > i:\n",
    "        if people[j] + people[i] <= limit:\n",
    "            count += 1\n",
    "            i += 1\n",
    "        else:\n",
    "            count += 1\n",
    "        j -= 1\n",
    "    if i == j:\n",
    "        count += 1\n",
    "    return count"
   ]
  },
  {
   "cell_type": "code",
   "execution_count": 6,
   "metadata": {},
   "outputs": [],
   "source": [
    "def solution_6(people, limit):  \n",
    "    people = sorted(people)\n",
    "    cut = limit - 40\n",
    "    if people[0] > cut:\n",
    "        return len(people)\n",
    "    elif people[-1] > cut:\n",
    "        for i, p in enumerate(people[::-1]):\n",
    "            if p <= cut:\n",
    "                count = i\n",
    "                people = people[:len(people) - count]\n",
    "                break\n",
    "    else:\n",
    "        count = 0\n",
    "    j = len(people) - 1\n",
    "    i = 0\n",
    "    while j > i:\n",
    "        if people[j] + people[i] <= limit:\n",
    "            count += 1\n",
    "            i += 1\n",
    "        else:\n",
    "            count += 1\n",
    "        j -= 1\n",
    "    if i == j:\n",
    "        count += 1\n",
    "    return count"
   ]
  },
  {
   "cell_type": "code",
   "execution_count": 7,
   "metadata": {},
   "outputs": [],
   "source": [
    "def make_test(n=10, size=50000):\n",
    "    import numpy as np\n",
    "    test_case = []\n",
    "    while len(test_case) < n:\n",
    "        people = list(np.random.randint(40, 241, size=np.random.randint(1, size + 1)))\n",
    "        m_people = max(people)\n",
    "        limit = np.random.randint(m_people, 241)\n",
    "        test_case.append((people, limit))\n",
    "    return test_case"
   ]
  },
  {
   "cell_type": "code",
   "execution_count": 8,
   "metadata": {},
   "outputs": [],
   "source": [
    "test_case = make_test(10, 50000)"
   ]
  },
  {
   "cell_type": "code",
   "execution_count": 9,
   "metadata": {},
   "outputs": [
    {
     "name": "stdout",
     "output_type": "stream",
     "text": [
      "7.14 s ± 0 ns per loop (mean ± std. dev. of 1 run, 1 loop each)\n",
      "2.71 s ± 93 ms per loop (mean ± std. dev. of 3 runs, 1 loop each)\n",
      "669 ms ± 16.6 ms per loop (mean ± std. dev. of 3 runs, 1 loop each)\n",
      "628 ms ± 11.9 ms per loop (mean ± std. dev. of 3 runs, 1 loop each)\n",
      "227 ms ± 13.1 ms per loop (mean ± std. dev. of 3 runs, 1 loop each)\n",
      "211 ms ± 11.3 ms per loop (mean ± std. dev. of 3 runs, 1 loop each)\n"
     ]
    }
   ],
   "source": [
    "%timeit -n 1 -r 1 [solution_1(case[0], case[1]) for case in make_test(1,20000)]  # 효율성 전체 불통\n",
    "%timeit -n 1 -r 3 [solution_2(case[0], case[1]) for case in test_case]  # 효율성 1번 불통\n",
    "%timeit -n 1 -r 3 [solution_3(case[0], case[1]) for case in test_case]  # 효율성 1번 불통\n",
    "%timeit -n 1 -r 3 [solution_4(case[0], case[1]) for case in test_case]  # 효율성 1번 불통\n",
    "%timeit -n 1 -r 3 [solution_5(case[0], case[1]) for case in test_case]  # 통과, pop하는 것이 생각보다 오래 걸림을 알 수 있음.\n",
    "%timeit -n 1 -r 3 [solution_6(case[0], case[1]) for case in test_case]  # 통과"
   ]
  }
 ],
 "metadata": {
  "kernelspec": {
   "display_name": "Python 3",
   "language": "python",
   "name": "python3"
  },
  "language_info": {
   "codemirror_mode": {
    "name": "ipython",
    "version": 3
   },
   "file_extension": ".py",
   "mimetype": "text/x-python",
   "name": "python",
   "nbconvert_exporter": "python",
   "pygments_lexer": "ipython3",
   "version": "3.7.3"
  }
 },
 "nbformat": 4,
 "nbformat_minor": 2
}
