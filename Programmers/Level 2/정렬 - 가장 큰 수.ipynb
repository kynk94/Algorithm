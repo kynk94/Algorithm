{
 "cells": [
  {
   "cell_type": "markdown",
   "metadata": {},
   "source": [
    "<div class=\"guide-section-description\">\n",
    "      <h6 class=\"guide-section-title\">문제 설명</h6>\n",
    "      <div class=\"markdown solarized-dark\"><p>0 또는 양의 정수가 주어졌을 때, 정수를 이어 붙여 만들 수 있는 가장 큰 수를 알아내 주세요.</p>\n",
    "\n",
    "<p>예를 들어, 주어진 정수가 [6, 10, 2]라면 [6102, 6210, 1062, 1026, 2610, 2106]를 만들 수 있고, 이중 가장 큰 수는 6210입니다.</p>\n",
    "\n",
    "<p>0 또는 양의 정수가 담긴 배열 numbers가 매개변수로 주어질 때, 순서를 재배치하여 만들 수 있는 가장 큰 수를 문자열로 바꾸어 return 하도록 solution 함수를 작성해주세요.</p>\n",
    "\n",
    "<h5>제한 사항</h5>\n",
    "\n",
    "<ul>\n",
    "<li>numbers의 길이는 1 이상 100,000 이하입니다.</li>\n",
    "<li>numbers의 원소는 0 이상 1,000 이하입니다.</li>\n",
    "<li>정답이 너무 클 수 있으니 문자열로 바꾸어 return 합니다.</li>\n",
    "</ul>\n",
    "\n",
    "<h5>입출력 예</h5>\n",
    "<table>\n",
    "        <thead><tr>\n",
    "<th>numbers</th>\n",
    "<th>return</th>\n",
    "</tr>\n",
    "</thead>\n",
    "        <tbody><tr>\n",
    "<td>[6, 10, 2]</td>\n",
    "<td><q>6210</q></td>\n",
    "</tr>\n",
    "<tr>\n",
    "<td>[3, 30, 34, 5, 9]</td>\n",
    "<td><q>9534330</q></td>\n",
    "</tr>\n",
    "</tbody>\n",
    "      </table></div>\n",
    "    </div>"
   ]
  },
  {
   "cell_type": "code",
   "execution_count": 1,
   "metadata": {},
   "outputs": [],
   "source": [
    "def solution_1(numbers):\n",
    "    import math\n",
    "    res = []\n",
    "    for i in numbers:\n",
    "        if i:\n",
    "            length = int(math.log10(i)) + 1\n",
    "        else:\n",
    "            length = 0\n",
    "        res.append((i + i / pow(10, length) + i / pow(10, 2 * length)) / pow(10, length - 1))\n",
    "    sorted_idx = sorted(list(range(len(res))), key=lambda x: res[x], reverse=True)\n",
    "    res = ''.join([str(numbers[i]) for i in sorted_idx])\n",
    "    return str(int(res))"
   ]
  },
  {
   "cell_type": "code",
   "execution_count": 2,
   "metadata": {},
   "outputs": [],
   "source": [
    "def solution_2(numbers):\n",
    "    res = ''.join(sorted(list(map(str, numbers)), key = lambda x: x * 3, reverse=True))\n",
    "    return str(int(res))"
   ]
  },
  {
   "cell_type": "code",
   "execution_count": 3,
   "metadata": {},
   "outputs": [],
   "source": [
    "def solution_3(numbers):\n",
    "    def max_(a, b):\n",
    "        if len(a) == len(b):\n",
    "            return a <= b\n",
    "        else:\n",
    "            return a + b <= b + a\n",
    "    def quick_sort(arr):\n",
    "        length = len(arr)\n",
    "        if length <= 1:\n",
    "            return arr\n",
    "        else:\n",
    "            pivot = arr[0]\n",
    "            greater = [i for i in arr[1:] if max_(i, pivot)]\n",
    "            lesser = [i for i in arr[1:] if not max_(i, pivot)]\n",
    "            return quick_sort(lesser) + [pivot] + quick_sort(greater)\n",
    "    if set(numbers) == {0}:\n",
    "        return 0\n",
    "    else:\n",
    "        number = quick_sort(list(map(str, numbers)))\n",
    "        return ''.join(number)\n",
    "        "
   ]
  },
  {
   "cell_type": "code",
   "execution_count": 4,
   "metadata": {},
   "outputs": [],
   "source": [
    "def make_test(length=100):\n",
    "    import random\n",
    "    test_case = []\n",
    "    while len(test_case) < length:\n",
    "        test_case.append([random.randrange(1000) for i in range(random.randrange(100000))])\n",
    "    return test_case\n",
    "test_case = make_test(10)"
   ]
  },
  {
   "cell_type": "code",
   "execution_count": 5,
   "metadata": {},
   "outputs": [
    {
     "name": "stdout",
     "output_type": "stream",
     "text": [
      "3.96 s ± 0 ns per loop (mean ± std. dev. of 1 run, 1 loop each)\n",
      "3.28 s ± 0 ns per loop (mean ± std. dev. of 1 run, 1 loop each)\n",
      "8.4 s ± 0 ns per loop (mean ± std. dev. of 1 run, 1 loop each)\n"
     ]
    }
   ],
   "source": [
    "%timeit -n 1 -r 1 [solution_1(i) for i in test_case]\n",
    "%timeit -n 1 -r 1 [solution_2(i) for i in test_case]\n",
    "%timeit -n 1 -r 1 [solution_3(i) for i in test_case]"
   ]
  }
 ],
 "metadata": {
  "kernelspec": {
   "display_name": "Python 3",
   "language": "python",
   "name": "python3"
  },
  "language_info": {
   "codemirror_mode": {
    "name": "ipython",
    "version": 3
   },
   "file_extension": ".py",
   "mimetype": "text/x-python",
   "name": "python",
   "nbconvert_exporter": "python",
   "pygments_lexer": "ipython3",
   "version": "3.7.3"
  }
 },
 "nbformat": 4,
 "nbformat_minor": 2
}
