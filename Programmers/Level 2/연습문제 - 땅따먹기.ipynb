{
 "cells": [
  {
   "cell_type": "markdown",
   "metadata": {},
   "source": [
    "<div class=\"guide-section-description\">\n",
    "      <h6 class=\"guide-section-title\">문제 설명</h6>\n",
    "      <div class=\"markdown solarized-dark\"><p>땅따먹기 게임을 하려고 합니다. 땅따먹기 게임의 땅(land)은 총 N행 4열로 이루어져 있고, 모든 칸에는 점수가 쓰여 있습니다. 1행부터 땅을 밟으며 한 행씩 내려올 때, 각 행의 4칸 중 한 칸만 밟으면서 내려와야 합니다. <strong>단, 땅따먹기 게임에는 한 행씩 내려올 때, 같은 열을 연속해서 밟을 수 없는 특수 규칙이 있습니다.</strong> </p>\n",
    "\n",
    "<p>예를 들면, </p>\n",
    "\n",
    "<p>| 1 | 2 | 3 | 5 |</p>\n",
    "\n",
    "<p>| 5 | 6 | 7 | 8 |</p>\n",
    "\n",
    "<p>| 4 | 3 | 2 | 1 |</p>\n",
    "\n",
    "<p>로 땅이 주어졌다면, 1행에서 네번째 칸 (5)를 밟았으면, 2행의 네번째 칸 (8)은 밟을 수 없습니다. </p>\n",
    "\n",
    "<p>마지막 행까지 모두 내려왔을 때, 얻을 수 있는 점수의 최대값을 return하는 solution 함수를 완성해 주세요. 위 예의 경우, 1행의 네번째 칸 (5), 2행의 세번째 칸 (7), 3행의 첫번째 칸 (4) 땅을 밟아 16점이 최고점이 되므로 16을 return 하면 됩니다.</p>\n",
    "\n",
    "<h5>제한사항</h5>\n",
    "\n",
    "<ul>\n",
    "<li>행의 개수 N : 100,000 이하의 자연수</li>\n",
    "<li>열의 개수는 4개이고, 땅(land)은 2차원 배열로 주어집니다.</li>\n",
    "<li>점수 : 100 이하의 자연수</li>\n",
    "</ul>\n",
    "\n",
    "<h5>입출력 예</h5>\n",
    "<table>\n",
    "        <thead><tr>\n",
    "<th>land</th>\n",
    "<th>answer</th>\n",
    "</tr>\n",
    "</thead>\n",
    "        <tbody><tr>\n",
    "<td>[[1,2,3,5],[5,6,7,8],[4,3,2,1]]</td>\n",
    "<td>16</td>\n",
    "</tr>\n",
    "</tbody>\n",
    "      </table>\n",
    "<h5>입출력 예 설명</h5>\n",
    "\n",
    "<p>입출력 예 #1<br>\n",
    "문제의 예시와 같습니다.</p>\n",
    "</div>\n",
    "    </div>"
   ]
  },
  {
   "cell_type": "code",
   "execution_count": 1,
   "metadata": {},
   "outputs": [],
   "source": [
    "def solution_1(land):\n",
    "    n = len(land[0])\n",
    "    for i, l in enumerate(land[:-1]):\n",
    "        sorted_idx = sorted(range(n), key = lambda x: l[x], reverse=True)\n",
    "        for j in range(n):\n",
    "            if j == sorted_idx[0]:\n",
    "                land[i+1][j] += l[sorted_idx[1]]\n",
    "            else:\n",
    "                land[i+1][j] += l[sorted_idx[0]]\n",
    "    return max(land[-1])"
   ]
  },
  {
   "cell_type": "code",
   "execution_count": 2,
   "metadata": {},
   "outputs": [],
   "source": [
    "def solution_2(land):\n",
    "    for i, j in enumerate(land[:-1]):\n",
    "        land[i+1][0] += max(j[1], j[2], j[3])\n",
    "        land[i+1][1] += max(j[0], j[2], j[3])\n",
    "        land[i+1][2] += max(j[0], j[1], j[3])\n",
    "        land[i+1][3] += max(j[0], j[1], j[2])\n",
    "    return max(land[-1])"
   ]
  },
  {
   "cell_type": "code",
   "execution_count": 3,
   "metadata": {},
   "outputs": [],
   "source": [
    "def solution_for_compare(land):\n",
    "    for i, j in enumerate(land[:-1]):\n",
    "        land[i+1][0] += max(j[1], j[2], j[3], j[4], j[5], j[6], j[7], j[8], j[9])\n",
    "        land[i+1][1] += max(j[0], j[2], j[3], j[4], j[5], j[6], j[7], j[8], j[9])\n",
    "        land[i+1][2] += max(j[0], j[1], j[3], j[4], j[5], j[6], j[7], j[8], j[9])\n",
    "        land[i+1][3] += max(j[0], j[1], j[2], j[4], j[5], j[6], j[7], j[8], j[9])\n",
    "        land[i+1][4] += max(j[0], j[1], j[2], j[3], j[5], j[6], j[7], j[8], j[9])\n",
    "        land[i+1][5] += max(j[0], j[1], j[2], j[3], j[4], j[6], j[7], j[8], j[9])\n",
    "        land[i+1][6] += max(j[0], j[1], j[2], j[3], j[4], j[5], j[7], j[8], j[9])\n",
    "        land[i+1][7] += max(j[0], j[1], j[2], j[3], j[4], j[5], j[6], j[8], j[9])\n",
    "        land[i+1][8] += max(j[0], j[1], j[2], j[3], j[4], j[5], j[6], j[7], j[9])\n",
    "        land[i+1][9] += max(j[0], j[1], j[2], j[3], j[4], j[5], j[6], j[7], j[8])\n",
    "    return max(land[-1])"
   ]
  },
  {
   "cell_type": "code",
   "execution_count": 4,
   "metadata": {},
   "outputs": [],
   "source": [
    "def make_test(n=10, size=4):\n",
    "    import numpy as np\n",
    "    test_case = []\n",
    "    while len(test_case) < n:\n",
    "        r = np.random.randint(1, 100000)\n",
    "        row = np.random.randint(1, 101, size=r * size).reshape(r, size).tolist()\n",
    "        test_case.append(row)\n",
    "    return test_case"
   ]
  },
  {
   "cell_type": "code",
   "execution_count": 5,
   "metadata": {},
   "outputs": [
    {
     "name": "stdout",
     "output_type": "stream",
     "text": [
      "1.37 s ± 30 ms per loop (mean ± std. dev. of 2 runs, 2 loops each)\n",
      "876 ms ± 34.9 ms per loop (mean ± std. dev. of 2 runs, 2 loops each)\n"
     ]
    }
   ],
   "source": [
    "test_case = make_test(n=10, size=4)\n",
    "\n",
    "%timeit -n 2 -r 2 [solution_1(case) for case in test_case]\n",
    "%timeit -n 2 -r 2 [solution_2(case) for case in test_case]"
   ]
  },
  {
   "cell_type": "code",
   "execution_count": 6,
   "metadata": {},
   "outputs": [
    {
     "name": "stdout",
     "output_type": "stream",
     "text": [
      "2.23 s ± 26.8 ms per loop (mean ± std. dev. of 2 runs, 2 loops each)\n",
      "3.23 s ± 38.4 ms per loop (mean ± std. dev. of 2 runs, 2 loops each)\n"
     ]
    }
   ],
   "source": [
    "test_case = make_test(n=10, size=10)\n",
    "\n",
    "# solution_2는 열 개수만 많아져도 무조건 느려지는 안좋은 풀이\n",
    "%timeit -n 2 -r 2 [solution_1(case) for case in test_case]\n",
    "%timeit -n 2 -r 2 [solution_for_compare(case) for case in test_case]"
   ]
  }
 ],
 "metadata": {
  "kernelspec": {
   "display_name": "Python 3",
   "language": "python",
   "name": "python3"
  },
  "language_info": {
   "codemirror_mode": {
    "name": "ipython",
    "version": 3
   },
   "file_extension": ".py",
   "mimetype": "text/x-python",
   "name": "python",
   "nbconvert_exporter": "python",
   "pygments_lexer": "ipython3",
   "version": "3.7.3"
  }
 },
 "nbformat": 4,
 "nbformat_minor": 2
}
