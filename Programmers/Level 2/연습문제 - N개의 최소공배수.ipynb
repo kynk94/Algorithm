{
 "cells": [
  {
   "cell_type": "markdown",
   "metadata": {},
   "source": [
    "<div class=\"guide-section-description\">\n",
    "      <h6 class=\"guide-section-title\">문제 설명</h6>\n",
    "      <div class=\"markdown solarized-dark\"><p>두 수의 최소공배수(Least Common Multiple)란 입력된 두 수의 배수 중 공통이 되는 가장 작은 숫자를 의미합니다. 예를 들어 2와 7의 최소공배수는 14가 됩니다. 정의를 확장해서, n개의 수의 최소공배수는 n 개의 수들의 배수 중 공통이 되는 가장 작은 숫자가 됩니다. n개의 숫자를 담은 배열 arr이 입력되었을 때 이 수들의 최소공배수를 반환하는 함수, solution을 완성해 주세요. </p>\n",
    "\n",
    "<h5>제한 사항</h5>\n",
    "\n",
    "<ul>\n",
    "<li>arr은 길이 1이상, 15이하인 배열입니다.</li>\n",
    "<li>arr의 원소는 100 이하인 자연수입니다.</li>\n",
    "</ul>\n",
    "\n",
    "<h5>입출력 예</h5>\n",
    "<table>\n",
    "        <thead><tr>\n",
    "<th>arr</th>\n",
    "<th>result</th>\n",
    "</tr>\n",
    "</thead>\n",
    "        <tbody><tr>\n",
    "<td>[2,6,8,14]</td>\n",
    "<td>168</td>\n",
    "</tr>\n",
    "<tr>\n",
    "<td>[1,2,3]</td>\n",
    "<td>6</td>\n",
    "</tr>\n",
    "</tbody>\n",
    "      </table></div>\n",
    "    </div>"
   ]
  },
  {
   "cell_type": "code",
   "execution_count": 1,
   "metadata": {},
   "outputs": [],
   "source": [
    "def solution_1(arr):\n",
    "    a = arr[0]\n",
    "    lcm = a\n",
    "    for i in arr[1:]:\n",
    "        lcm *= i\n",
    "        while i > 0:\n",
    "            a, i = i, a % i\n",
    "        lcm //= a\n",
    "        a = lcm\n",
    "    return lcm"
   ]
  },
  {
   "cell_type": "code",
   "execution_count": 2,
   "metadata": {},
   "outputs": [],
   "source": [
    "def solution_2(arr):\n",
    "    def gcd(a, b):\n",
    "        while b > 0:\n",
    "            a, b = b, a % b\n",
    "        return a\n",
    "    lcm = arr[0]\n",
    "    for i in arr[1:]:\n",
    "        lcm = lcm * i // gcd(lcm, i)\n",
    "    return lcm"
   ]
  },
  {
   "cell_type": "code",
   "execution_count": 3,
   "metadata": {},
   "outputs": [],
   "source": [
    "def make_test(n=10):\n",
    "    import numpy as np\n",
    "    test_case = []\n",
    "    while len(test_case) < n:\n",
    "        size = np.random.randint(1, 16)\n",
    "        test_case.append(np.random.randint(1, 101, size=size).tolist())\n",
    "    return test_case"
   ]
  },
  {
   "cell_type": "code",
   "execution_count": 4,
   "metadata": {
    "scrolled": true
   },
   "outputs": [],
   "source": [
    "test_case = make_test(10000)"
   ]
  },
  {
   "cell_type": "code",
   "execution_count": 5,
   "metadata": {},
   "outputs": [
    {
     "name": "stdout",
     "output_type": "stream",
     "text": [
      "30.1 ms ± 5.49 ms per loop (mean ± std. dev. of 7 runs, 10 loops each)\n",
      "50.4 ms ± 11.3 ms per loop (mean ± std. dev. of 7 runs, 10 loops each)\n"
     ]
    }
   ],
   "source": [
    "%timeit [solution_1(c) for c in test_case]\n",
    "%timeit [solution_2(c) for c in test_case]"
   ]
  }
 ],
 "metadata": {
  "kernelspec": {
   "display_name": "Python 3",
   "language": "python",
   "name": "python3"
  },
  "language_info": {
   "codemirror_mode": {
    "name": "ipython",
    "version": 3
   },
   "file_extension": ".py",
   "mimetype": "text/x-python",
   "name": "python",
   "nbconvert_exporter": "python",
   "pygments_lexer": "ipython3",
   "version": "3.7.3"
  }
 },
 "nbformat": 4,
 "nbformat_minor": 2
}
