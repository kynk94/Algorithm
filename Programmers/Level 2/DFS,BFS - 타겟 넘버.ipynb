{
 "cells": [
  {
   "cell_type": "markdown",
   "metadata": {},
   "source": [
    "<div class=\"guide-section-description\">\n",
    "      <h6 class=\"guide-section-title\">문제 설명</h6>\n",
    "      <div class=\"markdown solarized-dark\"><p>n개의 음이 아닌 정수가 있습니다. 이 수를 적절히 더하거나 빼서 타겟 넘버를 만들려고 합니다. 예를 들어 [1, 1, 1, 1, 1]로 숫자 3을 만들려면 다음 다섯 방법을 쓸 수 있습니다.</p>\n",
    "<div class=\"highlight\"><pre class=\"codehilite\"><code>-1+1+1+1+1 = 3\n",
    "+1-1+1+1+1 = 3\n",
    "+1+1-1+1+1 = 3\n",
    "+1+1+1-1+1 = 3\n",
    "+1+1+1+1-1 = 3\n",
    "</code></pre></div>\n",
    "<p>사용할 수 있는 숫자가 담긴 배열 numbers, 타겟 넘버 target이 매개변수로 주어질 때 숫자를 적절히 더하고 빼서 타겟 넘버를 만드는 방법의 수를 return 하도록 solution 함수를 작성해주세요.</p>\n",
    "\n",
    "<h5>제한사항</h5>\n",
    "\n",
    "<ul>\n",
    "<li>주어지는 숫자의 개수는 2개 이상 20개 이하입니다.</li>\n",
    "<li>각 숫자는 1 이상 50 이하인 자연수입니다.</li>\n",
    "<li>타겟 넘버는 1 이상 1000 이하인 자연수입니다.</li>\n",
    "</ul>\n",
    "\n",
    "<h5>입출력 예</h5>\n",
    "<table>\n",
    "        <thead><tr>\n",
    "<th>numbers</th>\n",
    "<th>target</th>\n",
    "<th>return</th>\n",
    "</tr>\n",
    "</thead>\n",
    "        <tbody><tr>\n",
    "<td>[1, 1, 1, 1, 1]</td>\n",
    "<td>3</td>\n",
    "<td>5</td>\n",
    "</tr>\n",
    "</tbody>\n",
    "      </table>\n",
    "<h5>입출력 예 설명</h5>\n",
    "\n",
    "<p>문제에 나온 예와 같습니다.</p>\n",
    "</div>\n",
    "    </div>"
   ]
  },
  {
   "cell_type": "code",
   "execution_count": 1,
   "metadata": {},
   "outputs": [],
   "source": [
    "def solution_1(numbers, target):\n",
    "    import itertools\n",
    "    answer = 0\n",
    "    for i in map(sum, itertools.product(*[[-n, n] for n in numbers])):\n",
    "        if i == target:\n",
    "            answer += 1\n",
    "    return answer"
   ]
  },
  {
   "cell_type": "code",
   "execution_count": 2,
   "metadata": {},
   "outputs": [],
   "source": [
    "def solution_2(numbers, target):\n",
    "    import itertools\n",
    "    s = list(map(sum, itertools.product(*[[-n, n] for n in numbers])))\n",
    "    return s.count(target)"
   ]
  },
  {
   "cell_type": "code",
   "execution_count": 3,
   "metadata": {},
   "outputs": [],
   "source": [
    "def solution_3(numbers, target):\n",
    "    import collections\n",
    "    answer = 0\n",
    "    n = len(numbers)\n",
    "    stack = collections.deque([(0, 0)])\n",
    "    while stack:\n",
    "        current_sum, num_idx = stack.popleft()\n",
    "        if num_idx == n:\n",
    "            if current_sum == target:\n",
    "                answer += 1\n",
    "        else:\n",
    "            num = numbers[num_idx]\n",
    "            stack.append((current_sum + num, num_idx + 1))\n",
    "            stack.append((current_sum - num, num_idx + 1))\n",
    "    return answer"
   ]
  },
  {
   "cell_type": "code",
   "execution_count": 4,
   "metadata": {},
   "outputs": [],
   "source": [
    "def solution_4(numbers, target):\n",
    "    if not numbers:\n",
    "        if target == 0:\n",
    "            return 1\n",
    "        else:\n",
    "            return 0\n",
    "    else:\n",
    "        s = solution_4(numbers[1:], target + numbers[0])\n",
    "        m = solution_4(numbers[1:], target - numbers[0])\n",
    "        return s + m"
   ]
  },
  {
   "cell_type": "code",
   "execution_count": 5,
   "metadata": {},
   "outputs": [],
   "source": [
    "def make_test(n=10):\n",
    "    import numpy as np\n",
    "    test_case = []\n",
    "    while len(test_case) < n:\n",
    "        numbers = np.random.randint(1, 51, size=np.random.randint(2, 21))\n",
    "        target = np.random.randint(1, 1001)\n",
    "        test_case.append((list(numbers), target))\n",
    "    return test_case"
   ]
  },
  {
   "cell_type": "code",
   "execution_count": 6,
   "metadata": {},
   "outputs": [],
   "source": [
    "test_case = make_test(30)"
   ]
  },
  {
   "cell_type": "code",
   "execution_count": 7,
   "metadata": {},
   "outputs": [
    {
     "name": "stdout",
     "output_type": "stream",
     "text": [
      "3.59 s ± 25.6 ms per loop (mean ± std. dev. of 3 runs, 2 loops each)\n",
      "3.69 s ± 66.8 ms per loop (mean ± std. dev. of 3 runs, 2 loops each)\n",
      "2.03 s ± 10 ms per loop (mean ± std. dev. of 3 runs, 2 loops each)\n",
      "2.46 s ± 26.5 ms per loop (mean ± std. dev. of 3 runs, 2 loops each)\n"
     ]
    }
   ],
   "source": [
    "%timeit -n 2 -r 3 [solution_1(c[0], c[1]) for c in test_case]\n",
    "%timeit -n 2 -r 3 [solution_2(c[0], c[1]) for c in test_case]\n",
    "%timeit -n 2 -r 3 [solution_3(c[0], c[1]) for c in test_case]\n",
    "%timeit -n 2 -r 3 [solution_4(c[0], c[1]) for c in test_case]"
   ]
  }
 ],
 "metadata": {
  "kernelspec": {
   "display_name": "Python 3",
   "language": "python",
   "name": "python3"
  },
  "language_info": {
   "codemirror_mode": {
    "name": "ipython",
    "version": 3
   },
   "file_extension": ".py",
   "mimetype": "text/x-python",
   "name": "python",
   "nbconvert_exporter": "python",
   "pygments_lexer": "ipython3",
   "version": "3.7.3"
  }
 },
 "nbformat": 4,
 "nbformat_minor": 2
}
