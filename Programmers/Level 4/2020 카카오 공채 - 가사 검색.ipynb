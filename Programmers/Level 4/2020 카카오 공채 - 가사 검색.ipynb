{
 "cells": [
  {
   "cell_type": "markdown",
   "metadata": {},
   "source": [
    "<div class=\"guide-section-description\">\n",
    "      <h6 class=\"guide-section-title\">문제 설명</h6>\n",
    "      <div class=\"markdown solarized-dark\"><p><strong>[본 문제는 정확성과 효율성 테스트 각각 점수가 있는 문제입니다.]</strong></p>\n",
    "\n",
    "<p>친구들로부터 천재 프로그래머로 불리는 <strong><q>프로도</q></strong>는 음악을 하는 친구로부터 자신이 좋아하는 노래 가사에 사용된 단어들 중에 특정 키워드가 몇 개 포함되어 있는지 궁금하니 프로그램으로 개발해 달라는 제안을 받았습니다.<br>\n",
    "그 제안 사항 중, 키워드는 와일드카드 문자중 하나인 '?'가 포함된 패턴 형태의 문자열을 뜻합니다. 와일드카드 문자인 '?'는 글자 하나를 의미하며, 어떤 문자에도 매치된다고 가정합니다. 예를 들어  <code>\"fro??\"</code>는 <code>\"frodo\"</code>, <code>\"front\"</code>, <code>\"frost\"</code> 등에 매치되지만 <code>\"frame\"</code>, <code>\"frozen\"</code>에는 매치되지 않습니다.</p>\n",
    "\n",
    "<p>가사에 사용된 모든 단어들이 담긴 배열 <code>words</code>와 찾고자 하는 키워드가 담긴 배열 <code>queries</code>가 주어질 때, 각 키워드 별로 매치된 단어가 몇 개인지 <strong>순서대로</strong> 배열에 담아 반환하도록 <code>solution</code> 함수를 완성해 주세요.</p>\n",
    "\n",
    "<h3>가사 단어 제한사항</h3>\n",
    "\n",
    "<ul>\n",
    "<li><code>words</code>의 길이(가사 단어의 개수)는 2 이상 100,000 이하입니다.</li>\n",
    "<li>각 가사 단어의 길이는 1 이상 10,000 이하로 빈 문자열인 경우는 없습니다.</li>\n",
    "<li>전체 가사 단어 길이의 합은 2 이상 1,000,000 이하입니다.</li>\n",
    "<li>가사에 동일 단어가 여러 번 나올 경우 중복을 제거하고 <code>words</code>에는 하나로만 제공됩니다.</li>\n",
    "<li>각 가사 단어는 오직 알파벳 소문자로만 구성되어 있으며, 특수문자나 숫자는 포함하지 않는 것으로 가정합니다.</li>\n",
    "</ul>\n",
    "\n",
    "<h3>검색 키워드 제한사항</h3>\n",
    "\n",
    "<ul>\n",
    "<li><code>queries</code>의 길이(검색 키워드 개수)는 2 이상 100,000 이하입니다.</li>\n",
    "<li>각 검색 키워드의 길이는 1 이상 10,000 이하로 빈 문자열인 경우는 없습니다.</li>\n",
    "<li>전체 검색 키워드 길이의 합은 2 이상 1,000,000 이하입니다.</li>\n",
    "<li>검색 키워드는 중복될 수도 있습니다.</li>\n",
    "<li>각 검색 키워드는 오직 알파벳 소문자와 와일드카드 문자인 <code>'?'</code> 로만 구성되어 있으며, 특수문자나 숫자는 포함하지 않는 것으로 가정합니다.</li>\n",
    "<li>검색 키워드는 와일드카드 문자인 <code>'?'</code>가 하나 이상 포함돼 있으며, <code>'?'</code>는 각 검색 키워드의 접두사 아니면 접미사 중 하나로만 주어집니다.\n",
    "\n",
    "<ul>\n",
    "<li>예를 들어 <code>\"??odo\"</code>, <code>\"fro??\"</code>, <code>\"?????\"</code>는 가능한 키워드입니다.</li>\n",
    "<li>반면에 <code>\"frodo\"</code>(<code>'?'</code>가 없음), <code>\"fr?do\"</code>(<code>'?'</code>가 중간에 있음), <code>\"?ro??\"</code>(<code>'?'</code>가 양쪽에 있음)는 불가능한 키워드입니다.</li>\n",
    "</ul></li>\n",
    "</ul>\n",
    "\n",
    "<h3>입출력 예</h3>\n",
    "<table>\n",
    "        <thead><tr>\n",
    "<th>words</th>\n",
    "<th>queries</th>\n",
    "<th>result</th>\n",
    "</tr>\n",
    "</thead>\n",
    "        <tbody><tr>\n",
    "<td><code>[\"frodo\", \"front\", \"frost\", \"frozen\", \"frame\", \"kakao\"]</code></td>\n",
    "<td><code>[\"fro??\", \"????o\", \"fr???\", \"fro???\", \"pro?\"]</code></td>\n",
    "<td><code>[3, 2, 4, 1, 0]</code></td>\n",
    "</tr>\n",
    "</tbody>\n",
    "      </table>\n",
    "<h3>입출력 예에 대한 설명</h3>\n",
    "\n",
    "<ul>\n",
    "<li><code>\"fro??\"</code>는 <code>\"frodo\"</code>, <code>\"front\"</code>, <code>\"frost\"</code>에 매치되므로 3입니다.</li>\n",
    "<li><code>\"????o\"</code>는 <code>\"frodo\"</code>, <code>\"kakao\"</code>에 매치되므로 2입니다.</li>\n",
    "<li><code>\"fr???\"</code>는 <code>\"frodo\"</code>, <code>\"front\"</code>, <code>\"frost\"</code>, <code>\"frame\"</code>에 매치되므로 4입니다.</li>\n",
    "<li><code>\"fro???\"</code>는 <code>\"frozen\"</code>에 매치되므로 1입니다.</li>\n",
    "<li><code>\"pro?\"</code>는 매치되는 가사 단어가 없으므로 0 입니다.</li>\n",
    "</ul>\n",
    "</div>\n",
    "    </div>"
   ]
  },
  {
   "cell_type": "markdown",
   "metadata": {},
   "source": [
    "Trie 자료구조를 사용한다."
   ]
  },
  {
   "cell_type": "code",
   "execution_count": 52,
   "metadata": {},
   "outputs": [],
   "source": [
    "words = [\"frodo\", \"front\", \"frost\", \"frozen\", \"frame\", \"kakao\"]\n",
    "queries = [\"fro??\", \"????o\", \"fr???\", \"fro???\", \"pro?\", \"fro??\"]"
   ]
  },
  {
   "cell_type": "code",
   "execution_count": 62,
   "metadata": {},
   "outputs": [],
   "source": [
    "def get_dict(dictionary, word):\n",
    "    n = len(word)\n",
    "    if n not in dictionary.keys():\n",
    "        dictionary[n] = {'count': 0}\n",
    "    node = dictionary[n]\n",
    "    node['count'] += 1\n",
    "    for c in word:\n",
    "        if c not in node.keys():\n",
    "            node[c] = {'count': 0}\n",
    "        node[c]['count'] += 1\n",
    "        node = node[c]\n",
    "\n",
    "def search_dict(dictionary, query):\n",
    "    n = len(query)\n",
    "    if n not in dictionary.keys():\n",
    "        return 0\n",
    "    node = dictionary[n]\n",
    "    for c in (query+' '):\n",
    "        if c == '?':\n",
    "            return node['count']\n",
    "        elif c not in node.keys():\n",
    "            return 0\n",
    "        node = node[c]\n",
    "        \n",
    "def solution(words, queries):\n",
    "    word_dict = {}\n",
    "    word_dict_reverse = {}\n",
    "    for word in words:\n",
    "        get_dict(word_dict, word)\n",
    "        get_dict(word_dict_reverse, word[::-1])\n",
    "\n",
    "    answer = []\n",
    "    marker = {}\n",
    "    for query in queries:\n",
    "        if query in marker.keys():\n",
    "            answer.append(marker[query])\n",
    "            continue\n",
    "        elif query.endswith('?'):\n",
    "            value = search_dict(word_dict, query)\n",
    "        else:\n",
    "            value = search_dict(word_dict_reverse, query[::-1])\n",
    "        answer.append(value)\n",
    "        marker[query] = value\n",
    "    return answer"
   ]
  },
  {
   "cell_type": "code",
   "execution_count": 63,
   "metadata": {},
   "outputs": [
    {
     "name": "stdout",
     "output_type": "stream",
     "text": [
      "fro?? [3] {'fro??': 3}\n",
      "????o [3, 2] {'fro??': 3, '????o': 2}\n",
      "fr??? [3, 2, 4] {'fro??': 3, '????o': 2, 'fr???': 4}\n",
      "fro??? [3, 2, 4, 1] {'fro??': 3, '????o': 2, 'fr???': 4, 'fro???': 1}\n",
      "pro? [3, 2, 4, 1, 0] {'fro??': 3, '????o': 2, 'fr???': 4, 'fro???': 1, 'pro?': 0}\n"
     ]
    },
    {
     "data": {
      "text/plain": [
       "[3, 2, 4, 1, 0, 3]"
      ]
     },
     "execution_count": 63,
     "metadata": {},
     "output_type": "execute_result"
    }
   ],
   "source": [
    "solution(words, queries)"
   ]
  },
  {
   "cell_type": "code",
   "execution_count": 35,
   "metadata": {},
   "outputs": [
    {
     "data": {
      "text/plain": [
       "{5: {'count': 5,\n",
       "  'f': {'count': 4,\n",
       "   'r': {'count': 4,\n",
       "    'o': {'count': 3,\n",
       "     'd': {'count': 1, 'o': {'count': 1}},\n",
       "     'n': {'count': 1, 't': {'count': 1}},\n",
       "     's': {'count': 1, 't': {'count': 1}}},\n",
       "    'a': {'count': 1, 'm': {'count': 1, 'e': {'count': 1}}}}},\n",
       "  'k': {'count': 1,\n",
       "   'a': {'count': 1,\n",
       "    'k': {'count': 1, 'a': {'count': 1, 'o': {'count': 1}}}}}},\n",
       " 6: {'count': 1,\n",
       "  'f': {'count': 1,\n",
       "   'r': {'count': 1,\n",
       "    'o': {'count': 1,\n",
       "     'z': {'count': 1, 'e': {'count': 1, 'n': {'count': 1}}}}}}}}"
      ]
     },
     "execution_count": 35,
     "metadata": {},
     "output_type": "execute_result"
    }
   ],
   "source": [
    "word_dict"
   ]
  },
  {
   "cell_type": "code",
   "execution_count": 28,
   "metadata": {},
   "outputs": [
    {
     "data": {
      "text/plain": [
       "{5: {'count': 5,\n",
       "  'o': {'count': 2,\n",
       "   'd': {'count': 1, 'o': {'count': 1, 'r': {'count': 1, 'f': {'count': 1}}}},\n",
       "   'a': {'count': 1, 'k': {'count': 1, 'a': {'count': 1, 'k': {'count': 1}}}}},\n",
       "  't': {'count': 2,\n",
       "   'n': {'count': 1, 'o': {'count': 1, 'r': {'count': 1, 'f': {'count': 1}}}},\n",
       "   's': {'count': 1, 'o': {'count': 1, 'r': {'count': 1, 'f': {'count': 1}}}}},\n",
       "  'e': {'count': 1,\n",
       "   'm': {'count': 1,\n",
       "    'a': {'count': 1, 'r': {'count': 1, 'f': {'count': 1}}}}}},\n",
       " 6: {'count': 1,\n",
       "  'n': {'count': 1,\n",
       "   'e': {'count': 1,\n",
       "    'z': {'count': 1,\n",
       "     'o': {'count': 1, 'r': {'count': 1, 'f': {'count': 1}}}}}}}}"
      ]
     },
     "execution_count": 28,
     "metadata": {},
     "output_type": "execute_result"
    }
   ],
   "source": [
    "word_dict_reverse"
   ]
  },
  {
   "cell_type": "code",
   "execution_count": null,
   "metadata": {},
   "outputs": [],
   "source": [
    "def solution(words, queries):\n",
    "    res = []\n",
    "    for q in queries:\n",
    "        n = len(q)\n",
    "        count = 0\n",
    "        front = True\n",
    "        if q[0]==\"?\":\n",
    "            for a in q:\n",
    "                if a==\"?\":\n",
    "                    count += 1\n",
    "                else:\n",
    "                    break\n",
    "        else:\n",
    "            front = False\n",
    "            for a in q[::-1]:\n",
    "                if a==\"?\":\n",
    "                    count += 1\n",
    "                else:\n",
    "                    break\n",
    "        t_res = 0\n",
    "        if front:        \n",
    "            for w in words:\n",
    "                if w[count:]==q[count:]:\n",
    "                    t_res += 1\n",
    "        else:\n",
    "            for w in words:\n",
    "                if w[:-count]==q[:-count]:\n",
    "                    t_res += 1\n",
    "        res.append(t_res)\n",
    "    return res"
   ]
  }
 ],
 "metadata": {
  "kernelspec": {
   "display_name": "Python 3",
   "language": "python",
   "name": "python3"
  },
  "language_info": {
   "codemirror_mode": {
    "name": "ipython",
    "version": 3
   },
   "file_extension": ".py",
   "mimetype": "text/x-python",
   "name": "python",
   "nbconvert_exporter": "python",
   "pygments_lexer": "ipython3",
   "version": "3.7.6"
  }
 },
 "nbformat": 4,
 "nbformat_minor": 4
}
