{
 "cells": [
  {
   "cell_type": "markdown",
   "metadata": {},
   "source": [
    "<div class=\"guide-section-description\">\n",
    "      <h6 class=\"guide-section-title\">문제 설명</h6>\n",
    "      <div class=\"markdown solarized-dark\"><h2>자동완성</h2>\n",
    "\n",
    "<p>포털 다음에서 검색어 자동완성 기능을 넣고 싶은 라이언은 한 번 입력된 문자열을 학습해서 다음 입력 때 활용하고 싶어 졌다. 예를 들어, <code>go</code> 가 한 번 입력되었다면, 다음 사용자는 <code>g</code> 만 입력해도 <code>go</code>를 추천해주므로 <code>o</code>를 입력할 필요가 없어진다! 단, 학습에 사용된 단어들 중 앞부분이 같은 경우에는 어쩔 수 없이 다른 문자가 나올 때까지 입력을 해야 한다.<br>\n",
    "효과가 얼마나 좋을지 알고 싶은 라이언은 학습된 단어들을 찾을 때 몇 글자를 입력해야 하는지 궁금해졌다.</p>\n",
    "\n",
    "<p>예를 들어, 학습된 단어들이 아래와 같을 때</p>\n",
    "<div class=\"highlight\"><pre class=\"codehilite\"><code>go\n",
    "gone\n",
    "guild\n",
    "</code></pre></div>\n",
    "<ul>\n",
    "<li><code>go</code>를 찾을 때 <code>go</code>를 모두 입력해야 한다.</li>\n",
    "<li><code>gone</code>을 찾을 때 <code>gon</code> 까지 입력해야 한다. \n",
    "(<code>gon</code>이 입력되기 전까지는 <code>go</code> 인지 <code>gone</code>인지 확신할 수 없다.)</li>\n",
    "<li><code>guild</code>를 찾을 때는 <code>gu</code> 까지만 입력하면 <code>guild</code>가 완성된다.</li>\n",
    "</ul>\n",
    "\n",
    "<p>이 경우 총 입력해야 할 문자의 수는 <code>7</code>이다.</p>\n",
    "\n",
    "<p>라이언을 도와 위와 같이 문자열이 입력으로 주어지면 학습을 시킨 후, 학습된 단어들을 순서대로 찾을 때 몇 개의 문자를 입력하면 되는지 계산하는 프로그램을 만들어보자.</p>\n",
    "\n",
    "<h3>입력 형식</h3>\n",
    "\n",
    "<p>학습과 검색에 사용될 중복 없는 단어 <code>N</code>개가 주어진다. <br>\n",
    "모든 단어는 알파벳 소문자로 구성되며 단어의 수 <code>N</code>과 단어들의 길이의 총합 <code>L</code>의 범위는 다음과 같다.</p>\n",
    "\n",
    "<ul>\n",
    "<li>2 &lt;= <code>N</code> &lt;= 100,000</li>\n",
    "<li>2 &lt;= <code>L</code> &lt;= 1,000,000</li>\n",
    "</ul>\n",
    "\n",
    "<h3>출력 형식</h3>\n",
    "\n",
    "<p>단어를 찾을 때 입력해야 할 총 문자수를 리턴한다.</p>\n",
    "\n",
    "<h3>입출력 예제</h3>\n",
    "<table>\n",
    "        <thead><tr>\n",
    "<th>words</th>\n",
    "<th>result</th>\n",
    "</tr>\n",
    "</thead>\n",
    "        <tbody><tr>\n",
    "<td>[<q>go</q>,<q>gone</q>,<q>guild</q>]</td>\n",
    "<td>7</td>\n",
    "</tr>\n",
    "<tr>\n",
    "<td>[<q>abc</q>,<q>def</q>,<q>ghi</q>,<q>jklm</q>]</td>\n",
    "<td>4</td>\n",
    "</tr>\n",
    "<tr>\n",
    "<td>[<q>word</q>,<q>war</q>,<q>warrior</q>,<q>world</q>]</td>\n",
    "<td>15</td>\n",
    "</tr>\n",
    "</tbody>\n",
    "      </table>\n",
    "<h3>입출력 설명</h3>\n",
    "\n",
    "<ul>\n",
    "<li>첫 번째 예제는 본문 설명과 같다.</li>\n",
    "<li>두 번째 예제에서는 모든 단어들이 공통된 부분이 없으므로, 가장 앞글자만 입력하면 된다.</li>\n",
    "<li>세 번째 예제는 총 <code>15</code> 자를 입력해야 하고 설명은 아래와 같다.\n",
    "\n",
    "<ul>\n",
    "<li><code>word</code>는 <code>word</code>모두 입력해야 한다.</li>\n",
    "<li><code>war</code>는 <code>war</code> 까지 모두 입력해야 한다.</li>\n",
    "<li><code>warrior</code>는 <code>warr</code> 까지만 입력하면 된다.</li>\n",
    "<li><code>world</code>는 <code>worl</code>까지 입력해야 한다. (<code>word</code>와 구분되어야 함을 명심하자)</li>\n",
    "</ul></li>\n",
    "</ul>\n",
    "\n",
    "<p><a href=\"http://tech.kakao.com/2017/11/14/kakao-blind-recruitment-round-3/\" target=\"_blank\" rel=\"noopener\">해설 보러가기</a></p>\n",
    "</div>\n",
    "    </div>"
   ]
  },
  {
   "cell_type": "code",
   "execution_count": 1,
   "metadata": {},
   "outputs": [],
   "source": [
    "words = [\"word\",\"war\",\"warrior\",\"world\"]"
   ]
  },
  {
   "cell_type": "code",
   "execution_count": 2,
   "metadata": {},
   "outputs": [],
   "source": [
    "def solution(words):\n",
    "    def make_dict(node, word):\n",
    "        for d, c in zip(range(1, len(word)+1), word):\n",
    "            if c not in node:\n",
    "                node[c] = {'count': 0, 'depth': d}\n",
    "            node[c]['count'] += 1\n",
    "            node = node[c]\n",
    "\n",
    "    def search_dict(node, word):\n",
    "        for c in word:\n",
    "            node = node[c]\n",
    "            if node['count'] == 1:\n",
    "                break\n",
    "        return node['depth']\n",
    "\n",
    "    word_dict = dict()\n",
    "    for word in words:\n",
    "        make_dict(word_dict, word)\n",
    "    # print(word_dict)\n",
    "\n",
    "    return sum(search_dict(word_dict, word) for word in words)"
   ]
  },
  {
   "cell_type": "code",
   "execution_count": 3,
   "metadata": {},
   "outputs": [
    {
     "name": "stdout",
     "output_type": "stream",
     "text": [
      "{'w': {'count': 4, 'depth': 1, 'o': {'count': 2, 'depth': 2, 'r': {'count': 2, 'depth': 3, 'd': {'count': 1, 'depth': 4}, 'l': {'count': 1, 'depth': 4, 'd': {'count': 1, 'depth': 5}}}}, 'a': {'count': 2, 'depth': 2, 'r': {'count': 2, 'depth': 3, 'r': {'count': 1, 'depth': 4, 'i': {'count': 1, 'depth': 5, 'o': {'count': 1, 'depth': 6, 'r': {'count': 1, 'depth': 7}}}}}}}}\n"
     ]
    },
    {
     "data": {
      "text/plain": [
       "15"
      ]
     },
     "execution_count": 3,
     "metadata": {},
     "output_type": "execute_result"
    }
   ],
   "source": [
    "solution(words)"
   ]
  }
 ],
 "metadata": {
  "kernelspec": {
   "display_name": "Python 3",
   "language": "python",
   "name": "python3"
  },
  "language_info": {
   "codemirror_mode": {
    "name": "ipython",
    "version": 3
   },
   "file_extension": ".py",
   "mimetype": "text/x-python",
   "name": "python",
   "nbconvert_exporter": "python",
   "pygments_lexer": "ipython3",
   "version": "3.7.6"
  }
 },
 "nbformat": 4,
 "nbformat_minor": 4
}
