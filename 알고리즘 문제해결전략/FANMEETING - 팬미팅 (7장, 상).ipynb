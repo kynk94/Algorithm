{
 "cells": [
  {
   "cell_type": "markdown",
   "metadata": {},
   "source": [
    "## 문제\n",
    "<img src=\"https://user-images.githubusercontent.com/41245985/73911364-16819580-48f5-11ea-95a9-29bf6d73be67.png\" />\n",
    "\n",
    "가장 멤버가 많은 아이돌 그룹으로 기네스 북에 올라 있는 혼성 팝 그룹 하이퍼시니어가 데뷔 10주년 기념 팬 미팅을 개최했습니다.  \n",
    "팬 미팅의 한 순서로, 멤버들과 참가한 팬들이 포옹을 하는 행사를 갖기로 했습니다.  \n",
    "하이퍼시니어의 멤버들은 우선 무대에 일렬로 섭니다.  \n",
    "팬 미팅에 참가한 M명의 팬들은 줄을 서서 맨 오른쪽 멤버에서부터 시작해 한 명씩 왼쪽으로 움직이며 멤버들과 하나씩 포옹을 합니다.  \n",
    "모든 팬들은 동시에 한 명씩 움직입니다. 위 그림은 행사 과정의 일부를 보여줍니다.  \n",
    "a~d는 네 명의 하이퍼시니어 멤버들이고, 0~5는 여섯 명의 팬들입니다.\n",
    "\n",
    "하지만 하이퍼시니어의 남성 멤버들이 남성 팬과 포옹하기가 민망하다고 여겨서, 남성 팬과는 포옹 대신 악수를 하기로 했습니다.  \n",
    "줄을 선 멤버들과 팬들의 성별이 각각 주어질 때 팬 미팅이 진행되는 과정에서 하이퍼시니어의 모든 멤버가 동시에 포옹을 하는 일이 몇 번이나 있는지 계산하는 프로그램을 작성하세요.\n",
    "\n",
    "## 입력\n",
    "첫 줄에 테스트 케이스의 개수 C (C≤20)가 주어집니다.  \n",
    "각 테스트 케이스는 멤버들의 성별과 팬들의 성별을 각각 나타내는 두 줄의 문자열로 구성되어 있습니다.  \n",
    "각 문자열은 왼쪽부터 오른쪽 순서대로 각 사람들의 성별을 나타냅니다.\n",
    "\n",
    "M은 해당하는 사람이 남자, F는 해당하는 사람이 여자임을 나타냅니다.  \n",
    "멤버의 수와 팬의 수는 모두 1 이상 200,000 이하의 정수이며, 멤버의 수는 항상 팬의 수 이하입니다.\n",
    "\n",
    "## 출력\n",
    "각 테스트 케이스마다 한 줄에 모든 멤버들이 포옹을 하는 일이 몇 번이나 있는지 출력합니다.\n",
    "\n",
    "## 예제 입력\n",
    "```\n",
    "4\n",
    "FFFMMM\n",
    "MMMFFF\n",
    "FFFFF\n",
    "FFFFFFFFFF\n",
    "FFFFM\n",
    "FFFFFMMMMF\n",
    "MFMFMFFFMMMFMF\n",
    "MMFFFFFMFFFMFFFFFFMFFFMFFFFMFMMFFFFFFF\n",
    "```\n",
    "\n",
    "## 예제 출력\n",
    "```\n",
    "1\n",
    "6\n",
    "2\n",
    "2\n",
    "```"
   ]
  },
  {
   "cell_type": "markdown",
   "metadata": {},
   "source": [
    "멤버가 남성이고, 팬이 남성일 경우에만 악수를 한다.  \n",
    "나머지 모든 경우는 포옹을 한다."
   ]
  },
  {
   "cell_type": "code",
   "execution_count": 1,
   "metadata": {},
   "outputs": [
    {
     "name": "stdout",
     "output_type": "stream",
     "text": [
      "4\n",
      "FFFMMM\n",
      "MMMFFF\n",
      "FFFFF\n",
      "FFFFFFFFFF\n",
      "FFFFM\n",
      "FFFFFMMMMF\n",
      "MFMFMFFFMMMFMF\n",
      "MMFFFFFMFFFMFFFFFFMFFFMFFFFMFMMFFFFFFF\n"
     ]
    },
    {
     "data": {
      "text/plain": [
       "[('FFFMMM', 'MMMFFF'),\n",
       " ('FFFFF', 'FFFFFFFFFF'),\n",
       " ('FFFFM', 'FFFFFMMMMF'),\n",
       " ('MFMFMFFFMMMFMF', 'MMFFFFFMFFFMFFFFFFMFFFMFFFFMFMMFFFFFFF')]"
      ]
     },
     "execution_count": 1,
     "metadata": {},
     "output_type": "execute_result"
    }
   ],
   "source": [
    "C = int(input())\n",
    "test_case = []\n",
    "for _ in range(C):\n",
    "    mem = input()\n",
    "    fan = input()\n",
    "    test_case.append((mem, fan))\n",
    "test_case"
   ]
  },
  {
   "cell_type": "code",
   "execution_count": 2,
   "metadata": {},
   "outputs": [],
   "source": [
    "def make_test(n=10, max_len=200000):\n",
    "    import numpy as np\n",
    "    test_case = []\n",
    "    while len(test_case) < n:\n",
    "        m = np.random.randint(1, max_len+1)\n",
    "        f = np.random.randint(m, max_len+1)\n",
    "        case = ''.join(['M' if i else 'F' for i in np.random.randint(0, 2, m+f)])\n",
    "        test_case.append((case[:m], case[m:]))\n",
    "    return test_case"
   ]
  },
  {
   "cell_type": "code",
   "execution_count": 3,
   "metadata": {
    "scrolled": true
   },
   "outputs": [
    {
     "name": "stdout",
     "output_type": "stream",
     "text": [
      "('MMMFFF', 'FFMMFMMFFMMFFMFFMFMMMMMMFMMFFF')\n"
     ]
    }
   ],
   "source": [
    "test_case = make_test(10,100)\n",
    "print(test_case[0])"
   ]
  },
  {
   "cell_type": "code",
   "execution_count": 4,
   "metadata": {},
   "outputs": [],
   "source": [
    "# 2중 for 문\n",
    "def solution_1(case):\n",
    "    mem, fan = case\n",
    "    count = 0\n",
    "    for i in range(len(fan)-len(mem)+1):\n",
    "        for j, k in zip(mem, fan[i:]):\n",
    "            if j == k == 'M':\n",
    "                break\n",
    "        else:\n",
    "            count += 1\n",
    "    return count"
   ]
  },
  {
   "cell_type": "code",
   "execution_count": 5,
   "metadata": {
    "scrolled": true
   },
   "outputs": [],
   "source": [
    "# 비트 연산, ''.join\n",
    "def solution_2(case):\n",
    "    mem, fan = case\n",
    "    \n",
    "    mem_bit = int(''.join(['1' if i == 'M' else '0' for i in mem]), 2)\n",
    "    fan_bit = int(''.join(['1' if i == 'M' else '0' for i in fan]), 2)\n",
    "    \n",
    "    count = 0\n",
    "    for i in range(len(fan)-len(mem)+1):\n",
    "        if mem_bit & fan_bit == 0:\n",
    "            count += 1\n",
    "        mem_bit <<= 1\n",
    "    return count"
   ]
  },
  {
   "cell_type": "code",
   "execution_count": 6,
   "metadata": {},
   "outputs": [],
   "source": [
    "# 비트 연산, str.replace\n",
    "def solution_3(case):\n",
    "    mem, fan = case\n",
    "    \n",
    "    mem_bit = int(mem.replace('M', '1').replace('F', '0'), 2)\n",
    "    fan_bit = int(fan.replace('M', '1').replace('F', '0'), 2)\n",
    "    \n",
    "    count = 0\n",
    "    for i in range(len(fan)-len(mem)+1):\n",
    "        if (mem_bit << i) & fan_bit == 0:\n",
    "            count += 1\n",
    "    return count"
   ]
  },
  {
   "cell_type": "code",
   "execution_count": 7,
   "metadata": {
    "scrolled": true
   },
   "outputs": [
    {
     "name": "stdout",
     "output_type": "stream",
     "text": [
      "256 µs ± 27.1 µs per loop (mean ± std. dev. of 7 runs, 1000 loops each)\n",
      "197 µs ± 23.2 µs per loop (mean ± std. dev. of 7 runs, 1000 loops each)\n",
      "94.9 µs ± 4.35 µs per loop (mean ± std. dev. of 7 runs, 10000 loops each)\n"
     ]
    }
   ],
   "source": [
    "%timeit -n 1000 -r 7 [solution_1(case) for case in test_case]\n",
    "%timeit -n 1000 -r 7 [solution_2(case) for case in test_case]\n",
    "%timeit -n 10000 -r 7 [solution_3(case) for case in test_case]"
   ]
  }
 ],
 "metadata": {
  "kernelspec": {
   "display_name": "Python 3",
   "language": "python",
   "name": "python3"
  },
  "language_info": {
   "codemirror_mode": {
    "name": "ipython",
    "version": 3
   },
   "file_extension": ".py",
   "mimetype": "text/x-python",
   "name": "python",
   "nbconvert_exporter": "python",
   "pygments_lexer": "ipython3",
   "version": "3.7.3"
  }
 },
 "nbformat": 4,
 "nbformat_minor": 2
}
