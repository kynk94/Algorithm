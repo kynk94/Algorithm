{
 "cells": [
  {
   "cell_type": "markdown",
   "metadata": {},
   "source": [
    "## 문제\n",
    "<img src=\"https://user-images.githubusercontent.com/41245985/73469499-c6bd3e80-43c9-11ea-96e9-d0afc0f1224f.png\" />\n",
    "\n",
    "너비가 같은 N개의 나무 판자를 붙여 세운 울타리가 있습니다. 시간이 지남에 따라 판자들이 부러지거나 망가져 높이가 다 달라진 관계로 울타리를 통째로 교체하기로 했습니다. 이 때 버리는 울타리의 일부를 직사각형으로 잘라내 재활용하고 싶습니다.  \n",
    "그림 (b)는 (a)의 울타리에서 잘라낼 수 있는 많은 직사각형 중 가장 넓은 직사각형을 보여줍니다.  \n",
    "울타리를 구성하는 각 판자의 높이가 주어질 때, 잘라낼 수 있는 직사각형의 최대 크기를 계산하는 프로그램을 작성하세요.  \n",
    "단 (c)처럼 직사각형을 비스듬히 잘라낼 수는 없습니다.\n",
    "\n",
    "판자의 너비는 모두 1이라고 가정합니다.\n",
    "\n",
    "## 입력\n",
    "첫 줄에 테스트 케이스의 개수 C (C≤50)가 주어집니다.  \n",
    "각 테스트 케이스의 첫 줄에는 판자의 수 N (1≤N≤20000)이 주어집니다.  \n",
    "그 다음 줄에는 N개의 정수로 왼쪽부터 각 판자의 높이가 순서대로 주어집니다.  \n",
    "높이는 모두 10,000 이하의 음이 아닌 정수입니다.\n",
    "\n",
    "## 출력\n",
    "각 테스트 케이스당 정수 하나를 한 줄에 출력합니다.  \n",
    "이 정수는 주어진 울타리에서 잘라낼 수 있는 최대 직사각형의 크기를 나타내야 합니다.\n",
    "\n",
    "## 예제 입력\n",
    "```\n",
    "3\n",
    "7\n",
    "7 1 5 9 6 7 3\n",
    "7\n",
    "1 4 4 4 4 1 1\n",
    "4\n",
    "1 8 2 2\n",
    "```\n",
    "## 예제 출력\n",
    "```\n",
    "20\n",
    "16\n",
    "8\n",
    "```"
   ]
  },
  {
   "cell_type": "code",
   "execution_count": 1,
   "metadata": {},
   "outputs": [
    {
     "name": "stdout",
     "output_type": "stream",
     "text": [
      "3\n",
      "7\n",
      "7 1 5 9 6 7 3\n",
      "7\n",
      "1 4 4 4 4 1 1\n",
      "4\n",
      "1 8 2 2\n"
     ]
    },
    {
     "data": {
      "text/plain": [
       "[(7, [7, 1, 5, 9, 6, 7, 3]), (7, [1, 4, 4, 4, 4, 1, 1]), (4, [1, 8, 2, 2])]"
      ]
     },
     "execution_count": 1,
     "metadata": {},
     "output_type": "execute_result"
    }
   ],
   "source": [
    "C = int(input())\n",
    "test_case = []\n",
    "for _ in range(C):\n",
    "    n = int(input())\n",
    "    fence = list(map(int, input().split()))\n",
    "    test_case.append((n, fence))\n",
    "test_case"
   ]
  },
  {
   "cell_type": "code",
   "execution_count": 2,
   "metadata": {},
   "outputs": [],
   "source": [
    "def make_test(n=10, max_fences=20000, max_height=10000):\n",
    "    import numpy as np\n",
    "    test_case = []\n",
    "    while len(test_case) < n:\n",
    "        N = np.random.randint(1, max_fences+1)\n",
    "        fences = np.random.randint(1, max_height+1, N).tolist()\n",
    "        test_case.append((N, fences))\n",
    "    return test_case"
   ]
  },
  {
   "cell_type": "code",
   "execution_count": 3,
   "metadata": {},
   "outputs": [
    {
     "name": "stdout",
     "output_type": "stream",
     "text": [
      "(26, [62, 28, 2, 26, 82, 16, 22, 81, 22, 85, 80, 82, 94, 58, 86, 17, 99, 70, 98, 57, 46, 57, 85, 86, 27, 62])\n",
      "(25, [69, 98, 82, 39, 70, 53, 27, 55, 71, 14, 3, 22, 7, 75, 60, 85, 18, 62, 92, 34, 12, 8, 81, 88, 15])\n",
      "(14, [20, 67, 5, 20, 65, 100, 3, 28, 84, 82, 73, 66, 18, 52])\n",
      "(14, [13, 48, 78, 6, 34, 12, 19, 43, 74, 18, 76, 14, 32, 97])\n",
      "(1, [66])\n",
      "(28, [32, 2, 92, 88, 41, 52, 50, 13, 46, 36, 48, 99, 97, 67, 53, 41, 23, 84, 21, 43, 72, 38, 36, 95, 91, 23, 8, 72])\n",
      "(1, [56])\n",
      "(29, [87, 41, 5, 4, 6, 53, 49, 80, 22, 43, 10, 60, 8, 38, 18, 62, 30, 37, 65, 36, 75, 96, 100, 40, 13, 16, 87, 84, 65])\n",
      "(20, [3, 88, 91, 53, 89, 57, 67, 65, 19, 82, 49, 45, 40, 27, 81, 67, 89, 30, 86, 48])\n",
      "(11, [37, 93, 3, 76, 19, 21, 85, 76, 63, 27, 64])\n"
     ]
    }
   ],
   "source": [
    "test_case = make_test(10, 30, 100)\n",
    "for i in test_case:\n",
    "    print(i)"
   ]
  },
  {
   "cell_type": "code",
   "execution_count": 4,
   "metadata": {},
   "outputs": [],
   "source": [
    "# 완전 탐색, 시간 초과\n",
    "def solution_1(case):\n",
    "    n, fences = case\n",
    "    max_area = 0\n",
    "    for i in range(n):\n",
    "        min_fence = fences[i]\n",
    "        for j in range(i, n):\n",
    "            if min_fence > fences[j]:\n",
    "                min_fence = fences[j]\n",
    "            area = (j - i + 1)*min_fence\n",
    "            if area > max_area:\n",
    "                max_area = area\n",
    "    return max_area"
   ]
  },
  {
   "cell_type": "code",
   "execution_count": 5,
   "metadata": {},
   "outputs": [],
   "source": [
    "# 분할 정복, 통과\n",
    "def solution_2(case):\n",
    "    n, fences = case\n",
    "    \n",
    "    def find_area(left, right):\n",
    "        if left == right:\n",
    "            return fences[left]\n",
    "        mid = (left + right)//2\n",
    "        \n",
    "        low, high, width = mid, mid + 1, 2\n",
    "        height = min(fences[low], fences[high])\n",
    "        max_area = max(find_area(left, low), find_area(high, right), 2 * height)\n",
    "        \n",
    "        while left < low or high < right:\n",
    "            if high == right:\n",
    "                low -= 1\n",
    "                if height > fences[low]:\n",
    "                    height = fences[low]\n",
    "            elif low == left:\n",
    "                high += 1\n",
    "                if height > fences[high]:\n",
    "                    height = fences[high]\n",
    "            elif fences[high+1] > fences[low-1]:\n",
    "                high += 1\n",
    "                if height > fences[high]:\n",
    "                    height = fences[high]\n",
    "            else:\n",
    "                low -= 1\n",
    "                if height > fences[low]:\n",
    "                    height = fences[low]\n",
    "            width += 1\n",
    "            area = height * width\n",
    "            if area > max_area:\n",
    "                max_area = area\n",
    "        return max_area\n",
    "    \n",
    "    return find_area(0, n-1)"
   ]
  },
  {
   "cell_type": "code",
   "execution_count": 6,
   "metadata": {},
   "outputs": [],
   "source": [
    "# 분할 정복, 책에 있는 방법, 시간 초과\n",
    "def solution_3(case):\n",
    "    n, fences = case\n",
    "    \n",
    "    def find_area(left, right):\n",
    "        if left == right:\n",
    "            return fences[left]\n",
    "        mid = (left + right)//2\n",
    "        \n",
    "        max_area = max(find_area(left, mid), find_area(mid+1, right))\n",
    "        \n",
    "        low, high = mid, mid + 1\n",
    "        height = min(fences[low], fences[high])\n",
    "        max_area = max(max_area, height * 2)\n",
    "        \n",
    "        while left < low or high < right:\n",
    "            if high < right and (low == left or fences[low-1] < fences[high+1]):\n",
    "                high += 1\n",
    "                if fences[high] < height:\n",
    "                    height = fences[high]\n",
    "            else:\n",
    "                low -= 1\n",
    "                if fences[low] < height:\n",
    "                    height = fences[low]\n",
    "            max_area = max(max_area, height*(high - low + 1))\n",
    "        return max_area\n",
    "    \n",
    "    return find_area(0, n-1)"
   ]
  },
  {
   "cell_type": "markdown",
   "metadata": {},
   "source": [
    "스위핑 알고리즘으로 상수 시간 복잡도로 풀이가 가능하다고 하나, 방법이 떠오르지 않는다.\n",
    "15장을 공부한 후 다시 생각해보자.\n",
    "\n",
    "마찬가지로 상호 배타적 집합을 이용하면 마찬가지로 nlogn 복잡도로 풀 수 있다고 한다."
   ]
  },
  {
   "cell_type": "code",
   "execution_count": 7,
   "metadata": {},
   "outputs": [
    {
     "name": "stdout",
     "output_type": "stream",
     "text": [
      "477 µs ± 45 µs per loop (mean ± std. dev. of 7 runs, 1000 loops each)\n",
      "366 µs ± 20 µs per loop (mean ± std. dev. of 7 runs, 1000 loops each)\n",
      "495 µs ± 34.2 µs per loop (mean ± std. dev. of 7 runs, 1000 loops each)\n"
     ]
    }
   ],
   "source": [
    "%timeit [solution_1(case) for case in test_case]\n",
    "%timeit [solution_2(case) for case in test_case]\n",
    "%timeit [solution_3(case) for case in test_case]"
   ]
  }
 ],
 "metadata": {
  "kernelspec": {
   "display_name": "Python 3",
   "language": "python",
   "name": "python3"
  },
  "language_info": {
   "codemirror_mode": {
    "name": "ipython",
    "version": 3
   },
   "file_extension": ".py",
   "mimetype": "text/x-python",
   "name": "python",
   "nbconvert_exporter": "python",
   "pygments_lexer": "ipython3",
   "version": "3.7.3"
  }
 },
 "nbformat": 4,
 "nbformat_minor": 2
}
