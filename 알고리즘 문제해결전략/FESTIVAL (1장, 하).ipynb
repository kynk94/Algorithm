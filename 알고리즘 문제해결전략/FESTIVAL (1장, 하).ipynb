{
 "cells": [
  {
   "cell_type": "markdown",
   "metadata": {},
   "source": [
    "## 문제\n",
    "커다란 공연장을 빌려서 록 페스티벌을 개최하려고 합니다. 이 페스티벌은 여러 날 동안 진행되며, 하루에 한 팀의 밴드가 공연장에서 콘서트를 하게 됩니다. 전체 밴드를 몇 팀 섭외할 지는 아직 결정하지 않았지만, 페스티벌의 간판 스타인 L개의 팀은 이미 섭외가 끝난 상태입니다.  \n",
    "따라서 페스티벌은 최소 L일 이상 진행하게 됩니다.\n",
    "\n",
    "이번에 사용할 공연장은 하루 빌리는 데 드는 비용이 매일 매일 다릅니다. 때문에 공연 일정을 잘 정해서 공연장 대여 비용을 줄이려고 합니다.  \n",
    "앞으로 N일간의 공연장 대여 비용을 알고 있다고 합시다. 이 중 L일 이상을 연속해서 대여하되, 공연장을 하루 빌리는 데 드는 평균 비용을 최소화하려면 어떻게 공연장을 빌려야 할까요?\n",
    "\n",
    "예를 들어 앞으로 6일간 공연장을 빌리는 데 드는 비용이 각 {3, 1, 2, 3, 1, 2}라고 합시다.  \n",
    "이미 세 팀을 섭외했다고 하면, 3일 대신 4일 동안 공연을 진행해서 평균 비용을 더 저렴하게 할 수 있습니다.  \n",
    "3일 동안의 평균 대여 비용을 최소화하는 방법은 2일째부터 4일째까지 공연장을 대여하는 것인데, 이 때 하루 평균 (1+2+3)/3 = 2의 비용이 듭니다.  \n",
    "반면 2일째부터 5일째까지 공연장을 대여하면 평균 비용이 (1+2+3+1)/4 = 7/4밖에 되지 않습니다.\n",
    "\n",
    "## 입력\n",
    "입력의 첫 줄에는 테스트 케이스의 수 C (C ≤ 100)가 주어집니다.  \n",
    "각 테스트 케이스의 첫 줄에는 공연장을 대여할 수 있는 날들의 수 N (1 ≤ N ≤ 1000)과 이미 섭외한 공연 팀의 수 L (1 ≤ L ≤ 1000, L ≤ N)이 주어집니다.  \n",
    "그 다음 줄에는 N개의 숫자로 공연장 대여 비용이 날짜별로 주어집니다. 모든 비용은 100 이하의 자연수입니다.\n",
    "\n",
    "## 출력\n",
    "입력에 주어지는 각 테스트 케이스마다 한 줄에 최소의 평균 대여 비용을 출력합니다. $10^{-7}$ 이하의 절대/상대 오차가 있는 답은 정답 처리됩니다.\n",
    "\n",
    "## 예제 입력\n",
    "```\n",
    "2\n",
    "6 3\n",
    "1 2 3 1 2 3\n",
    "6 2\n",
    "1 2 3 1 2 3\n",
    "```\n",
    "\n",
    "## 예제 출력\n",
    "```\n",
    "1.75000000000\n",
    "1.50000000000\n",
    "```"
   ]
  },
  {
   "cell_type": "code",
   "execution_count": 1,
   "metadata": {},
   "outputs": [
    {
     "name": "stdout",
     "output_type": "stream",
     "text": [
      "2\n",
      "6 3\n",
      "1 2 3 1 2 3\n",
      "6 2\n",
      "1 2 3 1 2 3\n"
     ]
    }
   ],
   "source": [
    "C = int(input())\n",
    "test_case = []\n",
    "for _ in range(C):\n",
    "    N, L = map(int, input().split())\n",
    "    cost = list(map(int, input().split()))\n",
    "    test_case.append((N, L, cost))"
   ]
  },
  {
   "cell_type": "code",
   "execution_count": 2,
   "metadata": {},
   "outputs": [],
   "source": [
    "def solution(N, L, cost):\n",
    "    if L == 1:\n",
    "        return min(cost)\n",
    "    total = sum(cost[0:L])\n",
    "    mean = total / L\n",
    "    min_mean = mean\n",
    "    for i in range(L, N):\n",
    "        total += cost[i]\n",
    "        local = total\n",
    "        mean = total / (i+1)\n",
    "        if mean < min_mean:\n",
    "            min_mean = mean\n",
    "        for j in range(i-L+1):\n",
    "            local -= cost[j]\n",
    "            mean = local / (i-j)\n",
    "            if mean < min_mean:\n",
    "                min_mean = mean\n",
    "    return min_mean"
   ]
  },
  {
   "cell_type": "code",
   "execution_count": 3,
   "metadata": {},
   "outputs": [],
   "source": [
    "def make_test(n=10, max_day=1000):\n",
    "    import numpy as np\n",
    "    test_case = []\n",
    "    while len(test_case) < n:\n",
    "        day = np.random.randint(1, max_day+1)\n",
    "        team = np.random.randint(1, day+1)\n",
    "        cost = np.random.randint(1, 101, day).tolist()\n",
    "        test_case.append((day, team, cost))\n",
    "    return test_case"
   ]
  },
  {
   "cell_type": "code",
   "execution_count": 4,
   "metadata": {
    "scrolled": true
   },
   "outputs": [],
   "source": [
    "test_case = make_test(n=100, max_day=1000)"
   ]
  },
  {
   "cell_type": "code",
   "execution_count": 5,
   "metadata": {},
   "outputs": [
    {
     "name": "stdout",
     "output_type": "stream",
     "text": [
      "660 ms ± 9.72 ms per loop (mean ± std. dev. of 3 runs, 10 loops each)\n"
     ]
    }
   ],
   "source": [
    "%timeit -n 10 -r 3 [solution(N, L, cost) for N, L, cost in test_case]"
   ]
  }
 ],
 "metadata": {
  "kernelspec": {
   "display_name": "Python 3",
   "language": "python",
   "name": "python3"
  },
  "language_info": {
   "codemirror_mode": {
    "name": "ipython",
    "version": 3
   },
   "file_extension": ".py",
   "mimetype": "text/x-python",
   "name": "python",
   "nbconvert_exporter": "python",
   "pygments_lexer": "ipython3",
   "version": "3.7.4"
  }
 },
 "nbformat": 4,
 "nbformat_minor": 4
}
