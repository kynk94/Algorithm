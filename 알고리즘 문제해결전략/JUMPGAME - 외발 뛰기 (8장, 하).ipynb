{
 "cells": [
  {
   "cell_type": "markdown",
   "metadata": {},
   "source": [
    "## 문제\n",
    "<img src=\"https://user-images.githubusercontent.com/41245985/74449995-beccc680-4ec0-11ea-8a0f-9b311a85f807.png\" />\n",
    "\n",
    "땅따먹기를 하다 질린 재하와 영훈이는 땅따먹기의 변종인 새로운 게임을 하기로 했습니다.  \n",
    "이 게임은 그림과 같이 $n\\times n$ 크기의 격자에 각 1부터 9 사이의 정수를 쓴 상태로 시작합니다.  \n",
    "각 차례인 사람은 맨 왼쪽 윗 칸에서 시작해 외발로 뛰어서 오른쪽 아래 칸으로 내려가야 합니다.  \n",
    "이 때 각 칸에 적혀 있는 숫자만큼 오른쪽이나 아래 칸으로 움직일 수 있으며, 중간에 게임판 밖으로 벗어나면 안 됩니다.\n",
    "\n",
    "균형을 잃어서 다른 발로 서거나 넘어져도 게임에서 집니다만, 재하와 영훈이는 젊고 활기차기 때문에 외발로 뛰어다니는 것은 아무것도 아닙니다.  \n",
    "다만 걱정되는 것은 주어진 게임판에 시작점에서 끝점으로 가는 방법이 존재하지 않을 수도 있다는 것입니다.  \n",
    "예를 들어 그림 (a)의 게임판에서는 사각형으로 표시된 칸들을 통해 끝에 도달할 수 있지만, 숫자가 하나 바뀐 그림 (b)에서는 그럴 수가 없습니다.\n",
    "\n",
    "게임판이 주어질 때 왼쪽 위의 시작점에서 오른쪽 아래의 시작점에 도달할 수 있는 방법이 있는지 확인하는 프로그램을 작성하세요.\n",
    "\n",
    "## 입력\n",
    "입력의 첫 줄에는 테스트 케이스의 수 C(C <= 50)가 주어집니다.  \n",
    "각 테스트 케이스의 첫 줄에는 격자의 크기 n(2 <= n <= 100)이 주어지고, 그 후 n줄에 각 n개의 숫자로 왼쪽 위부터 각 칸에 쓰인 숫자들이 주어집니다.  \n",
    "오른쪽 아래 있는 끝 점 위치에는 0이 주어집니다.\n",
    "\n",
    "## 출력\n",
    "각 테스트 케이스마다 한 줄로, 시작점에서 끝 점으로 도달할 수 있을 경우 \"YES\"를, 아닐 경우 \"NO\"를 출력합니다. (따옴표 제외)\n",
    "\n",
    "## 예제 입력\n",
    "```\n",
    "2\n",
    "7\n",
    "2 5 1 6 1 4 1\n",
    "6 1 1 2 2 9 3\n",
    "7 2 3 2 1 3 1\n",
    "1 1 3 1 7 1 2\n",
    "4 1 2 3 4 1 2\n",
    "3 3 1 2 3 4 1\n",
    "1 5 2 9 4 7 0\n",
    "7\n",
    "2 5 1 6 1 4 1\n",
    "6 1 1 2 2 9 3\n",
    "7 2 3 2 1 3 1\n",
    "1 1 3 1 7 1 2\n",
    "4 1 2 3 4 1 3\n",
    "3 3 1 2 3 4 1\n",
    "1 5 2 9 4 7 0\n",
    "```\n",
    "\n",
    "## 예제 출력\n",
    "```\n",
    "YES\n",
    "NO\n",
    "```"
   ]
  },
  {
   "cell_type": "code",
   "execution_count": 1,
   "metadata": {},
   "outputs": [
    {
     "name": "stdout",
     "output_type": "stream",
     "text": [
      "2\n",
      "7\n",
      "2 5 1 6 1 4 1\n",
      "6 1 1 2 2 9 3\n",
      "7 2 3 2 1 3 1\n",
      "1 1 3 1 7 1 2\n",
      "4 1 2 3 4 1 2\n",
      "3 3 1 2 3 4 1\n",
      "1 5 2 9 4 7 0\n",
      "7\n",
      "2 5 1 6 1 4 1\n",
      "6 1 1 2 2 9 3\n",
      "7 2 3 2 1 3 1\n",
      "1 1 3 1 7 1 2\n",
      "4 1 2 3 4 1 3\n",
      "3 3 1 2 3 4 1\n",
      "1 5 2 9 4 7 0\n"
     ]
    },
    {
     "data": {
      "text/plain": [
       "[(7,\n",
       "  [[2, 5, 1, 6, 1, 4, 1],\n",
       "   [6, 1, 1, 2, 2, 9, 3],\n",
       "   [7, 2, 3, 2, 1, 3, 1],\n",
       "   [1, 1, 3, 1, 7, 1, 2],\n",
       "   [4, 1, 2, 3, 4, 1, 2],\n",
       "   [3, 3, 1, 2, 3, 4, 1],\n",
       "   [1, 5, 2, 9, 4, 7, 0]]),\n",
       " (7,\n",
       "  [[2, 5, 1, 6, 1, 4, 1],\n",
       "   [6, 1, 1, 2, 2, 9, 3],\n",
       "   [7, 2, 3, 2, 1, 3, 1],\n",
       "   [1, 1, 3, 1, 7, 1, 2],\n",
       "   [4, 1, 2, 3, 4, 1, 3],\n",
       "   [3, 3, 1, 2, 3, 4, 1],\n",
       "   [1, 5, 2, 9, 4, 7, 0]])]"
      ]
     },
     "execution_count": 1,
     "metadata": {},
     "output_type": "execute_result"
    }
   ],
   "source": [
    "C = int(input())\n",
    "test_case = []\n",
    "for _ in range(C):\n",
    "    n = int(input())\n",
    "    board = [list(map(int, input().split())) for _ in range(n)]\n",
    "    test_case.append((n, board))\n",
    "test_case"
   ]
  },
  {
   "cell_type": "code",
   "execution_count": 2,
   "metadata": {},
   "outputs": [],
   "source": [
    "# O(n^2) 방법, marker가 True이면 진행하는 방법\n",
    "def solution_1(n, board):\n",
    "    marker = [[False]*n for _ in range(n)]\n",
    "    marker[0][0] = True\n",
    "    \n",
    "    for i in range(n):\n",
    "        for j in range(n):\n",
    "            if marker[i][j]:\n",
    "                x, y = i + board[i][j], j + board[i][j]\n",
    "                if x < n:\n",
    "                    marker[x][j] = True\n",
    "                if y < n:\n",
    "                    marker[i][y] = True\n",
    "                    \n",
    "    if marker[i][j]:\n",
    "        return \"YES\"\n",
    "    else:\n",
    "        return \"NO\""
   ]
  },
  {
   "cell_type": "code",
   "execution_count": 3,
   "metadata": {},
   "outputs": [],
   "source": [
    "# 책에 서술된 방법.\n",
    "# solution_1보다 계산횟수가 적다. 게임판이 크면 확실히 체감됨.\n",
    "def solution_2(n, board):\n",
    "    marker = [[-1]*n for _ in range(n)]\n",
    "    def jump(x, y):\n",
    "        if x >= n or y >= n:\n",
    "            return False\n",
    "        if x == n-1 and y == n-1:\n",
    "            return True\n",
    "        \n",
    "        if marker[x][y] != -1:\n",
    "            return marker[x][y]\n",
    "        \n",
    "        size = board[x][y]\n",
    "        marker[x][y] = jump(x + size, y) or jump(x, y + size)\n",
    "        \n",
    "        return marker[x][y]\n",
    "    \n",
    "    return \"YES\" if jump(0, 0) else \"NO\""
   ]
  },
  {
   "cell_type": "code",
   "execution_count": 4,
   "metadata": {},
   "outputs": [
    {
     "name": "stdout",
     "output_type": "stream",
     "text": [
      "29.3 µs ± 720 ns per loop (mean ± std. dev. of 7 runs, 10000 loops each)\n",
      "30.2 µs ± 717 ns per loop (mean ± std. dev. of 7 runs, 10000 loops each)\n"
     ]
    }
   ],
   "source": [
    "%timeit [solution_1(case[0], case[1]) for case in test_case]\n",
    "%timeit [solution_2(case[0], case[1]) for case in test_case]"
   ]
  }
 ],
 "metadata": {
  "kernelspec": {
   "display_name": "Python 3",
   "language": "python",
   "name": "python3"
  },
  "language_info": {
   "codemirror_mode": {
    "name": "ipython",
    "version": 3
   },
   "file_extension": ".py",
   "mimetype": "text/x-python",
   "name": "python",
   "nbconvert_exporter": "python",
   "pygments_lexer": "ipython3",
   "version": "3.7.3"
  }
 },
 "nbformat": 4,
 "nbformat_minor": 2
}
