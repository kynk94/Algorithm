{
 "cells": [
  {
   "cell_type": "markdown",
   "metadata": {},
   "source": [
    "## 문제\n",
    "<img src=\"https://user-images.githubusercontent.com/41245985/73416598-a43f0d00-4358-11ea-8e8f-aa6be7339124.png\" />\n",
    "\n",
    "대량의 좌표 데이터를 메모리 안에 압축해 저장하기 위해 사용하는 여러 기법 중 쿼드 트리(quad tree)란 것이 있습니다. 주어진 공간을 항상 4개로 분할해 재귀적으로 표현하기 때문에 쿼드 트리라는 이름이 붙었는데, 이의 유명한 사용처 중 하나는 검은 색과 흰 색밖에 없는 흑백 그림을 압축해 표현하는 것입니다. 쿼드 트리는 2N × 2N 크기의 흑백 그림을 다음과 같은 과정을 거쳐 문자열로 압축합니다.\n",
    "\n",
    "* 이 그림의 모든 픽셀이 검은 색일 경우 이 그림의 쿼드 트리 압축 결과는 그림의 크기에 관계없이 b가 됩니다.  \n",
    "* 이 그림의 모든 픽셀이 흰 색일 경우 이 그림의 쿼드 트리 압축 결과는 그림의 크기에 관계없이 w가 됩니다.  \n",
    "* 모든 픽셀이 같은 색이 아니라면, 쿼드 트리는 이 그림을 가로 세로로 각각 2등분해 4개의 조각으로 쪼갠 뒤 각각을 쿼드 트리 압축합니다.  \n",
    "이때 전체 그림의 압축 결과는 x(왼쪽 위 부분의 압축 결과)(오른쪽 위 부분의 압축 결과)(왼쪽 아래 부분의 압축 결과)(오른쪽 아래 부분의 압축 결과)가 됩니다.  \n",
    "예를 들어 그림 (a)의 왼쪽 위 4분면은 xwwwb로 압축됩니다.\n",
    "\n",
    "그림 (a)와 그림 (b)는 16×16 크기의 예제 그림을 쿼드 트리가 어떻게 분할해 압축하는지를 보여줍니다.  \n",
    "이때 전체 그림의 압축 결과는 xxwww bxwxw bbbww xxxww bbbww wwbb가 됩니다.\n",
    "\n",
    "쿼드 트리로 압축된 흑백 그림이 주어졌을 때, 이 그림을 상하로 뒤집은 그림 을 쿼드 트리 압축해서 출력하는 프로그램을 작성하세요.\n",
    "\n",
    "## 입력\n",
    "첫 줄에 테스트 케이스의 개수 C (C≤50)가 주어집니다. 그 후 C줄에 하나씩 쿼드 트리로 압축한 그림이 주어집니다.  \n",
    "모든 문자열의 길이는 1,000 이하이며, 원본 그림의 크기는 220 × 220 을 넘지 않습니다.\n",
    "\n",
    "## 출력\n",
    "각 테스트 케이스당 한 줄에 주어진 그림을 상하로 뒤집은 결과를 쿼드 트리 압축해서 출력합니다.\n",
    "\n",
    "## 예제 입력\n",
    "```\n",
    "4\n",
    "w\n",
    "xbwwb\n",
    "xbwxwbbwb\n",
    "xxwwwbxwxwbbbwwxxxwwbbbwwwwbb\n",
    "```\n",
    "## 예제 출력\n",
    "```\n",
    "w\n",
    "xwbbw\n",
    "xxbwwbbbw\n",
    "xxwbxwwxbbwwbwbxwbwwxwwwxbbwb\n",
    "```"
   ]
  },
  {
   "cell_type": "code",
   "execution_count": 1,
   "metadata": {},
   "outputs": [
    {
     "name": "stdout",
     "output_type": "stream",
     "text": [
      "4\n",
      "w\n",
      "xbwwb\n",
      "xbwxwbbwb\n",
      "xxwwwbxwxwbbbwwxxxwwbbbwwwwbb\n"
     ]
    }
   ],
   "source": [
    "C = int(input())\n",
    "test_case = []\n",
    "for _ in range(C):\n",
    "    test_case.append(input())"
   ]
  },
  {
   "cell_type": "markdown",
   "metadata": {},
   "source": [
    "xxwwwbxwxwbbbwwxxxwwbbbwwwwbb 를 트리구조로 본다면  \n",
    "(wwwb)(w(wbbb)ww)(((wwbb)bww)wwb)b 와 같다."
   ]
  },
  {
   "cell_type": "code",
   "execution_count": 2,
   "metadata": {},
   "outputs": [],
   "source": [
    "def reverse(tree, idx=0):\n",
    "    root = tree[idx]\n",
    "    if root != \"x\":\n",
    "        return root\n",
    "    \n",
    "    idx += 1\n",
    "    lt = reverse(tree, idx)\n",
    "    idx += len(lt)\n",
    "    rt = reverse(tree, idx)\n",
    "    idx += len(rt)\n",
    "    lb = reverse(tree, idx)\n",
    "    idx += len(lb)\n",
    "    rb = reverse(tree, idx)\n",
    "    \n",
    "    return \"x{}{}{}{}\".format(lb, rb, lt, rt)"
   ]
  },
  {
   "cell_type": "code",
   "execution_count": 3,
   "metadata": {},
   "outputs": [],
   "source": [
    "def reverse_2(string):\n",
    "    string_list = list(string)\n",
    "    \n",
    "    for i in range(len(string)-1, -1, -1):\n",
    "        if string[i] == 'x':\n",
    "            string_list[i:i+5] = [[\n",
    "                string_list[i],\n",
    "                string_list[i+3],\n",
    "                string_list[i+4],\n",
    "                string_list[i+1],\n",
    "                string_list[i+2]\n",
    "            ]]\n",
    "            \n",
    "    answer = ''\n",
    "    for i in str(string_list):\n",
    "        if i in 'xwb':\n",
    "            answer += i\n",
    "\n",
    "    return answer"
   ]
  },
  {
   "cell_type": "code",
   "execution_count": 4,
   "metadata": {},
   "outputs": [
    {
     "name": "stdout",
     "output_type": "stream",
     "text": [
      "15.4 µs ± 322 ns per loop (mean ± std. dev. of 7 runs, 100000 loops each)\n",
      "32.5 µs ± 1.18 µs per loop (mean ± std. dev. of 7 runs, 10000 loops each)\n"
     ]
    }
   ],
   "source": [
    "%timeit [reverse(case) for case in test_case]\n",
    "%timeit [reverse_2(case) for case in test_case]"
   ]
  }
 ],
 "metadata": {
  "kernelspec": {
   "display_name": "Python 3",
   "language": "python",
   "name": "python3"
  },
  "language_info": {
   "codemirror_mode": {
    "name": "ipython",
    "version": 3
   },
   "file_extension": ".py",
   "mimetype": "text/x-python",
   "name": "python",
   "nbconvert_exporter": "python",
   "pygments_lexer": "ipython3",
   "version": "3.7.3"
  }
 },
 "nbformat": 4,
 "nbformat_minor": 2
}
