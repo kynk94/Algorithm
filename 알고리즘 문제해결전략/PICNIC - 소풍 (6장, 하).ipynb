{
 "cells": [
  {
   "cell_type": "markdown",
   "metadata": {},
   "source": [
    "## 문제\n",
    "안드로메다 유치원 익스프레스반에서는 다음 주에 율동공원으로 소풍을 갑니다.  \n",
    "원석 선생님은 소풍 때 학생들을 두 명씩 짝을 지어 행동하게 하려고 합니다.  \n",
    "그런데 서로 친구가 아닌 학생들끼리 짝을 지어 주면 서로 싸우거나 같이 돌아다니지 않기 때문에, 항상 서로 친구인 학생들끼리만 짝을 지어 줘야 합니다.\n",
    "\n",
    "각 학생들의 쌍에 대해 이들이 서로 친구인지 여부가 주어질 때, 학생들을 짝지어줄 수 있는 방법의 수를 계산하는 프로그램을 작성하세요.  \n",
    "짝이 되는 학생들이 일부만 다르더라도 다른 방법이라고 봅니다.\n",
    "\n",
    "예를 들어 다음 두 가지 방법은 서로 다른 방법입니다.\n",
    "* (태연,제시카) (써니,티파니) (효연,유리)\n",
    "* (태연,제시카) (써니,유리) (효연,티파니)\n",
    "\n",
    "## 입력\n",
    "입력의 첫 줄에는 테스트 케이스의 수 C (C <= 50) 가 주어집니다.  \n",
    "각 테스트 케이스의 첫 줄에는 학생의 수 n (2 <= n <= 10) 과 친구 쌍의 수 m (0 <= m <= n*(n-1)/2) 이 주어집니다.  \n",
    "그 다음 줄에 m 개의 정수 쌍으로 서로 친구인 두 학생의 번호가 주어집니다.  \n",
    "번호는 모두 0 부터 n-1 사이의 정수이고, 같은 쌍은 입력에 두 번 주어지지 않습니다. 학생들의 수는 짝수입니다.\n",
    "\n",
    "## 출력\n",
    "각 테스트 케이스마다 한 줄에 모든 학생을 친구끼리만 짝지어줄 수 있는 방법의 수를 출력합니다.\n",
    "\n",
    "## 예제 입력\n",
    "```\n",
    "3\n",
    "2 1\n",
    "0 1\n",
    "4 6\n",
    "0 1 1 2 2 3 3 0 0 2 1 3\n",
    "6 10\n",
    "0 1 0 2 1 2 1 3 1 4 2 3 2 4 3 4 3 5 4 5\n",
    "```\n",
    "\n",
    "## 예제 출력\n",
    "```\n",
    "1\n",
    "3\n",
    "4\n",
    "```"
   ]
  },
  {
   "cell_type": "code",
   "execution_count": 1,
   "metadata": {
    "scrolled": true
   },
   "outputs": [
    {
     "name": "stdout",
     "output_type": "stream",
     "text": [
      "3\n",
      "2 1\n",
      "0 1\n",
      "4 6\n",
      "0 1 1 2 2 3 3 0 0 2 1 3\n",
      "6 10\n",
      "0 1 0 2 1 2 1 3 1 4 2 3 2 4 3 4 3 5 4 5\n"
     ]
    },
    {
     "data": {
      "text/plain": [
       "[(2, 1, (0, 1)),\n",
       " (4, 6, (0, 1, 1, 2, 2, 3, 3, 0, 0, 2, 1, 3)),\n",
       " (6, 10, (0, 1, 0, 2, 1, 2, 1, 3, 1, 4, 2, 3, 2, 4, 3, 4, 3, 5, 4, 5))]"
      ]
     },
     "execution_count": 1,
     "metadata": {},
     "output_type": "execute_result"
    }
   ],
   "source": [
    "C = int(input())\n",
    "test_case = []\n",
    "for _ in range(C):\n",
    "    n, m = map(int, input().split())\n",
    "    friend = tuple(map(int, input().split()))\n",
    "    test_case.append((n, m, friend))\n",
    "test_case"
   ]
  },
  {
   "cell_type": "code",
   "execution_count": 2,
   "metadata": {},
   "outputs": [],
   "source": [
    "def make_test(n=10):\n",
    "    import random\n",
    "    import itertools\n",
    "    test_case = []\n",
    "    while len(test_case) < n:\n",
    "        s = 2 * random.randint(1, 5)\n",
    "        m = random.randint(0, s*(s-1)/2)\n",
    "        friend = sorted(random.sample([[i, j] for i in range(s) for j in range(i+1, s)], m))\n",
    "        test_case.append((s, m, list(itertools.chain.from_iterable(friend))))\n",
    "    return test_case"
   ]
  },
  {
   "cell_type": "code",
   "execution_count": 3,
   "metadata": {},
   "outputs": [],
   "source": [
    "test_case = make_test(10)"
   ]
  },
  {
   "cell_type": "code",
   "execution_count": 4,
   "metadata": {},
   "outputs": [],
   "source": [
    "def solution_1(case):\n",
    "    def pairing(pair, friends):\n",
    "        if all(pair) == True:\n",
    "            return 1\n",
    "\n",
    "        count = 0\n",
    "        for i, f in enumerate(friends):\n",
    "            if pair[f[0]] == False and pair[f[1]] == False:\n",
    "                pair[f[0]], pair[f[1]] = True, True\n",
    "                count += pairing(pair, friends[i+1:]) # friends가 정렬되어 있으므로 이후의 것을 넣으면 된다.\n",
    "                pair[f[0]], pair[f[1]] = False, False\n",
    "        return count\n",
    "\n",
    "    n, m, f = case\n",
    "    # 두 개씩 짝지어주며 정렬과 set을 사용하여 중복되는 것은 제거한다.\n",
    "    friends = sorted({tuple(sorted(f[2*i:2*(i+1)])) for i in range(m)})\n",
    "\n",
    "    return pairing([False]*n, friends)"
   ]
  },
  {
   "cell_type": "code",
   "execution_count": 5,
   "metadata": {},
   "outputs": [],
   "source": [
    "# 책에 있는 방법이다.\n",
    "def solution_2(case):\n",
    "    def pairing(taken):\n",
    "        first = -1\n",
    "        for i, j in enumerate(taken):\n",
    "            if not j:\n",
    "                first = i\n",
    "                break\n",
    "        else:\n",
    "            return 1\n",
    "\n",
    "        count = 0\n",
    "        for i in range(first+1, len(taken)):\n",
    "            if not taken[i] and are_friends[first][i]:\n",
    "                taken[i], taken[first] = True, True\n",
    "                count += pairing(taken)\n",
    "                taken[i], taken[first] = False, False\n",
    "        return count\n",
    "    \n",
    "    n, m, f = case\n",
    "    are_friends = [[False] * n for _ in range(n)]\n",
    "    for i in range(m):\n",
    "        a, b = f[2*i:2*(i+1)]\n",
    "        are_friends[a][b], are_friends[b][a] = True, True\n",
    "        \n",
    "    return pairing([False] * n)"
   ]
  },
  {
   "cell_type": "code",
   "execution_count": 6,
   "metadata": {},
   "outputs": [
    {
     "name": "stdout",
     "output_type": "stream",
     "text": [
      "6.64 ms ± 437 µs per loop (mean ± std. dev. of 5 runs, 100 loops each)\n",
      "1.1 ms ± 105 µs per loop (mean ± std. dev. of 5 runs, 100 loops each)\n"
     ]
    }
   ],
   "source": [
    "%timeit -n 100 -r 5 [solution_1(case) for case in test_case]\n",
    "%timeit -n 100 -r 5 [solution_2(case) for case in test_case]"
   ]
  }
 ],
 "metadata": {
  "kernelspec": {
   "display_name": "Python 3",
   "language": "python",
   "name": "python3"
  },
  "language_info": {
   "codemirror_mode": {
    "name": "ipython",
    "version": 3
   },
   "file_extension": ".py",
   "mimetype": "text/x-python",
   "name": "python",
   "nbconvert_exporter": "python",
   "pygments_lexer": "ipython3",
   "version": "3.7.3"
  }
 },
 "nbformat": 4,
 "nbformat_minor": 4
}
