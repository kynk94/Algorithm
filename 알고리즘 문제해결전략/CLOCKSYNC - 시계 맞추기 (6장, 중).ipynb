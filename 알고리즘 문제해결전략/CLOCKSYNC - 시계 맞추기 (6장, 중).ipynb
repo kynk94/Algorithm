{
 "cells": [
  {
   "cell_type": "markdown",
   "metadata": {},
   "source": [
    "## 문제\n",
    "<img src=\"https://user-images.githubusercontent.com/41245985/73405051-5addc600-4336-11ea-8456-7df83df26d4c.png\" />\n",
    "\n",
    "그림과 같이 4 x 4 개의 격자 형태로 배치된 16개의 시계가 있다. 이 시계들은 모두 12시, 3시, 6시, 혹은 9시를 가리키고 있다.  \n",
    "이 시계들이 모두 12시를 가리키도록 바꾸고 싶다.\n",
    "\n",
    "시계의 시간을 조작하는 유일한 방법은 모두 10개 있는 스위치들을 조작하는 것으로, 각 스위치들은 모두 적게는 3개에서 많게는 5개의 시계에 연결되어 있다. 한 스위치를 누를 때마다, 해당 스위치와 연결된 시계들의 시간은 3시간씩 앞으로 움직인다. 스위치들과 그들이 연결된 시계들의 목록은 다음과 같다.\n",
    "\n",
    "<table>\n",
    "    <tr><td>0</td><td>0, 1, 2</td></tr>\n",
    "    <tr><td>1</td><td>3, 7, 9, 11</td></tr>\n",
    "    <tr><td>2</td><td>4, 10, 14, 15</td></tr>\n",
    "    <tr><td>3</td><td>0, 4, 5, 6, 7</td></tr>\n",
    "    <tr><td>4</td><td>6, 7, 8, 10, 12</td></tr>\n",
    "    <tr><td>5</td><td>0, 2, 14, 15</td></tr>\n",
    "    <tr><td>6</td><td>3, 14, 15</td></tr>\n",
    "    <tr><td>7</td><td>4, 5, 7, 14, 15</td></tr>\n",
    "    <tr><td>8</td><td>1, 2, 3, 4, 5</td></tr>\n",
    "    <tr><td>9</td><td>3, 4, 5, 9, 13</td></tr>\n",
    "</table>\n",
    "\n",
    "시계들은 맨 윗줄부터, 왼쪽에서 오른쪽으로 순서대로 번호가 매겨졌다고 가정하자.  \n",
    "시계들이 현재 가리키는 시간들이 주어졌을 때, 모든 시계를 12시로 돌리기 위해 최소한 눌러야 할 스위치의 수를 계산하는 프로그램을 작성하시오.\n",
    "\n",
    "## 입력\n",
    "첫 줄에 테스트 케이스의 개수 C (<= 30) 가 주어진다.  \n",
    "각 테스트 케이스는 한 줄에 16개의 정수로 주어지며, 각 정수는 0번부터 15번까지 각 시계가 가리키고 있는 시간을 12, 3, 6, 9 중 하나로 표현한다.\n",
    "\n",
    "## 출력\n",
    "각 테스트 케이스당 한 줄을 출력한다.  \n",
    "시계들을 모두 12시로 돌려놓기 위해 스위치를 눌러야 할 최소 횟수를 출력한다. 만약 이것이 불가능할 경우 -1 을 출력한다.\n",
    "\n",
    "## 예제 입력\n",
    "```\n",
    "2\n",
    "12 6 6 6 6 6 12 12 12 12 12 12 12 12 12 12\n",
    "12 9 3 12 6 6 9 3 12 9 12 9 12 12 6 6\n",
    "```\n",
    "## 예제 출력\n",
    "```\n",
    "2\n",
    "9\n",
    "```"
   ]
  },
  {
   "cell_type": "code",
   "execution_count": 1,
   "metadata": {},
   "outputs": [
    {
     "name": "stdout",
     "output_type": "stream",
     "text": [
      "2\n",
      "12 6 6 6 6 6 12 12 12 12 12 12 12 12 12 12\n",
      "12 9 3 12 6 6 9 3 12 9 12 9 12 12 6 6\n"
     ]
    },
    {
     "data": {
      "text/plain": [
       "[[12, 6, 6, 6, 6, 6, 12, 12, 12, 12, 12, 12, 12, 12, 12, 12],\n",
       " [12, 9, 3, 12, 6, 6, 9, 3, 12, 9, 12, 9, 12, 12, 6, 6]]"
      ]
     },
     "execution_count": 1,
     "metadata": {},
     "output_type": "execute_result"
    }
   ],
   "source": [
    "C = int(input())\n",
    "test_case = []\n",
    "for _ in range(C):\n",
    "    test_case.append(list(map(int, input().split())))\n",
    "test_case"
   ]
  },
  {
   "cell_type": "code",
   "execution_count": 2,
   "metadata": {},
   "outputs": [],
   "source": [
    "def make_test(n=5):\n",
    "    import numpy as np\n",
    "    return (np.random.randint(1, 5, 16*n)*3).reshape(n, 16).tolist()"
   ]
  },
  {
   "cell_type": "code",
   "execution_count": 3,
   "metadata": {},
   "outputs": [],
   "source": [
    "def solution_1(clocks):\n",
    "    switches = [\n",
    "        [0, 1, 2],\n",
    "        [3, 7, 9, 11],\n",
    "        [4, 10, 14, 15],\n",
    "        [0, 4, 5, 6, 7],\n",
    "        [6, 7, 8, 10, 12],\n",
    "        [0, 2, 14, 15],\n",
    "        [3, 14, 15],\n",
    "        [4, 5, 7, 14, 15],\n",
    "        [1, 2, 3, 4, 5],\n",
    "        [3, 4, 5, 9, 13]\n",
    "    ]\n",
    "    \n",
    "    def rotate_clock(push, clocks, switch):\n",
    "        if switch == 10:\n",
    "            for i in clocks:\n",
    "                if i % 12:\n",
    "                    return -1\n",
    "            return sum(push)\n",
    "        \n",
    "        count = 31\n",
    "        for i in range(4):\n",
    "            if i:\n",
    "                push[switch] += 1\n",
    "                for j in switches[switch]:\n",
    "                    clocks[j] += 3\n",
    "\n",
    "            num = rotate_clock(push[:], clocks[:], switch+1)\n",
    "            if -1 < num < count:\n",
    "                count = num\n",
    "\n",
    "        return count if count < 31 else -1\n",
    "    \n",
    "    return rotate_clock([0]*10, clocks[:], 0)"
   ]
  },
  {
   "cell_type": "code",
   "execution_count": 4,
   "metadata": {},
   "outputs": [],
   "source": [
    "def solution_2(clocks):\n",
    "    for i in clocks:\n",
    "        if i % 3:\n",
    "            return -1\n",
    "\n",
    "    switches = [\n",
    "        [0, 1, 2],\n",
    "        [3, 7, 9, 11],\n",
    "        [4, 10, 14, 15],\n",
    "        [0, 4, 5, 6, 7],\n",
    "        [6, 7, 8, 10, 12],\n",
    "        [0, 2, 14, 15],\n",
    "        [3, 14, 15],\n",
    "        [4, 5, 7, 14, 15],\n",
    "        [1, 2, 3, 4, 5],\n",
    "        [3, 4, 5, 9, 13]\n",
    "    ]\n",
    "    \n",
    "    push = [0] * 10\n",
    "    clocks = [(i//3)%4 for i in clocks]\n",
    "    \n",
    "    def push_switch(switch, clock):\n",
    "        push[switch] = (4 - clocks[clock])%4\n",
    "        for i in switches[switch]:\n",
    "            clocks[i] += push[switch]\n",
    "            clocks[i] %= 4\n",
    "\n",
    "    push_switch(1, 11)\n",
    "    push_switch(4, 8)\n",
    "    push_switch(9, 13)\n",
    "    push_switch(2, 10)\n",
    "    push_switch(3, 6)\n",
    "    push_switch(7, 7)\n",
    "    push_switch(8, 4)\n",
    "    push_switch(0, 1)\n",
    "    push_switch(5, 0)\n",
    "    push_switch(6, 3)\n",
    "    \n",
    "    for i in clocks:\n",
    "        if i % 4:\n",
    "            return -1\n",
    "        \n",
    "    return sum(push)"
   ]
  },
  {
   "cell_type": "code",
   "execution_count": 5,
   "metadata": {},
   "outputs": [
    {
     "name": "stdout",
     "output_type": "stream",
     "text": [
      "3.48 s ± 69.7 ms per loop (mean ± std. dev. of 7 runs, 1 loop each)\n",
      "39.9 µs ± 3.69 µs per loop (mean ± std. dev. of 7 runs, 10000 loops each)\n"
     ]
    }
   ],
   "source": [
    "%timeit [solution_1(case) for case in test_case]\n",
    "%timeit [solution_2(case) for case in test_case]"
   ]
  }
 ],
 "metadata": {
  "kernelspec": {
   "display_name": "Python 3",
   "language": "python",
   "name": "python3"
  },
  "language_info": {
   "codemirror_mode": {
    "name": "ipython",
    "version": 3
   },
   "file_extension": ".py",
   "mimetype": "text/x-python",
   "name": "python",
   "nbconvert_exporter": "python",
   "pygments_lexer": "ipython3",
   "version": "3.7.3"
  }
 },
 "nbformat": 4,
 "nbformat_minor": 2
}
