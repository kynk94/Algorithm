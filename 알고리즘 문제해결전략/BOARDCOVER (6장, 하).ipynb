{
 "cells": [
  {
   "cell_type": "markdown",
   "metadata": {},
   "source": [
    "## 문제\n",
    "<img src=\"https://user-images.githubusercontent.com/41245985/73057615-5304c880-3ed5-11ea-8275-c4d284f44cdf.png\" />\n",
    "\n",
    "$H\\times W$ 크기의 게임판이 있습니다.  \n",
    "게임판은 검은 칸과 흰 칸으로 구성된 격자 모양을 하고 있는데 이 중 모든 흰 칸을 3칸짜리 L자 모양의 블록으로 덮고 싶습니다.  \n",
    "이 때 블록들은 자유롭게 회전해서 놓을 수 있지만, 서로 겹치거나, 검은 칸을 덮거나, 게임판 밖으로 나가서는 안 됩니다.  \n",
    "위 그림은 한 게임판과 이를 덮는 방법을 보여줍니다.\n",
    "\n",
    "게임판이 주어질 때 이를 덮는 방법의 수를 계산하는 프로그램을 작성하세요.\n",
    "\n",
    "## 입력\n",
    "입력의 첫 줄에는 테스트 케이스의 수 C (C <= 30) 가 주어집니다.  \n",
    "각 테스트 케이스의 첫 줄에는 2개의 정수 H, W (1 <= H,W <= 20) 가 주어집니다.  \n",
    "다음 H 줄에 각 W 글자로 게임판의 모양이 주어집니다. # 은 검은 칸, . 는 흰 칸을 나타냅니다.  \n",
    "입력에 주어지는 게임판에 있는 흰 칸의 수는 50 을 넘지 않습니다.\n",
    "\n",
    "## 출력\n",
    "한 줄에 하나씩 흰 칸을 모두 덮는 방법의 수를 출력합니다.\n",
    "\n",
    "## 예제 입력\n",
    "```\n",
    "3\n",
    "3 7\n",
    "#.....#\n",
    "#.....#\n",
    "##...##\n",
    "3 7\n",
    "#.....#\n",
    "#.....#\n",
    "##..###\n",
    "8 10\n",
    "##########\n",
    "#........#\n",
    "#........#\n",
    "#........#\n",
    "#........#\n",
    "#........#\n",
    "#........#\n",
    "##########\n",
    "```\n",
    "## 예제 출력\n",
    "```\n",
    "0\n",
    "2\n",
    "1514\n",
    "```"
   ]
  },
  {
   "cell_type": "code",
   "execution_count": 1,
   "metadata": {},
   "outputs": [
    {
     "name": "stdout",
     "output_type": "stream",
     "text": [
      "3\n",
      "3 7\n",
      "#.....#\n",
      "#.....#\n",
      "##...##\n",
      "3 7\n",
      "#.....#\n",
      "#.....#\n",
      "##..###\n",
      "8 10\n",
      "##########\n",
      "#........#\n",
      "#........#\n",
      "#........#\n",
      "#........#\n",
      "#........#\n",
      "#........#\n",
      "##########\n"
     ]
    }
   ],
   "source": [
    "C = int(input())\n",
    "test_case = []\n",
    "for _ in range(C):\n",
    "    h, w = map(int, input().split())\n",
    "    board = [input()[:w] for _ in range(h)] # 비어있는 입력의 경우 [:w]를 안넣으면 런타임 에러가 발생함\n",
    "    test_case.append((h, w, board))"
   ]
  },
  {
   "cell_type": "code",
   "execution_count": 2,
   "metadata": {},
   "outputs": [],
   "source": [
    "def solution(case):\n",
    "    from copy import deepcopy\n",
    "    h, w, b = case\n",
    "    if h != len(b) or h*w != sum(map(len, b)): # board 크기 확인\n",
    "        return 0\n",
    "    board = [[True if j=='.' else False for j in i] for i in b] # True, False 변환\n",
    "    \n",
    "    def fill(board, x=0, y=0):\n",
    "        if y == len(board[0]):\n",
    "            x += 1\n",
    "            y = 0\n",
    "            \n",
    "        blank = sum(map(sum, board))\n",
    "        if blank == 0:\n",
    "            return 1\n",
    "        elif blank%3 != 0 or x == len(board)-1:\n",
    "            return 0\n",
    "        \n",
    "        count = 0\n",
    "        if board[x][y]:\n",
    "            if y < len(board[0]) - 1:\n",
    "                if board[x][y+1] and board[x+1][y]: # ┌\n",
    "                    new_b = deepcopy(board)\n",
    "                    new_b[x][y], new_b[x][y+1], new_b[x+1][y] = False, False, False\n",
    "                    count += fill(new_b, x, y+1)\n",
    "                if board[x][y+1] and board[x+1][y+1]: # ┐\n",
    "                    new_b = deepcopy(board)\n",
    "                    new_b[x][y], new_b[x][y+1], new_b[x+1][y+1] = False, False, False\n",
    "                    count += fill(new_b, x, y+1)\n",
    "                if board[x+1][y] and board[x+1][y+1]: # └\n",
    "                    new_b = deepcopy(board)\n",
    "                    new_b[x][y], new_b[x+1][y], new_b[x+1][y+1] = False, False, False\n",
    "                    count += fill(new_b, x, y+1)\n",
    "            if y > 0 and board[x+1][y] and board[x+1][y-1]: # ┘\n",
    "                new_b = deepcopy(board)\n",
    "                new_b[x][y], new_b[x+1][y], new_b[x+1][y-1] = False, False, False\n",
    "                count += fill(new_b, x, y+1)\n",
    "        else:\n",
    "            count += fill(deepcopy(board), x, y+1)\n",
    "        return count\n",
    "    \n",
    "    return fill(board)"
   ]
  },
  {
   "cell_type": "code",
   "execution_count": 3,
   "metadata": {},
   "outputs": [
    {
     "name": "stdout",
     "output_type": "stream",
     "text": [
      "17.3 s ± 423 ms per loop (mean ± std. dev. of 7 runs, 1 loop each)\n"
     ]
    }
   ],
   "source": [
    "%timeit [solution(case) for case in test_case]"
   ]
  }
 ],
 "metadata": {
  "kernelspec": {
   "display_name": "Python 3",
   "language": "python",
   "name": "python3"
  },
  "language_info": {
   "codemirror_mode": {
    "name": "ipython",
    "version": 3
   },
   "file_extension": ".py",
   "mimetype": "text/x-python",
   "name": "python",
   "nbconvert_exporter": "python",
   "pygments_lexer": "ipython3",
   "version": "3.7.3"
  }
 },
 "nbformat": 4,
 "nbformat_minor": 2
}
