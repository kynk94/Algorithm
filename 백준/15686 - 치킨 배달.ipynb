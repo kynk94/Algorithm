{
 "cells": [
  {
   "cell_type": "markdown",
   "metadata": {},
   "source": [
    "## 문제\n",
    "크기가 N×N인 도시가 있다. 도시는 1×1크기의 칸으로 나누어져 있다. 도시의 각 칸은 빈 칸, 치킨집, 집 중 하나이다. 도시의 칸은 (r, c)와 같은 형태로 나타내고, r행 c열 또는 위에서부터 r번째 칸, 왼쪽에서부터 c번째 칸을 의미한다. r과 c는 1부터 시작한다.\n",
    "\n",
    "이 도시에 사는 사람들은 치킨을 매우 좋아한다. 따라서, 사람들은 \"<strong>치킨 거리</strong>\"라는 말을 주로 사용한다. <strong>치킨 거리</strong>는 집과 가장 가까운 치킨집 사이의 거리이다. 즉, 치킨 거리는 집을 기준으로 정해지며, 각각의 집은 <strong>치킨 거리</strong>를 가지고 있다. <strong>도시의 치킨 거리</strong>는 모든 집의 <strong>치킨 거리</strong>의 합이다.\n",
    "\n",
    "임의의 두 칸 (r<sub>1</sub>, c<sub>1</sub>)과 (r<sub>2</sub>, c<sub>2</sub>) 사이의 거리는 |r<sub>1</sub>-r<sub>2</sub>| + |c<sub>1</sub>-c<sub>2</sub>|로 구한다.\n",
    "\n",
    "예를 들어, 아래와 같은 지도를 갖는 도시를 살펴보자.\n",
    "\n",
    "```\n",
    "0 2 0 1 0\n",
    "1 0 1 0 0\n",
    "0 0 0 0 0\n",
    "0 0 0 1 1\n",
    "0 0 0 1 2\n",
    "```\n",
    "\n",
    "0은 빈 칸, 1은 집, 2는 치킨집이다.\n",
    "\n",
    "(2, 1)에 있는 집과 (1, 2)에 있는 치킨집과의 거리는 |2-1| + |1-2| = 2, (5, 5)에 있는 치킨집과의 거리는 |2-5| + |1-5| = 7이다. 따라서, (2, 1)에 있는 집의 치킨 거리는 2이다.\n",
    "\n",
    "(5, 4)에 있는 집과 (1, 2)에 있는 치킨집과의 거리는 |5-1| + |4-2| = 6,&nbsp;(5, 5)에 있는 치킨집과의 거리는 |5-5| + |4-5| = 1이다. 따라서, (5, 4)에 있는 집의 치킨 거리는 1이다.\n",
    "\n",
    "이 도시에 있는 치킨집은 모두 같은 프랜차이즈이다. 프렌차이즈 본사에서는 수익을 증가시키기 위해 일부 치킨집을 폐업시키려고 한다. 오랜 연구 끝에 이 도시에서 가장 수익을 많이 낼 수 있는 치킨집의 개수는 최대 M개라는 사실을 알아내었다.\n",
    "\n",
    "도시에 있는 치킨집 중에서 최대 M개를 고르고, 나머지 치킨집은 모두 폐업시켜야 한다. 어떻게 고르면, <strong>도시의 치킨 거리</strong>가 가장 작게 될지 구하는 프로그램을 작성하시오.\n",
    "\n",
    "## 입력\n",
    "첫째 줄에 N(2 ≤ N ≤ 50)과 M(1 ≤ M ≤ 13)이 주어진다.\n",
    "\n",
    "둘째 줄부터 N개의 줄에는 도시의 정보가 주어진다.\n",
    "\n",
    "도시의 정보는 0, 1, 2로 이루어져 있고, 0은 빈 칸, 1은 집, 2는 치킨집을 의미한다. 집의 개수는 2N개를 넘지 않으며, 적어도 1개는 존재한다. 치킨집의 개수는 M보다 크거나 같고, 13보다 작거나 같다.\n",
    "\n",
    "## 출력\n",
    "첫째 줄에 폐업시키지 않을 치킨집을 최대 M개를 골랐을 때, 도시의 치킨 거리의 최솟값을 출력한다.\n",
    "\n",
    "## 예제 입력 1\n",
    "```\n",
    "5 3\n",
    "0 0 1 0 0\n",
    "0 0 2 0 1\n",
    "0 1 2 0 0\n",
    "0 0 1 0 0\n",
    "0 0 0 0 2\n",
    "```\n",
    "\n",
    "## 예제 출력 1\n",
    "```\n",
    "5\n",
    "```\n",
    "\n",
    "## 예제 입력 2\n",
    "```\n",
    "5 2\n",
    "0 2 0 1 0\n",
    "1 0 1 0 0\n",
    "0 0 0 0 0\n",
    "2 0 0 1 1\n",
    "2 2 0 1 2\n",
    "```\n",
    "\n",
    "## 예제 출력 2\n",
    "```\n",
    "10\n",
    "```\n",
    "\n",
    "## 예제 입력 3\n",
    "```\n",
    "5 1\n",
    "1 2 0 0 0\n",
    "1 2 0 0 0\n",
    "1 2 0 0 0\n",
    "1 2 0 0 0\n",
    "1 2 0 0 0\n",
    "```\n",
    "\n",
    "## 예제 출력 3\n",
    "```\n",
    "11\n",
    "```\n",
    "\n",
    "## 예제 입력 4\n",
    "```\n",
    "5 1\n",
    "1 2 0 2 1\n",
    "1 2 0 2 1\n",
    "1 2 0 2 1\n",
    "1 2 0 2 1\n",
    "1 2 0 2 1\n",
    "```\n",
    "\n",
    "## 예제 출력 4\n",
    "```\n",
    "32\n",
    "```"
   ]
  },
  {
   "cell_type": "code",
   "execution_count": 1,
   "metadata": {},
   "outputs": [
    {
     "name": "stdin",
     "output_type": "stream",
     "text": [
      " 5 1\n",
      " 1 2 0 2 1\n",
      " 1 2 0 2 1\n",
      " 1 2 0 2 1\n",
      " 1 2 0 2 1\n",
      " 1 2 0 2 1\n"
     ]
    }
   ],
   "source": [
    "N, M = map(int, input().split())\n",
    "board = [list(map(int, input().split())) for _ in range(N)]"
   ]
  },
  {
   "cell_type": "code",
   "execution_count": 2,
   "metadata": {},
   "outputs": [],
   "source": [
    "test_case = \"\"\"\n",
    "5 1\n",
    "1 2 0 2 1\n",
    "1 2 0 2 1\n",
    "1 2 0 2 1\n",
    "1 2 0 2 1\n",
    "1 2 0 2 1\n",
    "\"\"\".strip(\"\\n\").split(\"\\n\")\n",
    "N, M = map(int, test_case.pop(0).split())\n",
    "board = [list(map(int, i.split())) for i in test_case]"
   ]
  },
  {
   "cell_type": "code",
   "execution_count": 3,
   "metadata": {},
   "outputs": [],
   "source": [
    "import itertools\n",
    "\n",
    "def solution(N, M, board):\n",
    "    dic = {1: [], 2: []}\n",
    "    for i in range(N):\n",
    "        for j in range(N):\n",
    "            if board[i][j] == 1:\n",
    "                dic[1].append((i, j))\n",
    "            elif board[i][j] == 2:\n",
    "                dic[2].append((i, j))\n",
    "\n",
    "    dist = []\n",
    "    for h in dic[1]:\n",
    "        dist.append([abs(h[0] - c[0]) + abs(h[1] - c[1]) for c in dic[2]])\n",
    "\n",
    "    n_h = len(dic[1])\n",
    "    n_c = len(dic[2])\n",
    "    min_dist = 1e9\n",
    "    max_dist = 2 * N\n",
    "    for comb in itertools.combinations(range(n_c), M):\n",
    "        comb_dist = 0\n",
    "        for h in dist:\n",
    "            h_dist = max_dist\n",
    "            for i in comb:\n",
    "                if h_dist > h[i]:\n",
    "                    h_dist = h[i]\n",
    "            comb_dist += h_dist\n",
    "\n",
    "        if min_dist > comb_dist:\n",
    "            min_dist = comb_dist\n",
    "    return min_dist"
   ]
  },
  {
   "cell_type": "code",
   "execution_count": 4,
   "metadata": {},
   "outputs": [
    {
     "data": {
      "text/plain": [
       "32"
      ]
     },
     "execution_count": 4,
     "metadata": {},
     "output_type": "execute_result"
    }
   ],
   "source": [
    "solution(N, M, board)"
   ]
  }
 ],
 "metadata": {
  "kernelspec": {
   "display_name": "Python 3",
   "language": "python",
   "name": "python3"
  },
  "language_info": {
   "codemirror_mode": {
    "name": "ipython",
    "version": 3
   },
   "file_extension": ".py",
   "mimetype": "text/x-python",
   "name": "python",
   "nbconvert_exporter": "python",
   "pygments_lexer": "ipython3",
   "version": "3.7.6"
  },
  "varInspector": {
   "cols": {
    "lenName": 16,
    "lenType": 16,
    "lenVar": 40
   },
   "kernels_config": {
    "python": {
     "delete_cmd_postfix": "",
     "delete_cmd_prefix": "del ",
     "library": "var_list.py",
     "varRefreshCmd": "print(var_dic_list())"
    },
    "r": {
     "delete_cmd_postfix": ") ",
     "delete_cmd_prefix": "rm(",
     "library": "var_list.r",
     "varRefreshCmd": "cat(var_dic_list()) "
    }
   },
   "types_to_exclude": [
    "module",
    "function",
    "builtin_function_or_method",
    "instance",
    "_Feature"
   ],
   "window_display": false
  }
 },
 "nbformat": 4,
 "nbformat_minor": 4
}
